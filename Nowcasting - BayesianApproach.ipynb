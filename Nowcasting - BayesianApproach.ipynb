{
 "cells": [
  {
   "cell_type": "code",
   "execution_count": 1,
   "metadata": {
    "collapsed": false
   },
   "outputs": [],
   "source": [
    "%matplotlib inline\n",
    "%load_ext rpy2.ipython\n",
    "\n",
    "\n",
    "import datetime as dt\n",
    "import numpy as np\n",
    "import pandas as pd\n",
    "from sklearn.decomposition import PCA\n",
    "import statsmodels.api as sm\n",
    "from pykalman import KalmanFilter\n",
    "import numpy.ma as ma\n",
    "import scipy.linalg as linalg\n",
    "import scipy as sp\n",
    "import statsmodels.api as sm\n",
    "import statsmodels.tsa as tsa\n",
    "import os.path\n",
    "import pickle\n",
    "import scipy as sp\n",
    "from scipy.optimize import minimize\n",
    "\n",
    "import matplotlib.pyplot as plt\n",
    "\n",
    "from numpy.linalg import inv\n",
    "from numpy.linalg import det\n",
    "\n",
    "from scipy.stats import norm\n",
    "from scipy.stats import chi2\n",
    "\n",
    "from pykalman import KalmanFilter as pykalman_KF\n",
    "from numpy import ma\n",
    "\n",
    "# pd.set_option('max_rows', 20)\n",
    "pd.set_option('max_rows', 100)\n",
    "\n",
    "dataDetailsSheet = \"Plan2\"\n",
    "\n",
    "picklesDir = \"./Pickles/\"\n",
    "%load_ext autotime"
   ]
  },
  {
   "cell_type": "markdown",
   "metadata": {},
   "source": [
    "# Data\n",
    "\n",
    "## Regressors"
   ]
  },
  {
   "cell_type": "code",
   "execution_count": 2,
   "metadata": {
    "collapsed": false
   },
   "outputs": [
    {
     "name": "stdout",
     "output_type": "stream",
     "text": [
      "time: 1.88 s\n"
     ]
    }
   ],
   "source": [
    "data = pd.read_excel(\"Nowcasting.xlsx\",sheetname=\"Valores\")\n",
    "# data.head()\n",
    "series = data.loc[0,:][~data.loc[0,:].isnull()].tolist()\n",
    "data.columns = data.iloc[0]"
   ]
  },
  {
   "cell_type": "code",
   "execution_count": 3,
   "metadata": {
    "collapsed": false
   },
   "outputs": [
    {
     "name": "stderr",
     "output_type": "stream",
     "text": [
      "C:\\Anaconda3\\lib\\site-packages\\pandas\\indexes\\base.py:1877: FutureWarning: In the future, 'NAT < x' and 'x < NAT' will always be False.\n",
      "  self._values[0] < other_diff[0]\n"
     ]
    },
    {
     "data": {
      "text/html": [
       "<div>\n",
       "<table border=\"1\" class=\"dataframe\">\n",
       "  <thead>\n",
       "    <tr style=\"text-align: right;\">\n",
       "      <th></th>\n",
       "      <th>BZGDINDX Index</th>\n",
       "      <th>BZGDGNDI Index</th>\n",
       "      <th>BZGDFNCE Index</th>\n",
       "      <th>BZIPTLYo Index</th>\n",
       "      <th>BZUETOTN Index</th>\n",
       "      <th>BFOETTOD Index</th>\n",
       "      <th>MPMIBRMA Index</th>\n",
       "      <th>BZREELHT Index</th>\n",
       "      <th>BPPICM Index</th>\n",
       "      <th>BZPIIPCM Index</th>\n",
       "      <th>...</th>\n",
       "      <th>BZEASA INDEX</th>\n",
       "      <th>OEBRD003 INDEX</th>\n",
       "      <th>BZGDYOY% Index</th>\n",
       "      <th>BZGDQOQ Index</th>\n",
       "      <th>BZIPTLSA Index</th>\n",
       "      <th>BRLFUNRT Index</th>\n",
       "      <th>BFOETTSA Index</th>\n",
       "      <th>BZPIIPCY Index</th>\n",
       "      <th>BZRTRETM Index</th>\n",
       "      <th>BZJCTOTS Index</th>\n",
       "    </tr>\n",
       "  </thead>\n",
       "  <tbody>\n",
       "    <tr>\n",
       "      <th>2017-03-14</th>\n",
       "      <td>NaN</td>\n",
       "      <td>NaN</td>\n",
       "      <td>NaN</td>\n",
       "      <td>NaN</td>\n",
       "      <td>NaN</td>\n",
       "      <td>NaN</td>\n",
       "      <td>NaN</td>\n",
       "      <td>NaN</td>\n",
       "      <td>NaN</td>\n",
       "      <td>NaN</td>\n",
       "      <td>...</td>\n",
       "      <td>NaN</td>\n",
       "      <td>NaN</td>\n",
       "      <td>NaN</td>\n",
       "      <td>NaN</td>\n",
       "      <td>NaN</td>\n",
       "      <td>NaN</td>\n",
       "      <td>NaN</td>\n",
       "      <td>NaN</td>\n",
       "      <td>NaN</td>\n",
       "      <td>NaN</td>\n",
       "    </tr>\n",
       "    <tr>\n",
       "      <th>2017-03-15</th>\n",
       "      <td>NaN</td>\n",
       "      <td>NaN</td>\n",
       "      <td>NaN</td>\n",
       "      <td>NaN</td>\n",
       "      <td>NaN</td>\n",
       "      <td>NaN</td>\n",
       "      <td>NaN</td>\n",
       "      <td>NaN</td>\n",
       "      <td>NaN</td>\n",
       "      <td>NaN</td>\n",
       "      <td>...</td>\n",
       "      <td>NaN</td>\n",
       "      <td>NaN</td>\n",
       "      <td>NaN</td>\n",
       "      <td>NaN</td>\n",
       "      <td>NaN</td>\n",
       "      <td>NaN</td>\n",
       "      <td>NaN</td>\n",
       "      <td>NaN</td>\n",
       "      <td>NaN</td>\n",
       "      <td>NaN</td>\n",
       "    </tr>\n",
       "    <tr>\n",
       "      <th>2017-03-16</th>\n",
       "      <td>NaN</td>\n",
       "      <td>NaN</td>\n",
       "      <td>NaN</td>\n",
       "      <td>NaN</td>\n",
       "      <td>NaN</td>\n",
       "      <td>NaN</td>\n",
       "      <td>NaN</td>\n",
       "      <td>NaN</td>\n",
       "      <td>NaN</td>\n",
       "      <td>NaN</td>\n",
       "      <td>...</td>\n",
       "      <td>NaN</td>\n",
       "      <td>NaN</td>\n",
       "      <td>NaN</td>\n",
       "      <td>NaN</td>\n",
       "      <td>NaN</td>\n",
       "      <td>NaN</td>\n",
       "      <td>NaN</td>\n",
       "      <td>NaN</td>\n",
       "      <td>NaN</td>\n",
       "      <td>NaN</td>\n",
       "    </tr>\n",
       "    <tr>\n",
       "      <th>2017-03-17</th>\n",
       "      <td>NaN</td>\n",
       "      <td>NaN</td>\n",
       "      <td>NaN</td>\n",
       "      <td>NaN</td>\n",
       "      <td>NaN</td>\n",
       "      <td>NaN</td>\n",
       "      <td>NaN</td>\n",
       "      <td>NaN</td>\n",
       "      <td>NaN</td>\n",
       "      <td>NaN</td>\n",
       "      <td>...</td>\n",
       "      <td>NaN</td>\n",
       "      <td>NaN</td>\n",
       "      <td>NaN</td>\n",
       "      <td>NaN</td>\n",
       "      <td>NaN</td>\n",
       "      <td>NaN</td>\n",
       "      <td>NaN</td>\n",
       "      <td>NaN</td>\n",
       "      <td>NaN</td>\n",
       "      <td>NaN</td>\n",
       "    </tr>\n",
       "    <tr>\n",
       "      <th>2017-03-20</th>\n",
       "      <td>NaN</td>\n",
       "      <td>NaN</td>\n",
       "      <td>NaN</td>\n",
       "      <td>NaN</td>\n",
       "      <td>NaN</td>\n",
       "      <td>NaN</td>\n",
       "      <td>NaN</td>\n",
       "      <td>NaN</td>\n",
       "      <td>NaN</td>\n",
       "      <td>NaN</td>\n",
       "      <td>...</td>\n",
       "      <td>NaN</td>\n",
       "      <td>NaN</td>\n",
       "      <td>NaN</td>\n",
       "      <td>NaN</td>\n",
       "      <td>NaN</td>\n",
       "      <td>NaN</td>\n",
       "      <td>NaN</td>\n",
       "      <td>NaN</td>\n",
       "      <td>NaN</td>\n",
       "      <td>NaN</td>\n",
       "    </tr>\n",
       "  </tbody>\n",
       "</table>\n",
       "<p>5 rows × 31 columns</p>\n",
       "</div>"
      ],
      "text/plain": [
       "            BZGDINDX Index  BZGDGNDI Index  BZGDFNCE Index  BZIPTLYo Index  \\\n",
       "2017-03-14             NaN             NaN             NaN             NaN   \n",
       "2017-03-15             NaN             NaN             NaN             NaN   \n",
       "2017-03-16             NaN             NaN             NaN             NaN   \n",
       "2017-03-17             NaN             NaN             NaN             NaN   \n",
       "2017-03-20             NaN             NaN             NaN             NaN   \n",
       "\n",
       "            BZUETOTN Index  BFOETTOD Index  MPMIBRMA Index  BZREELHT Index  \\\n",
       "2017-03-14             NaN             NaN             NaN             NaN   \n",
       "2017-03-15             NaN             NaN             NaN             NaN   \n",
       "2017-03-16             NaN             NaN             NaN             NaN   \n",
       "2017-03-17             NaN             NaN             NaN             NaN   \n",
       "2017-03-20             NaN             NaN             NaN             NaN   \n",
       "\n",
       "            BPPICM Index  BZPIIPCM Index       ...        BZEASA INDEX  \\\n",
       "2017-03-14           NaN             NaN       ...                 NaN   \n",
       "2017-03-15           NaN             NaN       ...                 NaN   \n",
       "2017-03-16           NaN             NaN       ...                 NaN   \n",
       "2017-03-17           NaN             NaN       ...                 NaN   \n",
       "2017-03-20           NaN             NaN       ...                 NaN   \n",
       "\n",
       "            OEBRD003 INDEX  BZGDYOY% Index  BZGDQOQ Index  BZIPTLSA Index  \\\n",
       "2017-03-14             NaN             NaN            NaN             NaN   \n",
       "2017-03-15             NaN             NaN            NaN             NaN   \n",
       "2017-03-16             NaN             NaN            NaN             NaN   \n",
       "2017-03-17             NaN             NaN            NaN             NaN   \n",
       "2017-03-20             NaN             NaN            NaN             NaN   \n",
       "\n",
       "            BRLFUNRT Index  BFOETTSA Index  BZPIIPCY Index  BZRTRETM Index  \\\n",
       "2017-03-14             NaN             NaN             NaN             NaN   \n",
       "2017-03-15             NaN             NaN             NaN             NaN   \n",
       "2017-03-16             NaN             NaN             NaN             NaN   \n",
       "2017-03-17             NaN             NaN             NaN             NaN   \n",
       "2017-03-20             NaN             NaN             NaN             NaN   \n",
       "\n",
       "            BZJCTOTS Index  \n",
       "2017-03-14             NaN  \n",
       "2017-03-15             NaN  \n",
       "2017-03-16             NaN  \n",
       "2017-03-17             NaN  \n",
       "2017-03-20             NaN  \n",
       "\n",
       "[5 rows x 31 columns]"
      ]
     },
     "execution_count": 3,
     "metadata": {},
     "output_type": "execute_result"
    },
    {
     "name": "stdout",
     "output_type": "stream",
     "text": [
      "time: 208 ms\n"
     ]
    }
   ],
   "source": [
    "# i=data.columns.get_loc(\"MXWO Index\")\n",
    "# data.iloc[1:,i:i+2]\n",
    "\n",
    "dfsList = []\n",
    "\n",
    "for serie in series:\n",
    "    i = data.columns.get_loc(serie)\n",
    "    df = data.iloc[1:,i:i+2]\n",
    "    df.set_index(serie,inplace=True)\n",
    "    df.columns = [serie]\n",
    "    df = df.loc[~df.index.duplicated(keep='first')]\n",
    "    if not df[serie].isnull().all():\n",
    "        dfsList.append(df.apply(pd.to_numeric))\n",
    "\n",
    "data = pd.concat(dfsList,axis=1)\n",
    "data.sort_index(inplace=True)\n",
    "if data.loc[data.index[-1]].notnull().any() == False:\n",
    "    data.drop(data.index[-1],inplace=True)\n",
    "data.tail()"
   ]
  },
  {
   "cell_type": "code",
   "execution_count": 4,
   "metadata": {
    "collapsed": false,
    "scrolled": true
   },
   "outputs": [
    {
     "data": {
      "text/plain": [
       "True"
      ]
     },
     "execution_count": 4,
     "metadata": {},
     "output_type": "execute_result"
    },
    {
     "name": "stdout",
     "output_type": "stream",
     "text": [
      "time: 3.01 ms\n"
     ]
    }
   ],
   "source": [
    "data.loc[data.index[-1]].notnull().any()"
   ]
  },
  {
   "cell_type": "markdown",
   "metadata": {},
   "source": [
    "### Select Sample "
   ]
  },
  {
   "cell_type": "code",
   "execution_count": 5,
   "metadata": {
    "collapsed": false
   },
   "outputs": [
    {
     "name": "stdout",
     "output_type": "stream",
     "text": [
      "time: 4.01 ms\n"
     ]
    }
   ],
   "source": [
    "# data[\"BZRTRETM Index\"].dropna().plot()"
   ]
  },
  {
   "cell_type": "code",
   "execution_count": 6,
   "metadata": {
    "collapsed": false
   },
   "outputs": [
    {
     "name": "stdout",
     "output_type": "stream",
     "text": [
      "time: 7.02 ms\n"
     ]
    }
   ],
   "source": [
    "gdpTicker = \"BZGDYOY% Index\"\n",
    "listOfCols = [\n",
    "    \"BZGDYOY% Index\",\n",
    "#     \"BZGDGNDI Index\",\n",
    "#     \"BZGDFNCE Index\",\n",
    "    \"BZIPTLSA Index\",\n",
    "    \"MPMIBRMA Index\",\n",
    "    \"BFOETTSA Index\",\n",
    "    \"BZREELHT Index\",\n",
    "    \"BZPIIPCY Index\",\n",
    "    \"BZPIIPCM Index\",\n",
    "    \"BZEXTOT$ Index\",\n",
    "    \"BZTBBALY INDEX\",\n",
    "    \"BZBXPBCM INDEX\",\n",
    "    \"BZRTFBSA INDEX\",\n",
    "    \"BZFGCCSA INDEX\",\n",
    "    \"ibov index\",\n",
    "    \"CL1 Comdty\",\n",
    "    \"BCSWLPD CURNCY\",\n",
    "    \"bcswfpd curncy\",\n",
    "    \"BZMOTRFB INDEX\",\n",
    "    \"BZJCTOTS Index\",\n",
    "    \"BZEASA INDEX\",\n",
    "    \"OEBRD003 INDEX\",\n",
    "    \"BZRTRETM Index\",\n",
    "]\n",
    "data = data[listOfCols]"
   ]
  },
  {
   "cell_type": "code",
   "execution_count": 7,
   "metadata": {
    "collapsed": false
   },
   "outputs": [
    {
     "data": {
      "text/plain": [
       "Timestamp('2000-01-05 00:00:00')"
      ]
     },
     "execution_count": 7,
     "metadata": {},
     "output_type": "execute_result"
    },
    {
     "name": "stdout",
     "output_type": "stream",
     "text": [
      "time: 6.02 ms\n"
     ]
    }
   ],
   "source": [
    "data.index.min()"
   ]
  },
  {
   "cell_type": "code",
   "execution_count": 8,
   "metadata": {
    "collapsed": false
   },
   "outputs": [
    {
     "data": {
      "text/plain": [
       "Timestamp('2017-03-20 00:00:00')"
      ]
     },
     "execution_count": 8,
     "metadata": {},
     "output_type": "execute_result"
    },
    {
     "name": "stdout",
     "output_type": "stream",
     "text": [
      "time: 6.02 ms\n"
     ]
    }
   ],
   "source": [
    "data.index.max()"
   ]
  },
  {
   "cell_type": "markdown",
   "metadata": {},
   "source": [
    "### Transformations\n"
   ]
  },
  {
   "cell_type": "code",
   "execution_count": 9,
   "metadata": {
    "collapsed": false
   },
   "outputs": [
    {
     "data": {
      "text/plain": [
       "Index(['BZGDYOY% Index', 'BZIPTLSA Index', 'MPMIBRMA Index', 'BFOETTSA Index',\n",
       "       'BZREELHT Index', 'BZPIIPCY Index', 'BZPIIPCM Index', 'BZEXTOT$ Index',\n",
       "       'BZTBBALY INDEX', 'BZBXPBCM INDEX', 'BZRTFBSA INDEX', 'BZFGCCSA INDEX',\n",
       "       'ibov index', 'CL1 Comdty', 'BCSWLPD CURNCY', 'bcswfpd curncy',\n",
       "       'BZMOTRFB INDEX', 'BZJCTOTS Index', 'BZEASA INDEX', 'OEBRD003 INDEX',\n",
       "       'BZRTRETM Index'],\n",
       "      dtype='object')"
      ]
     },
     "execution_count": 9,
     "metadata": {},
     "output_type": "execute_result"
    },
    {
     "name": "stdout",
     "output_type": "stream",
     "text": [
      "time: 5.52 ms\n"
     ]
    }
   ],
   "source": [
    "data.columns"
   ]
  },
  {
   "cell_type": "code",
   "execution_count": 10,
   "metadata": {
    "collapsed": false
   },
   "outputs": [
    {
     "name": "stdout",
     "output_type": "stream",
     "text": [
      "time: 1.51 s\n"
     ]
    }
   ],
   "source": [
    "transf = pd.read_excel(\"Nowcasting.xlsx\",sheetname=dataDetailsSheet,)\n",
    "transf.set_index(\"Code\",inplace=True)"
   ]
  },
  {
   "cell_type": "code",
   "execution_count": 11,
   "metadata": {
    "collapsed": false
   },
   "outputs": [
    {
     "name": "stdout",
     "output_type": "stream",
     "text": [
      "MPMIBRMA Index\n",
      "BZREELHT Index\n",
      "BZEXTOT$ Index\n",
      "BZTBBALY INDEX\n",
      "BZBXPBCM INDEX\n",
      "BZRTFBSA INDEX\n",
      "BZFGCCSA INDEX\n",
      "ibov index\n",
      "CL1 Comdty\n",
      "BCSWLPD CURNCY\n",
      "bcswfpd curncy\n",
      "BZEASA INDEX\n",
      "OEBRD003 INDEX\n",
      "BZIPTLSA Index\n",
      "BFOETTSA Index\n",
      "BZPIIPCY Index\n",
      "time: 81.2 ms\n"
     ]
    },
    {
     "name": "stderr",
     "output_type": "stream",
     "text": [
      "C:\\Anaconda3\\lib\\site-packages\\pandas\\core\\algorithms.py:1251: RuntimeWarning: invalid value encountered in subtract\n",
      "  out_arr[res_indexer] = arr[res_indexer] - arr[lag_indexer]\n"
     ]
    }
   ],
   "source": [
    "for s in transf.index[transf[\"Log\"]==True]:\n",
    "    if s in data.columns:\n",
    "        data[s] = data[s].apply(np.log)\n",
    "    \n",
    "data = data.resample(\"M\").sum()\n",
    "    \n",
    "for s in transf.index[transf[\"Diff\"]==True]:\n",
    "    if s in data.columns:\n",
    "        print(s)\n",
    "        data[s] = data[s].diff()\n",
    "\n",
    "for s in transf.index[transf[\"DiffAnnual\"]==True]:\n",
    "    if s in data.columns:\n",
    "        data[s] = data[s].diff(3)"
   ]
  },
  {
   "cell_type": "code",
   "execution_count": 12,
   "metadata": {
    "collapsed": false
   },
   "outputs": [
    {
     "name": "stdout",
     "output_type": "stream",
     "text": [
      "time: 1.01 ms\n"
     ]
    }
   ],
   "source": [
    "data.replace([np.inf, -np.inf], np.nan,inplace=True)"
   ]
  },
  {
   "cell_type": "markdown",
   "metadata": {},
   "source": [
    "### Standardize\n"
   ]
  },
  {
   "cell_type": "code",
   "execution_count": 13,
   "metadata": {
    "collapsed": false
   },
   "outputs": [
    {
     "name": "stdout",
     "output_type": "stream",
     "text": [
      "time: 6.02 ms\n"
     ]
    }
   ],
   "source": [
    "mu = data.mean()\n",
    "sigma = data.std()\n",
    "data = (data - mu) / sigma"
   ]
  },
  {
   "cell_type": "markdown",
   "metadata": {},
   "source": [
    "### Stationarity"
   ]
  },
  {
   "cell_type": "code",
   "execution_count": 14,
   "metadata": {
    "collapsed": false
   },
   "outputs": [
    {
     "name": "stdout",
     "output_type": "stream",
     "text": [
      "time: 5.02 ms\n"
     ]
    }
   ],
   "source": [
    "# For now we'll drop quarterly series\n",
    "# data.drop(\"BZGDGNDI Index\",axis=1,inplace=True)\n",
    "# data.drop(\"BZGDFNCE Index\",axis=1,inplace=True)\n",
    "# data.drop(\"ibov index\",axis=1,inplace=True)\n",
    "# data.drop(\"CL1 Comdty\",axis=1,inplace=True)\n",
    "# data.drop(\"BCSWLPD CURNCY\",axis=1,inplace=True)\n",
    "# data.drop(\"bcswfpd curncy\",axis=1,inplace=True)\n",
    "# data.drop(\"BZEXTOT$ Index\",axis=1,inplace=True)\n",
    "# data.drop(\"BZTBBALY INDEX\",axis=1,inplace=True)\n",
    "# data.drop(\"BZGDFNCE Index\",axis=1,inplace=True)\n",
    "# data.drop(\"BZGDFNCE Index\",axis=1,inplace=True)"
   ]
  },
  {
   "cell_type": "code",
   "execution_count": 15,
   "metadata": {
    "collapsed": false
   },
   "outputs": [
    {
     "name": "stdout",
     "output_type": "stream",
     "text": [
      "BZGDYOY% Index\n",
      "BZGDYOY% Index 's p-value is: 0.980186983575\n",
      "BZIPTLSA Index\n",
      "MPMIBRMA Index\n",
      "BFOETTSA Index\n",
      "BZREELHT Index\n",
      "BZPIIPCY Index\n",
      "BZPIIPCM Index\n",
      "BZEXTOT$ Index\n",
      "BZTBBALY INDEX\n",
      "BZBXPBCM INDEX\n",
      "Error\n",
      "BZRTFBSA INDEX\n",
      "BZFGCCSA INDEX\n",
      "ibov index\n",
      "CL1 Comdty\n",
      "BCSWLPD CURNCY\n",
      "bcswfpd curncy\n",
      "BZMOTRFB INDEX\n",
      "BZJCTOTS Index\n",
      "BZJCTOTS Index 's p-value is: 0.881793681761\n",
      "BZEASA INDEX\n",
      "OEBRD003 INDEX\n",
      "OEBRD003 INDEX 's p-value is: 0.41382820824\n",
      "BZRTRETM Index\n",
      "BZRTRETM Index 's p-value is: 0.417487199324\n",
      "time: 279 ms\n"
     ]
    }
   ],
   "source": [
    "for series in data.columns:\n",
    "    try:\n",
    "        d = data[series]   \n",
    "        print(series)\n",
    "        pv = sm.tsa.stattools.adfuller(d[d.notnull()])[1]\n",
    "        if pv > 0.11:\n",
    "            print(series + \" 's p-value is: \" + str(pv))\n",
    "    except:\n",
    "        print(\"Error\")"
   ]
  },
  {
   "cell_type": "markdown",
   "metadata": {},
   "source": [
    "# Dimensions"
   ]
  },
  {
   "cell_type": "code",
   "execution_count": 16,
   "metadata": {
    "collapsed": false
   },
   "outputs": [
    {
     "name": "stdout",
     "output_type": "stream",
     "text": [
      "time: 2.01 ms\n"
     ]
    }
   ],
   "source": [
    "dataQ = data[[gdpTicker]]\n",
    "data.drop(gdpTicker,axis=1,inplace=True)"
   ]
  },
  {
   "cell_type": "code",
   "execution_count": 17,
   "metadata": {
    "collapsed": false
   },
   "outputs": [
    {
     "data": {
      "text/plain": [
       "207"
      ]
     },
     "execution_count": 17,
     "metadata": {},
     "output_type": "execute_result"
    },
    {
     "name": "stdout",
     "output_type": "stream",
     "text": [
      "time: 6.52 ms\n"
     ]
    }
   ],
   "source": [
    "T = data.shape[0]\n",
    "T"
   ]
  },
  {
   "cell_type": "code",
   "execution_count": 18,
   "metadata": {
    "collapsed": false
   },
   "outputs": [
    {
     "data": {
      "text/plain": [
       "21"
      ]
     },
     "execution_count": 18,
     "metadata": {},
     "output_type": "execute_result"
    },
    {
     "name": "stdout",
     "output_type": "stream",
     "text": [
      "time: 5.01 ms\n"
     ]
    }
   ],
   "source": [
    "n = (data.columns | dataQ.columns).shape[0]\n",
    "n"
   ]
  },
  {
   "cell_type": "code",
   "execution_count": 19,
   "metadata": {
    "collapsed": false
   },
   "outputs": [
    {
     "data": {
      "text/plain": [
       "20"
      ]
     },
     "execution_count": 19,
     "metadata": {},
     "output_type": "execute_result"
    },
    {
     "name": "stdout",
     "output_type": "stream",
     "text": [
      "time: 7.02 ms\n"
     ]
    }
   ],
   "source": [
    "nm = (data.columns).shape[0]\n",
    "nm"
   ]
  },
  {
   "cell_type": "code",
   "execution_count": 20,
   "metadata": {
    "collapsed": false
   },
   "outputs": [
    {
     "data": {
      "text/plain": [
       "1"
      ]
     },
     "execution_count": 20,
     "metadata": {},
     "output_type": "execute_result"
    },
    {
     "name": "stdout",
     "output_type": "stream",
     "text": [
      "time: 5.51 ms\n"
     ]
    }
   ],
   "source": [
    "nq = (dataQ.columns).shape[0]\n",
    "nq"
   ]
  },
  {
   "cell_type": "code",
   "execution_count": 21,
   "metadata": {
    "collapsed": false
   },
   "outputs": [
    {
     "data": {
      "text/plain": [
       "30"
      ]
     },
     "execution_count": 21,
     "metadata": {},
     "output_type": "execute_result"
    },
    {
     "name": "stdout",
     "output_type": "stream",
     "text": [
      "time: 5.52 ms\n"
     ]
    }
   ],
   "source": [
    "m = 5 + nm + 5 * nq\n",
    "m"
   ]
  },
  {
   "cell_type": "markdown",
   "metadata": {},
   "source": [
    "# Data Matrices\n",
    "\n",
    "$y$ which is $n \\times T$ will be the vertical stack of the monthly and quarterly variables"
   ]
  },
  {
   "cell_type": "code",
   "execution_count": 22,
   "metadata": {
    "collapsed": false
   },
   "outputs": [
    {
     "data": {
      "text/plain": [
       "(21, 207)"
      ]
     },
     "execution_count": 22,
     "metadata": {},
     "output_type": "execute_result"
    },
    {
     "name": "stdout",
     "output_type": "stream",
     "text": [
      "time: 8.02 ms\n"
     ]
    }
   ],
   "source": [
    "y = pd.concat([ data.transpose(), dataQ.transpose(),], axis=0)\n",
    "y.shape"
   ]
  },
  {
   "cell_type": "markdown",
   "metadata": {},
   "source": [
    "# Coefficients\n",
    "\n",
    "## Z Matrix\n",
    "\n",
    "The $Z$ matrix is a $n \\times m$"
   ]
  },
  {
   "cell_type": "code",
   "execution_count": 23,
   "metadata": {
    "collapsed": false
   },
   "outputs": [
    {
     "name": "stdout",
     "output_type": "stream",
     "text": [
      "time: 10.5 ms\n"
     ]
    }
   ],
   "source": [
    "coefs = []\n",
    "for el in data.columns:\n",
    "    coefs.append(el + \"_loading\")\n",
    "lambdaM = pd.DataFrame(coefs)\n",
    "\n",
    "line1 = lambdaM\n",
    "line1 = pd.concat([line1, pd.DataFrame(np.zeros((nm,4)))], axis=1)\n",
    "\n",
    "line1 = pd.concat([line1, pd.DataFrame(np.identity(nm))], axis=1)\n",
    "missingDimension = m - line1.shape[1]\n",
    "line1 = pd.concat([line1, pd.DataFrame(np.zeros((nm,missingDimension)))], axis=1)\n",
    "\n",
    "line1.shape\n",
    "\n",
    "coefsZ = coefs"
   ]
  },
  {
   "cell_type": "code",
   "execution_count": 24,
   "metadata": {
    "collapsed": false
   },
   "outputs": [
    {
     "name": "stdout",
     "output_type": "stream",
     "text": [
      "time: 23.6 ms\n"
     ]
    }
   ],
   "source": [
    "coefs = []\n",
    "for el in dataQ.columns:\n",
    "    coefs.append(el + \"_loading\")\n",
    "lambdaQ = pd.DataFrame(coefs)\n",
    "\n",
    "line2 = lambdaQ\n",
    "line2 = pd.concat([line2, \"2*\" + lambdaQ], axis=1)\n",
    "line2 = pd.concat([line2, \"3*\" + lambdaQ], axis=1)\n",
    "line2 = pd.concat([line2, \"2*\" + lambdaQ], axis=1)\n",
    "line2 = pd.concat([line2, lambdaQ], axis=1)\n",
    "\n",
    "line2 = pd.concat([line2, pd.DataFrame(np.zeros((nq,nm)))], axis=1)\n",
    "\n",
    "line2 = pd.concat([line2, pd.DataFrame(np.ones((nq,1)))], axis=1)\n",
    "line2 = pd.concat([line2, 2*pd.DataFrame(np.ones((nq,1)))], axis=1)\n",
    "line2 = pd.concat([line2, 3*pd.DataFrame(np.ones((nq,1)))], axis=1)\n",
    "line2 = pd.concat([line2, 2*pd.DataFrame(np.ones((nq,1)))], axis=1)\n",
    "line2 = pd.concat([line2, pd.DataFrame(np.ones((nq,1)))], axis=1)\n",
    "\n",
    "coefsZ += coefs"
   ]
  },
  {
   "cell_type": "code",
   "execution_count": 25,
   "metadata": {
    "collapsed": false
   },
   "outputs": [
    {
     "data": {
      "text/plain": [
       "(21, 30)"
      ]
     },
     "execution_count": 25,
     "metadata": {},
     "output_type": "execute_result"
    },
    {
     "name": "stdout",
     "output_type": "stream",
     "text": [
      "time: 22.6 ms\n"
     ]
    }
   ],
   "source": [
    "line1.columns = list(range(0,line1.columns.shape[0]))\n",
    "line2.columns = list(range(0,line2.columns.shape[0]))\n",
    "\n",
    "Z = pd.concat([line1,line2], axis=0, ignore_index=True)\n",
    "Z = Z.apply(pd.to_numeric,1,errors='ignore')\n",
    "Z = Z.apply(pd.to_numeric,0,errors='ignore')\n",
    "Z.shape"
   ]
  },
  {
   "cell_type": "code",
   "execution_count": 26,
   "metadata": {
    "collapsed": false
   },
   "outputs": [
    {
     "name": "stdout",
     "output_type": "stream",
     "text": [
      "time: 2.01 ms\n"
     ]
    }
   ],
   "source": [
    "# trying to impose restriction described in p 13-14 about identifying the model\n",
    "Z.iloc[0,0] = 1\n",
    "# Z"
   ]
  },
  {
   "cell_type": "code",
   "execution_count": 27,
   "metadata": {
    "collapsed": false
   },
   "outputs": [
    {
     "data": {
      "text/plain": [
       "['BZIPTLSA Index_loading',\n",
       " 'MPMIBRMA Index_loading',\n",
       " 'BFOETTSA Index_loading',\n",
       " 'BZREELHT Index_loading',\n",
       " 'BZPIIPCY Index_loading',\n",
       " 'BZPIIPCM Index_loading',\n",
       " 'BZEXTOT$ Index_loading',\n",
       " 'BZTBBALY INDEX_loading',\n",
       " 'BZBXPBCM INDEX_loading',\n",
       " 'BZRTFBSA INDEX_loading',\n",
       " 'BZFGCCSA INDEX_loading',\n",
       " 'ibov index_loading',\n",
       " 'CL1 Comdty_loading',\n",
       " 'BCSWLPD CURNCY_loading',\n",
       " 'bcswfpd curncy_loading',\n",
       " 'BZMOTRFB INDEX_loading',\n",
       " 'BZJCTOTS Index_loading',\n",
       " 'BZEASA INDEX_loading',\n",
       " 'OEBRD003 INDEX_loading',\n",
       " 'BZRTRETM Index_loading',\n",
       " 'BZGDYOY% Index_loading']"
      ]
     },
     "execution_count": 27,
     "metadata": {},
     "output_type": "execute_result"
    },
    {
     "name": "stdout",
     "output_type": "stream",
     "text": [
      "time: 7.52 ms\n"
     ]
    }
   ],
   "source": [
    "coefsZ"
   ]
  },
  {
   "cell_type": "markdown",
   "metadata": {},
   "source": [
    "## B Matrix\n",
    "\n",
    "$B$ matrix is $m \\times m$"
   ]
  },
  {
   "cell_type": "code",
   "execution_count": 28,
   "metadata": {
    "collapsed": false
   },
   "outputs": [
    {
     "data": {
      "text/plain": [
       "(30, 30)"
      ]
     },
     "execution_count": 28,
     "metadata": {},
     "output_type": "execute_result"
    },
    {
     "name": "stdout",
     "output_type": "stream",
     "text": [
      "time: 46.1 ms\n"
     ]
    }
   ],
   "source": [
    "bMat = np.array([\"A1\",0.,0.,0.])\n",
    "bMat = np.vstack((np.array(bMat),np.identity(4)))\n",
    "bMat = linalg.block_diag(bMat,np.array([0]))\n",
    "\n",
    "alphaM = \"alphaM_\" + pd.DataFrame(data.columns.tolist()).astype(str) \n",
    "# alphaM = alphaM.transpose()[0]\n",
    "alphaM = np.diag(alphaM[0])\n",
    "\n",
    "bMat = bMat[:-1]\n",
    "\n",
    "bMat = linalg.block_diag(bMat,alphaM)\n",
    "\n",
    "alphaQ = \"alphaQ_\" + pd.DataFrame(dataQ.columns.tolist()).astype(str) \n",
    "# alphaQ = alphaQ.transpose()[0]\n",
    "alphaQ = np.diag(alphaQ[0])\n",
    "\n",
    "bMat = linalg.block_diag(bMat,alphaQ)\n",
    "\n",
    "newLine = np.hstack((np.zeros((nq,bMat.shape[1]-nq)),np.identity(nq)))\n",
    "bMat = np.vstack((bMat,newLine))\n",
    "\n",
    "bMat = linalg.block_diag(bMat,np.identity(m-bMat.shape[1]-1))\n",
    "bMat = linalg.block_diag(bMat,np.array([0]))\n",
    "bMat = bMat[:-1]\n",
    "B = pd.DataFrame(bMat)\n",
    "B = B.apply(pd.to_numeric,1,errors='ignore')\n",
    "B = B.apply(pd.to_numeric,0,errors='ignore')\n",
    "# alphaM\n",
    "# newLine\n",
    "# pd.to_numeric(pd.DataFrame(bMat)[0].iloc[1])\n",
    "B.shape"
   ]
  },
  {
   "cell_type": "code",
   "execution_count": 29,
   "metadata": {
    "collapsed": false
   },
   "outputs": [
    {
     "name": "stdout",
     "output_type": "stream",
     "text": [
      "time: 1.5 ms\n"
     ]
    }
   ],
   "source": [
    "coefsB = np.array([\"A1\"])\n",
    "coefsB = np.append(coefsB,alphaQ)\n",
    "coefsB = np.append(coefsB,np.diag(alphaM))"
   ]
  },
  {
   "cell_type": "markdown",
   "metadata": {},
   "source": [
    "## Q Matrix\n",
    "\n",
    "$Q_t$ is $m \\times m$\n"
   ]
  },
  {
   "cell_type": "code",
   "execution_count": 30,
   "metadata": {
    "collapsed": false
   },
   "outputs": [
    {
     "name": "stdout",
     "output_type": "stream",
     "text": [
      "time: 15.5 ms\n"
     ]
    }
   ],
   "source": [
    "coefsU = np.array([])\n",
    "\n",
    "u = np.array(\"u_t\")\n",
    "u = np.vstack((u,np.zeros((4,1))))\n",
    "merrors = \"em_\" + pd.DataFrame(np.array([list(range(0,nm))])).astype(str)\n",
    "u = np.vstack((u,merrors.T))\n",
    "\n",
    "coefsU = np.append(coefsU,merrors)\n",
    "\n",
    "merrors = \"eq_\" + pd.DataFrame(np.array([list(range(0,nq))])).astype(str)\n",
    "\n",
    "coefsU = np.append(coefsU,merrors)\n",
    "\n",
    "u = np.vstack((u,merrors.T))\n",
    "\n",
    "u = np.vstack((u,np.zeros((m-u.shape[0],1))))\n",
    "\n",
    "u = pd.DataFrame(u)\n",
    "\n",
    "u[0] = pd.to_numeric(u[0],errors='ignore')\n",
    "\n",
    "idx = np.unique(np.where(u==\"0.0\" )[0].tolist() + np.where(u==0 )[0].tolist())"
   ]
  },
  {
   "cell_type": "code",
   "execution_count": 31,
   "metadata": {
    "collapsed": false
   },
   "outputs": [
    {
     "data": {
      "text/plain": [
       "(30, 30)"
      ]
     },
     "execution_count": 31,
     "metadata": {},
     "output_type": "execute_result"
    },
    {
     "name": "stdout",
     "output_type": "stream",
     "text": [
      "time: 10 ms\n"
     ]
    }
   ],
   "source": [
    "Q = \"Q_\" + pd.DataFrame([range(0,m)]).astype(str) \n",
    "Q = Q.transpose()[0]\n",
    "\n",
    "coefsQ = np.array(Q)\n",
    "\n",
    "Q = np.diag(Q)\n",
    "Q[idx] = 0\n",
    "Q = pd.DataFrame(Q)\n",
    "Q.shape"
   ]
  },
  {
   "cell_type": "markdown",
   "metadata": {},
   "source": [
    "# H Matrix"
   ]
  },
  {
   "cell_type": "code",
   "execution_count": 32,
   "metadata": {
    "collapsed": false
   },
   "outputs": [
    {
     "name": "stdout",
     "output_type": "stream",
     "text": [
      "time: 22.6 ms\n"
     ]
    }
   ],
   "source": [
    "p = y.shape[0]\n",
    "H = np.diag(np.repeat(\"H_diag\",p))\n",
    "\n",
    "H = pd.DataFrame(H)\n",
    "H = H.apply(pd.to_numeric,1,errors='ignore')\n",
    "H = H.apply(pd.to_numeric,0,errors='ignore')\n",
    "H.replace('',0,inplace=True)"
   ]
  },
  {
   "cell_type": "markdown",
   "metadata": {},
   "source": [
    "# R Matrix"
   ]
  },
  {
   "cell_type": "code",
   "execution_count": 33,
   "metadata": {
    "collapsed": false
   },
   "outputs": [
    {
     "name": "stdout",
     "output_type": "stream",
     "text": [
      "time: 17.5 ms\n"
     ]
    }
   ],
   "source": [
    "m = Z.shape[1]\n",
    "R = np.diag(np.repeat(1,m))\n",
    "\n",
    "R = pd.DataFrame(R)\n",
    "R = R.apply(pd.to_numeric,1,errors='ignore')\n",
    "R = R.apply(pd.to_numeric,0,errors='ignore')\n",
    "R.replace('',0,inplace=True)"
   ]
  },
  {
   "cell_type": "markdown",
   "metadata": {},
   "source": [
    "# Kalman Filter\n",
    "\n",
    "## Partial Line of Nulls\n",
    "\n",
    "![KoopmanFactorModel](Figuras_Notebook/FactorModel_Koopman.PNG)\n",
    "\n",
    "![KoopmanMatrixSizes](Figuras_Notebook/MatrixSizes_Koopman.PNG)"
   ]
  },
  {
   "cell_type": "markdown",
   "metadata": {},
   "source": [
    "Based on Durbin Koopman\n",
    "\n",
    "\n",
    "For generic state-space systems like (Hamilton's notation):\n",
    "\n",
    "\n",
    "\n",
    "$$\\underset{(p \\times 1)}{y_t} = \\underset{(p \\times m)}{Z_t} \\underset{(m \\times 1)}{\\alpha_t} + \\underset{(p \\times 1)}{\\epsilon_t}, \\qquad \\epsilon_t \\sim N(0,\\underset{(p \\times P)}{H_t}) $$\n",
    "\n",
    "$$\\underset{(m \\times 1)}{\\alpha_{t+1}} = \\underset{(m \\times m)}{T_t}\n",
    "\\underset{(m \\times 1)}{\\alpha_{t}} + \\underset{(m \\times r)}{R_t} \\underset{(r \\times r)}{\\eta_t}, \\qquad \\eta_t \\sim N(0,\\underset{(r \\times \\ r)}{Q_t})$$\n",
    "\n",
    "\n",
    "$$\\alpha_1 \\sim N(a_1,\\underset{(m \\times m)}{P_1})$$\n",
    "\n",
    "Where\n",
    "\n",
    "* $p$ is the number of observed variables\n",
    "* $m$ is the number of latent states\n",
    "* $r$ is the number of disturbances"
   ]
  },
  {
   "cell_type": "code",
   "execution_count": 34,
   "metadata": {
    "collapsed": false
   },
   "outputs": [
    {
     "data": {
      "text/plain": [
       "(21, 207)"
      ]
     },
     "execution_count": 34,
     "metadata": {},
     "output_type": "execute_result"
    },
    {
     "name": "stdout",
     "output_type": "stream",
     "text": [
      "time: 6.52 ms\n"
     ]
    }
   ],
   "source": [
    "y.shape"
   ]
  },
  {
   "cell_type": "code",
   "execution_count": 35,
   "metadata": {
    "collapsed": false
   },
   "outputs": [
    {
     "name": "stdout",
     "output_type": "stream",
     "text": [
      "time: 192 ms\n"
     ]
    }
   ],
   "source": [
    "def KalmanFilter(y, nStates, Z, H, T, Q, a1, P1, R):\n",
    "    # y should be (n x p)\n",
    "    p = y.shape[1]\n",
    "    n = y.shape[0]\n",
    "    m = nStates    \n",
    "    \n",
    "    yhat = np.empty((n,p))\n",
    "    a = np.empty((m,n))\n",
    "    P = np.empty((m,m,n))\n",
    "    a[:,0] = a1\n",
    "    P[:,:,0] = P1\n",
    "    vt = np.empty((n,p))\n",
    "    inds = np.ones((n,p), dtype=bool)\n",
    "    Ft = np.empty((p,p,n))\n",
    "    ZT = Z.T  # To avoid transposing it several times\n",
    "    TT = T.T  # To avoid transposing it several times\n",
    "    R = np.array(R)\n",
    "    RT = R.T\n",
    "    ind = np.zeros(y.shape[0])\n",
    "    dims = np.ones((n),dtype=np.int)\n",
    "    dims = dims * p\n",
    "\n",
    "    ind[np.isnan(y).any(axis=1)] = 1  # Some NaNs\n",
    "    ind[np.isnan(y).all(axis=1)] = 2  # All NaNs\n",
    "\n",
    "\n",
    "    for t in range(0, n - 1):\n",
    "\n",
    "        if ind[t] == 0:\n",
    "        # if True:\n",
    "\n",
    "            # (p) =  (p) - (p x m)(m x 1)\n",
    "\n",
    "            vt[t,:] = y[t,:] - np.dot(Z, a[:,t])\n",
    "\n",
    "            Ft[:,:,t] = (Z.dot(P[:,:,t]).dot(ZT) + H)\n",
    "\n",
    "            Finv = inv(Ft[:,:,t])\n",
    "\n",
    "            a[:,t] = a[:,t] + P[:,:,t].dot(ZT).dot(Finv).dot(vt[t,:])\n",
    "\n",
    "            P[:,:,t] = P[:,:,t] - P[:,:,t].dot(ZT).dot(Finv).dot(Z).dot(P[:,:,t])\n",
    "\n",
    "            a[:,t+1] = T.dot(a[:,t])\n",
    "\n",
    "            P[:,:,t+1] = T.dot(P[:,:,t]).dot(TT) + R.dot(Q).dot(RT)\n",
    "\n",
    "            yhat[t,:] = Z.dot(a[:,t])\n",
    "\n",
    "        elif ind[t] == 2:  # In case the line is all nans\n",
    "\n",
    "            vt[t, :] = np.zeros((p))\n",
    "\n",
    "            Ft[:, :, t] = (Z.dot(P[:, :, t]).dot(ZT) + H)\n",
    "\n",
    "            a[:, t + 1] = T.dot(a[:, t])\n",
    "\n",
    "            P[:, :, t + 1] = T.dot(P[:, :, t]).dot(TT) + R.dot(Q).dot(RT)\n",
    "\n",
    "            yhat[t, :] = Z.dot(a[:, t])\n",
    "\n",
    "        else:\n",
    "            # First use an index for nulls\n",
    "#             print(t)\n",
    "#             print(H)\n",
    "            ind2 = ~np.isnan(y[t]).ravel()\n",
    "            inds[t,:] = ind2\n",
    "            yst = y[t,:][ind2]\n",
    "            Zst = Z[ind2, :]\n",
    "            ZstT = Zst.T\n",
    "            dim = ind2.sum(dtype=np.int)\n",
    "            dims[t] = dim\n",
    "            select = np.diag(ind2)\n",
    "            select = select[(select == True).any(axis=1)].astype(int)\n",
    "            \n",
    "            Hst = select.dot(H).dot(select.T)\n",
    "\n",
    "            vt[t,ind2] = yst - np.dot(Zst, a[:,t])\n",
    "                        \n",
    "            Ft[:dim,:dim,t] = Zst.dot(P[:, :,t]).dot(ZstT) + Hst            \n",
    "\n",
    "            Finv = inv(Ft[:dim, :dim, t])\n",
    "\n",
    "            a[:,t] = a[:,t] + P[:, :,t].dot(ZstT).dot(Finv).dot(vt[t,ind2])\n",
    "                \n",
    "\n",
    "            P[:, :,t] = P[:, :,t] - P[:, :,t].dot(ZstT).dot(Finv).dot(Zst).dot(P[:, :,t])\n",
    "\n",
    "            a[:, t + 1] = T.dot(a[:,t])\n",
    "            \n",
    "\n",
    "            P[:, :, t + 1] = T.dot(P[:,:,t]).dot(TT) + R.dot(Q).dot(RT)\n",
    "\n",
    "        \n",
    "            yhat[t, ind2] = Zst.dot(a[:, t])\n",
    "            yhat[t ,~ind2] = Z.dot(a[:,t])[~ind2]\n",
    "\n",
    "\n",
    "    # a = pd.DataFrame(np.concatenate(a, axis=1)).T\n",
    "    # yhat = pd.DataFrame(np.concatenate(yhat, axis=1)).T\n",
    "    # y = pd.DataFrame(y)\n",
    "\n",
    "\n",
    "    ll = 0.0\n",
    "    \n",
    "    for t in range(0, n - 1):\n",
    "        # print(\"ind: {ind!s}\".format(ind=ind[t]))\n",
    "        # print(\"dim: {ind!s}\".format(ind=dims[t]))\n",
    "        if ind[t] < 2:\n",
    "            ll += np.log(det(Ft[:dims[t],:dims[t],t])) + vt[t,inds[t,:]].T.dot(inv(Ft[:dims[t],:dims[t],t])).dot(vt[t,inds[t,:]])    \n",
    "    ll = - n * p * 0.5 * np.log(2 * np.pi) - 0.5 * ll\n",
    "#     print(ll)\n",
    "\n",
    "    return {'ll' : ll, 'yhat' : yhat, 'y' : y } #for Bayesian\n",
    "#     return -ll #for Max likelihood\n"
   ]
  },
  {
   "cell_type": "markdown",
   "metadata": {},
   "source": [
    "## Kalman Filter Univariate"
   ]
  },
  {
   "cell_type": "code",
   "execution_count": 36,
   "metadata": {
    "collapsed": false
   },
   "outputs": [
    {
     "name": "stdout",
     "output_type": "stream",
     "text": [
      "time: 98.3 ms\n"
     ]
    }
   ],
   "source": [
    "def KalmanFilter2(y, nStates, Z, H, T, Q, a1, P1, R, export=False):\n",
    "# Only receives np arrays\n",
    "\n",
    "    p = y.shape[1]\n",
    "    n = y.shape[0]\n",
    "    m = nStates\n",
    "\n",
    "\n",
    "    yhat = np.empty((n, p))\n",
    "    Z = np.array(Z.astype(float))  # (PxM) we'll drop t\n",
    "    H = np.array(H.astype(float))\n",
    "    T = np.array(T.astype(float))  # Should be M x M\n",
    "    Q = np.array(Q.astype(float))  # (RxR)\n",
    "    a = np.empty((n + 1, p + 1, m))  # each alpha t,i is mx1\n",
    "    a[0, 0, :] = np.array(a1.astype(float)).ravel()  # TODO Check a1 dimension\n",
    "    P = np.empty((n + 1, p + 1, m, m))\n",
    "    P[0, 0, :, :] = np.array(P1.astype(float))\n",
    "    v = np.empty((n, p))\n",
    "    F = np.empty((n, p))\n",
    "    K = np.empty((n, p, m))\n",
    "    ZT = Z.T  # To avoid transposing it several times\n",
    "    TT = T.T  # To avoid transposing it several times\n",
    "    R = np.array(R)  # (MxR)\n",
    "    RT = R.T\n",
    "    ll = 0\n",
    "\n",
    "\n",
    "    for t in range(0, n):\n",
    "        ind = ~np.isnan(y[t, :])\n",
    "        templl = 0\n",
    "        pst = 0\n",
    "        for i in range(0, p):  # later on change to Pt\n",
    "            if ind[i]:\n",
    "                v[t, i] = y[t, i] - Z[i, :].reshape((1, m)).dot(a[t, i, :].T)  # a should be mx1\n",
    "                F[t, i] = Z[i, :].reshape((1, m)).dot(P[t, i, :, :]).dot(Z[i, :]) + H[i, i]\n",
    "                K[t, i, :] = P[t, i, :, :].dot(Z[i, :]) * F[t, i] ** (-1)\n",
    "                a[t, i + 1, :] = a[t, i, :] + K[t, i, :] * v[t, i]\n",
    "                P[t, i + 1, :, :] = P[t, i, :, :] - (K[t, i, :] * F[t, i]).reshape((m, 1)).dot(\n",
    "                    K[t, i].reshape((1, m)))\n",
    "            else:\n",
    "                # Setting all Z's to zeros\n",
    "                v[t, i] = np.zeros(v[t, i].shape)\n",
    "                F[t, i] = H[\n",
    "                    i, i]\n",
    "                K[t, i, :] = np.zeros(K[t, i, :].shape)\n",
    "                a[t, i + 1, :] = a[t, i, :] + K[t, i, :] * v[t, i]\n",
    "                P[t, i + 1, :, :] = P[t, i, :, :] - (K[t, i, :] * F[t, i]).reshape(\n",
    "                    (m, 1)).dot(K[t, i].reshape((1, m)))\n",
    "            if F[t,i] != 0:\n",
    "                templl += np.log(F[t,i]) + (v[t,i] ** 2) / F[t,i]\n",
    "                pst += 1\n",
    "\n",
    "        ll+= pst * np.log(2*np.pi) + templl\n",
    "\n",
    "\n",
    "        a[t + 1, 0, :] = T.dot(a[t, i + 1, :])\n",
    "        P[t + 1, 0, :, :] = T.dot(P[t, i + 1]).dot(TT) + R.dot(Q).dot(RT)\n",
    "        # yhat[t,:] = Z.dot(a[t,1,:]) # ERRADO\n",
    "\n",
    "        if export:\n",
    "            yhat[t, :] = Z.dot(a[t, 0, :])\n",
    "\n",
    "    ll *= -0.5\n",
    "#     ll = np.exp(ll)\n",
    "\n",
    "    if export:\n",
    "        states = pd.DataFrame(a[:, 0, :])\n",
    "        yhat = pd.DataFrame(yhat)\n",
    "        y = pd.DataFrame(y)\n",
    "        return {'states' : states,\n",
    "                'yhat' : yhat,\n",
    "                'y' : y,\n",
    "                'll' : ll}\n",
    "    else:\n",
    "        return ll"
   ]
  },
  {
   "cell_type": "markdown",
   "metadata": {},
   "source": [
    "# Wrapper function\n",
    "\n",
    "The matrices the have coefficients are: Z, B, Q, R (MARSS language) or\n",
    "Z, T, Q, H (Koopman language)\n",
    "\n",
    "R is currently defaulting to diagonal and equal (should it?)"
   ]
  },
  {
   "cell_type": "code",
   "execution_count": 37,
   "metadata": {
    "collapsed": false
   },
   "outputs": [
    {
     "name": "stdout",
     "output_type": "stream",
     "text": [
      "time: 6.02 ms\n"
     ]
    }
   ],
   "source": [
    "# Translating MARSS to Koopman\n",
    "\n",
    "T = B"
   ]
  },
  {
   "cell_type": "code",
   "execution_count": 38,
   "metadata": {
    "collapsed": false
   },
   "outputs": [
    {
     "name": "stdout",
     "output_type": "stream",
     "text": [
      "time: 6.02 ms\n"
     ]
    }
   ],
   "source": [
    "coefs = np.append(coefsZ,coefsB)\n",
    "coefs = np.append(coefs,coefsQ)\n",
    "coefs = np.append(coefs,\"H_diag\")\n",
    "coefsIndex = coefs\n",
    "# coefsIndex"
   ]
  },
  {
   "cell_type": "code",
   "execution_count": 39,
   "metadata": {
    "collapsed": false
   },
   "outputs": [
    {
     "name": "stdout",
     "output_type": "stream",
     "text": [
      "time: 7.02 ms\n"
     ]
    }
   ],
   "source": [
    "coefs = pd.Series(0.1,index=coefsIndex)\n",
    "# coefs"
   ]
  },
  {
   "cell_type": "code",
   "execution_count": 40,
   "metadata": {
    "collapsed": false
   },
   "outputs": [
    {
     "name": "stdout",
     "output_type": "stream",
     "text": [
      "time: 24.1 ms\n"
     ]
    }
   ],
   "source": [
    "def wrapper(coefs,Z, T, Q, H, R,y, coefsIndex):\n",
    "    \n",
    "    coefs = pd.Series(coefs,index=coefsIndex)\n",
    "    \n",
    "    for i in range(0,coefs.size):\n",
    "        Z.replace(coefs.index[i],coefs.iloc[i],inplace=True)\n",
    "        T.replace(coefs.index[i],coefs.iloc[i],inplace=True)\n",
    "        Q.replace(coefs.index[i],coefs.iloc[i],inplace=True)\n",
    "        H.replace(coefs.index[i],coefs.iloc[i],inplace=True)\n",
    "        \n",
    "#         Z.replace(coefsIndex[i],coefs[i],inplace=True)\n",
    "#         T.replace(coefsIndex[i],coefs[i],inplace=True)\n",
    "#         Q.replace(coefsIndex[i],coefs[i],inplace=True)\n",
    "#         H.replace(coefsIndex[i],coefs[i],inplace=True)\n",
    "    \n",
    "    Z.replace(\"2*BZGDYOY% Index_loading\",2 * coefs.loc[\"BZGDYOY% Index_loading\"],inplace=True)\n",
    "    Z.replace(\"3*BZGDYOY% Index_loading\",3 * coefs.loc[\"BZGDYOY% Index_loading\"],inplace=True)\n",
    "    \n",
    "    m = Z.shape[1]\n",
    "    a1 = np.zeros((m))\n",
    "    P1 = np.ones((m,m))*0.5\n",
    "    nStates = m\n",
    "    \n",
    "    y=np.array(y)\n",
    "    Z=np.array(Z)\n",
    "    H=np.array(H)\n",
    "    T=np.array(T)\n",
    "    Q=np.array(Q)\n",
    "    R=np.array(R)\n",
    "    \n",
    "\n",
    "    \n",
    "    return KalmanFilter(\n",
    "        y=y.T, \n",
    "        nStates=nStates, \n",
    "        Z=Z, \n",
    "        H=H, \n",
    "        T=T, \n",
    "        Q=Q, \n",
    "        a1=a1, \n",
    "        P1=P1, \n",
    "        R=R)"
   ]
  },
  {
   "cell_type": "code",
   "execution_count": 41,
   "metadata": {
    "collapsed": false
   },
   "outputs": [
    {
     "name": "stdout",
     "output_type": "stream",
     "text": [
      "time: 27.1 ms\n"
     ]
    }
   ],
   "source": [
    "def wrapper2(coefs,Z, T, Q, H, R,y, coefsIndex):\n",
    "    \n",
    "    coefs = pd.Series(coefs,index=coefsIndex)\n",
    "    \n",
    "    for i in range(0,coefs.size):\n",
    "        Z.replace(coefs.index[i],coefs.iloc[i],inplace=True)\n",
    "        T.replace(coefs.index[i],coefs.iloc[i],inplace=True)\n",
    "        Q.replace(coefs.index[i],coefs.iloc[i],inplace=True)\n",
    "        H.replace(coefs.index[i],coefs.iloc[i],inplace=True)\n",
    "        \n",
    "#         Z.replace(coefsIndex[i],coefs[i],inplace=True)\n",
    "#         T.replace(coefsIndex[i],coefs[i],inplace=True)\n",
    "#         Q.replace(coefsIndex[i],coefs[i],inplace=True)\n",
    "#         H.replace(coefsIndex[i],coefs[i],inplace=True)\n",
    "    \n",
    "    Z.replace(\"2*BZGDYOY% Index_loading\",2 * coefs.loc[\"BZGDYOY% Index_loading\"],inplace=True)\n",
    "    Z.replace(\"3*BZGDYOY% Index_loading\",3 * coefs.loc[\"BZGDYOY% Index_loading\"],inplace=True)\n",
    "    \n",
    "    m = Z.shape[1]\n",
    "    a1 = np.zeros((m))\n",
    "    P1 = np.ones((m,m))*0.5\n",
    "    nStates = m\n",
    "    \n",
    "    y=np.array(y)\n",
    "    Z=np.array(Z)\n",
    "    H=np.array(H)\n",
    "    T=np.array(T)\n",
    "    Q=np.array(Q)\n",
    "    R=np.array(R)\n",
    "    \n",
    "\n",
    "\n",
    "    \n",
    "    return KalmanFilter2(\n",
    "        y=y.T, \n",
    "        nStates=nStates, \n",
    "        Z=Z, \n",
    "        H=H, \n",
    "        T=T, \n",
    "        Q=Q, \n",
    "        a1=a1, \n",
    "        P1=P1, \n",
    "        R=R,\n",
    "        export = True)"
   ]
  },
  {
   "cell_type": "code",
   "execution_count": 42,
   "metadata": {
    "collapsed": false
   },
   "outputs": [
    {
     "name": "stdout",
     "output_type": "stream",
     "text": [
      "time: 41.6 ms\n"
     ]
    }
   ],
   "source": [
    "def wrapper3(coefs,Z, T, Q, H, R,y, coefsIndex):\n",
    "    \n",
    "    coefs = pd.Series(coefs,index=coefsIndex)\n",
    "    \n",
    "    for i in range(0,coefs.size):\n",
    "        Z.replace(coefs.index[i],coefs.iloc[i],inplace=True)\n",
    "        T.replace(coefs.index[i],coefs.iloc[i],inplace=True)\n",
    "        Q.replace(coefs.index[i],coefs.iloc[i],inplace=True)\n",
    "        H.replace(coefs.index[i],coefs.iloc[i],inplace=True)\n",
    "        \n",
    "#         Z.replace(coefsIndex[i],coefs[i],inplace=True)\n",
    "#         T.replace(coefsIndex[i],coefs[i],inplace=True)\n",
    "#         Q.replace(coefsIndex[i],coefs[i],inplace=True)\n",
    "#         H.replace(coefsIndex[i],coefs[i],inplace=True)\n",
    "    \n",
    "    Z.replace(\"2*BZGDYOY% Index_loading\",2 * coefs.loc[\"BZGDYOY% Index_loading\"],inplace=True)\n",
    "    Z.replace(\"3*BZGDYOY% Index_loading\",3 * coefs.loc[\"BZGDYOY% Index_loading\"],inplace=True)\n",
    "    \n",
    "    m = Z.shape[1]\n",
    "    a1 = np.zeros((m))\n",
    "    P1 = np.ones((m,m))*0.5\n",
    "    nStates = m\n",
    "    \n",
    "    y=np.array(y)\n",
    "    Z=np.array(Z)\n",
    "    H=np.array(H)\n",
    "    T=np.array(T)\n",
    "    Q=np.array(Q)\n",
    "    R=np.array(R)\n",
    "    \n",
    "   \n",
    "    tsa.kalmanf.kalmanfilter(\n",
    "        F = T,\n",
    "        A = y.T,\n",
    "        H = Z,\n",
    "        \n",
    "    )\n",
    "\n",
    "#     return KalmanFilter2(\n",
    "#         y=y.T, \n",
    "#         nStates=nStates, \n",
    "#         Z=Z, \n",
    "#         H=H, \n",
    "#         T=T, \n",
    "#         Q=Q, \n",
    "#         a1=a1, \n",
    "#         P1=P1, \n",
    "#         R=R,\n",
    "#         export = True)"
   ]
  },
  {
   "cell_type": "markdown",
   "metadata": {},
   "source": [
    "# Maximize Likelihood"
   ]
  },
  {
   "cell_type": "code",
   "execution_count": 43,
   "metadata": {
    "collapsed": false
   },
   "outputs": [
    {
     "name": "stdout",
     "output_type": "stream",
     "text": [
      "time: 509 ms\n"
     ]
    }
   ],
   "source": [
    "res = wrapper(coefs,Z.copy(), T.copy(), Q.copy(), H.copy(), R.copy(), y.copy(),coefsIndex)"
   ]
  },
  {
   "cell_type": "code",
   "execution_count": 44,
   "metadata": {
    "collapsed": false
   },
   "outputs": [
    {
     "name": "stdout",
     "output_type": "stream",
     "text": [
      "time: 599 ms\n"
     ]
    }
   ],
   "source": [
    "res2 = wrapper2(coefs,Z.copy(), T.copy(), Q.copy(), H.copy(), R.copy(), y.copy(),coefsIndex)"
   ]
  },
  {
   "cell_type": "code",
   "execution_count": 45,
   "metadata": {
    "collapsed": false
   },
   "outputs": [
    {
     "name": "stdout",
     "output_type": "stream",
     "text": [
      "time: 1 ms\n"
     ]
    }
   ],
   "source": [
    "smoothGdp = pd.DataFrame(res['yhat'])[20]"
   ]
  },
  {
   "cell_type": "code",
   "execution_count": 46,
   "metadata": {
    "collapsed": false
   },
   "outputs": [
    {
     "data": {
      "text/plain": [
       "<matplotlib.axes._subplots.AxesSubplot at 0x15fb25bd5f8>"
      ]
     },
     "execution_count": 46,
     "metadata": {},
     "output_type": "execute_result"
    },
    {
     "data": {
      "image/png": "[encoded data removed]",
      "text/plain": [
       "<matplotlib.figure.Figure at 0x15fb25ec588>"
      ]
     },
     "metadata": {},
     "output_type": "display_data"
    },
    {
     "name": "stdout",
     "output_type": "stream",
     "text": [
      "time: 264 ms\n"
     ]
    }
   ],
   "source": [
    "smoothGdp = pd.DataFrame(res['yhat'])[20]\n",
    "\n",
    "smoothGdp.index = y.iloc[20].index\n",
    "gdp = y.iloc[20].fillna(method='ffill')\n",
    "\n",
    "pd.concat([gdp,smoothGdp],ignore_index=True,axis=1).plot()"
   ]
  },
  {
   "cell_type": "code",
   "execution_count": 47,
   "metadata": {
    "collapsed": false
   },
   "outputs": [
    {
     "data": {
      "text/plain": [
       "<matplotlib.axes._subplots.AxesSubplot at 0x15fb25ec6d8>"
      ]
     },
     "execution_count": 47,
     "metadata": {},
     "output_type": "execute_result"
    },
    {
     "data": {
      "image/png": "[encoded data removed]",
      "text/plain": [
       "<matplotlib.figure.Figure at 0x15fb250a3c8>"
      ]
     },
     "metadata": {},
     "output_type": "display_data"
    },
    {
     "name": "stdout",
     "output_type": "stream",
     "text": [
      "time: 253 ms\n"
     ]
    }
   ],
   "source": [
    "smoothGdp = pd.DataFrame(res2['yhat'])[20]\n",
    "\n",
    "smoothGdp.index = y.iloc[20].index\n",
    "gdp = y.iloc[20].fillna(method='ffill')\n",
    "\n",
    "pd.concat([gdp,smoothGdp],ignore_index=True,axis=1).plot()"
   ]
  },
  {
   "cell_type": "code",
   "execution_count": 48,
   "metadata": {
    "collapsed": false
   },
   "outputs": [
    {
     "name": "stdout",
     "output_type": "stream",
     "text": [
      "time: 2.01 ms\n"
     ]
    }
   ],
   "source": [
    "# minimize(wrapper,coefs, \n",
    "#          args=(Z.copy(), T.copy(), Q.copy(), H.copy(), R.copy(), y.copy(), coefsIndex),\n",
    "# #          args={'Z':Z.copy(),'T':T.copy(),'Q':Q.copy(),'H':H.copy(),'R':R.copy(),'y':y.copy()},\n",
    "# #          options={'disp':True, 'maxiter':1000}, \n",
    "# #          bounds = ((-5,5),(None,None),(None,None),(None,None),), \n",
    "# #          method='SLSQP',\n",
    "# #          method='Powell', #mudou algo mas deu tudo igual\n",
    "#          method='BFGS',\n",
    "# #          method='Nelder-Mead',\n",
    "# #          method='CG',\n",
    "# #          method='L-BFGS-B',\n",
    "# #          method='TNC',\n",
    "# #          method='COBYLA',\n",
    "#          )"
   ]
  },
  {
   "cell_type": "markdown",
   "metadata": {},
   "source": [
    "# EM ?"
   ]
  },
  {
   "cell_type": "markdown",
   "metadata": {},
   "source": [
    "# Bayesian\n",
    "\n",
    "## Priors"
   ]
  },
  {
   "cell_type": "code",
   "execution_count": 49,
   "metadata": {
    "collapsed": false,
    "scrolled": true
   },
   "outputs": [
    {
     "data": {
      "text/html": [
       "<div>\n",
       "<table border=\"1\" class=\"dataframe\">\n",
       "  <thead>\n",
       "    <tr style=\"text-align: right;\">\n",
       "      <th></th>\n",
       "      <th>distribution</th>\n",
       "      <th>mean</th>\n",
       "      <th>variance</th>\n",
       "      <th>randomWalkVariance</th>\n",
       "    </tr>\n",
       "  </thead>\n",
       "  <tbody>\n",
       "    <tr>\n",
       "      <th>Q_26</th>\n",
       "      <td>Chi</td>\n",
       "      <td>1</td>\n",
       "      <td>NaN</td>\n",
       "      <td>0.001</td>\n",
       "    </tr>\n",
       "    <tr>\n",
       "      <th>Q_27</th>\n",
       "      <td>Chi</td>\n",
       "      <td>1</td>\n",
       "      <td>NaN</td>\n",
       "      <td>0.001</td>\n",
       "    </tr>\n",
       "    <tr>\n",
       "      <th>Q_28</th>\n",
       "      <td>Chi</td>\n",
       "      <td>1</td>\n",
       "      <td>NaN</td>\n",
       "      <td>0.001</td>\n",
       "    </tr>\n",
       "    <tr>\n",
       "      <th>Q_29</th>\n",
       "      <td>Chi</td>\n",
       "      <td>1</td>\n",
       "      <td>NaN</td>\n",
       "      <td>0.001</td>\n",
       "    </tr>\n",
       "    <tr>\n",
       "      <th>H_diag</th>\n",
       "      <td>Chi</td>\n",
       "      <td>1</td>\n",
       "      <td>NaN</td>\n",
       "      <td>0.001</td>\n",
       "    </tr>\n",
       "  </tbody>\n",
       "</table>\n",
       "</div>"
      ],
      "text/plain": [
       "       distribution  mean  variance  randomWalkVariance\n",
       "Q_26            Chi     1       NaN               0.001\n",
       "Q_27            Chi     1       NaN               0.001\n",
       "Q_28            Chi     1       NaN               0.001\n",
       "Q_29            Chi     1       NaN               0.001\n",
       "H_diag          Chi     1       NaN               0.001"
      ]
     },
     "execution_count": 49,
     "metadata": {},
     "output_type": "execute_result"
    },
    {
     "name": "stdout",
     "output_type": "stream",
     "text": [
      "time: 28.1 ms\n"
     ]
    }
   ],
   "source": [
    "priorsTable = pd.read_excel(\"PriorsTable.xlsx\")\n",
    "priorsTable.tail()"
   ]
  },
  {
   "cell_type": "markdown",
   "metadata": {},
   "source": [
    "## Posterior\n",
    "\n",
    "OBS: the posterior already returns log-values"
   ]
  },
  {
   "cell_type": "code",
   "execution_count": 50,
   "metadata": {
    "collapsed": false
   },
   "outputs": [
    {
     "name": "stdout",
     "output_type": "stream",
     "text": [
      "time: 18.1 ms\n"
     ]
    }
   ],
   "source": [
    "def getPdfValue(value,dist,mean,variance):\n",
    "    if dist == \"Normal\":\n",
    "        return norm.pdf(value,mean,variance)\n",
    "    if dist == \"Chi\":\n",
    "        return chi2.pdf(value,mean)\n",
    "    \n",
    "def posteriori(priorsTable,theta,Z, T, Q, H, R,y, coefsIndex):\n",
    "    \n",
    "    # OBS: RETURNS THE LOG VALUE\n",
    "    \n",
    "    post = 0\n",
    "    for i in range(0,priorsTable.shape[0]):\n",
    "#         print(theta[i])\n",
    "#         print(priorsTable.iloc[i])\n",
    "#         print(getPdfValue(value = theta[i],\n",
    "#                             dist = priorsTable.iloc[i][\"distribution\"],\n",
    "#                             mean = priorsTable.iloc[i][\"mean\"],\n",
    "#                             variance = priorsTable.iloc[i][\"variance\"],))\n",
    "        \n",
    "        post += np.log(getPdfValue(value = theta[i],\n",
    "                            dist = priorsTable.iloc[i][\"distribution\"],\n",
    "                            mean = priorsTable.iloc[i][\"mean\"],\n",
    "                            variance = priorsTable.iloc[i][\"variance\"],))\n",
    "        \n",
    "#     ll = wrapper(coefs,Z.copy(), T.copy(), Q.copy(), H.copy(), R.copy(), y.copy(),coefsIndex)['ll']\n",
    "    ll = wrapper2(theta,Z.copy(), T.copy(), Q.copy(), H.copy(), R.copy(), y.copy(),coefsIndex)['ll']\n",
    "#     ll = wrapper3(coefs,Z.copy(), T.copy(), Q.copy(), H.copy(), R.copy(), y.copy(),coefsIndex)\n",
    "#     print(ll)\n",
    "#     ll = ll['ll']\n",
    "#     return ll\n",
    "    \n",
    "    #     ll = np.exp(ll/1000)\n",
    "#     ll = np.exp(ll)\n",
    "#     print(post)\n",
    "    return post + ll\n",
    "\n",
    "    \n",
    "    "
   ]
  },
  {
   "cell_type": "markdown",
   "metadata": {},
   "source": [
    "## Metropolis-Hastings\n",
    "\n",
    "Remember that it's all in log !"
   ]
  },
  {
   "cell_type": "code",
   "execution_count": 51,
   "metadata": {
    "collapsed": false
   },
   "outputs": [
    {
     "data": {
      "text/plain": [
       "-7484.6685070465637"
      ]
     },
     "execution_count": 51,
     "metadata": {},
     "output_type": "execute_result"
    },
    {
     "name": "stdout",
     "output_type": "stream",
     "text": [
      "time: 699 ms\n"
     ]
    }
   ],
   "source": [
    "posteriori(priorsTable,coefs,Z.copy(), T.copy(), Q.copy(), H.copy(), R.copy(), y.copy(),coefsIndex) "
   ]
  },
  {
   "cell_type": "code",
   "execution_count": 52,
   "metadata": {
    "collapsed": false
   },
   "outputs": [
    {
     "data": {
      "text/plain": [
       "-7484.6685070465637"
      ]
     },
     "execution_count": 52,
     "metadata": {},
     "output_type": "execute_result"
    },
    {
     "name": "stdout",
     "output_type": "stream",
     "text": [
      "time: 714 ms\n"
     ]
    }
   ],
   "source": [
    "posteriori(priorsTable,coefs,Z.copy(), T.copy(), Q.copy(), H.copy(), R.copy(), y.copy(),coefsIndex) "
   ]
  },
  {
   "cell_type": "code",
   "execution_count": 53,
   "metadata": {
    "collapsed": false
   },
   "outputs": [
    {
     "name": "stdout",
     "output_type": "stream",
     "text": [
      "time: 76.2 ms\n"
     ]
    }
   ],
   "source": [
    "def MH(priorsTable,Z, T, Q, H, R,y, coefsIndex, n):\n",
    "    \n",
    "    coefs = []\n",
    "    \n",
    "    alphaPostValues = np.zeros(n)\n",
    "    \n",
    "    accept = np.zeros(n)\n",
    "    \n",
    "    initialCoefs = pd.Series(0.1,index=coefsIndex)\n",
    "    \n",
    "    \n",
    "    \n",
    "    # Tentativa de fazer com transformacao exponencial\n",
    "    initialCoefs[priorsTable[\"distribution\"]=='Chi'] = np.log(0.1)\n",
    "    \n",
    "    temp = initialCoefs.copy()\n",
    "    \n",
    "    temp[priorsTable[\"distribution\"]=='Chi'] = np.exp(temp)[priorsTable[\"distribution\"]=='Chi']\n",
    "    \n",
    "    lastLogPost = posteriori(priorsTable,temp,Z, T, Q, H, R,y, coefsIndex)\n",
    "    \n",
    "    \n",
    "    \n",
    "#     lastLogPost = posteriori(priorsTable,initialCoefs,Z, T, Q, H, R,y, coefsIndex)\n",
    "    \n",
    "#     print(lastLogPost)\n",
    "    \n",
    "    alphaPostValues[0] = lastLogPost\n",
    "    \n",
    "    coefs.append(initialCoefs)\n",
    "    \n",
    "    disturbances = []\n",
    "    \n",
    "    for i in range(1,n):\n",
    "    \n",
    "        disturbance = np.multiply(np.random.randn(coefsIndex.shape[0]),\n",
    "                                      priorsTable[\"randomWalkVariance\"])\n",
    "        \n",
    "        \n",
    "        \n",
    "        disturbances.append(disturbance)\n",
    "        \n",
    "        temp = coefs[i-1] + disturbance\n",
    "        \n",
    "        temp2 = temp.copy()\n",
    "        \n",
    "        temp2[priorsTable[\"distribution\"]=='Chi'] = np.exp(temp2)[priorsTable[\"distribution\"]=='Chi']\n",
    "        \n",
    "        newLogPost = posteriori(priorsTable,temp2,Z, T, Q, H, R,y, coefsIndex)\n",
    "        \n",
    "#         disturbance[priorsTable[\"distribution\"]=='Chi'] = np.exp(disturbance)[priorsTable[\"distribution\"]=='Chi']\n",
    "        \n",
    "#         temp = coefs[i-1] + disturbance\n",
    "        \n",
    "#         temp2 = temp\n",
    "        \n",
    "#         temp2[priorsTable[\"distribution\"]=='Chi'] = np.exp(temp)[priorsTable[\"distribution\"]=='Chi']\n",
    "        \n",
    "#         newLogPost = posteriori(priorsTable,temp2,Z, T, Q, H, R,y, coefsIndex)\n",
    "        \n",
    "#         print(newLogPost)\n",
    "        \n",
    "        alphaPostValues[i] = newLogPost\n",
    "        \n",
    "        logAlpha = newLogPost - lastLogPost\n",
    "        \n",
    "#         print(logAlpha)\n",
    "        \n",
    "        alpha = np.exp(logAlpha)\n",
    "        \n",
    "#         print(alpha)\n",
    "        \n",
    "        r = np.min([1, alpha])\n",
    "        \n",
    "        u = np.random.uniform()\n",
    "\n",
    "        if u < r:\n",
    "#             print('pos')\n",
    "            accept[i] = 1\n",
    "            lastLogPost = newLogPost\n",
    "            coefs.append(temp)\n",
    "        else:\n",
    "#             print('no')\n",
    "            accept[i] = 0\n",
    "            coefs.append(coefs[i-1])\n",
    "#             coefs.append(temp)\n",
    "    \n",
    "    coefs = pd.DataFrame(coefs)\n",
    "    \n",
    "    coefs = coefs.T\n",
    "    coefs[priorsTable[\"distribution\"]=='Chi'] = np.exp(coefs)[priorsTable[\"distribution\"]=='Chi']\n",
    "    coefs = coefs.T\n",
    "    \n",
    "    return {\n",
    "        'posterior' : coefs,\n",
    "        'posteriorValues' : pd.DataFrame(alphaPostValues),\n",
    "#         'posterior' : post[burn:], \n",
    "#             'post'\n",
    "        'accept' : accept, \n",
    "        'disturbances' : pd.DataFrame(disturbances),\n",
    "#            'rs' : pd.DataFrame(rs),\n",
    "#            'priors': pd.DataFrame(priors)}\n",
    "        }\n",
    "        "
   ]
  },
  {
   "cell_type": "code",
   "execution_count": 54,
   "metadata": {
    "collapsed": false
   },
   "outputs": [
    {
     "name": "stdout",
     "output_type": "stream",
     "text": [
      "time: 5min 42s\n"
     ]
    }
   ],
   "source": [
    "n = 500\n",
    "teste = MH(priorsTable,Z, T, Q, H, R,y, coefsIndex, n)\n"
   ]
  },
  {
   "cell_type": "code",
   "execution_count": 55,
   "metadata": {
    "collapsed": false
   },
   "outputs": [
    {
     "name": "stdout",
     "output_type": "stream",
     "text": [
      "time: 1 ms\n"
     ]
    }
   ],
   "source": [
    "# teste['posterior']\n",
    "# teste['posteriorValues']\n",
    "# teste['disturbances']"
   ]
  },
  {
   "cell_type": "code",
   "execution_count": 56,
   "metadata": {
    "collapsed": false
   },
   "outputs": [
    {
     "data": {
      "text/plain": [
       "28.999999999999996"
      ]
     },
     "execution_count": 56,
     "metadata": {},
     "output_type": "execute_result"
    },
    {
     "name": "stdout",
     "output_type": "stream",
     "text": [
      "time: 12 ms\n"
     ]
    }
   ],
   "source": [
    "teste['accept'].sum() / teste['accept'].shape[0] * 100"
   ]
  },
  {
   "cell_type": "markdown",
   "metadata": {},
   "source": [
    "# Histograms"
   ]
  },
  {
   "cell_type": "code",
   "execution_count": 57,
   "metadata": {
    "collapsed": false
   },
   "outputs": [
    {
     "data": {
      "text/plain": [
       "(74,)"
      ]
     },
     "execution_count": 57,
     "metadata": {},
     "output_type": "execute_result"
    },
    {
     "name": "stdout",
     "output_type": "stream",
     "text": [
      "time: 5.01 ms\n"
     ]
    }
   ],
   "source": [
    "teste['posterior'].columns.shape"
   ]
  },
  {
   "cell_type": "code",
   "execution_count": 58,
   "metadata": {
    "collapsed": false
   },
   "outputs": [
    {
     "data": {
      "image/png": "[encoded data removed]",
      "text/plain": [
       "<matplotlib.figure.Figure at 0x15fadcc5ac8>"
      ]
     },
     "metadata": {},
     "output_type": "display_data"
    },
    {
     "name": "stdout",
     "output_type": "stream",
     "text": [
      "time: 13.7 s\n"
     ]
    }
   ],
   "source": [
    "teste['posterior'].hist(figsize=(30,30))\n",
    "plt.savefig('hist.png')"
   ]
  },
  {
   "cell_type": "code",
   "execution_count": 59,
   "metadata": {
    "collapsed": false
   },
   "outputs": [
    {
     "name": "stdout",
     "output_type": "stream",
     "text": [
      "time: 27.1 ms\n"
     ]
    }
   ],
   "source": [
    "median = teste['posterior'].rolling(window=100).median()"
   ]
  },
  {
   "cell_type": "code",
   "execution_count": 60,
   "metadata": {
    "collapsed": false
   },
   "outputs": [
    {
     "data": {
      "text/plain": [
       "<matplotlib.axes._subplots.AxesSubplot at 0x15fbbe1fc50>"
      ]
     },
     "execution_count": 60,
     "metadata": {},
     "output_type": "execute_result"
    },
    {
     "data": {
      "image/png": "[encoded data removed]",
      "text/plain": [
       "<matplotlib.figure.Figure at 0x15fb540cc18>"
      ]
     },
     "metadata": {},
     "output_type": "display_data"
    },
    {
     "name": "stdout",
     "output_type": "stream",
     "text": [
      "time: 321 ms\n"
     ]
    }
   ],
   "source": [
    "median.T.iloc[44:50].T.plot()"
   ]
  },
  {
   "cell_type": "markdown",
   "metadata": {},
   "source": [
    "# Performance Test\n",
    "\n",
    "Has to be done in a python file, so we'll first dump the necessary tables and copy the relevant functions"
   ]
  },
  {
   "cell_type": "code",
   "execution_count": 457,
   "metadata": {
    "collapsed": false
   },
   "outputs": [
    {
     "name": "stdout",
     "output_type": "stream",
     "text": [
      "time: 100 ms\n"
     ]
    }
   ],
   "source": [
    "# dump these variables\n",
    "# n = 500\n",
    "# teste = MH(priorsTable,Z, T, Q, H, R,y, coefsIndex, n)\n",
    "\n",
    "priorsTable.to_pickle('./PerformanceTestPickles/priorsTable')\n",
    "Z.to_pickle('./PerformanceTestPickles/Z')\n",
    "T.to_pickle('./PerformanceTestPickles/T')\n",
    "Q.to_pickle('./PerformanceTestPickles/Q')\n",
    "H.to_pickle('./PerformanceTestPickles/H')\n",
    "R.to_pickle('./PerformanceTestPickles/R')\n",
    "y.to_pickle('./PerformanceTestPickles/y')\n",
    "pd.Series(coefsIndex).to_pickle('./PerformanceTestPickles/coefsIndex')"
   ]
  },
  {
   "cell_type": "code",
   "execution_count": null,
   "metadata": {
    "collapsed": true
   },
   "outputs": [],
   "source": []
  },
  {
   "cell_type": "code",
   "execution_count": null,
   "metadata": {
    "collapsed": true
   },
   "outputs": [],
   "source": []
  },
  {
   "cell_type": "code",
   "execution_count": null,
   "metadata": {
    "collapsed": true
   },
   "outputs": [],
   "source": []
  },
  {
   "cell_type": "code",
   "execution_count": null,
   "metadata": {
    "collapsed": true
   },
   "outputs": [],
   "source": []
  },
  {
   "cell_type": "code",
   "execution_count": null,
   "metadata": {
    "collapsed": true
   },
   "outputs": [],
   "source": []
  },
  {
   "cell_type": "code",
   "execution_count": null,
   "metadata": {
    "collapsed": true
   },
   "outputs": [],
   "source": []
  },
  {
   "cell_type": "code",
   "execution_count": null,
   "metadata": {
    "collapsed": true
   },
   "outputs": [],
   "source": []
  },
  {
   "cell_type": "code",
   "execution_count": null,
   "metadata": {
    "collapsed": true
   },
   "outputs": [],
   "source": []
  },
  {
   "cell_type": "code",
   "execution_count": null,
   "metadata": {
    "collapsed": true
   },
   "outputs": [],
   "source": []
  },
  {
   "cell_type": "code",
   "execution_count": null,
   "metadata": {
    "collapsed": true
   },
   "outputs": [],
   "source": []
  },
  {
   "cell_type": "code",
   "execution_count": null,
   "metadata": {
    "collapsed": true
   },
   "outputs": [],
   "source": []
  },
  {
   "cell_type": "code",
   "execution_count": null,
   "metadata": {
    "collapsed": true
   },
   "outputs": [],
   "source": []
  },
  {
   "cell_type": "markdown",
   "metadata": {},
   "source": [
    "# Estimation without initial values"
   ]
  },
  {
   "cell_type": "code",
   "execution_count": 32,
   "metadata": {
    "collapsed": true
   },
   "outputs": [],
   "source": [
    "Zi = Z.as_matrix().T.flatten()\n",
    "Bi = B.as_matrix().T.flatten()\n",
    "Qi = Q.as_matrix().T.flatten()\n",
    "yi = y.as_matrix()"
   ]
  },
  {
   "cell_type": "code",
   "execution_count": 33,
   "metadata": {
    "collapsed": false
   },
   "outputs": [
    {
     "data": {
      "text/plain": [
       "(30, 30)"
      ]
     },
     "execution_count": 33,
     "metadata": {},
     "output_type": "execute_result"
    }
   ],
   "source": [
    "B.shape"
   ]
  },
  {
   "cell_type": "code",
   "execution_count": 34,
   "metadata": {
    "collapsed": false
   },
   "outputs": [
    {
     "data": {
      "text/plain": [
       "(21, 30)"
      ]
     },
     "execution_count": 34,
     "metadata": {},
     "output_type": "execute_result"
    }
   ],
   "source": [
    "Z.shape"
   ]
  },
  {
   "cell_type": "code",
   "execution_count": 35,
   "metadata": {
    "collapsed": false
   },
   "outputs": [
    {
     "data": {
      "text/plain": [
       "(21, 207)"
      ]
     },
     "execution_count": 35,
     "metadata": {},
     "output_type": "execute_result"
    }
   ],
   "source": [
    "y.shape"
   ]
  },
  {
   "cell_type": "code",
   "execution_count": 36,
   "metadata": {
    "collapsed": false
   },
   "outputs": [
    {
     "data": {
      "text/plain": [
       "(30, 30)"
      ]
     },
     "execution_count": 36,
     "metadata": {},
     "output_type": "execute_result"
    }
   ],
   "source": [
    "Q.shape"
   ]
  },
  {
   "cell_type": "code",
   "execution_count": 37,
   "metadata": {
    "collapsed": false
   },
   "outputs": [],
   "source": [
    "# %%R -i Zi,Bi,yi,Z,Qi,m,n\n",
    "\n",
    "# print(dim(Zi))\n",
    "# Zi=matrix(Zi,n,m)\n",
    "# Bi=matrix(Bi,m,m)\n",
    "# Qi=matrix(Qi,m,m)\n",
    "\n",
    "# print(dim(Zi))\n",
    "# print(dim(Bi))\n",
    "# print(dim(Qi))\n",
    "\n",
    "\n",
    "# model.gen=list(Z=Zi,B=Bi,Q=Qi,A=\"zero\",x0=\"zero\",U=\"zero\")\n",
    "\n",
    "# kemfit = MARSS(yi, model=model.gen,control=list(minit=1,maxit=2,\n",
    "#                                                 conv.test.slope.tol=0.00001,\n",
    "#                                                 abstol=0.00001))\n",
    "# # kemfit = MARSS(yi, model=model.gen)\n",
    "\n",
    "# # states = kemfit$states\n",
    "# states = print(kemfit, what=\"model\")\n",
    "# # message(kemfit, what=\"model\")\n",
    "# # print(kemfit, what=\"start\")\n",
    "# # print(kemfit, what=\"states\")\n",
    "# # print(kemfit, what=\"ytT\")\n",
    "# # print(kemfit, what=\"states.se\")\n",
    "# # print(kemfit, what=\"kfs\")\n",
    "# # print(kemfit$par$Z)\n",
    "# # message(\"porra\")\n",
    "# # states=\"\"\n",
    "# # cat(\"teste\")"
   ]
  },
  {
   "cell_type": "code",
   "execution_count": 38,
   "metadata": {
    "collapsed": false
   },
   "outputs": [
    {
     "name": "stdout",
     "output_type": "stream",
     "text": [
      "2017-08-02 15:32:33.884102\n"
     ]
    }
   ],
   "source": [
    "print(dt.datetime.now())"
   ]
  },
  {
   "cell_type": "markdown",
   "metadata": {},
   "source": [
    "# Initial Values\n",
    "\n",
    "## PCA"
   ]
  },
  {
   "cell_type": "code",
   "execution_count": 39,
   "metadata": {
    "collapsed": false
   },
   "outputs": [
    {
     "name": "stdout",
     "output_type": "stream",
     "text": [
      "[ 0.22680384]\n"
     ]
    }
   ],
   "source": [
    "n_components=1\n",
    "pca = PCA(n_components=n_components)\n",
    "components = pca.fit_transform(y.transpose().fillna(0))\n",
    "components = pd.DataFrame(components)\n",
    "# components.set_index(data[balancedIndex].index, inplace=True)\n",
    "\n",
    "print(pca.explained_variance_ratio_) "
   ]
  },
  {
   "cell_type": "code",
   "execution_count": 40,
   "metadata": {
    "collapsed": false
   },
   "outputs": [
    {
     "data": {
      "text/plain": [
       "(207, 1)"
      ]
     },
     "execution_count": 40,
     "metadata": {},
     "output_type": "execute_result"
    }
   ],
   "source": [
    "components.set_index(y.transpose().index,inplace=True)\n",
    "components.shape"
   ]
  },
  {
   "cell_type": "code",
   "execution_count": 41,
   "metadata": {
    "collapsed": false,
    "scrolled": true
   },
   "outputs": [
    {
     "data": {
      "text/plain": [
       "<matplotlib.axes._subplots.AxesSubplot at 0x174700f9630>"
      ]
     },
     "execution_count": 41,
     "metadata": {},
     "output_type": "execute_result"
    },
    {
     "data": {
      "image/png": "[encoded data removed]",
      "text/plain": [
       "<matplotlib.figure.Figure at 0x174700d2ef0>"
      ]
     },
     "metadata": {},
     "output_type": "display_data"
    }
   ],
   "source": [
    "pd.DataFrame(components).plot()"
   ]
  },
  {
   "cell_type": "markdown",
   "metadata": {},
   "source": [
    "# ARMA Order Estimation"
   ]
  },
  {
   "cell_type": "code",
   "execution_count": 49,
   "metadata": {
    "collapsed": false
   },
   "outputs": [],
   "source": [
    "lagsLabels = [\n",
    "#     \"(0,0)\",\n",
    "    \"(1,0)\",\"(1,1)\",\"(2,1)\",\"(2,2)\",]\n",
    "\n",
    "aic = []\n",
    "bic = []\n",
    "\n",
    "# form = (0,0)\n",
    "# aic.append(sm.tsa.ARMA(components.dropna(),form).fit().aic)\n",
    "# bic.append(sm.tsa.ARMA(components.dropna(),form).fit().bic)\n",
    "\n",
    "form = (1,0)\n",
    "aic.append(sm.tsa.ARMA(components.dropna(),form).fit().aic)\n",
    "bic.append(sm.tsa.ARMA(components.dropna(),form).fit().bic)\n",
    "\n",
    "form = (1,1)\n",
    "aic.append(sm.tsa.ARMA(components.dropna(),form).fit().aic)\n",
    "bic.append(sm.tsa.ARMA(components.dropna(),form).fit().bic)\n",
    "\n",
    "form = (2,1)\n",
    "aic.append(sm.tsa.ARMA(components.dropna(),form).fit().aic)\n",
    "bic.append(sm.tsa.ARMA(components.dropna(),form).fit().bic)\n",
    "\n",
    "form = (2,2)\n",
    "aic.append(sm.tsa.ARMA(components.dropna(),form).fit().aic)\n",
    "bic.append(sm.tsa.ARMA(components.dropna(),form).fit().bic)"
   ]
  },
  {
   "cell_type": "code",
   "execution_count": 50,
   "metadata": {
    "collapsed": false
   },
   "outputs": [
    {
     "data": {
      "text/html": [
       "<div>\n",
       "<table border=\"1\" class=\"dataframe\">\n",
       "  <thead>\n",
       "    <tr style=\"text-align: right;\">\n",
       "      <th></th>\n",
       "      <th>AIC</th>\n",
       "      <th>BIC</th>\n",
       "    </tr>\n",
       "  </thead>\n",
       "  <tbody>\n",
       "    <tr>\n",
       "      <th>(1,0)</th>\n",
       "      <td>771.560456</td>\n",
       "      <td>781.558613</td>\n",
       "    </tr>\n",
       "    <tr>\n",
       "      <th>(1,1)</th>\n",
       "      <td>762.770748</td>\n",
       "      <td>776.101623</td>\n",
       "    </tr>\n",
       "    <tr>\n",
       "      <th>(2,1)</th>\n",
       "      <td>722.164483</td>\n",
       "      <td>738.828077</td>\n",
       "    </tr>\n",
       "    <tr>\n",
       "      <th>(2,2)</th>\n",
       "      <td>723.965573</td>\n",
       "      <td>743.961885</td>\n",
       "    </tr>\n",
       "  </tbody>\n",
       "</table>\n",
       "</div>"
      ],
      "text/plain": [
       "              AIC         BIC\n",
       "(1,0)  771.560456  781.558613\n",
       "(1,1)  762.770748  776.101623\n",
       "(2,1)  722.164483  738.828077\n",
       "(2,2)  723.965573  743.961885"
      ]
     },
     "execution_count": 50,
     "metadata": {},
     "output_type": "execute_result"
    }
   ],
   "source": [
    "results = pd.DataFrame()\n",
    "results[\"AIC\"] = aic\n",
    "results[\"BIC\"] = bic\n",
    "results.index = lagsLabels\n",
    "\n",
    "results"
   ]
  },
  {
   "cell_type": "markdown",
   "metadata": {},
   "source": [
    "## OLS for $\\Lambda$ estimation"
   ]
  },
  {
   "cell_type": "code",
   "execution_count": 44,
   "metadata": {
    "collapsed": false,
    "scrolled": true
   },
   "outputs": [
    {
     "data": {
      "text/html": [
       "<div>\n",
       "<table border=\"1\" class=\"dataframe\">\n",
       "  <thead>\n",
       "    <tr style=\"text-align: right;\">\n",
       "      <th></th>\n",
       "      <th>BZIPTLSA Index</th>\n",
       "      <th>MPMIBRMA Index</th>\n",
       "      <th>BFOETTSA Index</th>\n",
       "      <th>BZREELHT Index</th>\n",
       "      <th>BZPIIPCY Index</th>\n",
       "      <th>BZPIIPCM Index</th>\n",
       "      <th>BZEXTOT$ Index</th>\n",
       "      <th>BZTBBALY INDEX</th>\n",
       "      <th>BZBXPBCM INDEX</th>\n",
       "      <th>BZRTFBSA INDEX</th>\n",
       "      <th>BZFGCCSA INDEX</th>\n",
       "      <th>ibov index</th>\n",
       "      <th>CL1 Comdty</th>\n",
       "      <th>BCSWLPD CURNCY</th>\n",
       "      <th>bcswfpd curncy</th>\n",
       "      <th>BZMOTRFB INDEX</th>\n",
       "      <th>BZJCTOTS Index</th>\n",
       "      <th>BZEASA INDEX</th>\n",
       "      <th>OEBRD003 INDEX</th>\n",
       "      <th>BZRTRETM Index</th>\n",
       "    </tr>\n",
       "  </thead>\n",
       "  <tbody>\n",
       "    <tr>\n",
       "      <th>2000-01-31</th>\n",
       "      <td>NaN</td>\n",
       "      <td>NaN</td>\n",
       "      <td>NaN</td>\n",
       "      <td>NaN</td>\n",
       "      <td>NaN</td>\n",
       "      <td>0.207984</td>\n",
       "      <td>NaN</td>\n",
       "      <td>NaN</td>\n",
       "      <td>NaN</td>\n",
       "      <td>NaN</td>\n",
       "      <td>NaN</td>\n",
       "      <td>NaN</td>\n",
       "      <td>NaN</td>\n",
       "      <td>NaN</td>\n",
       "      <td>NaN</td>\n",
       "      <td>NaN</td>\n",
       "      <td>NaN</td>\n",
       "      <td>NaN</td>\n",
       "      <td>NaN</td>\n",
       "      <td>NaN</td>\n",
       "    </tr>\n",
       "    <tr>\n",
       "      <th>2000-02-29</th>\n",
       "      <td>NaN</td>\n",
       "      <td>NaN</td>\n",
       "      <td>NaN</td>\n",
       "      <td>NaN</td>\n",
       "      <td>-1.722609</td>\n",
       "      <td>-1.065146</td>\n",
       "      <td>1.327472</td>\n",
       "      <td>NaN</td>\n",
       "      <td>NaN</td>\n",
       "      <td>0.390218</td>\n",
       "      <td>NaN</td>\n",
       "      <td>1.411873</td>\n",
       "      <td>0.972554</td>\n",
       "      <td>NaN</td>\n",
       "      <td>0.975459</td>\n",
       "      <td>NaN</td>\n",
       "      <td>NaN</td>\n",
       "      <td>NaN</td>\n",
       "      <td>0.877678</td>\n",
       "      <td>0.943908</td>\n",
       "    </tr>\n",
       "    <tr>\n",
       "      <th>2000-03-31</th>\n",
       "      <td>NaN</td>\n",
       "      <td>NaN</td>\n",
       "      <td>NaN</td>\n",
       "      <td>NaN</td>\n",
       "      <td>-1.852841</td>\n",
       "      <td>-0.831306</td>\n",
       "      <td>0.575209</td>\n",
       "      <td>NaN</td>\n",
       "      <td>NaN</td>\n",
       "      <td>-0.140217</td>\n",
       "      <td>NaN</td>\n",
       "      <td>0.018289</td>\n",
       "      <td>1.251490</td>\n",
       "      <td>NaN</td>\n",
       "      <td>-0.221743</td>\n",
       "      <td>NaN</td>\n",
       "      <td>NaN</td>\n",
       "      <td>NaN</td>\n",
       "      <td>0.864601</td>\n",
       "      <td>0.635020</td>\n",
       "    </tr>\n",
       "    <tr>\n",
       "      <th>2000-04-30</th>\n",
       "      <td>NaN</td>\n",
       "      <td>NaN</td>\n",
       "      <td>NaN</td>\n",
       "      <td>NaN</td>\n",
       "      <td>-0.281467</td>\n",
       "      <td>-0.311661</td>\n",
       "      <td>-0.578823</td>\n",
       "      <td>NaN</td>\n",
       "      <td>NaN</td>\n",
       "      <td>-1.704449</td>\n",
       "      <td>NaN</td>\n",
       "      <td>-1.021657</td>\n",
       "      <td>-1.955820</td>\n",
       "      <td>NaN</td>\n",
       "      <td>-1.030243</td>\n",
       "      <td>NaN</td>\n",
       "      <td>NaN</td>\n",
       "      <td>NaN</td>\n",
       "      <td>-0.607665</td>\n",
       "      <td>-0.497568</td>\n",
       "    </tr>\n",
       "    <tr>\n",
       "      <th>2000-05-31</th>\n",
       "      <td>NaN</td>\n",
       "      <td>NaN</td>\n",
       "      <td>NaN</td>\n",
       "      <td>NaN</td>\n",
       "      <td>-0.630297</td>\n",
       "      <td>-1.376933</td>\n",
       "      <td>1.434403</td>\n",
       "      <td>1.128881</td>\n",
       "      <td>NaN</td>\n",
       "      <td>1.157650</td>\n",
       "      <td>NaN</td>\n",
       "      <td>1.276000</td>\n",
       "      <td>1.466675</td>\n",
       "      <td>NaN</td>\n",
       "      <td>2.208863</td>\n",
       "      <td>NaN</td>\n",
       "      <td>NaN</td>\n",
       "      <td>NaN</td>\n",
       "      <td>0.531890</td>\n",
       "      <td>0.635020</td>\n",
       "    </tr>\n",
       "  </tbody>\n",
       "</table>\n",
       "</div>"
      ],
      "text/plain": [
       "            BZIPTLSA Index  MPMIBRMA Index  BFOETTSA Index  BZREELHT Index  \\\n",
       "2000-01-31             NaN             NaN             NaN             NaN   \n",
       "2000-02-29             NaN             NaN             NaN             NaN   \n",
       "2000-03-31             NaN             NaN             NaN             NaN   \n",
       "2000-04-30             NaN             NaN             NaN             NaN   \n",
       "2000-05-31             NaN             NaN             NaN             NaN   \n",
       "\n",
       "            BZPIIPCY Index  BZPIIPCM Index  BZEXTOT$ Index  BZTBBALY INDEX  \\\n",
       "2000-01-31             NaN        0.207984             NaN             NaN   \n",
       "2000-02-29       -1.722609       -1.065146        1.327472             NaN   \n",
       "2000-03-31       -1.852841       -0.831306        0.575209             NaN   \n",
       "2000-04-30       -0.281467       -0.311661       -0.578823             NaN   \n",
       "2000-05-31       -0.630297       -1.376933        1.434403        1.128881   \n",
       "\n",
       "            BZBXPBCM INDEX  BZRTFBSA INDEX  BZFGCCSA INDEX  ibov index  \\\n",
       "2000-01-31             NaN             NaN             NaN         NaN   \n",
       "2000-02-29             NaN        0.390218             NaN    1.411873   \n",
       "2000-03-31             NaN       -0.140217             NaN    0.018289   \n",
       "2000-04-30             NaN       -1.704449             NaN   -1.021657   \n",
       "2000-05-31             NaN        1.157650             NaN    1.276000   \n",
       "\n",
       "            CL1 Comdty  BCSWLPD CURNCY  bcswfpd curncy  BZMOTRFB INDEX  \\\n",
       "2000-01-31         NaN             NaN             NaN             NaN   \n",
       "2000-02-29    0.972554             NaN        0.975459             NaN   \n",
       "2000-03-31    1.251490             NaN       -0.221743             NaN   \n",
       "2000-04-30   -1.955820             NaN       -1.030243             NaN   \n",
       "2000-05-31    1.466675             NaN        2.208863             NaN   \n",
       "\n",
       "            BZJCTOTS Index  BZEASA INDEX  OEBRD003 INDEX  BZRTRETM Index  \n",
       "2000-01-31             NaN           NaN             NaN             NaN  \n",
       "2000-02-29             NaN           NaN        0.877678        0.943908  \n",
       "2000-03-31             NaN           NaN        0.864601        0.635020  \n",
       "2000-04-30             NaN           NaN       -0.607665       -0.497568  \n",
       "2000-05-31             NaN           NaN        0.531890        0.635020  "
      ]
     },
     "execution_count": 44,
     "metadata": {},
     "output_type": "execute_result"
    }
   ],
   "source": [
    "data.head()"
   ]
  },
  {
   "cell_type": "code",
   "execution_count": 45,
   "metadata": {
    "collapsed": true
   },
   "outputs": [],
   "source": [
    "def cleanData(df1,df2):\n",
    "    df = pd.concat([df1, df2],axis=1)\n",
    "    return df.dropna(axis=0)"
   ]
  },
  {
   "cell_type": "code",
   "execution_count": 46,
   "metadata": {
    "collapsed": false
   },
   "outputs": [
    {
     "name": "stdout",
     "output_type": "stream",
     "text": [
      "BZIPTLSA Index\n",
      "MPMIBRMA Index\n",
      "BFOETTSA Index\n",
      "BZREELHT Index\n",
      "BZPIIPCY Index\n",
      "BZPIIPCM Index\n",
      "BZEXTOT$ Index\n",
      "BZTBBALY INDEX\n",
      "BZBXPBCM INDEX\n",
      "BZRTFBSA INDEX\n",
      "BZFGCCSA INDEX\n",
      "ibov index\n",
      "CL1 Comdty\n",
      "BCSWLPD CURNCY\n",
      "bcswfpd curncy\n",
      "BZMOTRFB INDEX\n",
      "BZJCTOTS Index\n",
      "BZEASA INDEX\n",
      "OEBRD003 INDEX\n",
      "BZRTRETM Index\n"
     ]
    }
   ],
   "source": [
    "coefList = []\n",
    "for s in data.columns:\n",
    "    print(s)\n",
    "    clean = cleanData(data[s],components)\n",
    "    coefList.append(sm.OLS(clean[s],clean[0]).fit().params[0])\n",
    "for s in dataQ.columns:\n",
    "    clean = cleanData(dataQ[s],components)\n",
    "    coefList.append(sm.OLS(clean[s],clean[0]).fit().params[0])    "
   ]
  },
  {
   "cell_type": "code",
   "execution_count": 47,
   "metadata": {
    "collapsed": false
   },
   "outputs": [],
   "source": [
    "lambda0 = pd.DataFrame(coefList)"
   ]
  },
  {
   "cell_type": "markdown",
   "metadata": {},
   "source": [
    "## AR for $A$ estimation"
   ]
  },
  {
   "cell_type": "code",
   "execution_count": 48,
   "metadata": {
    "collapsed": true
   },
   "outputs": [],
   "source": [
    "A0 = coefList.append(sm.tsa.ARMA(components.dropna(),(1,0)).fit().params[1])\n"
   ]
  },
  {
   "cell_type": "code",
   "execution_count": 49,
   "metadata": {
    "collapsed": false
   },
   "outputs": [],
   "source": [
    "# Z0 = Z\n",
    "# Z0[0] = lambda0\n",
    "# Z0.iloc[-1,1] = 2 * Z0.iloc[-1,0]\n",
    "# Z0.iloc[-1,2] = 3 * Z0.iloc[-1,0]\n",
    "# Z0.iloc[-1,3] = 2 * Z0.iloc[-1,0]\n",
    "# Z0.iloc[-1,4] = 1 * Z0.iloc[-1,0]\n",
    "\n",
    "# Z0 = Z0.apply(pd.to_numeric,axis=1)\n",
    "# Z0 = Z0.apply(pd.to_numeric,axis=0)"
   ]
  },
  {
   "cell_type": "markdown",
   "metadata": {},
   "source": [
    "# Estimation With Initial Values"
   ]
  },
  {
   "cell_type": "code",
   "execution_count": 50,
   "metadata": {
    "collapsed": false
   },
   "outputs": [
    {
     "data": {
      "text/html": [
       "<div>\n",
       "<table border=\"1\" class=\"dataframe\">\n",
       "  <thead>\n",
       "    <tr style=\"text-align: right;\">\n",
       "      <th></th>\n",
       "      <th>0</th>\n",
       "    </tr>\n",
       "  </thead>\n",
       "  <tbody>\n",
       "    <tr>\n",
       "      <th>1</th>\n",
       "      <td>49.165402</td>\n",
       "    </tr>\n",
       "    <tr>\n",
       "      <th>2</th>\n",
       "      <td>-34.522394</td>\n",
       "    </tr>\n",
       "    <tr>\n",
       "      <th>3</th>\n",
       "      <td>70.274074</td>\n",
       "    </tr>\n",
       "    <tr>\n",
       "      <th>4</th>\n",
       "      <td>3.445630</td>\n",
       "    </tr>\n",
       "    <tr>\n",
       "      <th>5</th>\n",
       "      <td>19.184319</td>\n",
       "    </tr>\n",
       "    <tr>\n",
       "      <th>6</th>\n",
       "      <td>-230.118686</td>\n",
       "    </tr>\n",
       "    <tr>\n",
       "      <th>7</th>\n",
       "      <td>-54.760488</td>\n",
       "    </tr>\n",
       "    <tr>\n",
       "      <th>8</th>\n",
       "      <td>-134.916276</td>\n",
       "    </tr>\n",
       "    <tr>\n",
       "      <th>9</th>\n",
       "      <td>-19.424094</td>\n",
       "    </tr>\n",
       "    <tr>\n",
       "      <th>10</th>\n",
       "      <td>43.463345</td>\n",
       "    </tr>\n",
       "    <tr>\n",
       "      <th>11</th>\n",
       "      <td>-284.083078</td>\n",
       "    </tr>\n",
       "    <tr>\n",
       "      <th>12</th>\n",
       "      <td>-278.080524</td>\n",
       "    </tr>\n",
       "    <tr>\n",
       "      <th>13</th>\n",
       "      <td>-189.821233</td>\n",
       "    </tr>\n",
       "    <tr>\n",
       "      <th>14</th>\n",
       "      <td>-284.613817</td>\n",
       "    </tr>\n",
       "    <tr>\n",
       "      <th>15</th>\n",
       "      <td>46.510343</td>\n",
       "    </tr>\n",
       "    <tr>\n",
       "      <th>16</th>\n",
       "      <td>34.011888</td>\n",
       "    </tr>\n",
       "    <tr>\n",
       "      <th>17</th>\n",
       "      <td>-14.804851</td>\n",
       "    </tr>\n",
       "    <tr>\n",
       "      <th>18</th>\n",
       "      <td>-12.749068</td>\n",
       "    </tr>\n",
       "    <tr>\n",
       "      <th>19</th>\n",
       "      <td>-15.151975</td>\n",
       "    </tr>\n",
       "    <tr>\n",
       "      <th>20</th>\n",
       "      <td>20.054002</td>\n",
       "    </tr>\n",
       "  </tbody>\n",
       "</table>\n",
       "</div>"
      ],
      "text/plain": [
       "             0\n",
       "1    49.165402\n",
       "2   -34.522394\n",
       "3    70.274074\n",
       "4     3.445630\n",
       "5    19.184319\n",
       "6  -230.118686\n",
       "7   -54.760488\n",
       "8  -134.916276\n",
       "9   -19.424094\n",
       "10   43.463345\n",
       "11 -284.083078\n",
       "12 -278.080524\n",
       "13 -189.821233\n",
       "14 -284.613817\n",
       "15   46.510343\n",
       "16   34.011888\n",
       "17  -14.804851\n",
       "18  -12.749068\n",
       "19  -15.151975\n",
       "20   20.054002"
      ]
     },
     "execution_count": 50,
     "metadata": {},
     "output_type": "execute_result"
    }
   ],
   "source": [
    "#  Spent a lot of time struggling here. \n",
    "# the size of the Z0 is actually the size of the non fixed parameters\n",
    "Z0 = lambda0\n",
    "Z0 = Z0.apply(pd.to_numeric,axis=1)\n",
    "Z0 = Z0.apply(pd.to_numeric,axis=0)\n",
    "\n",
    "# Next two lines are only useful when the restriction is effective\n",
    "Z0 = Z0 * (1/Z0.iloc[0,0]) \n",
    "Z0.drop(0,axis=0,inplace=True)\n",
    "\n",
    "Z0"
   ]
  },
  {
   "cell_type": "code",
   "execution_count": 51,
   "metadata": {
    "collapsed": false
   },
   "outputs": [
    {
     "data": {
      "text/html": [
       "<div>\n",
       "<table border=\"1\" class=\"dataframe\">\n",
       "  <thead>\n",
       "    <tr style=\"text-align: right;\">\n",
       "      <th></th>\n",
       "      <th>0</th>\n",
       "    </tr>\n",
       "  </thead>\n",
       "  <tbody>\n",
       "    <tr>\n",
       "      <th>0</th>\n",
       "      <td>-0.006859</td>\n",
       "    </tr>\n",
       "    <tr>\n",
       "      <th>1</th>\n",
       "      <td>0.000000</td>\n",
       "    </tr>\n",
       "    <tr>\n",
       "      <th>2</th>\n",
       "      <td>0.000000</td>\n",
       "    </tr>\n",
       "    <tr>\n",
       "      <th>3</th>\n",
       "      <td>0.000000</td>\n",
       "    </tr>\n",
       "    <tr>\n",
       "      <th>4</th>\n",
       "      <td>0.000000</td>\n",
       "    </tr>\n",
       "    <tr>\n",
       "      <th>5</th>\n",
       "      <td>0.000000</td>\n",
       "    </tr>\n",
       "    <tr>\n",
       "      <th>6</th>\n",
       "      <td>0.000000</td>\n",
       "    </tr>\n",
       "    <tr>\n",
       "      <th>7</th>\n",
       "      <td>0.000000</td>\n",
       "    </tr>\n",
       "    <tr>\n",
       "      <th>8</th>\n",
       "      <td>0.000000</td>\n",
       "    </tr>\n",
       "    <tr>\n",
       "      <th>9</th>\n",
       "      <td>0.000000</td>\n",
       "    </tr>\n",
       "    <tr>\n",
       "      <th>10</th>\n",
       "      <td>0.000000</td>\n",
       "    </tr>\n",
       "    <tr>\n",
       "      <th>11</th>\n",
       "      <td>0.000000</td>\n",
       "    </tr>\n",
       "    <tr>\n",
       "      <th>12</th>\n",
       "      <td>0.000000</td>\n",
       "    </tr>\n",
       "    <tr>\n",
       "      <th>13</th>\n",
       "      <td>0.000000</td>\n",
       "    </tr>\n",
       "    <tr>\n",
       "      <th>14</th>\n",
       "      <td>0.000000</td>\n",
       "    </tr>\n",
       "    <tr>\n",
       "      <th>15</th>\n",
       "      <td>0.000000</td>\n",
       "    </tr>\n",
       "    <tr>\n",
       "      <th>16</th>\n",
       "      <td>0.000000</td>\n",
       "    </tr>\n",
       "    <tr>\n",
       "      <th>17</th>\n",
       "      <td>0.000000</td>\n",
       "    </tr>\n",
       "    <tr>\n",
       "      <th>18</th>\n",
       "      <td>0.000000</td>\n",
       "    </tr>\n",
       "    <tr>\n",
       "      <th>19</th>\n",
       "      <td>0.000000</td>\n",
       "    </tr>\n",
       "    <tr>\n",
       "      <th>20</th>\n",
       "      <td>0.000000</td>\n",
       "    </tr>\n",
       "    <tr>\n",
       "      <th>21</th>\n",
       "      <td>0.000000</td>\n",
       "    </tr>\n",
       "    <tr>\n",
       "      <th>22</th>\n",
       "      <td>0.000000</td>\n",
       "    </tr>\n",
       "    <tr>\n",
       "      <th>23</th>\n",
       "      <td>0.000000</td>\n",
       "    </tr>\n",
       "    <tr>\n",
       "      <th>24</th>\n",
       "      <td>0.000000</td>\n",
       "    </tr>\n",
       "    <tr>\n",
       "      <th>25</th>\n",
       "      <td>0.000000</td>\n",
       "    </tr>\n",
       "    <tr>\n",
       "      <th>26</th>\n",
       "      <td>0.000000</td>\n",
       "    </tr>\n",
       "    <tr>\n",
       "      <th>27</th>\n",
       "      <td>0.000000</td>\n",
       "    </tr>\n",
       "    <tr>\n",
       "      <th>28</th>\n",
       "      <td>0.000000</td>\n",
       "    </tr>\n",
       "    <tr>\n",
       "      <th>29</th>\n",
       "      <td>0.000000</td>\n",
       "    </tr>\n",
       "  </tbody>\n",
       "</table>\n",
       "</div>"
      ],
      "text/plain": [
       "           0\n",
       "0  -0.006859\n",
       "1   0.000000\n",
       "2   0.000000\n",
       "3   0.000000\n",
       "4   0.000000\n",
       "5   0.000000\n",
       "6   0.000000\n",
       "7   0.000000\n",
       "8   0.000000\n",
       "9   0.000000\n",
       "10  0.000000\n",
       "11  0.000000\n",
       "12  0.000000\n",
       "13  0.000000\n",
       "14  0.000000\n",
       "15  0.000000\n",
       "16  0.000000\n",
       "17  0.000000\n",
       "18  0.000000\n",
       "19  0.000000\n",
       "20  0.000000\n",
       "21  0.000000\n",
       "22  0.000000\n",
       "23  0.000000\n",
       "24  0.000000\n",
       "25  0.000000\n",
       "26  0.000000\n",
       "27  0.000000\n",
       "28  0.000000\n",
       "29  0.000000"
      ]
     },
     "execution_count": 51,
     "metadata": {},
     "output_type": "execute_result"
    }
   ],
   "source": [
    "x0i = np.zeros((m,1))\n",
    "x0i[0,0] = components[0][0]\n",
    "x0i = pd.DataFrame(x0i)\n",
    "x0i"
   ]
  },
  {
   "cell_type": "code",
   "execution_count": 52,
   "metadata": {
    "collapsed": false
   },
   "outputs": [],
   "source": [
    "Z0i = Z0.as_matrix().T.flatten()"
   ]
  },
  {
   "cell_type": "code",
   "execution_count": 53,
   "metadata": {
    "collapsed": false
   },
   "outputs": [],
   "source": [
    "x0i = x0i.as_matrix().flatten()"
   ]
  },
  {
   "cell_type": "code",
   "execution_count": 54,
   "metadata": {
    "collapsed": false
   },
   "outputs": [],
   "source": [
    "def runModel(Zi,Bi,Qi,yi,n,m,Z0i,x0i,maxit):\n",
    "    robjects.globalenv['Zi'] = Zi\n",
    "    robjects.globalenv['Bi'] = Bi\n",
    "    robjects.globalenv['Qi'] = Qi\n",
    "    robjects.globalenv['yi'] = yi\n",
    "    robjects.globalenv['n'] = n\n",
    "    robjects.globalenv['m'] = m\n",
    "    robjects.globalenv['Z0i'] = Z0i\n",
    "    robjects.globalenv['x0i'] = x0i\n",
    "    rcode=(\"\"\"\n",
    "Zi=matrix(Zi,n,m)\n",
    "x0i=matrix(x0i,m,1)\n",
    "Bi=matrix(Bi,m,m)\n",
    "Qi=matrix(Qi,m,m)\n",
    "\n",
    "# Z0i=matrix(Z0i,n,1)\n",
    "Z0i=matrix(Z0i,n-1,1) # Use this when the restriction is effective\n",
    "\n",
    "model.gen=list(Z=Zi,B=Bi,Q=Qi,A=\"zero\"\n",
    "               ,x0=x0i\n",
    "#                ,x0=\"zero\"\n",
    "               ,U=\"zero\"\n",
    "               ,R=\"diagonal and equal\")\n",
    "\n",
    "\n",
    "inits = list(Z=Z0i,x0=0)\n",
    "# print(Z0i)\n",
    "# print(Zi)\n",
    "# kemfit = MARSS(yi, model=model.gen,inits=inits,control=list(maxit=5,\n",
    "#                                                 conv.test.slope.tol=0.00001,\n",
    "#                                                 abstol=0.00001))\n",
    "kemfit = MARSS(yi, model=model.gen,inits=inits,control=list(minit=1,maxit={maxit!s}\n",
    "#                                                 conv.test.slope.tol=0.3\n",
    "#                                                 abstol=0.5, \n",
    "#                                                 allow.degen=TRUE\n",
    "#                                                 MCInit=TRUE,\n",
    "#                                                 numInits=100,\n",
    "#                                                 numInitSteps=20\n",
    "                                                           ))\n",
    "states1 = kemfit$states\n",
    "prediction = predict(kemfit,n.ahead=10,se.fit=FALSE)\n",
    "print(attributes(prediction))\n",
    "\n",
    "\"\"\").format(maxit=maxit)\n",
    "    \n",
    "#     print(rcode)\n",
    "    \n",
    "    robjects.r(rcode)\n",
    "#     dic = {}\n",
    "#     dic[]'vintage'} = yi\n",
    "    return robjects.r.prediction"
   ]
  },
  {
   "cell_type": "code",
   "execution_count": 55,
   "metadata": {
    "collapsed": false
   },
   "outputs": [],
   "source": [
    "# pred = runModel(Zi,Bi,Qi,yi,n,m,Z0i,x0i,5)"
   ]
  },
  {
   "cell_type": "code",
   "execution_count": 56,
   "metadata": {
    "collapsed": false
   },
   "outputs": [],
   "source": [
    "# robjects.r['states1']\n",
    "# robjects.r('attributes(prediction)')"
   ]
  },
  {
   "cell_type": "code",
   "execution_count": 57,
   "metadata": {
    "collapsed": false
   },
   "outputs": [],
   "source": [
    "# robjects.r('print(prediction$method)')"
   ]
  },
  {
   "cell_type": "code",
   "execution_count": 58,
   "metadata": {
    "collapsed": false
   },
   "outputs": [
    {
     "name": "stdout",
     "output_type": "stream",
     "text": [
      "2017-06-10 18:23:50.124013\n"
     ]
    }
   ],
   "source": [
    "print(dt.datetime.now())"
   ]
  },
  {
   "cell_type": "code",
   "execution_count": 59,
   "metadata": {
    "collapsed": false
   },
   "outputs": [],
   "source": [
    "# iters = [20,50,100,150,300,500,1000]\n",
    "# # iters = [20,50,100,150]\n",
    "# # iters = [20,50,100]\n",
    "# stateslist = []\n",
    "# for i in iters:\n",
    "#     stateslist.append(runModel(Zi,Bi,Qi,yi,n,m,Z0i,x0i,i))\n",
    "#     print(\"done {maxiters}\".format(maxiters=i))\n",
    "#     print(dt.datetime.now())"
   ]
  },
  {
   "cell_type": "code",
   "execution_count": 60,
   "metadata": {
    "collapsed": false
   },
   "outputs": [
    {
     "name": "stdout",
     "output_type": "stream",
     "text": [
      "2017-06-10 18:23:50.983538\n"
     ]
    }
   ],
   "source": [
    "print(dt.datetime.now())"
   ]
  },
  {
   "cell_type": "markdown",
   "metadata": {
    "collapsed": true
   },
   "source": [
    "* x0 - Done\n",
    "* normalizar as séries antes - fazer o check. data.mean e etc\n",
    "* Initial MC - Bug"
   ]
  },
  {
   "cell_type": "code",
   "execution_count": 61,
   "metadata": {
    "collapsed": false
   },
   "outputs": [],
   "source": [
    "# finalList = []\n",
    "# for state in stateslist: \n",
    "#     finalList.append(pd.DataFrame(state).T)\n",
    "# # stateslist[0]"
   ]
  },
  {
   "cell_type": "markdown",
   "metadata": {},
   "source": [
    "## Check convergence"
   ]
  },
  {
   "cell_type": "code",
   "execution_count": 62,
   "metadata": {
    "collapsed": false
   },
   "outputs": [],
   "source": [
    "def runModel2(Zi,Bi,Qi,y,n,m,Z0i,x0i,maxit):\n",
    "    yi = y.T.as_matrix()\n",
    "    robjects.globalenv['Zi'] = Zi\n",
    "    robjects.globalenv['Bi'] = Bi\n",
    "    robjects.globalenv['Qi'] = Qi\n",
    "    robjects.globalenv['yi'] = yi\n",
    "    robjects.globalenv['n'] = n\n",
    "    robjects.globalenv['m'] = m\n",
    "    robjects.globalenv['Z0i'] = Z0i\n",
    "    robjects.globalenv['x0i'] = x0i\n",
    "    rcode=(\"\"\"\n",
    "Zi=matrix(Zi,n,m)\n",
    "x0i=matrix(x0i,m,1)\n",
    "Bi=matrix(Bi,m,m)\n",
    "Qi=matrix(Qi,m,m)\n",
    "\n",
    "# Z0i=matrix(Z0i,n,1)\n",
    "Z0i=matrix(Z0i,n-1,1) # Use this when the restriction is effective\n",
    "\n",
    "model.gen=list(Z=Zi,B=Bi,Q=Qi,A=\"zero\"\n",
    "               ,x0=x0i\n",
    "#                ,x0=\"zero\"\n",
    "               ,U=\"zero\"\n",
    "               ,R=\"diagonal and equal\")\n",
    "\n",
    "\n",
    "inits = list(Z=Z0i,x0=0)\n",
    "# print(Z0i)\n",
    "# print(Zi)\n",
    "# kemfit = MARSS(yi, model=model.gen,inits=inits,control=list(maxit=5,\n",
    "#                                                 conv.test.slope.tol=0.00001,\n",
    "#                                                 abstol=0.00001))\n",
    "kemfit = MARSS(yi, model=model.gen,inits=inits,control=list(minit=1,maxit={maxit!s}\n",
    "#                                                 conv.test.slope.tol=0.3\n",
    "#                                                 abstol=0.5, \n",
    "#                                                 allow.degen=TRUE\n",
    "#                                                 MCInit=TRUE,\n",
    "#                                                 numInits=100,\n",
    "#                                                 numInitSteps=20\n",
    "                                                           ))\n",
    "states1 = kemfit$states\n",
    "states2 = kemfit$ytT\n",
    "kfit = print(kemfit)\n",
    "\n",
    "\"\"\").format(maxit=maxit)\n",
    "    \n",
    "#     print(rcode)\n",
    "    \n",
    "    robjects.r(rcode)\n",
    "    dic = {}\n",
    "    dic['vintage' ]= y\n",
    "    dic['states'] = pd.DataFrame(robjects.r.states1).T\n",
    "#     print(robjects.r.states1)\n",
    "    dic['prediction'] = pd.DataFrame(robjects.r('print(kemfit,what=\\'ytT\\')')).T\n",
    "    dic['prediction'].index = y.index\n",
    "    dic['prediction'].columns = y.columns\n",
    "    dic['message'] = robjects.r.kfit\n",
    "    return dic"
   ]
  },
  {
   "cell_type": "code",
   "execution_count": 63,
   "metadata": {
    "collapsed": false
   },
   "outputs": [],
   "source": [
    "# robjects.r('print(kemfit$errors)')\n",
    "# print(robjects.r.kfit)"
   ]
  },
  {
   "cell_type": "code",
   "execution_count": 64,
   "metadata": {
    "collapsed": false
   },
   "outputs": [],
   "source": [
    "# listOfIters = [5, 10, 30, 50, 100, 150,500,1000]\n",
    "# # For Each pubdate\n",
    "# listOfResultsConv = {}\n",
    "# for iterN in listOfIters:\n",
    "#     print(iterN)\n",
    "#     listOfResultsConv[iterN] = runModel2(Zi,Bi,Qi,y.T,n,m,Z0i,x0i,iterN)\n",
    "   \n",
    "    \n",
    "# pickle.dump(listOfResultsConv, open(picklesDir + \"Convergence.pickle\", \"wb\"))"
   ]
  },
  {
   "cell_type": "code",
   "execution_count": 65,
   "metadata": {
    "collapsed": false
   },
   "outputs": [],
   "source": [
    "# ((listOfResultsConv[100]['states'].T.loc[0]) - (listOfResultsConv[5]['states'].T.loc[0])).hist()"
   ]
  },
  {
   "cell_type": "code",
   "execution_count": 66,
   "metadata": {
    "collapsed": false
   },
   "outputs": [],
   "source": [
    "# ((listOfResultsConv[100]['states'].T.loc[0]) - (listOfResultsConv[5]['states'].T.loc[0])).describe()"
   ]
  },
  {
   "cell_type": "code",
   "execution_count": 67,
   "metadata": {
    "collapsed": false
   },
   "outputs": [],
   "source": [
    "# (listOfResultsConv[150]['states'].T.loc[0]).describe()"
   ]
  },
  {
   "cell_type": "markdown",
   "metadata": {},
   "source": [
    "## Stylised Calendar"
   ]
  },
  {
   "cell_type": "code",
   "execution_count": 68,
   "metadata": {
    "collapsed": false
   },
   "outputs": [],
   "source": [
    "yn = y.T\n",
    "calendar = pd.read_excel(\"Nowcasting.xlsx\",sheetname=dataDetailsSheet)\n",
    "calendar = calendar[[\"Code\",\"PubLag\"]]\n",
    "calendar.set_index(\"Code\",inplace=True)"
   ]
  },
  {
   "cell_type": "code",
   "execution_count": 69,
   "metadata": {
    "collapsed": false
   },
   "outputs": [],
   "source": [
    "# Goal Create publicationDates as another index on the DF\n",
    "\n",
    "newDfs = []\n",
    "\n",
    "# For each Series\n",
    "for serie in yn.columns:\n",
    "#     Create new df\n",
    "    newDf = pd.DataFrame(yn[serie])\n",
    "    newDf.reset_index(inplace=True)\n",
    "    cols = list(newDf.columns)\n",
    "    cols[0] = \"refDate\"\n",
    "    newDf.columns = cols\n",
    "    newDf[\"pubDate\"] = newDf[\"refDate\"] + dt.timedelta(int(calendar.loc[serie]))\n",
    "    newDf.set_index([\"refDate\",\"pubDate\"],inplace=True)\n",
    "    newDfs.append(newDf)\n",
    "\n",
    "yn = pd.concat(newDfs,axis=1)\n",
    "yn = yn.groupby(level=\"refDate\").fillna(method='ffill')"
   ]
  },
  {
   "cell_type": "code",
   "execution_count": 70,
   "metadata": {
    "collapsed": false
   },
   "outputs": [],
   "source": [
    "# Goal: create stylised calendar for all info\n",
    "pubDates = yn.index.get_level_values(\"pubDate\").unique().sort_values()"
   ]
  },
  {
   "cell_type": "code",
   "execution_count": 71,
   "metadata": {
    "collapsed": false
   },
   "outputs": [
    {
     "data": {
      "text/plain": [
       "(array([2315]),)"
      ]
     },
     "execution_count": 71,
     "metadata": {},
     "output_type": "execute_result"
    }
   ],
   "source": [
    "np.where(pubDates==dt.datetime(2014,5,1))"
   ]
  },
  {
   "cell_type": "markdown",
   "metadata": {},
   "source": [
    "# Loop !"
   ]
  },
  {
   "cell_type": "code",
   "execution_count": 72,
   "metadata": {
    "collapsed": true
   },
   "outputs": [],
   "source": [
    "maxiter = 300"
   ]
  },
  {
   "cell_type": "code",
   "execution_count": 73,
   "metadata": {
    "collapsed": false
   },
   "outputs": [
    {
     "name": "stdout",
     "output_type": "stream",
     "text": [
      "2017-06-10 18:24:06.042314\n"
     ]
    }
   ],
   "source": [
    "print(dt.datetime.now())"
   ]
  },
  {
   "cell_type": "code",
   "execution_count": 74,
   "metadata": {
    "collapsed": true
   },
   "outputs": [],
   "source": [
    "def loadDf(pubDate):\n",
    "    filename = picklesDir + pubDate.strftime('%Y-%m-%d') + \".pickle\"\n",
    "    return pickle.load(open(filename, \"rb\"))"
   ]
  },
  {
   "cell_type": "code",
   "execution_count": 75,
   "metadata": {
    "collapsed": false
   },
   "outputs": [],
   "source": [
    "# For Each pubdate\n",
    "listOfResults = {}\n",
    "for pubDate in pubDates[13:]:\n",
    "#     print(pubDate)\n",
    "    cutY = yn[yn.index.get_level_values(\"pubDate\")<=pubDate].groupby(level=\"refDate\").last()\n",
    "    cutY = cutY.reindex(y.T.index)\n",
    "    filename = picklesDir + pubDate.strftime('%Y-%m-%d') + \".pickle\"\n",
    "    if os.path.exists(filename):\n",
    "#         print(\"Exists\")\n",
    "#         listOfResults[pubDate] = pickle.load(open(filename, \"rb\"))\n",
    "#         print(\"Loaded\")\n",
    "        None\n",
    "    else:\n",
    "        print(pubDate)\n",
    "#         print(\"Does not exist\")\n",
    "        listOfResults[pubDate] = runModel2(Zi,Bi,Qi,cutY,n,m,Z0i,x0i,5)\n",
    "#         listOfResults[pubDate].to_pickle(filename)\n",
    "        pickle.dump(listOfResults[pubDate], open(filename, \"wb\"))\n",
    "#         print(\"Dumped\")\n",
    "#     print(\"Loop Finished\")\n",
    "    \n",
    "# Still have to find a way to locate everytime a given series enters the dataset    "
   ]
  },
  {
   "cell_type": "code",
   "execution_count": 76,
   "metadata": {
    "collapsed": false
   },
   "outputs": [
    {
     "name": "stdout",
     "output_type": "stream",
     "text": [
      "2017-06-10 18:24:14.467593\n"
     ]
    }
   ],
   "source": [
    "print(dt.datetime.now())"
   ]
  },
  {
   "cell_type": "markdown",
   "metadata": {},
   "source": [
    "Notes:\n",
    "   \n",
    "* BCB reports YoY so we have to analise YoY"
   ]
  },
  {
   "cell_type": "markdown",
   "metadata": {},
   "source": [
    "# Charts\n",
    "\n",
    "## RMSFE chart\n",
    "\n",
    "We'll get GDP dates and infer from ``listOfResults``'s keys which vintage corresponds to -X from the GDP pubDate \n",
    "\n",
    "So if I want -9, for each GDP published I'll find the -9 vintage and calculate the prediction error"
   ]
  },
  {
   "cell_type": "code",
   "execution_count": 77,
   "metadata": {
    "collapsed": false
   },
   "outputs": [],
   "source": [
    "#  Find GDP's publication dates\n",
    "gdp = yn[gdpTicker]\n",
    "# .groupby(level=\"refDate\",group_keys=True).last()\n",
    "\n",
    "gdp = gdp[~gdp.isnull()]\n",
    "\n",
    "gdpDates = gdp.index.get_level_values(\"refDate\")\n",
    "# gdpDates"
   ]
  },
  {
   "cell_type": "code",
   "execution_count": 78,
   "metadata": {
    "collapsed": false
   },
   "outputs": [],
   "source": [
    "# vintages = pd.Series(list(listOfResults.keys())).sort_values().reset_index(drop=True)\n",
    "vintages = pubDates[5:]\n",
    "# vintages"
   ]
  },
  {
   "cell_type": "code",
   "execution_count": 79,
   "metadata": {
    "collapsed": false
   },
   "outputs": [],
   "source": [
    "# vintagesOfInterest = {}\n",
    "# vintagesOfInterest[pubDates[8]]= vintages[(vintages - pubDates[8])<= dt.timedelta(-9)].max()\n"
   ]
  },
  {
   "cell_type": "code",
   "execution_count": 80,
   "metadata": {
    "collapsed": false
   },
   "outputs": [],
   "source": [
    "listOfAxis = [-30, -20, -10, 0, 10, 20, 30]\n",
    "listOfAxis = range(-200,70, 10)\n",
    "listOfAxis = range(-70,70,10)\n",
    "# listOfAxis = range(-70,70,10)\n",
    "listOfAxis = range(-70,70)\n",
    "# listOfAxis = [-30]\n",
    "# listOfAxis = np.arange(-70,70,10).tolist()"
   ]
  },
  {
   "cell_type": "code",
   "execution_count": 81,
   "metadata": {
    "collapsed": false
   },
   "outputs": [
    {
     "data": {
      "text/plain": [
       "Timestamp('2001-09-30 00:00:00')"
      ]
     },
     "execution_count": 81,
     "metadata": {},
     "output_type": "execute_result"
    }
   ],
   "source": [
    "gdpDates[6]"
   ]
  },
  {
   "cell_type": "code",
   "execution_count": 82,
   "metadata": {
    "collapsed": false
   },
   "outputs": [
    {
     "data": {
      "text/plain": [
       "Timestamp('2016-12-31 00:00:00')"
      ]
     },
     "execution_count": 82,
     "metadata": {},
     "output_type": "execute_result"
    }
   ],
   "source": [
    "gdpDates[-1]"
   ]
  },
  {
   "cell_type": "code",
   "execution_count": 83,
   "metadata": {
    "collapsed": false
   },
   "outputs": [],
   "source": [
    "rmsfe = {}\n",
    "nowcasts = {}\n",
    "gdpSerie = {}\n",
    "start = 6\n",
    "# end = -13\n",
    "end = -1\n",
    "\n",
    "for sieve in listOfAxis:\n",
    "    vintagesOfInterest = {}\n",
    "    tempList = []\n",
    "    tempList2 = []\n",
    "    tempList3 = []\n",
    "    for gdpDate in gdpDates[start:end]:\n",
    "        vintagesOfInterest[gdpDate]= vintages[(vintages - gdpDate)<= dt.timedelta(sieve)].max()\n",
    "        actualGdp = gdp.groupby(level=\"refDate\").last()\n",
    "        actualGdp = actualGdp.loc[gdpDate]\n",
    "        \n",
    "        # Loaded Version\n",
    "#         forecast = listOfResults[vintagesOfInterest[gdpDate]]['prediction'][gdpTicker]\n",
    "        #Load Version\n",
    "        forecast = loadDf(vintagesOfInterest[gdpDate])['prediction'][gdpTicker]\n",
    "        \n",
    "        forecast = forecast.loc[gdpDate]\n",
    "        tempList.append((forecast-actualGdp)**2)\n",
    "        tempList2.append((forecast))\n",
    "        tempList3.append((actualGdp))\n",
    "    rmsfe[sieve] = tempList\n",
    "    nowcasts[sieve] = tempList2\n",
    "    gdpSerie[sieve] = tempList3\n",
    "\n",
    "#     rmsfe[sieve] = \n",
    "\n",
    "rmsfe = pd.DataFrame(rmsfe).T\n",
    "nowcasts = pd.DataFrame(nowcasts).T\n",
    "gdpSerie = pd.DataFrame(gdpSerie).T\n",
    "\n",
    "nowcastRmsfe = rmsfe.mean(axis=1)"
   ]
  },
  {
   "cell_type": "code",
   "execution_count": 84,
   "metadata": {
    "collapsed": false
   },
   "outputs": [
    {
     "data": {
      "text/plain": [
       "<matplotlib.axes._subplots.AxesSubplot at 0x11d7092b0>"
      ]
     },
     "execution_count": 84,
     "metadata": {},
     "output_type": "execute_result"
    },
    {
     "data": {
      "image/png": "[encoded data removed]",
      "text/plain": [
       "<matplotlib.figure.Figure at 0x11d672710>"
      ]
     },
     "metadata": {},
     "output_type": "display_data"
    }
   ],
   "source": [
    "rmsfe.mean(axis=1).plot.bar()\n",
    "# rmsfe.mean(axis=1).plot()"
   ]
  },
  {
   "cell_type": "code",
   "execution_count": 85,
   "metadata": {
    "collapsed": false
   },
   "outputs": [
    {
     "data": {
      "text/html": [
       "<div>\n",
       "<table border=\"1\" class=\"dataframe\">\n",
       "  <thead>\n",
       "    <tr style=\"text-align: right;\">\n",
       "      <th></th>\n",
       "      <th>rmsfe</th>\n",
       "      <th>nowcasts</th>\n",
       "      <th>gdpSerie</th>\n",
       "    </tr>\n",
       "    <tr>\n",
       "      <th>refDate</th>\n",
       "      <th></th>\n",
       "      <th></th>\n",
       "      <th></th>\n",
       "    </tr>\n",
       "  </thead>\n",
       "  <tbody>\n",
       "    <tr>\n",
       "      <th>2001-09-30</th>\n",
       "      <td>0.363801</td>\n",
       "      <td>-0.022200</td>\n",
       "      <td>-0.625359</td>\n",
       "    </tr>\n",
       "    <tr>\n",
       "      <th>2001-12-31</th>\n",
       "      <td>0.053773</td>\n",
       "      <td>-0.686556</td>\n",
       "      <td>-0.918447</td>\n",
       "    </tr>\n",
       "    <tr>\n",
       "      <th>2002-03-31</th>\n",
       "      <td>0.146953</td>\n",
       "      <td>-1.002783</td>\n",
       "      <td>-0.619438</td>\n",
       "    </tr>\n",
       "    <tr>\n",
       "      <th>2002-06-30</th>\n",
       "      <td>0.446153</td>\n",
       "      <td>-0.748576</td>\n",
       "      <td>-0.080630</td>\n",
       "    </tr>\n",
       "    <tr>\n",
       "      <th>2002-09-30</th>\n",
       "      <td>0.143973</td>\n",
       "      <td>0.096504</td>\n",
       "      <td>0.475942</td>\n",
       "    </tr>\n",
       "  </tbody>\n",
       "</table>\n",
       "</div>"
      ],
      "text/plain": [
       "               rmsfe  nowcasts  gdpSerie\n",
       "refDate                                 \n",
       "2001-09-30  0.363801 -0.022200 -0.625359\n",
       "2001-12-31  0.053773 -0.686556 -0.918447\n",
       "2002-03-31  0.146953 -1.002783 -0.619438\n",
       "2002-06-30  0.446153 -0.748576 -0.080630\n",
       "2002-09-30  0.143973  0.096504  0.475942"
      ]
     },
     "execution_count": 85,
     "metadata": {},
     "output_type": "execute_result"
    }
   ],
   "source": [
    "chartSieve = 30\n",
    "dat = pd.concat([rmsfe.loc[chartSieve],nowcasts.loc[chartSieve],gdpSerie.loc[chartSieve], ],axis=1)\n",
    "dat.columns = [\"rmsfe\",\"nowcasts\",\"gdpSerie\",]\n",
    "dat.set_index(gdpDates[start:end],inplace=True)\n",
    "dat.head()"
   ]
  },
  {
   "cell_type": "code",
   "execution_count": 86,
   "metadata": {
    "collapsed": false
   },
   "outputs": [
    {
     "data": {
      "text/plain": [
       "<matplotlib.axes._subplots.AxesSubplot at 0x11d2b4c18>"
      ]
     },
     "execution_count": 86,
     "metadata": {},
     "output_type": "execute_result"
    },
    {
     "data": {
      "image/png": "[encoded data removed]",
      "text/plain": [
       "<matplotlib.figure.Figure at 0x11d3d0cc0>"
      ]
     },
     "metadata": {},
     "output_type": "display_data"
    }
   ],
   "source": [
    "dat[[\"nowcasts\",\"gdpSerie\",]].plot()"
   ]
  },
  {
   "cell_type": "markdown",
   "metadata": {},
   "source": [
    "### Load BCB Expectation"
   ]
  },
  {
   "cell_type": "code",
   "execution_count": 125,
   "metadata": {
    "collapsed": true
   },
   "outputs": [],
   "source": [
    "def last_day_of_month(any_day):\n",
    "    next_month = any_day.replace(day=28) + dt.timedelta(days=4)  # this will never fail\n",
    "    return next_month - dt.timedelta(days=next_month.day)"
   ]
  },
  {
   "cell_type": "code",
   "execution_count": 126,
   "metadata": {
    "collapsed": true
   },
   "outputs": [],
   "source": [
    "bcb = pd.read_pickle(\"BCB.pickle\")"
   ]
  },
  {
   "cell_type": "code",
   "execution_count": 127,
   "metadata": {
    "collapsed": true
   },
   "outputs": [],
   "source": [
    "# bcb[\"RefDate\"] = bcb.index.get_level_values(0)\n",
    "# bcb[\"Date\"] = bcb.index.get_level_values(1)\n",
    "bcb = bcb.reset_index()"
   ]
  },
  {
   "cell_type": "code",
   "execution_count": 128,
   "metadata": {
    "collapsed": false,
    "scrolled": true
   },
   "outputs": [
    {
     "data": {
      "text/html": [
       "<div>\n",
       "<table border=\"1\" class=\"dataframe\">\n",
       "  <thead>\n",
       "    <tr style=\"text-align: right;\">\n",
       "      <th></th>\n",
       "      <th></th>\n",
       "      <th>Date</th>\n",
       "      <th>BCB_Nowcast</th>\n",
       "    </tr>\n",
       "    <tr>\n",
       "      <th>ReferenceDate</th>\n",
       "      <th>TimeDelta</th>\n",
       "      <th></th>\n",
       "      <th></th>\n",
       "    </tr>\n",
       "  </thead>\n",
       "  <tbody>\n",
       "    <tr>\n",
       "      <th rowspan=\"5\" valign=\"top\">2001-09-30</th>\n",
       "      <th>66 days</th>\n",
       "      <td>2001-11-06</td>\n",
       "      <td>0.74</td>\n",
       "    </tr>\n",
       "    <tr>\n",
       "      <th>67 days</th>\n",
       "      <td>2001-11-07</td>\n",
       "      <td>0.70</td>\n",
       "    </tr>\n",
       "    <tr>\n",
       "      <th>68 days</th>\n",
       "      <td>2001-11-08</td>\n",
       "      <td>0.67</td>\n",
       "    </tr>\n",
       "    <tr>\n",
       "      <th>69 days</th>\n",
       "      <td>2001-11-09</td>\n",
       "      <td>0.67</td>\n",
       "    </tr>\n",
       "    <tr>\n",
       "      <th>72 days</th>\n",
       "      <td>2001-11-12</td>\n",
       "      <td>0.67</td>\n",
       "    </tr>\n",
       "  </tbody>\n",
       "</table>\n",
       "</div>"
      ],
      "text/plain": [
       "                              Date  BCB_Nowcast\n",
       "ReferenceDate TimeDelta                        \n",
       "2001-09-30    66 days   2001-11-06         0.74\n",
       "              67 days   2001-11-07         0.70\n",
       "              68 days   2001-11-08         0.67\n",
       "              69 days   2001-11-09         0.67\n",
       "              72 days   2001-11-12         0.67"
      ]
     },
     "execution_count": 128,
     "metadata": {},
     "output_type": "execute_result"
    }
   ],
   "source": [
    "def subDate(row):\n",
    "    return row[\"Date\"] - row[\"ReferenceDate\"]\n",
    "\n",
    "bcb[\"TimeDelta\"] = bcb.apply(subDate, axis=1)\n",
    "bcb[\"ReferenceDate\"] = bcb[\"ReferenceDate\"].apply(last_day_of_month)\n",
    "bcb = bcb.set_index([\"ReferenceDate\",\"TimeDelta\"])\n",
    "bcb.head()  "
   ]
  },
  {
   "cell_type": "code",
   "execution_count": 129,
   "metadata": {
    "collapsed": true
   },
   "outputs": [],
   "source": [
    "bcb[\"BCB_Nowcast\"] = bcb[\"BCB_Nowcast\"] - mu.loc[gdpTicker] + 1.9\n",
    "bcb[\"BCB_Nowcast\"] = bcb[\"BCB_Nowcast\"] / sigma.loc[gdpTicker] "
   ]
  },
  {
   "cell_type": "code",
   "execution_count": 130,
   "metadata": {
    "collapsed": false
   },
   "outputs": [],
   "source": [
    "rmsfeBcb = {}\n",
    "bcbNowcast = {}\n",
    "\n",
    "for sieve in listOfAxis:\n",
    "    vintagesOfInterest = {}\n",
    "    tempList = []\n",
    "    tempList2 = []\n",
    "    for gdpDate in gdpDates[start:end]:\n",
    "        if gdpDate in list(bcb.index.get_level_values(0).unique()):\n",
    "            vintagesOfInterest[gdpDate]= vintages[(vintages - gdpDate)<= dt.timedelta(sieve)].max()\n",
    "            actualGdp = gdp.groupby(level=\"refDate\").last()\n",
    "            actualGdp = actualGdp.loc[gdpDate]\n",
    "#             print(gdpDate)\n",
    "            forecast = bcb.loc[gdpDate].loc[:dt.timedelta(sieve)]\n",
    "            if forecast.shape[0] > 0:\n",
    "                forecast = forecast.iloc[-1][\"BCB_Nowcast\"]\n",
    "            else:\n",
    "                forecast = 0\n",
    "#             forecast = forecast.loc[gdpDate]\n",
    "            tempList.append((forecast-actualGdp)**2)\n",
    "            tempList2.append((forecast))\n",
    "#             print(\"aqui\")\n",
    "#         else:\n",
    "#             print(gdpDate)\n",
    "    rmsfeBcb[sieve] = tempList\n",
    "    bcbNowcast[sieve] = tempList2\n",
    "\n",
    "#     rmsfe[sieve] = \n",
    "\n",
    "bcbNowcast = pd.DataFrame(bcbNowcast).T\n",
    "rmsfeBcb = pd.DataFrame(rmsfeBcb).T\n",
    "\n",
    "\n",
    "\n",
    "\n",
    "\n",
    "bcbRmsfe = rmsfeBcb.mean(axis=1)\n"
   ]
  },
  {
   "cell_type": "code",
   "execution_count": 131,
   "metadata": {
    "collapsed": false
   },
   "outputs": [
    {
     "data": {
      "text/plain": [
       "<matplotlib.axes._subplots.AxesSubplot at 0x123a35198>"
      ]
     },
     "execution_count": 131,
     "metadata": {},
     "output_type": "execute_result"
    },
    {
     "data": {
      "image/png": "[encoded data removed]",
      "text/plain": [
       "<matplotlib.figure.Figure at 0x11dc47518>"
      ]
     },
     "metadata": {},
     "output_type": "display_data"
    }
   ],
   "source": [
    "# rmsfeBcb[30].plot()\n",
    "bcbRmsfe.plot()"
   ]
  },
  {
   "cell_type": "code",
   "execution_count": 132,
   "metadata": {
    "collapsed": false
   },
   "outputs": [
    {
     "data": {
      "text/html": [
       "<div>\n",
       "<table border=\"1\" class=\"dataframe\">\n",
       "  <thead>\n",
       "    <tr style=\"text-align: right;\">\n",
       "      <th></th>\n",
       "      <th>rmsfe</th>\n",
       "      <th>nowcasts</th>\n",
       "      <th>gdpSerie</th>\n",
       "      <th>bcbNowcast</th>\n",
       "      <th>rmsfeBcb</th>\n",
       "    </tr>\n",
       "    <tr>\n",
       "      <th>refDate</th>\n",
       "      <th></th>\n",
       "      <th></th>\n",
       "      <th></th>\n",
       "      <th></th>\n",
       "      <th></th>\n",
       "    </tr>\n",
       "  </thead>\n",
       "  <tbody>\n",
       "    <tr>\n",
       "      <th>2001-09-30</th>\n",
       "      <td>0.363801</td>\n",
       "      <td>-0.022200</td>\n",
       "      <td>-0.625359</td>\n",
       "      <td>0.000000</td>\n",
       "      <td>0.391074</td>\n",
       "    </tr>\n",
       "    <tr>\n",
       "      <th>2001-12-31</th>\n",
       "      <td>0.053773</td>\n",
       "      <td>-0.686556</td>\n",
       "      <td>-0.918447</td>\n",
       "      <td>-0.113195</td>\n",
       "      <td>0.648431</td>\n",
       "    </tr>\n",
       "    <tr>\n",
       "      <th>2002-03-31</th>\n",
       "      <td>0.146953</td>\n",
       "      <td>-1.002783</td>\n",
       "      <td>-0.619438</td>\n",
       "      <td>-0.178326</td>\n",
       "      <td>0.194580</td>\n",
       "    </tr>\n",
       "    <tr>\n",
       "      <th>2002-06-30</th>\n",
       "      <td>0.446153</td>\n",
       "      <td>-0.748576</td>\n",
       "      <td>-0.080630</td>\n",
       "      <td>0.304233</td>\n",
       "      <td>0.148120</td>\n",
       "    </tr>\n",
       "    <tr>\n",
       "      <th>2002-09-30</th>\n",
       "      <td>0.143973</td>\n",
       "      <td>0.096504</td>\n",
       "      <td>0.475942</td>\n",
       "      <td>0.393048</td>\n",
       "      <td>0.006871</td>\n",
       "    </tr>\n",
       "  </tbody>\n",
       "</table>\n",
       "</div>"
      ],
      "text/plain": [
       "               rmsfe  nowcasts  gdpSerie  bcbNowcast  rmsfeBcb\n",
       "refDate                                                       \n",
       "2001-09-30  0.363801 -0.022200 -0.625359    0.000000  0.391074\n",
       "2001-12-31  0.053773 -0.686556 -0.918447   -0.113195  0.648431\n",
       "2002-03-31  0.146953 -1.002783 -0.619438   -0.178326  0.194580\n",
       "2002-06-30  0.446153 -0.748576 -0.080630    0.304233  0.148120\n",
       "2002-09-30  0.143973  0.096504  0.475942    0.393048  0.006871"
      ]
     },
     "execution_count": 132,
     "metadata": {},
     "output_type": "execute_result"
    }
   ],
   "source": [
    "rmsfeBcbN = pd.DataFrame(rmsfeBcb.loc[chartSieve])\n",
    "rmsfeBcbN.set_index(gdpDates[start:end],inplace=True)\n",
    "\n",
    "bcnow = pd.DataFrame(bcbNowcast.loc[chartSieve])\n",
    "bcnow.set_index(gdpDates[start:end],inplace=True)\n",
    "\n",
    "dat2 = pd.concat([dat,bcnow, rmsfeBcbN,],axis=1)\n",
    "dat2.columns = [\"rmsfe\",\"nowcasts\",\"gdpSerie\",\"bcbNowcast\",\"rmsfeBcb\",]\n",
    "\n",
    "dat2.head()"
   ]
  },
  {
   "cell_type": "code",
   "execution_count": 133,
   "metadata": {
    "collapsed": false
   },
   "outputs": [
    {
     "data": {
      "text/plain": [
       "<matplotlib.axes._subplots.AxesSubplot at 0x1225cd4e0>"
      ]
     },
     "execution_count": 133,
     "metadata": {},
     "output_type": "execute_result"
    },
    {
     "data": {
      "image/png": "[encoded data removed]",
      "text/plain": [
       "<matplotlib.figure.Figure at 0x1237a48d0>"
      ]
     },
     "metadata": {},
     "output_type": "display_data"
    }
   ],
   "source": [
    "dat2[[\"nowcasts\",\"bcbNowcast\",\"gdpSerie\",]].plot()"
   ]
  },
  {
   "cell_type": "markdown",
   "metadata": {},
   "source": [
    "# Actual vs Predicted vs BCB Chart"
   ]
  },
  {
   "cell_type": "code",
   "execution_count": 134,
   "metadata": {
    "collapsed": false
   },
   "outputs": [],
   "source": [
    "dat2[\"nowcasts\"] = dat2[\"nowcasts\"] * sigma.loc[gdpTicker]\n",
    "dat2[\"nowcasts\"] = dat2[\"nowcasts\"] + mu.loc[gdpTicker]"
   ]
  },
  {
   "cell_type": "code",
   "execution_count": 135,
   "metadata": {
    "collapsed": false
   },
   "outputs": [],
   "source": [
    "dat2[\"gdpSerie\"] = dat2[\"gdpSerie\"] * sigma.loc[gdpTicker]\n",
    "dat2[\"gdpSerie\"] = dat2[\"gdpSerie\"] + mu.loc[gdpTicker]"
   ]
  },
  {
   "cell_type": "code",
   "execution_count": 136,
   "metadata": {
    "collapsed": true
   },
   "outputs": [],
   "source": [
    "dat2[\"bcbNowcast\"] = dat2[\"bcbNowcast\"] * sigma.loc[gdpTicker]\n",
    "dat2[\"bcbNowcast\"] = dat2[\"bcbNowcast\"] + mu.loc[gdpTicker]"
   ]
  },
  {
   "cell_type": "code",
   "execution_count": 137,
   "metadata": {
    "collapsed": false
   },
   "outputs": [
    {
     "data": {
      "text/plain": [
       "<matplotlib.axes._subplots.AxesSubplot at 0x1236ad8d0>"
      ]
     },
     "execution_count": 137,
     "metadata": {},
     "output_type": "execute_result"
    },
    {
     "data": {
      "image/png": "[encoded data removed]",
      "text/plain": [
       "<matplotlib.figure.Figure at 0x124c49f60>"
      ]
     },
     "metadata": {},
     "output_type": "display_data"
    }
   ],
   "source": [
    "dat2[[\"nowcasts\",\"bcbNowcast\",\"gdpSerie\",]].plot()"
   ]
  },
  {
   "cell_type": "markdown",
   "metadata": {},
   "source": [
    "# RMSFE Actual vs Predicted vs BCB Chart"
   ]
  },
  {
   "cell_type": "code",
   "execution_count": 138,
   "metadata": {
    "collapsed": false
   },
   "outputs": [
    {
     "data": {
      "text/plain": [
       "<matplotlib.axes._subplots.AxesSubplot at 0x124957198>"
      ]
     },
     "execution_count": 138,
     "metadata": {},
     "output_type": "execute_result"
    },
    {
     "data": {
      "image/png": "[encoded data removed]",
      "text/plain": [
       "<matplotlib.figure.Figure at 0x1237a4b00>"
      ]
     },
     "metadata": {},
     "output_type": "display_data"
    }
   ],
   "source": [
    "nowcastRmsfe.plot()"
   ]
  },
  {
   "cell_type": "code",
   "execution_count": 139,
   "metadata": {
    "collapsed": false,
    "scrolled": true
   },
   "outputs": [
    {
     "data": {
      "text/plain": [
       "<matplotlib.axes._subplots.AxesSubplot at 0x1250d0f98>"
      ]
     },
     "execution_count": 139,
     "metadata": {},
     "output_type": "execute_result"
    },
    {
     "data": {
      "image/png": "[encoded data removed]",
      "text/plain": [
       "<matplotlib.figure.Figure at 0x1250e5be0>"
      ]
     },
     "metadata": {},
     "output_type": "display_data"
    }
   ],
   "source": [
    "bcbRmsfe.plot()"
   ]
  },
  {
   "cell_type": "code",
   "execution_count": 140,
   "metadata": {
    "collapsed": false
   },
   "outputs": [
    {
     "data": {
      "text/plain": [
       "[-70, -60, -50, -40, -30, -20, -10, 0, 10, 20, 30, 40, 50]"
      ]
     },
     "execution_count": 140,
     "metadata": {},
     "output_type": "execute_result"
    }
   ],
   "source": [
    "ls = list(range(-70, 60,10)) #+ [59]\n",
    "ls"
   ]
  },
  {
   "cell_type": "code",
   "execution_count": 141,
   "metadata": {
    "collapsed": false
   },
   "outputs": [
    {
     "data": {
      "text/plain": [
       "<matplotlib.axes._subplots.AxesSubplot at 0x1239c0898>"
      ]
     },
     "execution_count": 141,
     "metadata": {},
     "output_type": "execute_result"
    },
    {
     "data": {
      "image/png": "[encoded data removed]",
      "text/plain": [
       "<matplotlib.figure.Figure at 0x123ba3828>"
      ]
     },
     "metadata": {},
     "output_type": "display_data"
    },
    {
     "data": {
      "image/png": "[encoded data removed]",
      "text/plain": [
       "<matplotlib.figure.Figure at 0x12399e0f0>"
      ]
     },
     "metadata": {},
     "output_type": "display_data"
    }
   ],
   "source": [
    "pd.concat([nowcastRmsfe,bcbRmsfe,],axis=1).loc[-40:59].plot()\n",
    "# x = pd.concat([nowcastRmsfe,bcbRmsfe,],axis=1).loc[:59]\n",
    "x = pd.concat([nowcastRmsfe,bcbRmsfe,],axis=1)\n",
    "x.columns = [\"Nowcast\",\"BCB\"]\n",
    "x = x.loc[ls]\n",
    "x.iloc[-1]=0\n",
    "x.plot()\n"
   ]
  },
  {
   "cell_type": "markdown",
   "metadata": {},
   "source": [
    "# AR(1) Model\n",
    "\n",
    "For each day we'll run an AR model with the available info using the same kind of loop."
   ]
  },
  {
   "cell_type": "code",
   "execution_count": 142,
   "metadata": {
    "collapsed": false
   },
   "outputs": [],
   "source": [
    "rmsfeAr = {}\n",
    "arNowcast = {}\n",
    "\n",
    "for sieve in listOfAxis:\n",
    "    vintagesOfInterest = {}\n",
    "    tempList = []\n",
    "    tempList2 = []\n",
    "    for gdpDate in gdpDates[start:end]:\n",
    "        if gdpDate in list(bcb.index.get_level_values(0).unique()):\n",
    "            vintagesOfInterest[gdpDate]= vintages[(vintages - gdpDate)<= dt.timedelta(sieve)].max()\n",
    "            actualGdp = gdp.groupby(level=\"refDate\").last()\n",
    "            actualGdp = actualGdp.loc[gdpDate]\n",
    "#             print(gdpDate)\n",
    "            \n",
    "            cutY = yn[yn.index.get_level_values(\"pubDate\")<=vintagesOfInterest[gdpDate]].groupby(level=\"refDate\").last()[gdpTicker].dropna()\n",
    "            ar = tsa.ar_model.AR(cutY)\n",
    "            res = ar.fit(maxlag=1)\n",
    "#             pred = ar.predict(params=res.params, start=1, end=6)\n",
    "            \n",
    "            forecast = cutY.iloc[-1] * res.params[1] + res.params[0]\n",
    "            tempList.append((forecast-actualGdp)**2)\n",
    "            tempList2.append((forecast))\n",
    "#             print(\"aqui\")\n",
    "#         else:\n",
    "#             print(gdpDate)\n",
    "    rmsfeAr[sieve] = tempList\n",
    "    arNowcast[sieve] = tempList2\n",
    "\n",
    "#     rmsfe[sieve] = \n",
    "\n",
    "arNowcast = pd.DataFrame(arNowcast).T\n",
    "rmsfeAr = pd.DataFrame(rmsfeAr).T\n",
    "\n",
    "\n",
    "\n",
    "\n",
    "\n",
    "arRmsfe = rmsfeAr.mean(axis=1)"
   ]
  },
  {
   "cell_type": "code",
   "execution_count": 143,
   "metadata": {
    "collapsed": false
   },
   "outputs": [
    {
     "data": {
      "text/plain": [
       "<matplotlib.axes._subplots.AxesSubplot at 0x124e4c8d0>"
      ]
     },
     "execution_count": 143,
     "metadata": {},
     "output_type": "execute_result"
    },
    {
     "data": {
      "image/png": "[encoded data removed]",
      "text/plain": [
       "<matplotlib.figure.Figure at 0x123bb8080>"
      ]
     },
     "metadata": {},
     "output_type": "display_data"
    }
   ],
   "source": [
    "arRmsfe.plot()"
   ]
  },
  {
   "cell_type": "code",
   "execution_count": 144,
   "metadata": {
    "collapsed": false
   },
   "outputs": [
    {
     "data": {
      "text/plain": [
       "<matplotlib.axes._subplots.AxesSubplot at 0x124e42898>"
      ]
     },
     "execution_count": 144,
     "metadata": {},
     "output_type": "execute_result"
    },
    {
     "data": {
      "image/png": "[encoded data removed]",
      "text/plain": [
       "<matplotlib.figure.Figure at 0x12399ec50>"
      ]
     },
     "metadata": {},
     "output_type": "display_data"
    }
   ],
   "source": [
    "pd.concat([nowcastRmsfe,arRmsfe,],axis=1).plot()"
   ]
  },
  {
   "cell_type": "code",
   "execution_count": 145,
   "metadata": {
    "collapsed": false
   },
   "outputs": [
    {
     "data": {
      "text/plain": [
       "<matplotlib.axes._subplots.AxesSubplot at 0x124f280f0>"
      ]
     },
     "execution_count": 145,
     "metadata": {},
     "output_type": "execute_result"
    },
    {
     "data": {
      "image/png": "[encoded data removed]",
      "text/plain": [
       "<matplotlib.figure.Figure at 0x124f39208>"
      ]
     },
     "metadata": {},
     "output_type": "display_data"
    }
   ],
   "source": [
    "arn = arNowcast.loc[chartSieve]\n",
    "\n",
    "arn.index = dat2.index\n",
    "pd.concat([dat2[[\"nowcasts\",\"gdpSerie\"]] ,arn],axis=1).plot()"
   ]
  },
  {
   "cell_type": "markdown",
   "metadata": {},
   "source": [
    "# Diebold Mariano Test\n",
    "\n"
   ]
  },
  {
   "cell_type": "code",
   "execution_count": 146,
   "metadata": {
    "collapsed": true
   },
   "outputs": [],
   "source": [
    "def ifunc(k,h):\n",
    "    res = np.abs(k/(h-1))\n",
    "    if res <=1:\n",
    "        return 1\n",
    "    else:\n",
    "        return 0 \n",
    "    \n",
    "def gamma(k,dif,T):\n",
    "    res = 0\n",
    "    for t in range(np.abs(k)+1,T):\n",
    "        res += (dif[t] - dif.mean()) * (dif[t-np.abs(k)] - dif.mean())\n",
    "    \n",
    "    return res * 1/T\n",
    "    \n",
    "\n",
    "def fhat(h,dif):\n",
    "    T = dif.shape[0]\n",
    "    res = 0\n",
    "    for k in range(-(T-1),T):\n",
    "        res += gamma(k,dif,T) * ifunc(k,h)\n",
    "        \n",
    "    return 1/(2*np.pi) * res"
   ]
  },
  {
   "cell_type": "code",
   "execution_count": 147,
   "metadata": {
    "collapsed": true
   },
   "outputs": [],
   "source": [
    "def DMtest(series1,series2,trueSeries,steps=2):\n",
    "    difNowcast = (series1 - trueSeries) ** 2\n",
    "    difBcb = (series2 - trueSeries) ** 2 \n",
    "\n",
    "    dbarra = difNowcast - difBcb\n",
    "    f = fhat(steps,dbarra)\n",
    "    dmEstat = dbarra.mean() / (np.sqrt(2*np.pi*f / difBcb.shape[0]))\n",
    "    p_value = sp.stats.norm.sf(abs(dmEstat))*2\n",
    "    return {'dm' : dmEstat, 'p-value' : p_value}"
   ]
  },
  {
   "cell_type": "code",
   "execution_count": 148,
   "metadata": {
    "collapsed": true
   },
   "outputs": [],
   "source": [
    "def cutDat(chartSieve,rmsfe, nowcasts, gdpSerie, gdpDates, start, end,rmsfeBcb,bcnow):\n",
    "\n",
    "    dat = pd.concat([rmsfe.loc[chartSieve],nowcasts.loc[chartSieve],gdpSerie.loc[chartSieve], ],axis=1)\n",
    "    dat.columns = [\"rmsfe\",\"nowcasts\",\"gdpSerie\",]\n",
    "    dat.set_index(gdpDates[start:end],inplace=True)\n",
    "\n",
    "\n",
    "    rmsfeBcb = pd.DataFrame(rmsfeBcb.loc[chartSieve])\n",
    "    rmsfeBcb.set_index(gdpDates[start:end],inplace=True)\n",
    "\n",
    "    bcnow = pd.DataFrame(bcbNowcast.loc[chartSieve])\n",
    "    bcnow.set_index(gdpDates[start:end],inplace=True)\n",
    "\n",
    "    dat2 = pd.concat([dat,bcnow, rmsfeBcb,],axis=1)\n",
    "    dat2.columns = [\"rmsfe\",\"nowcasts\",\"gdpSerie\",\"bcbNowcast\",\"rmsfeBcb\",]\n",
    "    \n",
    "    dat2[\"nowcasts\"] = dat2[\"nowcasts\"] * sigma.loc[gdpTicker]\n",
    "    dat2[\"nowcasts\"] = dat2[\"nowcasts\"] + mu.loc[gdpTicker]\n",
    "    dat2[\"gdpSerie\"] = dat2[\"gdpSerie\"] * sigma.loc[gdpTicker]\n",
    "    dat2[\"gdpSerie\"] = dat2[\"gdpSerie\"] + mu.loc[gdpTicker]\n",
    "    dat2[\"bcbNowcast\"] = dat2[\"bcbNowcast\"] * sigma.loc[gdpTicker]\n",
    "    dat2[\"bcbNowcast\"] = dat2[\"bcbNowcast\"] + mu.loc[gdpTicker]\n",
    "    return dat2\n"
   ]
  },
  {
   "cell_type": "markdown",
   "metadata": {},
   "source": [
    "## DM - Nowcast vs BCB"
   ]
  },
  {
   "cell_type": "code",
   "execution_count": 149,
   "metadata": {
    "collapsed": false
   },
   "outputs": [
    {
     "data": {
      "text/plain": [
       "{'dm': 2.3545249077791368, 'p-value': 0.018546400707617827}"
      ]
     },
     "execution_count": 149,
     "metadata": {},
     "output_type": "execute_result"
    }
   ],
   "source": [
    "newDat = cutDat(-60,rmsfe, nowcasts, gdpSerie, gdpDates, start, end,rmsfeBcb,bcnow)\n",
    "DMtest(newDat[\"nowcasts\"], newDat[\"bcbNowcast\"], newDat[\"gdpSerie\"],3)"
   ]
  },
  {
   "cell_type": "code",
   "execution_count": 150,
   "metadata": {
    "collapsed": false
   },
   "outputs": [
    {
     "data": {
      "text/plain": [
       "{'dm': 1.2340701463837778, 'p-value': 0.21717676672848629}"
      ]
     },
     "execution_count": 150,
     "metadata": {},
     "output_type": "execute_result"
    }
   ],
   "source": [
    "newDat = cutDat(-30,rmsfe, nowcasts, gdpSerie, gdpDates, start, end,rmsfeBcb,bcnow)\n",
    "DMtest(newDat[\"nowcasts\"],newDat[\"bcbNowcast\"],newDat[\"gdpSerie\"],2)"
   ]
  },
  {
   "cell_type": "code",
   "execution_count": 151,
   "metadata": {
    "collapsed": false
   },
   "outputs": [
    {
     "data": {
      "text/plain": [
       "{'dm': 1.4494615308237053, 'p-value': 0.14720873597207698}"
      ]
     },
     "execution_count": 151,
     "metadata": {},
     "output_type": "execute_result"
    }
   ],
   "source": [
    "newDat = cutDat(0,rmsfe, nowcasts, gdpSerie, gdpDates, start, end,rmsfeBcb,bcnow)\n",
    "DMtest(newDat[\"nowcasts\"],newDat[\"bcbNowcast\"],newDat[\"gdpSerie\"],2)"
   ]
  },
  {
   "cell_type": "code",
   "execution_count": 152,
   "metadata": {
    "collapsed": false
   },
   "outputs": [
    {
     "data": {
      "text/plain": [
       "{'dm': 1.6600773387363559, 'p-value': 0.096898895086875214}"
      ]
     },
     "execution_count": 152,
     "metadata": {},
     "output_type": "execute_result"
    }
   ],
   "source": [
    "newDat = cutDat(30,rmsfe, nowcasts, gdpSerie, gdpDates, start, end,rmsfeBcb,bcnow)\n",
    "DMtest(newDat[\"nowcasts\"],newDat[\"bcbNowcast\"],newDat[\"gdpSerie\"],3)"
   ]
  },
  {
   "cell_type": "code",
   "execution_count": 153,
   "metadata": {
    "collapsed": false
   },
   "outputs": [
    {
     "data": {
      "text/plain": [
       "{'dm': 1.848282033076333, 'p-value': 0.064561553509343714}"
      ]
     },
     "execution_count": 153,
     "metadata": {},
     "output_type": "execute_result"
    }
   ],
   "source": [
    "newDat = cutDat(59,rmsfe, nowcasts, gdpSerie, gdpDates, start, end,rmsfeBcb,bcnow)\n",
    "DMtest(newDat[\"nowcasts\"],newDat[\"bcbNowcast\"],newDat[\"gdpSerie\"],3)"
   ]
  },
  {
   "cell_type": "markdown",
   "metadata": {},
   "source": [
    "## Nowcast vs ar"
   ]
  },
  {
   "cell_type": "code",
   "execution_count": 154,
   "metadata": {
    "collapsed": false
   },
   "outputs": [
    {
     "data": {
      "text/plain": [
       "{'dm': -0.28790064715091118, 'p-value': 0.77342279152510651}"
      ]
     },
     "execution_count": 154,
     "metadata": {},
     "output_type": "execute_result"
    }
   ],
   "source": [
    "newDat = cutDat(-60,rmsfe, nowcasts, gdpSerie, gdpDates, start, end,rmsfeBcb,bcnow)\n",
    "DMtest(newDat[\"nowcasts\"],arn,newDat[\"gdpSerie\"],3)"
   ]
  },
  {
   "cell_type": "code",
   "execution_count": 155,
   "metadata": {
    "collapsed": false
   },
   "outputs": [
    {
     "data": {
      "text/plain": [
       "{'dm': -1.6873301186742815, 'p-value': 0.091539892712281634}"
      ]
     },
     "execution_count": 155,
     "metadata": {},
     "output_type": "execute_result"
    }
   ],
   "source": [
    "newDat = cutDat(-30,rmsfe, nowcasts, gdpSerie, gdpDates, start, end,rmsfeBcb,bcnow)\n",
    "DMtest(newDat[\"nowcasts\"],arn,newDat[\"gdpSerie\"],2)"
   ]
  },
  {
   "cell_type": "code",
   "execution_count": 156,
   "metadata": {
    "collapsed": false
   },
   "outputs": [
    {
     "data": {
      "text/plain": [
       "{'dm': -1.8210236125638424, 'p-value': 0.068603267608139409}"
      ]
     },
     "execution_count": 156,
     "metadata": {},
     "output_type": "execute_result"
    }
   ],
   "source": [
    "newDat = cutDat(0,rmsfe, nowcasts, gdpSerie, gdpDates, start, end,rmsfeBcb,bcnow)\n",
    "DMtest(newDat[\"nowcasts\"],arn,newDat[\"gdpSerie\"],2)"
   ]
  },
  {
   "cell_type": "code",
   "execution_count": 157,
   "metadata": {
    "collapsed": false
   },
   "outputs": [
    {
     "data": {
      "text/plain": [
       "{'dm': -1.6761591027884086, 'p-value': 0.093707032531273021}"
      ]
     },
     "execution_count": 157,
     "metadata": {},
     "output_type": "execute_result"
    }
   ],
   "source": [
    "newDat = cutDat(30,rmsfe, nowcasts, gdpSerie, gdpDates, start, end,rmsfeBcb,bcnow)\n",
    "DMtest(newDat[\"nowcasts\"],arn,newDat[\"gdpSerie\"],3)"
   ]
  },
  {
   "cell_type": "code",
   "execution_count": 158,
   "metadata": {
    "collapsed": false
   },
   "outputs": [
    {
     "data": {
      "text/plain": [
       "{'dm': -1.68407769064065, 'p-value': 0.092166655233993006}"
      ]
     },
     "execution_count": 158,
     "metadata": {},
     "output_type": "execute_result"
    }
   ],
   "source": [
    "newDat = cutDat(59,rmsfe, nowcasts, gdpSerie, gdpDates, start, end,rmsfeBcb,bcnow)\n",
    "DMtest(newDat[\"nowcasts\"],arn,newDat[\"gdpSerie\"],3)"
   ]
  },
  {
   "cell_type": "markdown",
   "metadata": {
    "collapsed": true
   },
   "source": [
    "# Monotonicity Tests\n",
    "\n",
    "Uses MatLab code"
   ]
  },
  {
   "cell_type": "code",
   "execution_count": 159,
   "metadata": {
    "collapsed": false
   },
   "outputs": [],
   "source": [
    "# Export actuals\n",
    "# actuals, a Tx1 vector of realizations for the target variable\n",
    "dat2[\"gdpSerie\"].to_csv('./Monotonicity/actuals.csv',index=False)"
   ]
  },
  {
   "cell_type": "code",
   "execution_count": 160,
   "metadata": {
    "collapsed": false
   },
   "outputs": [],
   "source": [
    "# Export forecasts\n",
    "# forecasts, a TxH matrix of forecasts, with shortest forecast horizon in first column and longest forecast horizon in last column\n",
    "nowcasts.T[[-60,-30,0,30]].to_csv('./Monotonicity/forecasts.csv',header = False,index=False)"
   ]
  },
  {
   "cell_type": "code",
   "execution_count": 161,
   "metadata": {
    "collapsed": true
   },
   "outputs": [],
   "source": [
    "# OUTPUTS:  out1, a 13x1 vector of p-values for the various tests:\n",
    "# %                       BOUNDS TESTS USING DATA ON ACTUAL\n",
    "# %                           1)  INC MSE test\n",
    "# %                           2)  DEC COV test (covariance between actual and forecast)\n",
    "# %                           3)  Covariance bound test 1: V[ nu[t|1,h] ] <= 2*Cov[ Y[t], nu[t|1,h] ] for all h>=2\n",
    "# %\n",
    "# %                       BOUNDS TESTS USING DATA ONLY ON FORECASTS\n",
    "# %                           4)  DEC MSF test (mean-squared forecast)\n",
    "# %                           5)  INC MSFR test (mean-squared forecast revision)\n",
    "# %                           6)  DEC COV test, using shortest-horizon forecast as proxy for actual\n",
    "# %                           7)  Covariance bound test 1: V[ nu[t|1,h] ] <= 2*Cov[ Yhat[t|t-1], nu[t|1,h] ] for all h>=3, using shortest-horizon forecast as proxy for actual\n",
    "# %\n",
    "# %                       REGRESSION BASED TESTS\n",
    "# %                           8)  Univar MZ on shortest horizon\n",
    "# %                           9)  Univar opt revision regression\n",
    "# %                           10) Univar opt revision regression, with h=1 forecast as proxy\n",
    "# %\n",
    "# %                       BONFERRONI COMBINATIONS OF ABOVE TESTS\n",
    "# %                           11) Bonf using actuals, tests 1, 2, 3, 8, 9\n",
    "# %                           12) Bonf using forecasts, tests 4, 5, 6, 7, 10\n",
    "# %                           13) Bonf across all tests, tests 1-10"
   ]
  },
  {
   "cell_type": "code",
   "execution_count": 162,
   "metadata": {
    "collapsed": false
   },
   "outputs": [
    {
     "data": {
      "text/html": [
       "<div>\n",
       "<table border=\"1\" class=\"dataframe\">\n",
       "  <thead>\n",
       "    <tr style=\"text-align: right;\">\n",
       "      <th></th>\n",
       "      <th>0</th>\n",
       "    </tr>\n",
       "  </thead>\n",
       "  <tbody>\n",
       "    <tr>\n",
       "      <th>4</th>\n",
       "      <td>0.16447</td>\n",
       "    </tr>\n",
       "    <tr>\n",
       "      <th>5</th>\n",
       "      <td>0.43088</td>\n",
       "    </tr>\n",
       "    <tr>\n",
       "      <th>6</th>\n",
       "      <td>0.60756</td>\n",
       "    </tr>\n",
       "  </tbody>\n",
       "</table>\n",
       "</div>"
      ],
      "text/plain": [
       "         0\n",
       "4  0.16447\n",
       "5  0.43088\n",
       "6  0.60756"
      ]
     },
     "execution_count": 162,
     "metadata": {},
     "output_type": "execute_result"
    }
   ],
   "source": [
    "pd.read_csv('./Monotonicity/out.csv',header=None).iloc[[4,5,6]]"
   ]
  },
  {
   "cell_type": "code",
   "execution_count": null,
   "metadata": {
    "collapsed": true
   },
   "outputs": [],
   "source": []
  }
 ],
 "metadata": {
  "anaconda-cloud": {},
  "kernelspec": {
   "display_name": "Python [Root]",
   "language": "python",
   "name": "Python [Root]"
  },
  "language_info": {
   "codemirror_mode": {
    "name": "ipython",
    "version": 3
   },
   "file_extension": ".py",
   "mimetype": "text/x-python",
   "name": "python",
   "nbconvert_exporter": "python",
   "pygments_lexer": "ipython3",
   "version": "3.5.2"
  }
 },
 "nbformat": 4,
 "nbformat_minor": 0
}
