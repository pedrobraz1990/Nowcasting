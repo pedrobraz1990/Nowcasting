{
 "cells": [
  {
   "cell_type": "code",
   "execution_count": 1,
   "metadata": {
    "collapsed": true
   },
   "outputs": [],
   "source": [
    "%matplotlib inline\n",
    "\n",
    "import datetime as dt\n",
    "import numpy as np\n",
    "import pandas as pd\n",
    "from sklearn.decomposition import PCA\n",
    "import statsmodels.api as sm\n",
    "from pykalman import KalmanFilter\n",
    "import numpy.ma as ma\n",
    "import scipy.linalg as linalg\n",
    "import statsmodels.api as sm\n",
    "import os.path\n",
    "import pickle"
   ]
  },
  {
   "cell_type": "code",
   "execution_count": 6,
   "metadata": {
    "collapsed": true
   },
   "outputs": [],
   "source": [
    "def cutString(s):\n",
    "    return s[-8:]\n",
    "\n",
    "def replaceStr(a):\n",
    "    a = a.replace(\"abr\",\"apr\")\n",
    "    a = a.replace(\"set\",\"sep\")\n",
    "    a = a.replace(\"dez\",\"dec\")    \n",
    "    return a\n",
    "    \n",
    "    "
   ]
  },
  {
   "cell_type": "code",
   "execution_count": 50,
   "metadata": {
    "collapsed": false
   },
   "outputs": [],
   "source": [
    "def readFile(filename):\n",
    "    df = pd.read_excel(filename,skiprows=1)\n",
    "    df  = df.iloc[:-3]\n",
    "    df[\"Data\"] = pd.to_datetime(df[\"Data\"],dayfirst=True)\n",
    "    df.set_index(\"Data\",inplace=True)\n",
    "    df.columns = pd.to_datetime(pd.Series(df.columns).apply(cutString).apply(replaceStr))\n",
    "    df = pd.DataFrame(df.unstack())\n",
    "    df = df.replace(' ', np.nan).dropna()\n",
    "    df.columns = [\"BCB_Nowcast\"]\n",
    "    return df"
   ]
  },
  {
   "cell_type": "code",
   "execution_count": 53,
   "metadata": {
    "collapsed": false
   },
   "outputs": [],
   "source": [
    "df1 = readFile(\"BCB\\BCB-Expect1.xls\")\n",
    "df2 = readFile(\"BCB\\BCB-Expect2.xls\")"
   ]
  },
  {
   "cell_type": "code",
   "execution_count": 71,
   "metadata": {
    "collapsed": false
   },
   "outputs": [],
   "source": [
    "data = pd.DataFrame()\n",
    "for i in range(7):\n",
    "    df = readFile(\"BCB\\BCB-Expect{n!s}.xls\".format(n=i+1))\n",
    "    data = pd.concat([data ,df])\n",
    "\n",
    "data.index.name = [\"ReferenceDate\",\"Date\"]"
   ]
  },
  {
   "cell_type": "code",
   "execution_count": 73,
   "metadata": {
    "collapsed": false
   },
   "outputs": [],
   "source": [
    "data.to_pickle(\"BCB.pickle\")"
   ]
  }
 ],
 "metadata": {
  "anaconda-cloud": {},
  "kernelspec": {
   "display_name": "Python [Root]",
   "language": "python",
   "name": "Python [Root]"
  },
  "language_info": {
   "codemirror_mode": {
    "name": "ipython",
    "version": 3
   },
   "file_extension": ".py",
   "mimetype": "text/x-python",
   "name": "python",
   "nbconvert_exporter": "python",
   "pygments_lexer": "ipython3",
   "version": "3.5.2"
  }
 },
 "nbformat": 4,
 "nbformat_minor": 0
}
