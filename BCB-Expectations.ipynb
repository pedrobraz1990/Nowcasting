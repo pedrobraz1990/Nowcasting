{
 "cells": [
  {
   "cell_type": "code",
   "execution_count": 1,
   "metadata": {
    "collapsed": true
   },
   "outputs": [],
   "source": [
    "%matplotlib inline\n",
    "\n",
    "import datetime as dt\n",
    "import numpy as np\n",
    "import pandas as pd\n",
    "from sklearn.decomposition import PCA\n",
    "import statsmodels.api as sm\n",
    "from pykalman import KalmanFilter\n",
    "import numpy.ma as ma\n",
    "import scipy.linalg as linalg\n",
    "import statsmodels.api as sm\n",
    "import os.path\n",
    "import pickle"
   ]
  },
  {
   "cell_type": "code",
   "execution_count": 2,
   "metadata": {
    "collapsed": true
   },
   "outputs": [],
   "source": [
    "def cutString(s):\n",
    "    return s[-8:]\n",
    "\n",
    "def replaceStr(a):\n",
    "    a = a.replace(\"abr\",\"apr\")\n",
    "    a = a.replace(\"set\",\"sep\")\n",
    "    a = a.replace(\"dez\",\"dec\")    \n",
    "    return a\n",
    "    \n",
    "    "
   ]
  },
  {
   "cell_type": "code",
   "execution_count": 3,
   "metadata": {
    "collapsed": false
   },
   "outputs": [],
   "source": [
    "def readFile(filename):\n",
    "    df = pd.read_excel(filename,skiprows=1)\n",
    "    df  = df.iloc[:-3]\n",
    "    df[\"Data\"] = pd.to_datetime(df[\"Data\"],dayfirst=True)\n",
    "    df.set_index(\"Data\",inplace=True)\n",
    "    df.columns = pd.to_datetime(pd.Series(df.columns).apply(cutString).apply(replaceStr))\n",
    "    df = pd.DataFrame(df.unstack())\n",
    "    df = df.replace(' ', np.nan).dropna()\n",
    "    df.columns = [\"BCB_Nowcast\"]\n",
    "    return df"
   ]
  },
  {
   "cell_type": "code",
   "execution_count": 5,
   "metadata": {
    "collapsed": false
   },
   "outputs": [],
   "source": [
    "data = pd.DataFrame()\n",
    "for i in range(7):\n",
    "    df = readFile(\"BCB/BCB-Expect{n!s}.xls\".format(n=i+1))\n",
    "    data = pd.concat([data ,df])\n",
    "\n",
    "\n",
    "data.index = data.index.rename([\"ReferenceDate\",\"Date\"])"
   ]
  },
  {
   "cell_type": "code",
   "execution_count": 6,
   "metadata": {
    "collapsed": false
   },
   "outputs": [
    {
     "data": {
      "text/html": [
       "<div>\n",
       "<table border=\"1\" class=\"dataframe\">\n",
       "  <thead>\n",
       "    <tr style=\"text-align: right;\">\n",
       "      <th></th>\n",
       "      <th></th>\n",
       "      <th>BCB_Nowcast</th>\n",
       "    </tr>\n",
       "    <tr>\n",
       "      <th>ReferenceDate</th>\n",
       "      <th>Date</th>\n",
       "      <th></th>\n",
       "    </tr>\n",
       "  </thead>\n",
       "  <tbody>\n",
       "    <tr>\n",
       "      <th rowspan=\"5\" valign=\"top\">2001-09-01</th>\n",
       "      <th>2001-11-06</th>\n",
       "      <td>0.74</td>\n",
       "    </tr>\n",
       "    <tr>\n",
       "      <th>2001-11-07</th>\n",
       "      <td>0.70</td>\n",
       "    </tr>\n",
       "    <tr>\n",
       "      <th>2001-11-08</th>\n",
       "      <td>0.67</td>\n",
       "    </tr>\n",
       "    <tr>\n",
       "      <th>2001-11-09</th>\n",
       "      <td>0.67</td>\n",
       "    </tr>\n",
       "    <tr>\n",
       "      <th>2001-11-12</th>\n",
       "      <td>0.67</td>\n",
       "    </tr>\n",
       "  </tbody>\n",
       "</table>\n",
       "</div>"
      ],
      "text/plain": [
       "                          BCB_Nowcast\n",
       "ReferenceDate Date                   \n",
       "2001-09-01    2001-11-06         0.74\n",
       "              2001-11-07         0.70\n",
       "              2001-11-08         0.67\n",
       "              2001-11-09         0.67\n",
       "              2001-11-12         0.67"
      ]
     },
     "execution_count": 6,
     "metadata": {},
     "output_type": "execute_result"
    }
   ],
   "source": [
    "data.head()"
   ]
  },
  {
   "cell_type": "code",
   "execution_count": 16,
   "metadata": {
    "collapsed": false
   },
   "outputs": [],
   "source": [
    "data.to_pickle(\"BCB.pickle\")"
   ]
  },
  {
   "cell_type": "code",
   "execution_count": null,
   "metadata": {
    "collapsed": true
   },
   "outputs": [],
   "source": []
  },
  {
   "cell_type": "code",
   "execution_count": null,
   "metadata": {
    "collapsed": true
   },
   "outputs": [],
   "source": []
  },
  {
   "cell_type": "code",
   "execution_count": null,
   "metadata": {
    "collapsed": true
   },
   "outputs": [],
   "source": []
  },
  {
   "cell_type": "code",
   "execution_count": null,
   "metadata": {
    "collapsed": true
   },
   "outputs": [],
   "source": []
  }
 ],
 "metadata": {
  "anaconda-cloud": {},
  "kernelspec": {
   "display_name": "Python 3",
   "language": "python",
   "name": "python3"
  },
  "language_info": {
   "codemirror_mode": {
    "name": "ipython",
    "version": 3
   },
   "file_extension": ".py",
   "mimetype": "text/x-python",
   "name": "python",
   "nbconvert_exporter": "python",
   "pygments_lexer": "ipython3",
   "version": "3.6.0"
  }
 },
 "nbformat": 4,
 "nbformat_minor": 0
}
