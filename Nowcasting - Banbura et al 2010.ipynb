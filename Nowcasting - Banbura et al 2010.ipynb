{
 "cells": [
  {
   "cell_type": "code",
   "execution_count": 38,
   "metadata": {
    "collapsed": false
   },
   "outputs": [
    {
     "name": "stdout",
     "output_type": "stream",
     "text": [
      "The rpy2.ipython extension is already loaded. To reload it, use:\n",
      "  %reload_ext rpy2.ipython\n"
     ]
    }
   ],
   "source": [
    "%matplotlib inline\n",
    "%load_ext rpy2.ipython\n",
    "\n",
    "\n",
    "import datetime as dt\n",
    "import numpy as np\n",
    "import pandas as pd\n",
    "from sklearn.decomposition import PCA\n",
    "import statsmodels.api as sm\n",
    "from pykalman import KalmanFilter\n",
    "import numpy.ma as ma\n",
    "\n",
    "pd.set_option('max_rows', 10)\n",
    "# pd.set_option('max_rows', 1000)"
   ]
  },
  {
   "cell_type": "code",
   "execution_count": 39,
   "metadata": {
    "collapsed": true
   },
   "outputs": [],
   "source": [
    "%%R\n",
    "\n",
    "library(MARSS)"
   ]
  },
  {
   "cell_type": "markdown",
   "metadata": {},
   "source": [
    "# Data\n",
    "\n",
    "## Regressors"
   ]
  },
  {
   "cell_type": "code",
   "execution_count": 40,
   "metadata": {
    "collapsed": false
   },
   "outputs": [],
   "source": [
    "monthlyData = pd.read_excel('monthlyData.xlsx',None,dayFirst=True)\n",
    "\n",
    "monthlyData = list(monthlyData.values())\n",
    "\n",
    "dat=pd.DataFrame()\n",
    "\n",
    "# del monthlyData[6]\n",
    "\n",
    "\n",
    "for df in monthlyData:\n",
    "    df.set_index(\"Date\", inplace=True)\n",
    "#     df.drop_duplicates(inplace=True)"
   ]
  },
  {
   "cell_type": "code",
   "execution_count": 41,
   "metadata": {
    "collapsed": false
   },
   "outputs": [],
   "source": [
    "monthlyData = pd.concat(monthlyData,axis=1)\n",
    "monthlyData.sort_index(inplace=True)"
   ]
  },
  {
   "cell_type": "markdown",
   "metadata": {},
   "source": [
    "### Transformations\n"
   ]
  },
  {
   "cell_type": "code",
   "execution_count": 5,
   "metadata": {
    "collapsed": false
   },
   "outputs": [
    {
     "data": {
      "text/plain": [
       "Index(['RetailFoodSales', 'ProducerPriceIndex', 'JoblessClaims',\n",
       "       'ConsumerPriceIndex', 'DisposableIncome', 'GeneralBusinessConditions',\n",
       "       'ConsumerConfidence', 'NewResidentialSales', 'Imports', 'Exports',\n",
       "       'UnemploymentRate', 'IndustrialProductionIndex', 'EmploymentRate'],\n",
       "      dtype='object')"
      ]
     },
     "execution_count": 5,
     "metadata": {},
     "output_type": "execute_result"
    }
   ],
   "source": [
    "monthlyData.columns"
   ]
  },
  {
   "cell_type": "code",
   "execution_count": 36,
   "metadata": {
    "collapsed": false
   },
   "outputs": [],
   "source": [
    "monthlyData[\"IndustrialProductionIndex\"] = np.log(monthlyData[\"IndustrialProductionIndex\"]) - np.log(monthlyData[\"IndustrialProductionIndex\"].shift(1))\n",
    "monthlyData[\"ConsumerConfidence\"] = np.log(monthlyData[\"ConsumerConfidence\"]) - np.log(monthlyData[\"ConsumerConfidence\"].shift(1))\n",
    "monthlyData[\"Imports\"] = np.log(monthlyData[\"Imports\"]) - np.log(monthlyData[\"Imports\"].shift(1))\n",
    "monthlyData[\"Exports\"] = np.log(monthlyData[\"Exports\"]) - np.log(monthlyData[\"Exports\"].shift(1))\n",
    "monthlyData[\"ProducerPriceIndex\"] = np.log(monthlyData[\"ProducerPriceIndex\"]) - np.log(monthlyData[\"ProducerPriceIndex\"].shift(1))\n",
    "monthlyData[\"JoblessClaims\"] = np.log(monthlyData[\"JoblessClaims\"]) - np.log(monthlyData[\"JoblessClaims\"].shift(1))\n",
    "monthlyData[\"RetailFoodSales\"] = np.log(monthlyData[\"RetailFoodSales\"]) - np.log(monthlyData[\"RetailFoodSales\"].shift(1))\n",
    "monthlyData[\"NewResidentialSales\"] = np.log(monthlyData[\"NewResidentialSales\"]) - np.log(monthlyData[\"NewResidentialSales\"].shift(1))\n",
    "monthlyData[\"UnemploymentRate\"] = monthlyData[\"UnemploymentRate\"] - monthlyData[\"UnemploymentRate\"].shift(1)\n",
    "monthlyData[\"EmploymentRate\"] = monthlyData[\"EmploymentRate\"] - monthlyData[\"EmploymentRate\"].shift(1)\n",
    "monthlyData[\"DisposableIncome\"] = np.log(monthlyData[\"DisposableIncome\"]) - np.log(monthlyData[\"DisposableIncome\"].shift(1))\n",
    "monthlyData[\"GeneralBusinessConditions\"] = np.log(monthlyData[\"GeneralBusinessConditions\"]) - np.log(monthlyData[\"GeneralBusinessConditions\"].shift(1))\n",
    "monthlyData[\"ConsumerPriceIndex\"] = monthlyData[\"ConsumerPriceIndex\"]\n",
    "\n",
    "# monthlyData[\"ConsumerPriceIndex\"].loc[dt.datetime(2009,1,1):].plot()"
   ]
  },
  {
   "cell_type": "code",
   "execution_count": 35,
   "metadata": {
    "collapsed": false
   },
   "outputs": [
    {
     "data": {
      "text/plain": [
       "<matplotlib.axes._subplots.AxesSubplot at 0x1f26d519320>"
      ]
     },
     "execution_count": 35,
     "metadata": {},
     "output_type": "execute_result"
    },
    {
     "data": {
      "image/png": "[encoded data removed]",
      "text/plain": [
       "<matplotlib.figure.Figure at 0x1f26e223b00>"
      ]
     },
     "metadata": {},
     "output_type": "display_data"
    }
   ],
   "source": [
    "monthlyData[\"RetailFoodSales\"].plot()"
   ]
  },
  {
   "cell_type": "code",
   "execution_count": 37,
   "metadata": {
    "collapsed": false
   },
   "outputs": [
    {
     "data": {
      "text/plain": [
       "<matplotlib.axes._subplots.AxesSubplot at 0x1f274a17ac8>"
      ]
     },
     "execution_count": 37,
     "metadata": {},
     "output_type": "execute_result"
    },
    {
     "data": {
      "image/png": "[encoded data removed]",
      "text/plain": [
       "<matplotlib.figure.Figure at 0x1f274a32048>"
      ]
     },
     "metadata": {},
     "output_type": "display_data"
    }
   ],
   "source": [
    "monthlyData[\"RetailFoodSales\"].plot()"
   ]
  },
  {
   "cell_type": "code",
   "execution_count": 48,
   "metadata": {
    "collapsed": false
   },
   "outputs": [
    {
     "data": {
      "text/plain": [
       "Date\n",
       "2000-01-31     NaN\n",
       "2000-02-29     NaN\n",
       "2000-03-31     NaN\n",
       "2000-04-30     NaN\n",
       "2000-05-31     NaN\n",
       "              ... \n",
       "2016-06-30    88.7\n",
       "2016-07-31     NaN\n",
       "2016-08-31     NaN\n",
       "2016-09-30     NaN\n",
       "2016-10-31     NaN\n",
       "Freq: M, Name: RetailFoodSales, dtype: float64"
      ]
     },
     "execution_count": 48,
     "metadata": {},
     "output_type": "execute_result"
    }
   ],
   "source": [
    "x"
   ]
  },
  {
   "cell_type": "markdown",
   "metadata": {},
   "source": [
    "### Stationarity"
   ]
  },
  {
   "cell_type": "code",
   "execution_count": 7,
   "metadata": {
    "collapsed": false
   },
   "outputs": [
    {
     "name": "stdout",
     "output_type": "stream",
     "text": [
      "RetailFoodSales 's p-value is: 0.627133470279\n",
      "JoblessClaims 's p-value is: 0.24770534847\n",
      "NewResidentialSales 's p-value is: 0.988370553646\n",
      "EmploymentRate 's p-value is: 0.345649514846\n"
     ]
    }
   ],
   "source": [
    "for series in monthlyData.columns:\n",
    "    d = monthlyData[series]    \n",
    "    pv = sm.tsa.stattools.adfuller(d[d.notnull()])[1]\n",
    "    if pv > 0.05:\n",
    "        print(series + \" 's p-value is: \" + str(pv))"
   ]
  },
  {
   "cell_type": "markdown",
   "metadata": {},
   "source": [
    "## Response Variable"
   ]
  },
  {
   "cell_type": "code",
   "execution_count": 8,
   "metadata": {
    "collapsed": false
   },
   "outputs": [],
   "source": [
    "gdp = pd.read_excel('GDP.xlsx',dayFirst=True)\n",
    "gdp.set_index(\"Date\", inplace=True)\n",
    "gdp[\"GDP\"] = np.log(gdp[\"GDP\"]) - np.log(gdp[\"GDP\"].shift(1))"
   ]
  },
  {
   "cell_type": "markdown",
   "metadata": {},
   "source": [
    "# Balanced Panel"
   ]
  },
  {
   "cell_type": "code",
   "execution_count": 9,
   "metadata": {
    "collapsed": false,
    "scrolled": true
   },
   "outputs": [
    {
     "data": {
      "text/html": [
       "<div>\n",
       "<table border=\"1\" class=\"dataframe\">\n",
       "  <thead>\n",
       "    <tr style=\"text-align: right;\">\n",
       "      <th></th>\n",
       "      <th>RetailFoodSales</th>\n",
       "      <th>ProducerPriceIndex</th>\n",
       "      <th>JoblessClaims</th>\n",
       "      <th>ConsumerPriceIndex</th>\n",
       "      <th>DisposableIncome</th>\n",
       "      <th>GeneralBusinessConditions</th>\n",
       "      <th>ConsumerConfidence</th>\n",
       "      <th>NewResidentialSales</th>\n",
       "      <th>Imports</th>\n",
       "      <th>Exports</th>\n",
       "      <th>UnemploymentRate</th>\n",
       "      <th>IndustrialProductionIndex</th>\n",
       "      <th>EmploymentRate</th>\n",
       "    </tr>\n",
       "    <tr>\n",
       "      <th>Date</th>\n",
       "      <th></th>\n",
       "      <th></th>\n",
       "      <th></th>\n",
       "      <th></th>\n",
       "      <th></th>\n",
       "      <th></th>\n",
       "      <th></th>\n",
       "      <th></th>\n",
       "      <th></th>\n",
       "      <th></th>\n",
       "      <th></th>\n",
       "      <th></th>\n",
       "      <th></th>\n",
       "    </tr>\n",
       "  </thead>\n",
       "  <tbody>\n",
       "    <tr>\n",
       "      <th>2010-01-31</th>\n",
       "      <td>-0.236325</td>\n",
       "      <td>0.014889</td>\n",
       "      <td>-0.188285</td>\n",
       "      <td>0.75</td>\n",
       "      <td>0.008873</td>\n",
       "      <td>0.020834</td>\n",
       "      <td>0.016840</td>\n",
       "      <td>0.013766</td>\n",
       "      <td>-0.067987</td>\n",
       "      <td>-0.246317</td>\n",
       "      <td>-0.001</td>\n",
       "      <td>-0.069069</td>\n",
       "      <td>-0.004</td>\n",
       "    </tr>\n",
       "    <tr>\n",
       "      <th>2010-02-28</th>\n",
       "      <td>-0.048187</td>\n",
       "      <td>0.012143</td>\n",
       "      <td>0.069042</td>\n",
       "      <td>0.78</td>\n",
       "      <td>0.004470</td>\n",
       "      <td>0.051153</td>\n",
       "      <td>-0.067030</td>\n",
       "      <td>0.035409</td>\n",
       "      <td>0.027679</td>\n",
       "      <td>0.075958</td>\n",
       "      <td>0.004</td>\n",
       "      <td>-0.001136</td>\n",
       "      <td>-0.002</td>\n",
       "    </tr>\n",
       "    <tr>\n",
       "      <th>2010-03-31</th>\n",
       "      <td>0.231714</td>\n",
       "      <td>-0.001559</td>\n",
       "      <td>0.165317</td>\n",
       "      <td>0.52</td>\n",
       "      <td>-0.018580</td>\n",
       "      <td>0.029827</td>\n",
       "      <td>0.035091</td>\n",
       "      <td>0.046870</td>\n",
       "      <td>0.242947</td>\n",
       "      <td>0.254201</td>\n",
       "      <td>0.009</td>\n",
       "      <td>0.180426</td>\n",
       "      <td>-0.002</td>\n",
       "    </tr>\n",
       "    <tr>\n",
       "      <th>2010-04-30</th>\n",
       "      <td>-0.160867</td>\n",
       "      <td>0.003989</td>\n",
       "      <td>-0.136788</td>\n",
       "      <td>0.57</td>\n",
       "      <td>0.007699</td>\n",
       "      <td>0.002590</td>\n",
       "      <td>0.003038</td>\n",
       "      <td>0.030556</td>\n",
       "      <td>-0.081357</td>\n",
       "      <td>-0.036670</td>\n",
       "      <td>0.002</td>\n",
       "      <td>-0.083052</td>\n",
       "      <td>0.003</td>\n",
       "    </tr>\n",
       "    <tr>\n",
       "      <th>2010-05-31</th>\n",
       "      <td>0.055060</td>\n",
       "      <td>0.004650</td>\n",
       "      <td>0.029296</td>\n",
       "      <td>0.43</td>\n",
       "      <td>0.004203</td>\n",
       "      <td>-0.007789</td>\n",
       "      <td>0.023977</td>\n",
       "      <td>0.036153</td>\n",
       "      <td>0.026540</td>\n",
       "      <td>0.154966</td>\n",
       "      <td>0.000</td>\n",
       "      <td>0.039419</td>\n",
       "      <td>-0.001</td>\n",
       "    </tr>\n",
       "    <tr>\n",
       "      <th>...</th>\n",
       "      <td>...</td>\n",
       "      <td>...</td>\n",
       "      <td>...</td>\n",
       "      <td>...</td>\n",
       "      <td>...</td>\n",
       "      <td>...</td>\n",
       "      <td>...</td>\n",
       "      <td>...</td>\n",
       "      <td>...</td>\n",
       "      <td>...</td>\n",
       "      <td>...</td>\n",
       "      <td>...</td>\n",
       "      <td>...</td>\n",
       "    </tr>\n",
       "    <tr>\n",
       "      <th>2015-09-30</th>\n",
       "      <td>-0.032144</td>\n",
       "      <td>0.029448</td>\n",
       "      <td>-0.038988</td>\n",
       "      <td>0.54</td>\n",
       "      <td>0.004298</td>\n",
       "      <td>-0.027365</td>\n",
       "      <td>-0.064633</td>\n",
       "      <td>0.010601</td>\n",
       "      <td>0.031345</td>\n",
       "      <td>0.041913</td>\n",
       "      <td>0.003</td>\n",
       "      <td>0.001036</td>\n",
       "      <td>0.000</td>\n",
       "    </tr>\n",
       "    <tr>\n",
       "      <th>2015-10-31</th>\n",
       "      <td>0.050344</td>\n",
       "      <td>0.017563</td>\n",
       "      <td>-0.011137</td>\n",
       "      <td>0.82</td>\n",
       "      <td>0.022878</td>\n",
       "      <td>0.032261</td>\n",
       "      <td>0.040154</td>\n",
       "      <td>0.006654</td>\n",
       "      <td>0.062352</td>\n",
       "      <td>-0.006162</td>\n",
       "      <td>0.001</td>\n",
       "      <td>0.036589</td>\n",
       "      <td>-0.003</td>\n",
       "    </tr>\n",
       "    <tr>\n",
       "      <th>2015-11-30</th>\n",
       "      <td>-0.008048</td>\n",
       "      <td>-0.004184</td>\n",
       "      <td>-0.071361</td>\n",
       "      <td>1.01</td>\n",
       "      <td>0.048696</td>\n",
       "      <td>-0.090681</td>\n",
       "      <td>0.000000</td>\n",
       "      <td>0.004195</td>\n",
       "      <td>-0.108404</td>\n",
       "      <td>-0.150516</td>\n",
       "      <td>-0.002</td>\n",
       "      <td>-0.071348</td>\n",
       "      <td>0.003</td>\n",
       "    </tr>\n",
       "    <tr>\n",
       "      <th>2015-12-31</th>\n",
       "      <td>0.180637</td>\n",
       "      <td>-0.003574</td>\n",
       "      <td>0.144448</td>\n",
       "      <td>0.96</td>\n",
       "      <td>0.077145</td>\n",
       "      <td>-0.045120</td>\n",
       "      <td>-0.022108</td>\n",
       "      <td>0.004549</td>\n",
       "      <td>-0.178960</td>\n",
       "      <td>0.195251</td>\n",
       "      <td>-0.002</td>\n",
       "      <td>-0.147563</td>\n",
       "      <td>0.006</td>\n",
       "    </tr>\n",
       "    <tr>\n",
       "      <th>2016-01-31</th>\n",
       "      <td>-0.260511</td>\n",
       "      <td>0.006780</td>\n",
       "      <td>-0.148253</td>\n",
       "      <td>1.27</td>\n",
       "      <td>-0.013376</td>\n",
       "      <td>0.023498</td>\n",
       "      <td>0.042311</td>\n",
       "      <td>-0.003513</td>\n",
       "      <td>-0.021115</td>\n",
       "      <td>-0.400408</td>\n",
       "      <td>0.001</td>\n",
       "      <td>-0.052274</td>\n",
       "      <td>-0.007</td>\n",
       "    </tr>\n",
       "  </tbody>\n",
       "</table>\n",
       "<p>73 rows × 13 columns</p>\n",
       "</div>"
      ],
      "text/plain": [
       "            RetailFoodSales  ProducerPriceIndex  JoblessClaims  \\\n",
       "Date                                                             \n",
       "2010-01-31        -0.236325            0.014889      -0.188285   \n",
       "2010-02-28        -0.048187            0.012143       0.069042   \n",
       "2010-03-31         0.231714           -0.001559       0.165317   \n",
       "2010-04-30        -0.160867            0.003989      -0.136788   \n",
       "2010-05-31         0.055060            0.004650       0.029296   \n",
       "...                     ...                 ...            ...   \n",
       "2015-09-30        -0.032144            0.029448      -0.038988   \n",
       "2015-10-31         0.050344            0.017563      -0.011137   \n",
       "2015-11-30        -0.008048           -0.004184      -0.071361   \n",
       "2015-12-31         0.180637           -0.003574       0.144448   \n",
       "2016-01-31        -0.260511            0.006780      -0.148253   \n",
       "\n",
       "            ConsumerPriceIndex  DisposableIncome  GeneralBusinessConditions  \\\n",
       "Date                                                                          \n",
       "2010-01-31                0.75          0.008873                   0.020834   \n",
       "2010-02-28                0.78          0.004470                   0.051153   \n",
       "2010-03-31                0.52         -0.018580                   0.029827   \n",
       "2010-04-30                0.57          0.007699                   0.002590   \n",
       "2010-05-31                0.43          0.004203                  -0.007789   \n",
       "...                        ...               ...                        ...   \n",
       "2015-09-30                0.54          0.004298                  -0.027365   \n",
       "2015-10-31                0.82          0.022878                   0.032261   \n",
       "2015-11-30                1.01          0.048696                  -0.090681   \n",
       "2015-12-31                0.96          0.077145                  -0.045120   \n",
       "2016-01-31                1.27         -0.013376                   0.023498   \n",
       "\n",
       "            ConsumerConfidence  NewResidentialSales   Imports   Exports  \\\n",
       "Date                                                                      \n",
       "2010-01-31            0.016840             0.013766 -0.067987 -0.246317   \n",
       "2010-02-28           -0.067030             0.035409  0.027679  0.075958   \n",
       "2010-03-31            0.035091             0.046870  0.242947  0.254201   \n",
       "2010-04-30            0.003038             0.030556 -0.081357 -0.036670   \n",
       "2010-05-31            0.023977             0.036153  0.026540  0.154966   \n",
       "...                        ...                  ...       ...       ...   \n",
       "2015-09-30           -0.064633             0.010601  0.031345  0.041913   \n",
       "2015-10-31            0.040154             0.006654  0.062352 -0.006162   \n",
       "2015-11-30            0.000000             0.004195 -0.108404 -0.150516   \n",
       "2015-12-31           -0.022108             0.004549 -0.178960  0.195251   \n",
       "2016-01-31            0.042311            -0.003513 -0.021115 -0.400408   \n",
       "\n",
       "            UnemploymentRate  IndustrialProductionIndex  EmploymentRate  \n",
       "Date                                                                     \n",
       "2010-01-31            -0.001                  -0.069069          -0.004  \n",
       "2010-02-28             0.004                  -0.001136          -0.002  \n",
       "2010-03-31             0.009                   0.180426          -0.002  \n",
       "2010-04-30             0.002                  -0.083052           0.003  \n",
       "2010-05-31             0.000                   0.039419          -0.001  \n",
       "...                      ...                        ...             ...  \n",
       "2015-09-30             0.003                   0.001036           0.000  \n",
       "2015-10-31             0.001                   0.036589          -0.003  \n",
       "2015-11-30            -0.002                  -0.071348           0.003  \n",
       "2015-12-31            -0.002                  -0.147563           0.006  \n",
       "2016-01-31             0.001                  -0.052274          -0.007  \n",
       "\n",
       "[73 rows x 13 columns]"
      ]
     },
     "execution_count": 9,
     "metadata": {},
     "output_type": "execute_result"
    }
   ],
   "source": [
    "balancedIndex = ~monthlyData.isnull().any(axis=1)\n",
    "monthlyData[balancedIndex]"
   ]
  },
  {
   "cell_type": "code",
   "execution_count": 10,
   "metadata": {
    "collapsed": false
   },
   "outputs": [
    {
     "name": "stdout",
     "output_type": "stream",
     "text": [
      "[ 0.6241585]\n"
     ]
    }
   ],
   "source": [
    "n_components=1\n",
    "pca = PCA(n_components=n_components)\n",
    "components = pca.fit_transform(monthlyData[balancedIndex])\n",
    "components = pd.DataFrame(components)\n",
    "components.set_index(monthlyData[balancedIndex].index, inplace=True)\n",
    "\n",
    "print(pca.explained_variance_ratio_) "
   ]
  },
  {
   "cell_type": "markdown",
   "metadata": {
    "collapsed": true
   },
   "source": [
    "## MARSS R-Package"
   ]
  },
  {
   "cell_type": "code",
   "execution_count": 11,
   "metadata": {
    "collapsed": false
   },
   "outputs": [],
   "source": [
    "balancedPanel = monthlyData[balancedIndex].transpose().as_matrix()\n",
    "initial = components.transpose().as_matrix()\n",
    "\n",
    "zs = []\n",
    "for i in range(0,26):\n",
    "    zs.append('z'+str(i))"
   ]
  },
  {
   "cell_type": "code",
   "execution_count": 12,
   "metadata": {
    "collapsed": false
   },
   "outputs": [],
   "source": [
    "%%R -i balancedPanel,zs,initial -o states\n",
    "\n",
    "# class(meas)\n",
    "\n",
    "Z=\"unconstrained\"\n",
    "# B=\"diagonal and unequal\"\n",
    "# B=\"identity\"\n",
    "B=\"unconstrained\"\n",
    "# x0=matrix(c(\"pi1\"),1,1)\n",
    "# x0=matrix(c(\"pi1\",\"pi2\"),2,1)\n",
    "\n",
    "Z=matrix(list(\"z1\",\"z2\",\"z3\",\"z4\",\"z5\",\"z6\",\"z7\",\"z8\",\"z9\",\"z10\",\"z11\",\"z12\",\"z13\"),13,1)\n",
    "# Z=matrix(zs,13,2)\n",
    "\n",
    "x0=\"zero\"\n",
    "x0=initial\n",
    "\n",
    "model.gen=list(Z=Z,B=B,A=\"zero\",x0=\"zero\",U=\"zero\")\n",
    "# model.gen=list(Z=Z,B=B,x0=x0,A=\"zero\")\n",
    "kemfit = MARSS(balancedPanel, model=model.gen,control=list(conv.test.slope.tol=0.00001,abstol=0.00001))\n",
    "states = kemfit$states\n",
    "# print(kemfit, what=\"model\")\n",
    "# print(kemfit, what=\"start\")\n",
    "# print(kemfit, what=\"states\")\n",
    "# print(kemfit, what=\"ytT\")\n",
    "# print(kemfit, what=\"states.se\")\n",
    "# print(kemfit, what=\"kfs\")\n",
    "# print(kemfit$par$Z)"
   ]
  },
  {
   "cell_type": "code",
   "execution_count": 13,
   "metadata": {
    "collapsed": false
   },
   "outputs": [
    {
     "data": {
      "text/plain": [
       "<matplotlib.axes._subplots.AxesSubplot at 0x1f26e1fa0f0>"
      ]
     },
     "execution_count": 13,
     "metadata": {},
     "output_type": "execute_result"
    },
    {
     "data": {
      "image/png": "[encoded data removed]",
      "text/plain": [
       "<matplotlib.figure.Figure at 0x1f26d63f780>"
      ]
     },
     "metadata": {},
     "output_type": "display_data"
    }
   ],
   "source": [
    "factor = pd.DataFrame(states).transpose().set_index(monthlyData[balancedIndex].index)\n",
    "factor.plot()"
   ]
  },
  {
   "cell_type": "code",
   "execution_count": 14,
   "metadata": {
    "collapsed": false
   },
   "outputs": [
    {
     "name": "stderr",
     "output_type": "stream",
     "text": [
      "C:\\Anaconda3\\lib\\site-packages\\ipykernel\\__main__.py:1: UserWarning: Boolean Series key will be reindexed to match DataFrame index.\n",
      "  if __name__ == '__main__':\n"
     ]
    },
    {
     "data": {
      "text/plain": [
       "<matplotlib.axes._subplots.AxesSubplot at 0x1f26fd68128>"
      ]
     },
     "execution_count": 14,
     "metadata": {},
     "output_type": "execute_result"
    },
    {
     "data": {
      "image/png": "[encoded data removed]",
      "text/plain": [
       "<matplotlib.figure.Figure at 0x1f26fd776d8>"
      ]
     },
     "metadata": {},
     "output_type": "display_data"
    }
   ],
   "source": [
    "gdp[balancedIndex].plot()"
   ]
  },
  {
   "cell_type": "markdown",
   "metadata": {},
   "source": [
    "# OLS - Nowcast"
   ]
  },
  {
   "cell_type": "code",
   "execution_count": 15,
   "metadata": {
    "collapsed": true
   },
   "outputs": [],
   "source": [
    "factor = factor.rolling(window=3).sum()\n",
    "olsSample = gdp.join(factor, how=\"inner\")\n",
    "gdpComp = olsSample[0]"
   ]
  },
  {
   "cell_type": "code",
   "execution_count": 16,
   "metadata": {
    "collapsed": false
   },
   "outputs": [
    {
     "name": "stdout",
     "output_type": "stream",
     "text": [
      "                            OLS Regression Results                            \n",
      "==============================================================================\n",
      "Dep. Variable:                    GDP   R-squared:                       0.108\n",
      "Model:                            OLS   Adj. R-squared:                  0.070\n",
      "Method:                 Least Squares   F-statistic:                     2.799\n",
      "Date:                Fri, 23 Dec 2016   Prob (F-statistic):              0.108\n",
      "Time:                        10:50:42   Log-Likelihood:                 44.699\n",
      "No. Observations:                  24   AIC:                            -87.40\n",
      "Df Residuals:                      23   BIC:                            -86.22\n",
      "Df Model:                           1                                         \n",
      "Covariance Type:            nonrobust                                         \n",
      "==============================================================================\n",
      "                 coef    std err          t      P>|t|      [95.0% Conf. Int.]\n",
      "------------------------------------------------------------------------------\n",
      "x1             0.0348      0.021      1.673      0.108        -0.008     0.078\n",
      "==============================================================================\n",
      "Omnibus:                        2.762   Durbin-Watson:                   2.297\n",
      "Prob(Omnibus):                  0.251   Jarque-Bera (JB):                2.215\n",
      "Skew:                          -0.622   Prob(JB):                        0.330\n",
      "Kurtosis:                       2.182   Cond. No.                         1.00\n",
      "==============================================================================\n",
      "\n",
      "Warnings:\n",
      "[1] Standard Errors assume that the covariance matrix of the errors is correctly specified.\n"
     ]
    }
   ],
   "source": [
    "# X = sm.add_constant(gdpComp)\n",
    "X = gdpComp\n",
    "model = sm.OLS(olsSample[\"GDP\"],X)\n",
    "results = model.fit()\n",
    "results.params\n",
    "print(results.summary())"
   ]
  },
  {
   "cell_type": "markdown",
   "metadata": {
    "collapsed": true
   },
   "source": [
    "The model is not a good fit. We believe that could be due to the lack of specification of initial value for the parameters. Thus we will try do find initial value for the parameters running a VAR on PCA components, as in Banbura et al. 2013"
   ]
  },
  {
   "cell_type": "markdown",
   "metadata": {},
   "source": [
    "# PCA to retrieve factors from balanced panel"
   ]
  },
  {
   "cell_type": "code",
   "execution_count": 17,
   "metadata": {
    "collapsed": false
   },
   "outputs": [
    {
     "name": "stdout",
     "output_type": "stream",
     "text": [
      "[ 0.6241585   0.22421535  0.08139473  0.02986808  0.01642318]\n"
     ]
    }
   ],
   "source": [
    "n_components=5\n",
    "pca = PCA(n_components=n_components)\n",
    "components = pca.fit_transform(monthlyData[balancedIndex])\n",
    "components = pd.DataFrame(components)\n",
    "components.set_index(monthlyData[balancedIndex].index, inplace=True)\n",
    "\n",
    "print(pca.explained_variance_ratio_) "
   ]
  },
  {
   "cell_type": "code",
   "execution_count": 18,
   "metadata": {
    "collapsed": false
   },
   "outputs": [
    {
     "data": {
      "text/plain": [
       "0.97605984190422534"
      ]
     },
     "execution_count": 18,
     "metadata": {},
     "output_type": "execute_result"
    }
   ],
   "source": [
    "sum(pca.explained_variance_ratio_)"
   ]
  },
  {
   "cell_type": "code",
   "execution_count": 19,
   "metadata": {
    "collapsed": false
   },
   "outputs": [
    {
     "data": {
      "text/plain": [
       "<matplotlib.axes._subplots.AxesSubplot at 0x1f26fe7d828>"
      ]
     },
     "execution_count": 19,
     "metadata": {},
     "output_type": "execute_result"
    },
    {
     "data": {
      "image/png": "[encoded data removed]",
      "text/plain": [
       "<matplotlib.figure.Figure at 0x1f26fe3c9b0>"
      ]
     },
     "metadata": {},
     "output_type": "display_data"
    }
   ],
   "source": [
    "pd.DataFrame(components).plot()"
   ]
  },
  {
   "cell_type": "markdown",
   "metadata": {},
   "source": [
    "# Initial Parameters Estimation \n",
    "## VAR - for B-Matrix Estimation"
   ]
  },
  {
   "cell_type": "code",
   "execution_count": 20,
   "metadata": {
    "collapsed": false
   },
   "outputs": [
    {
     "data": {
      "text/plain": [
       "  Summary of Regression Results   \n",
       "==================================\n",
       "Model:                         VAR\n",
       "Method:                        OLS\n",
       "Date:           Fri, 23, Dec, 2016\n",
       "Time:                     10:50:43\n",
       "--------------------------------------------------------------------\n",
       "No. of Equations:         5.00000    BIC:                   -22.1591\n",
       "Nobs:                     72.0000    HQIC:                  -22.7301\n",
       "Log likelihood:           351.061    FPE:                9.23150e-11\n",
       "AIC:                     -23.1078    Det(Omega_mle):     6.18674e-11\n",
       "--------------------------------------------------------------------\n",
       "Results for equation 0\n",
       "========================================================================\n",
       "           coefficient       std. error           t-stat            prob\n",
       "------------------------------------------------------------------------\n",
       "const        -0.003938         0.023643           -0.167           0.868\n",
       "L1.0          0.700590         0.082908            8.450           0.000\n",
       "L1.1         -0.088209         0.134782           -0.654           0.515\n",
       "L1.2          0.423460         0.221906            1.908           0.061\n",
       "L1.3         -1.373183         0.361422           -3.799           0.000\n",
       "L1.4         -0.890532         0.484371           -1.839           0.070\n",
       "========================================================================\n",
       "\n",
       "Results for equation 1\n",
       "========================================================================\n",
       "           coefficient       std. error           t-stat            prob\n",
       "------------------------------------------------------------------------\n",
       "const         0.007815         0.016596            0.471           0.639\n",
       "L1.0         -0.160370         0.058195           -2.756           0.008\n",
       "L1.1         -0.386994         0.094607           -4.091           0.000\n",
       "L1.2          0.217835         0.155761            1.399           0.167\n",
       "L1.3         -1.143421         0.253691           -4.507           0.000\n",
       "L1.4          0.108468         0.339991            0.319           0.751\n",
       "========================================================================\n",
       "\n",
       "Results for equation 2\n",
       "========================================================================\n",
       "           coefficient       std. error           t-stat            prob\n",
       "------------------------------------------------------------------------\n",
       "const        -0.002504         0.012029           -0.208           0.836\n",
       "L1.0          0.014476         0.042182            0.343           0.733\n",
       "L1.1          0.031639         0.068574            0.461           0.646\n",
       "L1.2         -0.390065         0.112901           -3.455           0.001\n",
       "L1.3         -0.338885         0.183884           -1.843           0.070\n",
       "L1.4         -0.100399         0.246437           -0.407           0.685\n",
       "========================================================================\n",
       "\n",
       "Results for equation 3\n",
       "========================================================================\n",
       "           coefficient       std. error           t-stat            prob\n",
       "------------------------------------------------------------------------\n",
       "const         0.000224         0.007144            0.031           0.975\n",
       "L1.0         -0.000196         0.025051           -0.008           0.994\n",
       "L1.1          0.025736         0.040726            0.632           0.530\n",
       "L1.2         -0.226421         0.067050           -3.377           0.001\n",
       "L1.3          0.006783         0.109206            0.062           0.951\n",
       "L1.4         -0.364106         0.146356           -2.488           0.015\n",
       "========================================================================\n",
       "\n",
       "Results for equation 4\n",
       "========================================================================\n",
       "           coefficient       std. error           t-stat            prob\n",
       "------------------------------------------------------------------------\n",
       "const         0.000980         0.005581            0.176           0.861\n",
       "L1.0         -0.024177         0.019572           -1.235           0.221\n",
       "L1.1         -0.049459         0.031818           -1.554           0.125\n",
       "L1.2          0.101671         0.052386            1.941           0.057\n",
       "L1.3          0.025067         0.085322            0.294           0.770\n",
       "L1.4         -0.208126         0.114346           -1.820           0.073\n",
       "========================================================================\n",
       "\n",
       "Correlation matrix of residuals\n",
       "            0         1         2         3         4\n",
       "0    1.000000 -0.058104 -0.001386  0.057029  0.015639\n",
       "1   -0.058104  1.000000 -0.003325  0.069786 -0.162623\n",
       "2   -0.001386 -0.003325  1.000000 -0.176438  0.108434\n",
       "3    0.057029  0.069786 -0.176438  1.000000  0.028830\n",
       "4    0.015639 -0.162623  0.108434  0.028830  1.000000\n",
       "\n"
      ]
     },
     "execution_count": 20,
     "metadata": {},
     "output_type": "execute_result"
    }
   ],
   "source": [
    "varModel = sm.tsa.VAR(components)\n",
    "results = varModel.fit(1)\n",
    "results.summary()"
   ]
  },
  {
   "cell_type": "code",
   "execution_count": 21,
   "metadata": {
    "collapsed": false
   },
   "outputs": [],
   "source": [
    "initialB = pd.DataFrame(results.coefs[0])"
   ]
  },
  {
   "cell_type": "markdown",
   "metadata": {},
   "source": [
    "## OLS For Z-Matrix estimation"
   ]
  },
  {
   "cell_type": "code",
   "execution_count": 22,
   "metadata": {
    "collapsed": false
   },
   "outputs": [
    {
     "data": {
      "text/plain": [
       "0    0.026572\n",
       "1   -0.000310\n",
       "2    0.005678\n",
       "3    0.045861\n",
       "4    0.077941\n",
       "dtype: float64"
      ]
     },
     "execution_count": 22,
     "metadata": {},
     "output_type": "execute_result"
    }
   ],
   "source": [
    "results = sm.OLS(monthlyData[balancedIndex]['ConsumerConfidence'], components).fit()\n",
    "results.params"
   ]
  },
  {
   "cell_type": "code",
   "execution_count": 23,
   "metadata": {
    "collapsed": false
   },
   "outputs": [
    {
     "data": {
      "text/html": [
       "<div>\n",
       "<table border=\"1\" class=\"dataframe\">\n",
       "  <thead>\n",
       "    <tr style=\"text-align: right;\">\n",
       "      <th></th>\n",
       "      <th>0</th>\n",
       "      <th>1</th>\n",
       "      <th>2</th>\n",
       "      <th>3</th>\n",
       "      <th>4</th>\n",
       "    </tr>\n",
       "  </thead>\n",
       "  <tbody>\n",
       "    <tr>\n",
       "      <th>0</th>\n",
       "      <td>0.115118</td>\n",
       "      <td>0.479418</td>\n",
       "      <td>-0.431064</td>\n",
       "      <td>0.521580</td>\n",
       "      <td>0.068239</td>\n",
       "    </tr>\n",
       "    <tr>\n",
       "      <th>1</th>\n",
       "      <td>-0.000789</td>\n",
       "      <td>-0.003003</td>\n",
       "      <td>0.004543</td>\n",
       "      <td>-0.001386</td>\n",
       "      <td>0.018411</td>\n",
       "    </tr>\n",
       "    <tr>\n",
       "      <th>2</th>\n",
       "      <td>0.047185</td>\n",
       "      <td>0.296605</td>\n",
       "      <td>0.024675</td>\n",
       "      <td>0.499237</td>\n",
       "      <td>0.160976</td>\n",
       "    </tr>\n",
       "    <tr>\n",
       "      <th>3</th>\n",
       "      <td>-0.979236</td>\n",
       "      <td>0.189912</td>\n",
       "      <td>0.025137</td>\n",
       "      <td>0.025244</td>\n",
       "      <td>0.038386</td>\n",
       "    </tr>\n",
       "    <tr>\n",
       "      <th>4</th>\n",
       "      <td>0.004073</td>\n",
       "      <td>-0.017351</td>\n",
       "      <td>-0.083441</td>\n",
       "      <td>0.055275</td>\n",
       "      <td>-0.104737</td>\n",
       "    </tr>\n",
       "    <tr>\n",
       "      <th>...</th>\n",
       "      <td>...</td>\n",
       "      <td>...</td>\n",
       "      <td>...</td>\n",
       "      <td>...</td>\n",
       "      <td>...</td>\n",
       "    </tr>\n",
       "    <tr>\n",
       "      <th>8</th>\n",
       "      <td>0.068671</td>\n",
       "      <td>0.311816</td>\n",
       "      <td>0.726352</td>\n",
       "      <td>0.202369</td>\n",
       "      <td>-0.549040</td>\n",
       "    </tr>\n",
       "    <tr>\n",
       "      <th>9</th>\n",
       "      <td>0.106977</td>\n",
       "      <td>0.709957</td>\n",
       "      <td>-0.185781</td>\n",
       "      <td>-0.637822</td>\n",
       "      <td>-0.111593</td>\n",
       "    </tr>\n",
       "    <tr>\n",
       "      <th>10</th>\n",
       "      <td>-0.003501</td>\n",
       "      <td>0.003605</td>\n",
       "      <td>0.009224</td>\n",
       "      <td>-0.019934</td>\n",
       "      <td>0.017436</td>\n",
       "    </tr>\n",
       "    <tr>\n",
       "      <th>11</th>\n",
       "      <td>0.091358</td>\n",
       "      <td>0.210319</td>\n",
       "      <td>0.473270</td>\n",
       "      <td>-0.061192</td>\n",
       "      <td>0.773552</td>\n",
       "    </tr>\n",
       "    <tr>\n",
       "      <th>12</th>\n",
       "      <td>0.004183</td>\n",
       "      <td>0.005169</td>\n",
       "      <td>-0.018087</td>\n",
       "      <td>0.003965</td>\n",
       "      <td>-0.014770</td>\n",
       "    </tr>\n",
       "  </tbody>\n",
       "</table>\n",
       "<p>13 rows × 5 columns</p>\n",
       "</div>"
      ],
      "text/plain": [
       "           0         1         2         3         4\n",
       "0   0.115118  0.479418 -0.431064  0.521580  0.068239\n",
       "1  -0.000789 -0.003003  0.004543 -0.001386  0.018411\n",
       "2   0.047185  0.296605  0.024675  0.499237  0.160976\n",
       "3  -0.979236  0.189912  0.025137  0.025244  0.038386\n",
       "4   0.004073 -0.017351 -0.083441  0.055275 -0.104737\n",
       "..       ...       ...       ...       ...       ...\n",
       "8   0.068671  0.311816  0.726352  0.202369 -0.549040\n",
       "9   0.106977  0.709957 -0.185781 -0.637822 -0.111593\n",
       "10 -0.003501  0.003605  0.009224 -0.019934  0.017436\n",
       "11  0.091358  0.210319  0.473270 -0.061192  0.773552\n",
       "12  0.004183  0.005169 -0.018087  0.003965 -0.014770\n",
       "\n",
       "[13 rows x 5 columns]"
      ]
     },
     "execution_count": 23,
     "metadata": {},
     "output_type": "execute_result"
    }
   ],
   "source": [
    "dfList = []\n",
    "for col in monthlyData[balancedIndex].columns:\n",
    "    results = sm.OLS(monthlyData[balancedIndex][col], components).fit()\n",
    "    dfList.append(results.params)\n",
    "\n",
    "initialZ = pd.concat(dfList,axis=1).transpose()\n",
    "initialZ"
   ]
  },
  {
   "cell_type": "markdown",
   "metadata": {},
   "source": [
    "# Re-Estimation of Factor Model by EM Algo"
   ]
  },
  {
   "cell_type": "code",
   "execution_count": 24,
   "metadata": {
    "collapsed": false
   },
   "outputs": [
    {
     "data": {
      "text/plain": [
       "(5, 5)"
      ]
     },
     "execution_count": 24,
     "metadata": {},
     "output_type": "execute_result"
    }
   ],
   "source": [
    "initialB.shape"
   ]
  },
  {
   "cell_type": "code",
   "execution_count": 25,
   "metadata": {
    "collapsed": false
   },
   "outputs": [
    {
     "name": "stdout",
     "output_type": "stream",
     "text": [
      "(65, 1)\n",
      "(25, 1)\n"
     ]
    }
   ],
   "source": [
    "initialZ = np.reshape(initialZ.stack().as_matrix(),(65,1))\n",
    "initialB = np.reshape(initialB.stack().as_matrix(),(25,1))\n",
    "print(initialZ.shape)\n",
    "print(initialB.shape)"
   ]
  },
  {
   "cell_type": "code",
   "execution_count": 26,
   "metadata": {
    "collapsed": false
   },
   "outputs": [],
   "source": [
    "numberOfFactors = 5\n",
    "zs = []\n",
    "for i in range(0,13*numberOfFactors):\n",
    "    zs.append('z'+str(i))\n",
    "    \n"
   ]
  },
  {
   "cell_type": "code",
   "execution_count": 27,
   "metadata": {
    "collapsed": false
   },
   "outputs": [],
   "source": [
    "%%R -i balancedPanel,zs,initialB,initialZ,numberOfFactors -o states\n",
    "\n",
    "# class(meas)\n",
    "print(dim(initialZ))\n",
    "Z=\"unconstrained\"\n",
    "# B=\"diagonal and unequal\"\n",
    "# B=\"identity\"\n",
    "B=\"unconstrained\"\n",
    "# x0=matrix(c(\"pi1\"),1,1)\n",
    "# x0=matrix(c(\"pi1\",\"pi2\"),2,1)\n",
    "\n",
    "# Z=matrix(list(\"z1\",\"z2\",\"z3\",\"z4\",\"z5\",\"z6\",\"z7\",\"z8\",\"z9\",\"z10\",\"z11\",\"z12\",\"z13\"),13,1)\n",
    "Z=matrix(zs,13,numberOfFactors)\n",
    "# print(Z)\n",
    "# print(numberOfFactors)\n",
    "inits = list(Z=initialZ, B=initialB)\n",
    "\n",
    "x0=\"zero\"\n",
    "x0=initial\n",
    "\n",
    "model.gen=list(Z=Z,B=B,A=\"zero\",x0=\"zero\",U=\"zero\")\n",
    "# model.gen=list(Z=Z,B=B,x0=x0,A=\"zero\")\n",
    "# kemfit = MARSS(balancedPanel, model=model.gen)\n",
    "# kemfit = MARSS(balancedPanel, model=model.gen,control=list(conv.test.slope.tol=0.00001,abstol=0.00001))\n",
    "# kemfit = MARSS(balancedPanel, model=model.gen,control=list(conv.test.slope.tol=0.00001,abstol=0.00001),inits=inits)\n",
    "kemfit = MARSS(balancedPanel, model=model.gen,inits=inits)\n",
    "states = kemfit$states\n",
    "# print(kemfit, what=\"model\")\n",
    "# print(kemfit, what=\"start\")\n",
    "# print(kemfit, what=\"states\")\n",
    "# print(kemfit, what=\"ytT\")\n",
    "# print(kemfit, what=\"states.se\")\n",
    "# print(kemfit, what=\"kfs\")\n",
    "print(dim(kemfit$par$Z))"
   ]
  },
  {
   "cell_type": "code",
   "execution_count": 28,
   "metadata": {
    "collapsed": false
   },
   "outputs": [
    {
     "data": {
      "text/plain": [
       "<matplotlib.axes._subplots.AxesSubplot at 0x1f2718b1a20>"
      ]
     },
     "execution_count": 28,
     "metadata": {},
     "output_type": "execute_result"
    },
    {
     "data": {
      "image/png": "[encoded data removed]",
      "text/plain": [
       "<matplotlib.figure.Figure at 0x1f2718b1198>"
      ]
     },
     "metadata": {},
     "output_type": "display_data"
    }
   ],
   "source": [
    "factor = pd.DataFrame(states).transpose().set_index(monthlyData[balancedIndex].index)\n",
    "factor.plot()"
   ]
  },
  {
   "cell_type": "code",
   "execution_count": 29,
   "metadata": {
    "collapsed": false
   },
   "outputs": [
    {
     "name": "stderr",
     "output_type": "stream",
     "text": [
      "C:\\Anaconda3\\lib\\site-packages\\ipykernel\\__main__.py:1: UserWarning: Boolean Series key will be reindexed to match DataFrame index.\n",
      "  if __name__ == '__main__':\n"
     ]
    },
    {
     "data": {
      "text/plain": [
       "<matplotlib.axes._subplots.AxesSubplot at 0x1f2748e7ba8>"
      ]
     },
     "execution_count": 29,
     "metadata": {},
     "output_type": "execute_result"
    },
    {
     "data": {
      "image/png": "[encoded data removed]",
      "text/plain": [
       "<matplotlib.figure.Figure at 0x1f2749087f0>"
      ]
     },
     "metadata": {},
     "output_type": "display_data"
    }
   ],
   "source": [
    "gdp[balancedIndex].plot()"
   ]
  },
  {
   "cell_type": "markdown",
   "metadata": {},
   "source": [
    "# OLS - Nowcast"
   ]
  },
  {
   "cell_type": "code",
   "execution_count": 30,
   "metadata": {
    "collapsed": true
   },
   "outputs": [],
   "source": [
    "# factor = factor.rolling(window=3).sum()\n",
    "olsSample = gdp.join(factor, how=\"inner\")\n",
    "gdpComp = olsSample[[0,1,2,3,4]]"
   ]
  },
  {
   "cell_type": "code",
   "execution_count": 31,
   "metadata": {
    "collapsed": false
   },
   "outputs": [
    {
     "data": {
      "text/html": [
       "<div>\n",
       "<table border=\"1\" class=\"dataframe\">\n",
       "  <thead>\n",
       "    <tr style=\"text-align: right;\">\n",
       "      <th></th>\n",
       "      <th>0</th>\n",
       "      <th>1</th>\n",
       "      <th>2</th>\n",
       "      <th>3</th>\n",
       "      <th>4</th>\n",
       "    </tr>\n",
       "    <tr>\n",
       "      <th>Date</th>\n",
       "      <th></th>\n",
       "      <th></th>\n",
       "      <th></th>\n",
       "      <th></th>\n",
       "      <th></th>\n",
       "    </tr>\n",
       "  </thead>\n",
       "  <tbody>\n",
       "    <tr>\n",
       "      <th>2010-03-31</th>\n",
       "      <td>0.086510</td>\n",
       "      <td>-0.607694</td>\n",
       "      <td>0.243709</td>\n",
       "      <td>0.144331</td>\n",
       "      <td>-0.720051</td>\n",
       "    </tr>\n",
       "    <tr>\n",
       "      <th>2010-06-30</th>\n",
       "      <td>-0.060588</td>\n",
       "      <td>-0.019493</td>\n",
       "      <td>0.198876</td>\n",
       "      <td>0.026757</td>\n",
       "      <td>0.112326</td>\n",
       "    </tr>\n",
       "    <tr>\n",
       "      <th>2010-09-30</th>\n",
       "      <td>0.040825</td>\n",
       "      <td>-0.098910</td>\n",
       "      <td>0.290914</td>\n",
       "      <td>0.191299</td>\n",
       "      <td>-0.075508</td>\n",
       "    </tr>\n",
       "    <tr>\n",
       "      <th>2010-12-31</th>\n",
       "      <td>0.066327</td>\n",
       "      <td>-0.392930</td>\n",
       "      <td>-0.685454</td>\n",
       "      <td>0.313953</td>\n",
       "      <td>-0.035924</td>\n",
       "    </tr>\n",
       "    <tr>\n",
       "      <th>2011-03-31</th>\n",
       "      <td>0.183677</td>\n",
       "      <td>-0.397789</td>\n",
       "      <td>0.242626</td>\n",
       "      <td>0.260277</td>\n",
       "      <td>-0.451794</td>\n",
       "    </tr>\n",
       "  </tbody>\n",
       "</table>\n",
       "</div>"
      ],
      "text/plain": [
       "                   0         1         2         3         4\n",
       "Date                                                        \n",
       "2010-03-31  0.086510 -0.607694  0.243709  0.144331 -0.720051\n",
       "2010-06-30 -0.060588 -0.019493  0.198876  0.026757  0.112326\n",
       "2010-09-30  0.040825 -0.098910  0.290914  0.191299 -0.075508\n",
       "2010-12-31  0.066327 -0.392930 -0.685454  0.313953 -0.035924\n",
       "2011-03-31  0.183677 -0.397789  0.242626  0.260277 -0.451794"
      ]
     },
     "execution_count": 31,
     "metadata": {},
     "output_type": "execute_result"
    }
   ],
   "source": [
    "gdpComp.head()"
   ]
  },
  {
   "cell_type": "code",
   "execution_count": 32,
   "metadata": {
    "collapsed": false
   },
   "outputs": [
    {
     "name": "stdout",
     "output_type": "stream",
     "text": [
      "                            OLS Regression Results                            \n",
      "==============================================================================\n",
      "Dep. Variable:                    GDP   R-squared:                       0.628\n",
      "Model:                            OLS   Adj. R-squared:                  0.530\n",
      "Method:                 Least Squares   F-statistic:                     6.407\n",
      "Date:                Fri, 23 Dec 2016   Prob (F-statistic):            0.00120\n",
      "Time:                        10:51:27   Log-Likelihood:                 55.178\n",
      "No. Observations:                  24   AIC:                            -100.4\n",
      "Df Residuals:                      19   BIC:                            -94.47\n",
      "Df Model:                           5                                         \n",
      "Covariance Type:            nonrobust                                         \n",
      "==============================================================================\n",
      "                 coef    std err          t      P>|t|      [95.0% Conf. Int.]\n",
      "------------------------------------------------------------------------------\n",
      "0             -0.0549      0.049     -1.111      0.280        -0.158     0.049\n",
      "1              0.0346      0.035      0.981      0.339        -0.039     0.108\n",
      "2             -0.0008      0.020     -0.040      0.968        -0.043     0.042\n",
      "3              0.1311      0.039      3.385      0.003         0.050     0.212\n",
      "4              0.0573      0.025      2.255      0.036         0.004     0.111\n",
      "==============================================================================\n",
      "Omnibus:                        1.222   Durbin-Watson:                   1.564\n",
      "Prob(Omnibus):                  0.543   Jarque-Bera (JB):                1.142\n",
      "Skew:                           0.424   Prob(JB):                        0.565\n",
      "Kurtosis:                       2.350   Cond. No.                         4.45\n",
      "==============================================================================\n",
      "\n",
      "Warnings:\n",
      "[1] Standard Errors assume that the covariance matrix of the errors is correctly specified.\n"
     ]
    }
   ],
   "source": [
    "# X = sm.add_constant(gdpComp)\n",
    "X = gdpComp\n",
    "model = sm.OLS(olsSample[\"GDP\"],X)\n",
    "results = model.fit()\n",
    "results.params\n",
    "print(results.summary())"
   ]
  },
  {
   "cell_type": "markdown",
   "metadata": {},
   "source": [
    "Next Steps:\n",
    "\n",
    "* Compare PCA Factors to Smoothed Factors\n",
    "* Compare Predicted GDP to actual"
   ]
  }
 ],
 "metadata": {
  "anaconda-cloud": {},
  "kernelspec": {
   "display_name": "Python [Root]",
   "language": "python",
   "name": "Python [Root]"
  },
  "language_info": {
   "codemirror_mode": {
    "name": "ipython",
    "version": 3
   },
   "file_extension": ".py",
   "mimetype": "text/x-python",
   "name": "python",
   "nbconvert_exporter": "python",
   "pygments_lexer": "ipython3",
   "version": "3.5.2"
  }
 },
 "nbformat": 4,
 "nbformat_minor": 0
}
