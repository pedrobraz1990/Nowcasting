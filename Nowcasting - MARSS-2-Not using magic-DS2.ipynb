{
 "cells": [
  {
   "cell_type": "code",
   "execution_count": 1,
   "metadata": {
    "collapsed": false
   },
   "outputs": [],
   "source": [
    "%matplotlib inline\n",
    "%load_ext rpy2.ipython\n",
    "\n",
    "\n",
    "import datetime as dt\n",
    "import numpy as np\n",
    "import pandas as pd\n",
    "from sklearn.decomposition import PCA\n",
    "import statsmodels.api as sm\n",
    "from pykalman import KalmanFilter\n",
    "import numpy.ma as ma\n",
    "import scipy.linalg as linalg\n",
    "import statsmodels.api as sm\n",
    "import os.path\n",
    "import pickle\n",
    "\n",
    "import rpy2.robjects as robjects\n",
    "from rpy2.robjects.packages import importr\n",
    "\n",
    "# pd.set_option('max_rows', 20)\n",
    "pd.set_option('max_rows', 100)\n",
    "\n",
    "dataDetailsSheet = \"Plan2\""
   ]
  },
  {
   "cell_type": "code",
   "execution_count": 2,
   "metadata": {
    "collapsed": false
   },
   "outputs": [],
   "source": [
    "utils = importr(\"MARSS\")"
   ]
  },
  {
   "cell_type": "markdown",
   "metadata": {},
   "source": [
    "# Data\n",
    "\n",
    "## Regressors"
   ]
  },
  {
   "cell_type": "code",
   "execution_count": 3,
   "metadata": {
    "collapsed": false
   },
   "outputs": [],
   "source": [
    "data = pd.read_excel(\"Nowcasting.xlsx\",sheetname=\"Valores\")\n",
    "# data.head()\n",
    "series = data.loc[0,:][~data.loc[0,:].isnull()].tolist()\n",
    "data.columns = data.iloc[0]"
   ]
  },
  {
   "cell_type": "code",
   "execution_count": 4,
   "metadata": {
    "collapsed": false
   },
   "outputs": [
    {
     "name": "stderr",
     "output_type": "stream",
     "text": [
      "C:\\Anaconda3\\lib\\site-packages\\pandas\\indexes\\base.py:1877: FutureWarning: In the future, 'NAT < x' and 'x < NAT' will always be False.\n",
      "  self._values[0] < other_diff[0]\n"
     ]
    },
    {
     "data": {
      "text/html": [
       "<div>\n",
       "<table border=\"1\" class=\"dataframe\">\n",
       "  <thead>\n",
       "    <tr style=\"text-align: right;\">\n",
       "      <th></th>\n",
       "      <th>BZGDINDX Index</th>\n",
       "      <th>BZGDGNDI Index</th>\n",
       "      <th>BZGDFNCE Index</th>\n",
       "      <th>BZIPTLYo Index</th>\n",
       "      <th>BZUETOTN Index</th>\n",
       "      <th>BFOETTOD Index</th>\n",
       "      <th>MPMIBRMA Index</th>\n",
       "      <th>BZREELHT Index</th>\n",
       "      <th>BPPICM Index</th>\n",
       "      <th>BZPIIPCM Index</th>\n",
       "      <th>...</th>\n",
       "      <th>BZEASA INDEX</th>\n",
       "      <th>OEBRD003 INDEX</th>\n",
       "      <th>BZGDYOY% Index</th>\n",
       "      <th>BZGDQOQ Index</th>\n",
       "      <th>BZIPTLSA Index</th>\n",
       "      <th>BRLFUNRT Index</th>\n",
       "      <th>BFOETTSA Index</th>\n",
       "      <th>BZPIIPCY Index</th>\n",
       "      <th>BZRTRETM Index</th>\n",
       "      <th>BZJCTOTS Index</th>\n",
       "    </tr>\n",
       "  </thead>\n",
       "  <tbody>\n",
       "    <tr>\n",
       "      <th>2017-03-14</th>\n",
       "      <td>NaN</td>\n",
       "      <td>NaN</td>\n",
       "      <td>NaN</td>\n",
       "      <td>NaN</td>\n",
       "      <td>NaN</td>\n",
       "      <td>NaN</td>\n",
       "      <td>NaN</td>\n",
       "      <td>NaN</td>\n",
       "      <td>NaN</td>\n",
       "      <td>NaN</td>\n",
       "      <td>...</td>\n",
       "      <td>NaN</td>\n",
       "      <td>NaN</td>\n",
       "      <td>NaN</td>\n",
       "      <td>NaN</td>\n",
       "      <td>NaN</td>\n",
       "      <td>NaN</td>\n",
       "      <td>NaN</td>\n",
       "      <td>NaN</td>\n",
       "      <td>NaN</td>\n",
       "      <td>NaN</td>\n",
       "    </tr>\n",
       "    <tr>\n",
       "      <th>2017-03-15</th>\n",
       "      <td>NaN</td>\n",
       "      <td>NaN</td>\n",
       "      <td>NaN</td>\n",
       "      <td>NaN</td>\n",
       "      <td>NaN</td>\n",
       "      <td>NaN</td>\n",
       "      <td>NaN</td>\n",
       "      <td>NaN</td>\n",
       "      <td>NaN</td>\n",
       "      <td>NaN</td>\n",
       "      <td>...</td>\n",
       "      <td>NaN</td>\n",
       "      <td>NaN</td>\n",
       "      <td>NaN</td>\n",
       "      <td>NaN</td>\n",
       "      <td>NaN</td>\n",
       "      <td>NaN</td>\n",
       "      <td>NaN</td>\n",
       "      <td>NaN</td>\n",
       "      <td>NaN</td>\n",
       "      <td>NaN</td>\n",
       "    </tr>\n",
       "    <tr>\n",
       "      <th>2017-03-16</th>\n",
       "      <td>NaN</td>\n",
       "      <td>NaN</td>\n",
       "      <td>NaN</td>\n",
       "      <td>NaN</td>\n",
       "      <td>NaN</td>\n",
       "      <td>NaN</td>\n",
       "      <td>NaN</td>\n",
       "      <td>NaN</td>\n",
       "      <td>NaN</td>\n",
       "      <td>NaN</td>\n",
       "      <td>...</td>\n",
       "      <td>NaN</td>\n",
       "      <td>NaN</td>\n",
       "      <td>NaN</td>\n",
       "      <td>NaN</td>\n",
       "      <td>NaN</td>\n",
       "      <td>NaN</td>\n",
       "      <td>NaN</td>\n",
       "      <td>NaN</td>\n",
       "      <td>NaN</td>\n",
       "      <td>NaN</td>\n",
       "    </tr>\n",
       "    <tr>\n",
       "      <th>2017-03-17</th>\n",
       "      <td>NaN</td>\n",
       "      <td>NaN</td>\n",
       "      <td>NaN</td>\n",
       "      <td>NaN</td>\n",
       "      <td>NaN</td>\n",
       "      <td>NaN</td>\n",
       "      <td>NaN</td>\n",
       "      <td>NaN</td>\n",
       "      <td>NaN</td>\n",
       "      <td>NaN</td>\n",
       "      <td>...</td>\n",
       "      <td>NaN</td>\n",
       "      <td>NaN</td>\n",
       "      <td>NaN</td>\n",
       "      <td>NaN</td>\n",
       "      <td>NaN</td>\n",
       "      <td>NaN</td>\n",
       "      <td>NaN</td>\n",
       "      <td>NaN</td>\n",
       "      <td>NaN</td>\n",
       "      <td>NaN</td>\n",
       "    </tr>\n",
       "    <tr>\n",
       "      <th>2017-03-20</th>\n",
       "      <td>NaN</td>\n",
       "      <td>NaN</td>\n",
       "      <td>NaN</td>\n",
       "      <td>NaN</td>\n",
       "      <td>NaN</td>\n",
       "      <td>NaN</td>\n",
       "      <td>NaN</td>\n",
       "      <td>NaN</td>\n",
       "      <td>NaN</td>\n",
       "      <td>NaN</td>\n",
       "      <td>...</td>\n",
       "      <td>NaN</td>\n",
       "      <td>NaN</td>\n",
       "      <td>NaN</td>\n",
       "      <td>NaN</td>\n",
       "      <td>NaN</td>\n",
       "      <td>NaN</td>\n",
       "      <td>NaN</td>\n",
       "      <td>NaN</td>\n",
       "      <td>NaN</td>\n",
       "      <td>NaN</td>\n",
       "    </tr>\n",
       "  </tbody>\n",
       "</table>\n",
       "<p>5 rows × 31 columns</p>\n",
       "</div>"
      ],
      "text/plain": [
       "            BZGDINDX Index  BZGDGNDI Index  BZGDFNCE Index  BZIPTLYo Index  \\\n",
       "2017-03-14             NaN             NaN             NaN             NaN   \n",
       "2017-03-15             NaN             NaN             NaN             NaN   \n",
       "2017-03-16             NaN             NaN             NaN             NaN   \n",
       "2017-03-17             NaN             NaN             NaN             NaN   \n",
       "2017-03-20             NaN             NaN             NaN             NaN   \n",
       "\n",
       "            BZUETOTN Index  BFOETTOD Index  MPMIBRMA Index  BZREELHT Index  \\\n",
       "2017-03-14             NaN             NaN             NaN             NaN   \n",
       "2017-03-15             NaN             NaN             NaN             NaN   \n",
       "2017-03-16             NaN             NaN             NaN             NaN   \n",
       "2017-03-17             NaN             NaN             NaN             NaN   \n",
       "2017-03-20             NaN             NaN             NaN             NaN   \n",
       "\n",
       "            BPPICM Index  BZPIIPCM Index       ...        BZEASA INDEX  \\\n",
       "2017-03-14           NaN             NaN       ...                 NaN   \n",
       "2017-03-15           NaN             NaN       ...                 NaN   \n",
       "2017-03-16           NaN             NaN       ...                 NaN   \n",
       "2017-03-17           NaN             NaN       ...                 NaN   \n",
       "2017-03-20           NaN             NaN       ...                 NaN   \n",
       "\n",
       "            OEBRD003 INDEX  BZGDYOY% Index  BZGDQOQ Index  BZIPTLSA Index  \\\n",
       "2017-03-14             NaN             NaN            NaN             NaN   \n",
       "2017-03-15             NaN             NaN            NaN             NaN   \n",
       "2017-03-16             NaN             NaN            NaN             NaN   \n",
       "2017-03-17             NaN             NaN            NaN             NaN   \n",
       "2017-03-20             NaN             NaN            NaN             NaN   \n",
       "\n",
       "            BRLFUNRT Index  BFOETTSA Index  BZPIIPCY Index  BZRTRETM Index  \\\n",
       "2017-03-14             NaN             NaN             NaN             NaN   \n",
       "2017-03-15             NaN             NaN             NaN             NaN   \n",
       "2017-03-16             NaN             NaN             NaN             NaN   \n",
       "2017-03-17             NaN             NaN             NaN             NaN   \n",
       "2017-03-20             NaN             NaN             NaN             NaN   \n",
       "\n",
       "            BZJCTOTS Index  \n",
       "2017-03-14             NaN  \n",
       "2017-03-15             NaN  \n",
       "2017-03-16             NaN  \n",
       "2017-03-17             NaN  \n",
       "2017-03-20             NaN  \n",
       "\n",
       "[5 rows x 31 columns]"
      ]
     },
     "execution_count": 4,
     "metadata": {},
     "output_type": "execute_result"
    }
   ],
   "source": [
    "# i=data.columns.get_loc(\"MXWO Index\")\n",
    "# data.iloc[1:,i:i+2]\n",
    "\n",
    "dfsList = []\n",
    "\n",
    "for serie in series:\n",
    "    i = data.columns.get_loc(serie)\n",
    "    df = data.iloc[1:,i:i+2]\n",
    "    df.set_index(serie,inplace=True)\n",
    "    df.columns = [serie]\n",
    "    df = df.loc[~df.index.duplicated(keep='first')]\n",
    "    if not df[serie].isnull().all():\n",
    "        dfsList.append(df.apply(pd.to_numeric))\n",
    "\n",
    "data = pd.concat(dfsList,axis=1)\n",
    "data.sort_index(inplace=True)\n",
    "if data.loc[data.index[-1]].notnull().any() == False:\n",
    "    data.drop(data.index[-1],inplace=True)\n",
    "data.tail()"
   ]
  },
  {
   "cell_type": "code",
   "execution_count": 5,
   "metadata": {
    "collapsed": false,
    "scrolled": true
   },
   "outputs": [
    {
     "data": {
      "text/plain": [
       "True"
      ]
     },
     "execution_count": 5,
     "metadata": {},
     "output_type": "execute_result"
    }
   ],
   "source": [
    "data.loc[data.index[-1]].notnull().any()"
   ]
  },
  {
   "cell_type": "markdown",
   "metadata": {},
   "source": [
    "### Select Sample "
   ]
  },
  {
   "cell_type": "code",
   "execution_count": 6,
   "metadata": {
    "collapsed": false
   },
   "outputs": [],
   "source": [
    "gdpTicker = \"BZGDYOY% Index\"\n",
    "listOfCols = [\n",
    "    \"BZGDYOY% Index\",\n",
    "#     \"BZGDGNDI Index\",\n",
    "#     \"BZGDFNCE Index\",\n",
    "    \"BZIPTLSA Index\",\n",
    "    \"MPMIBRMA Index\",\n",
    "    \"BFOETTSA Index\",\n",
    "    \"BZREELHT Index\",\n",
    "    \"BZPIIPCY Index\",\n",
    "    \"BZPIIPCM Index\",\n",
    "    \"BZEXTOT$ Index\",\n",
    "    \"BZTBBALY INDEX\",\n",
    "    \"BZBXPBCM INDEX\",\n",
    "    \"BZRTFBSA INDEX\",\n",
    "    \"BZFGCCSA INDEX\",\n",
    "    \"ibov index\",\n",
    "    \"CL1 Comdty\",\n",
    "    \"BCSWLPD CURNCY\",\n",
    "    \"bcswfpd curncy\",\n",
    "    \"BZMOTRFB INDEX\",\n",
    "    \"BZJCTOTS Index\",\n",
    "    \"BZEASA INDEX\",\n",
    "    \"OEBRD003 INDEX\",\n",
    "    \"BZRTRETM Index\",\n",
    "]\n",
    "data = data[listOfCols]"
   ]
  },
  {
   "cell_type": "code",
   "execution_count": 7,
   "metadata": {
    "collapsed": false
   },
   "outputs": [
    {
     "data": {
      "text/plain": [
       "Timestamp('2000-01-05 00:00:00')"
      ]
     },
     "execution_count": 7,
     "metadata": {},
     "output_type": "execute_result"
    }
   ],
   "source": [
    "data.index.min()"
   ]
  },
  {
   "cell_type": "code",
   "execution_count": 8,
   "metadata": {
    "collapsed": false
   },
   "outputs": [
    {
     "data": {
      "text/plain": [
       "Timestamp('2017-03-20 00:00:00')"
      ]
     },
     "execution_count": 8,
     "metadata": {},
     "output_type": "execute_result"
    }
   ],
   "source": [
    "data.index.max()"
   ]
  },
  {
   "cell_type": "markdown",
   "metadata": {},
   "source": [
    "### Transformations\n"
   ]
  },
  {
   "cell_type": "code",
   "execution_count": 9,
   "metadata": {
    "collapsed": false
   },
   "outputs": [
    {
     "data": {
      "text/plain": [
       "Index(['BZGDYOY% Index', 'BZIPTLSA Index', 'MPMIBRMA Index', 'BFOETTSA Index',\n",
       "       'BZREELHT Index', 'BZPIIPCY Index', 'BZPIIPCM Index', 'BZEXTOT$ Index',\n",
       "       'BZTBBALY INDEX', 'BZBXPBCM INDEX', 'BZRTFBSA INDEX', 'BZFGCCSA INDEX',\n",
       "       'ibov index', 'CL1 Comdty', 'BCSWLPD CURNCY', 'bcswfpd curncy',\n",
       "       'BZMOTRFB INDEX', 'BZJCTOTS Index', 'BZEASA INDEX', 'OEBRD003 INDEX',\n",
       "       'BZRTRETM Index'],\n",
       "      dtype='object')"
      ]
     },
     "execution_count": 9,
     "metadata": {},
     "output_type": "execute_result"
    }
   ],
   "source": [
    "data.columns"
   ]
  },
  {
   "cell_type": "code",
   "execution_count": 10,
   "metadata": {
    "collapsed": false
   },
   "outputs": [],
   "source": [
    "transf = pd.read_excel(\"Nowcasting.xlsx\",sheetname=dataDetailsSheet,)\n",
    "transf.set_index(\"Code\",inplace=True)"
   ]
  },
  {
   "cell_type": "code",
   "execution_count": 11,
   "metadata": {
    "collapsed": false
   },
   "outputs": [
    {
     "name": "stdout",
     "output_type": "stream",
     "text": [
      "MPMIBRMA Index\n",
      "BZREELHT Index\n",
      "BZEXTOT$ Index\n",
      "BZTBBALY INDEX\n",
      "BZBXPBCM INDEX\n",
      "BZRTFBSA INDEX\n",
      "BZFGCCSA INDEX\n",
      "ibov index\n",
      "CL1 Comdty\n",
      "BCSWLPD CURNCY\n",
      "bcswfpd curncy\n",
      "BZEASA INDEX\n",
      "OEBRD003 INDEX\n",
      "BZIPTLSA Index\n",
      "BFOETTSA Index\n",
      "BZPIIPCY Index\n",
      "BZJCTOTS Index\n"
     ]
    },
    {
     "name": "stderr",
     "output_type": "stream",
     "text": [
      "C:\\Anaconda3\\lib\\site-packages\\pandas\\core\\algorithms.py:1251: RuntimeWarning: invalid value encountered in subtract\n",
      "  out_arr[res_indexer] = arr[res_indexer] - arr[lag_indexer]\n"
     ]
    }
   ],
   "source": [
    "for s in transf.index[transf[\"Log\"]==True]:\n",
    "    if s in data.columns:\n",
    "        data[s] = data[s].apply(np.log)\n",
    "    \n",
    "data = data.resample(\"M\").sum()\n",
    "    \n",
    "for s in transf.index[transf[\"Diff\"]==True]:\n",
    "    if s in data.columns:\n",
    "        print(s)\n",
    "        data[s] = data[s].diff()\n",
    "\n",
    "for s in transf.index[transf[\"DiffAnnual\"]==True]:\n",
    "    if s in data.columns:\n",
    "        data[s] = data[s].diff(3)"
   ]
  },
  {
   "cell_type": "code",
   "execution_count": 12,
   "metadata": {
    "collapsed": false
   },
   "outputs": [],
   "source": [
    "data.replace([np.inf, -np.inf], np.nan,inplace=True)"
   ]
  },
  {
   "cell_type": "markdown",
   "metadata": {},
   "source": [
    "### Standardize\n"
   ]
  },
  {
   "cell_type": "code",
   "execution_count": 13,
   "metadata": {
    "collapsed": false
   },
   "outputs": [],
   "source": [
    "mu = data.mean()\n",
    "sigma = data.std()\n",
    "data = (data - mu) / sigma"
   ]
  },
  {
   "cell_type": "markdown",
   "metadata": {},
   "source": [
    "### Stationarity"
   ]
  },
  {
   "cell_type": "code",
   "execution_count": 14,
   "metadata": {
    "collapsed": false
   },
   "outputs": [],
   "source": [
    "# For now we'll drop quarterly series\n",
    "# data.drop(\"BZGDGNDI Index\",axis=1,inplace=True)\n",
    "# data.drop(\"BZGDFNCE Index\",axis=1,inplace=True)\n",
    "# data.drop(\"ibov index\",axis=1,inplace=True)\n",
    "# data.drop(\"CL1 Comdty\",axis=1,inplace=True)\n",
    "# data.drop(\"BCSWLPD CURNCY\",axis=1,inplace=True)\n",
    "# data.drop(\"bcswfpd curncy\",axis=1,inplace=True)\n",
    "# data.drop(\"BZEXTOT$ Index\",axis=1,inplace=True)\n",
    "# data.drop(\"BZTBBALY INDEX\",axis=1,inplace=True)\n",
    "# data.drop(\"BZGDFNCE Index\",axis=1,inplace=True)\n",
    "# data.drop(\"BZGDFNCE Index\",axis=1,inplace=True)"
   ]
  },
  {
   "cell_type": "code",
   "execution_count": 15,
   "metadata": {
    "collapsed": false
   },
   "outputs": [
    {
     "name": "stdout",
     "output_type": "stream",
     "text": [
      "BZGDYOY% Index\n",
      "BZIPTLSA Index\n",
      "MPMIBRMA Index\n",
      "BFOETTSA Index\n",
      "BZREELHT Index\n",
      "BZPIIPCY Index\n",
      "BZPIIPCM Index\n",
      "BZEXTOT$ Index\n",
      "BZTBBALY INDEX\n",
      "BZBXPBCM INDEX\n",
      "Error\n",
      "BZRTFBSA INDEX\n",
      "BZFGCCSA INDEX\n",
      "ibov index\n",
      "CL1 Comdty\n",
      "BCSWLPD CURNCY\n",
      "bcswfpd curncy\n",
      "BZMOTRFB INDEX\n",
      "BZJCTOTS Index\n",
      "BZEASA INDEX\n",
      "OEBRD003 INDEX\n",
      "OEBRD003 INDEX 's p-value is: 0.41382820824\n",
      "BZRTRETM Index\n"
     ]
    }
   ],
   "source": [
    "for series in data.columns:\n",
    "    try:\n",
    "        d = data[series]   \n",
    "        print(series)\n",
    "        pv = sm.tsa.stattools.adfuller(d[d.notnull()])[1]\n",
    "        if pv > 0.11:\n",
    "            print(series + \" 's p-value is: \" + str(pv))\n",
    "    except:\n",
    "        print(\"Error\")"
   ]
  },
  {
   "cell_type": "markdown",
   "metadata": {},
   "source": [
    "# Dimensions"
   ]
  },
  {
   "cell_type": "code",
   "execution_count": 16,
   "metadata": {
    "collapsed": false
   },
   "outputs": [],
   "source": [
    "dataQ = data[[gdpTicker]]\n",
    "data.drop(gdpTicker,axis=1,inplace=True)"
   ]
  },
  {
   "cell_type": "code",
   "execution_count": 17,
   "metadata": {
    "collapsed": false
   },
   "outputs": [
    {
     "data": {
      "text/plain": [
       "207"
      ]
     },
     "execution_count": 17,
     "metadata": {},
     "output_type": "execute_result"
    }
   ],
   "source": [
    "T = data.shape[0]\n",
    "T"
   ]
  },
  {
   "cell_type": "code",
   "execution_count": 18,
   "metadata": {
    "collapsed": false
   },
   "outputs": [
    {
     "data": {
      "text/plain": [
       "21"
      ]
     },
     "execution_count": 18,
     "metadata": {},
     "output_type": "execute_result"
    }
   ],
   "source": [
    "n = (data.columns | dataQ.columns).shape[0]\n",
    "n"
   ]
  },
  {
   "cell_type": "code",
   "execution_count": 19,
   "metadata": {
    "collapsed": false
   },
   "outputs": [
    {
     "data": {
      "text/plain": [
       "20"
      ]
     },
     "execution_count": 19,
     "metadata": {},
     "output_type": "execute_result"
    }
   ],
   "source": [
    "nm = (data.columns).shape[0]\n",
    "nm"
   ]
  },
  {
   "cell_type": "code",
   "execution_count": 20,
   "metadata": {
    "collapsed": false
   },
   "outputs": [
    {
     "data": {
      "text/plain": [
       "1"
      ]
     },
     "execution_count": 20,
     "metadata": {},
     "output_type": "execute_result"
    }
   ],
   "source": [
    "nq = (dataQ.columns).shape[0]\n",
    "nq"
   ]
  },
  {
   "cell_type": "code",
   "execution_count": 21,
   "metadata": {
    "collapsed": false
   },
   "outputs": [
    {
     "data": {
      "text/plain": [
       "30"
      ]
     },
     "execution_count": 21,
     "metadata": {},
     "output_type": "execute_result"
    }
   ],
   "source": [
    "m = 5 + nm + 5 * nq\n",
    "m"
   ]
  },
  {
   "cell_type": "markdown",
   "metadata": {},
   "source": [
    "# Data Matrices\n",
    "\n",
    "$y$ which is $n \\times T$ will be the vertical stack of the monthly and quarterly variables"
   ]
  },
  {
   "cell_type": "code",
   "execution_count": 22,
   "metadata": {
    "collapsed": false
   },
   "outputs": [
    {
     "data": {
      "text/plain": [
       "(21, 207)"
      ]
     },
     "execution_count": 22,
     "metadata": {},
     "output_type": "execute_result"
    }
   ],
   "source": [
    "y = pd.concat([ data.transpose(), dataQ.transpose(),], axis=0)\n",
    "y.shape"
   ]
  },
  {
   "cell_type": "markdown",
   "metadata": {},
   "source": [
    "# Coefficients\n",
    "\n",
    "## Z Matrix\n",
    "\n",
    "The $Z$ matrix is a $n \\times m$"
   ]
  },
  {
   "cell_type": "code",
   "execution_count": 23,
   "metadata": {
    "collapsed": false
   },
   "outputs": [
    {
     "data": {
      "text/plain": [
       "(20, 30)"
      ]
     },
     "execution_count": 23,
     "metadata": {},
     "output_type": "execute_result"
    }
   ],
   "source": [
    "coefs = []\n",
    "for el in data.columns:\n",
    "    coefs.append(el + \"_loading\")\n",
    "lambdaM = pd.DataFrame(coefs)\n",
    "\n",
    "line1 = lambdaM\n",
    "line1 = pd.concat([line1, pd.DataFrame(np.zeros((nm,4)))], axis=1)\n",
    "\n",
    "line1 = pd.concat([line1, pd.DataFrame(np.identity(nm))], axis=1)\n",
    "missingDimension = m - line1.shape[1]\n",
    "line1 = pd.concat([line1, pd.DataFrame(np.zeros((nm,missingDimension)))], axis=1)\n",
    "\n",
    "line1.shape"
   ]
  },
  {
   "cell_type": "code",
   "execution_count": 24,
   "metadata": {
    "collapsed": false
   },
   "outputs": [],
   "source": [
    "coefs = []\n",
    "for el in dataQ.columns:\n",
    "    coefs.append(el + \"_loading\")\n",
    "lambdaQ = pd.DataFrame(coefs)\n",
    "\n",
    "line2 = lambdaQ\n",
    "line2 = pd.concat([line2, \"2*\" + lambdaQ], axis=1)\n",
    "line2 = pd.concat([line2, \"3*\" + lambdaQ], axis=1)\n",
    "line2 = pd.concat([line2, \"2*\" + lambdaQ], axis=1)\n",
    "line2 = pd.concat([line2, lambdaQ], axis=1)\n",
    "\n",
    "line2 = pd.concat([line2, pd.DataFrame(np.zeros((nq,nm)))], axis=1)\n",
    "\n",
    "line2 = pd.concat([line2, pd.DataFrame(np.ones((nq,1)))], axis=1)\n",
    "line2 = pd.concat([line2, 2*pd.DataFrame(np.ones((nq,1)))], axis=1)\n",
    "line2 = pd.concat([line2, 3*pd.DataFrame(np.ones((nq,1)))], axis=1)\n",
    "line2 = pd.concat([line2, 2*pd.DataFrame(np.ones((nq,1)))], axis=1)\n",
    "line2 = pd.concat([line2, pd.DataFrame(np.ones((nq,1)))], axis=1)\n"
   ]
  },
  {
   "cell_type": "code",
   "execution_count": 25,
   "metadata": {
    "collapsed": false
   },
   "outputs": [
    {
     "data": {
      "text/plain": [
       "(21, 30)"
      ]
     },
     "execution_count": 25,
     "metadata": {},
     "output_type": "execute_result"
    }
   ],
   "source": [
    "line1.columns = list(range(0,line1.columns.shape[0]))\n",
    "line2.columns = list(range(0,line2.columns.shape[0]))\n",
    "\n",
    "Z = pd.concat([line1,line2], axis=0, ignore_index=True)\n",
    "Z = Z.apply(pd.to_numeric,1,errors='ignore')\n",
    "Z = Z.apply(pd.to_numeric,0,errors='ignore')\n",
    "Z.shape"
   ]
  },
  {
   "cell_type": "code",
   "execution_count": 26,
   "metadata": {
    "collapsed": false
   },
   "outputs": [
    {
     "data": {
      "text/html": [
       "<div>\n",
       "<table border=\"1\" class=\"dataframe\">\n",
       "  <thead>\n",
       "    <tr style=\"text-align: right;\">\n",
       "      <th></th>\n",
       "      <th>0</th>\n",
       "      <th>1</th>\n",
       "      <th>2</th>\n",
       "      <th>3</th>\n",
       "      <th>4</th>\n",
       "      <th>5</th>\n",
       "      <th>6</th>\n",
       "      <th>7</th>\n",
       "      <th>8</th>\n",
       "      <th>9</th>\n",
       "      <th>...</th>\n",
       "      <th>20</th>\n",
       "      <th>21</th>\n",
       "      <th>22</th>\n",
       "      <th>23</th>\n",
       "      <th>24</th>\n",
       "      <th>25</th>\n",
       "      <th>26</th>\n",
       "      <th>27</th>\n",
       "      <th>28</th>\n",
       "      <th>29</th>\n",
       "    </tr>\n",
       "  </thead>\n",
       "  <tbody>\n",
       "    <tr>\n",
       "      <th>0</th>\n",
       "      <td>1</td>\n",
       "      <td>0</td>\n",
       "      <td>0</td>\n",
       "      <td>0</td>\n",
       "      <td>0</td>\n",
       "      <td>1.0</td>\n",
       "      <td>0.0</td>\n",
       "      <td>0.0</td>\n",
       "      <td>0.0</td>\n",
       "      <td>0.0</td>\n",
       "      <td>...</td>\n",
       "      <td>0.0</td>\n",
       "      <td>0.0</td>\n",
       "      <td>0.0</td>\n",
       "      <td>0.0</td>\n",
       "      <td>0.0</td>\n",
       "      <td>0.0</td>\n",
       "      <td>0.0</td>\n",
       "      <td>0.0</td>\n",
       "      <td>0.0</td>\n",
       "      <td>0.0</td>\n",
       "    </tr>\n",
       "    <tr>\n",
       "      <th>1</th>\n",
       "      <td>MPMIBRMA Index_loading</td>\n",
       "      <td>0</td>\n",
       "      <td>0</td>\n",
       "      <td>0</td>\n",
       "      <td>0</td>\n",
       "      <td>0.0</td>\n",
       "      <td>1.0</td>\n",
       "      <td>0.0</td>\n",
       "      <td>0.0</td>\n",
       "      <td>0.0</td>\n",
       "      <td>...</td>\n",
       "      <td>0.0</td>\n",
       "      <td>0.0</td>\n",
       "      <td>0.0</td>\n",
       "      <td>0.0</td>\n",
       "      <td>0.0</td>\n",
       "      <td>0.0</td>\n",
       "      <td>0.0</td>\n",
       "      <td>0.0</td>\n",
       "      <td>0.0</td>\n",
       "      <td>0.0</td>\n",
       "    </tr>\n",
       "    <tr>\n",
       "      <th>2</th>\n",
       "      <td>BFOETTSA Index_loading</td>\n",
       "      <td>0</td>\n",
       "      <td>0</td>\n",
       "      <td>0</td>\n",
       "      <td>0</td>\n",
       "      <td>0.0</td>\n",
       "      <td>0.0</td>\n",
       "      <td>1.0</td>\n",
       "      <td>0.0</td>\n",
       "      <td>0.0</td>\n",
       "      <td>...</td>\n",
       "      <td>0.0</td>\n",
       "      <td>0.0</td>\n",
       "      <td>0.0</td>\n",
       "      <td>0.0</td>\n",
       "      <td>0.0</td>\n",
       "      <td>0.0</td>\n",
       "      <td>0.0</td>\n",
       "      <td>0.0</td>\n",
       "      <td>0.0</td>\n",
       "      <td>0.0</td>\n",
       "    </tr>\n",
       "    <tr>\n",
       "      <th>3</th>\n",
       "      <td>BZREELHT Index_loading</td>\n",
       "      <td>0</td>\n",
       "      <td>0</td>\n",
       "      <td>0</td>\n",
       "      <td>0</td>\n",
       "      <td>0.0</td>\n",
       "      <td>0.0</td>\n",
       "      <td>0.0</td>\n",
       "      <td>1.0</td>\n",
       "      <td>0.0</td>\n",
       "      <td>...</td>\n",
       "      <td>0.0</td>\n",
       "      <td>0.0</td>\n",
       "      <td>0.0</td>\n",
       "      <td>0.0</td>\n",
       "      <td>0.0</td>\n",
       "      <td>0.0</td>\n",
       "      <td>0.0</td>\n",
       "      <td>0.0</td>\n",
       "      <td>0.0</td>\n",
       "      <td>0.0</td>\n",
       "    </tr>\n",
       "    <tr>\n",
       "      <th>4</th>\n",
       "      <td>BZPIIPCY Index_loading</td>\n",
       "      <td>0</td>\n",
       "      <td>0</td>\n",
       "      <td>0</td>\n",
       "      <td>0</td>\n",
       "      <td>0.0</td>\n",
       "      <td>0.0</td>\n",
       "      <td>0.0</td>\n",
       "      <td>0.0</td>\n",
       "      <td>1.0</td>\n",
       "      <td>...</td>\n",
       "      <td>0.0</td>\n",
       "      <td>0.0</td>\n",
       "      <td>0.0</td>\n",
       "      <td>0.0</td>\n",
       "      <td>0.0</td>\n",
       "      <td>0.0</td>\n",
       "      <td>0.0</td>\n",
       "      <td>0.0</td>\n",
       "      <td>0.0</td>\n",
       "      <td>0.0</td>\n",
       "    </tr>\n",
       "    <tr>\n",
       "      <th>5</th>\n",
       "      <td>BZPIIPCM Index_loading</td>\n",
       "      <td>0</td>\n",
       "      <td>0</td>\n",
       "      <td>0</td>\n",
       "      <td>0</td>\n",
       "      <td>0.0</td>\n",
       "      <td>0.0</td>\n",
       "      <td>0.0</td>\n",
       "      <td>0.0</td>\n",
       "      <td>0.0</td>\n",
       "      <td>...</td>\n",
       "      <td>0.0</td>\n",
       "      <td>0.0</td>\n",
       "      <td>0.0</td>\n",
       "      <td>0.0</td>\n",
       "      <td>0.0</td>\n",
       "      <td>0.0</td>\n",
       "      <td>0.0</td>\n",
       "      <td>0.0</td>\n",
       "      <td>0.0</td>\n",
       "      <td>0.0</td>\n",
       "    </tr>\n",
       "    <tr>\n",
       "      <th>6</th>\n",
       "      <td>BZEXTOT$ Index_loading</td>\n",
       "      <td>0</td>\n",
       "      <td>0</td>\n",
       "      <td>0</td>\n",
       "      <td>0</td>\n",
       "      <td>0.0</td>\n",
       "      <td>0.0</td>\n",
       "      <td>0.0</td>\n",
       "      <td>0.0</td>\n",
       "      <td>0.0</td>\n",
       "      <td>...</td>\n",
       "      <td>0.0</td>\n",
       "      <td>0.0</td>\n",
       "      <td>0.0</td>\n",
       "      <td>0.0</td>\n",
       "      <td>0.0</td>\n",
       "      <td>0.0</td>\n",
       "      <td>0.0</td>\n",
       "      <td>0.0</td>\n",
       "      <td>0.0</td>\n",
       "      <td>0.0</td>\n",
       "    </tr>\n",
       "    <tr>\n",
       "      <th>7</th>\n",
       "      <td>BZTBBALY INDEX_loading</td>\n",
       "      <td>0</td>\n",
       "      <td>0</td>\n",
       "      <td>0</td>\n",
       "      <td>0</td>\n",
       "      <td>0.0</td>\n",
       "      <td>0.0</td>\n",
       "      <td>0.0</td>\n",
       "      <td>0.0</td>\n",
       "      <td>0.0</td>\n",
       "      <td>...</td>\n",
       "      <td>0.0</td>\n",
       "      <td>0.0</td>\n",
       "      <td>0.0</td>\n",
       "      <td>0.0</td>\n",
       "      <td>0.0</td>\n",
       "      <td>0.0</td>\n",
       "      <td>0.0</td>\n",
       "      <td>0.0</td>\n",
       "      <td>0.0</td>\n",
       "      <td>0.0</td>\n",
       "    </tr>\n",
       "    <tr>\n",
       "      <th>8</th>\n",
       "      <td>BZBXPBCM INDEX_loading</td>\n",
       "      <td>0</td>\n",
       "      <td>0</td>\n",
       "      <td>0</td>\n",
       "      <td>0</td>\n",
       "      <td>0.0</td>\n",
       "      <td>0.0</td>\n",
       "      <td>0.0</td>\n",
       "      <td>0.0</td>\n",
       "      <td>0.0</td>\n",
       "      <td>...</td>\n",
       "      <td>0.0</td>\n",
       "      <td>0.0</td>\n",
       "      <td>0.0</td>\n",
       "      <td>0.0</td>\n",
       "      <td>0.0</td>\n",
       "      <td>0.0</td>\n",
       "      <td>0.0</td>\n",
       "      <td>0.0</td>\n",
       "      <td>0.0</td>\n",
       "      <td>0.0</td>\n",
       "    </tr>\n",
       "    <tr>\n",
       "      <th>9</th>\n",
       "      <td>BZRTFBSA INDEX_loading</td>\n",
       "      <td>0</td>\n",
       "      <td>0</td>\n",
       "      <td>0</td>\n",
       "      <td>0</td>\n",
       "      <td>0.0</td>\n",
       "      <td>0.0</td>\n",
       "      <td>0.0</td>\n",
       "      <td>0.0</td>\n",
       "      <td>0.0</td>\n",
       "      <td>...</td>\n",
       "      <td>0.0</td>\n",
       "      <td>0.0</td>\n",
       "      <td>0.0</td>\n",
       "      <td>0.0</td>\n",
       "      <td>0.0</td>\n",
       "      <td>0.0</td>\n",
       "      <td>0.0</td>\n",
       "      <td>0.0</td>\n",
       "      <td>0.0</td>\n",
       "      <td>0.0</td>\n",
       "    </tr>\n",
       "    <tr>\n",
       "      <th>10</th>\n",
       "      <td>BZFGCCSA INDEX_loading</td>\n",
       "      <td>0</td>\n",
       "      <td>0</td>\n",
       "      <td>0</td>\n",
       "      <td>0</td>\n",
       "      <td>0.0</td>\n",
       "      <td>0.0</td>\n",
       "      <td>0.0</td>\n",
       "      <td>0.0</td>\n",
       "      <td>0.0</td>\n",
       "      <td>...</td>\n",
       "      <td>0.0</td>\n",
       "      <td>0.0</td>\n",
       "      <td>0.0</td>\n",
       "      <td>0.0</td>\n",
       "      <td>0.0</td>\n",
       "      <td>0.0</td>\n",
       "      <td>0.0</td>\n",
       "      <td>0.0</td>\n",
       "      <td>0.0</td>\n",
       "      <td>0.0</td>\n",
       "    </tr>\n",
       "    <tr>\n",
       "      <th>11</th>\n",
       "      <td>ibov index_loading</td>\n",
       "      <td>0</td>\n",
       "      <td>0</td>\n",
       "      <td>0</td>\n",
       "      <td>0</td>\n",
       "      <td>0.0</td>\n",
       "      <td>0.0</td>\n",
       "      <td>0.0</td>\n",
       "      <td>0.0</td>\n",
       "      <td>0.0</td>\n",
       "      <td>...</td>\n",
       "      <td>0.0</td>\n",
       "      <td>0.0</td>\n",
       "      <td>0.0</td>\n",
       "      <td>0.0</td>\n",
       "      <td>0.0</td>\n",
       "      <td>0.0</td>\n",
       "      <td>0.0</td>\n",
       "      <td>0.0</td>\n",
       "      <td>0.0</td>\n",
       "      <td>0.0</td>\n",
       "    </tr>\n",
       "    <tr>\n",
       "      <th>12</th>\n",
       "      <td>CL1 Comdty_loading</td>\n",
       "      <td>0</td>\n",
       "      <td>0</td>\n",
       "      <td>0</td>\n",
       "      <td>0</td>\n",
       "      <td>0.0</td>\n",
       "      <td>0.0</td>\n",
       "      <td>0.0</td>\n",
       "      <td>0.0</td>\n",
       "      <td>0.0</td>\n",
       "      <td>...</td>\n",
       "      <td>0.0</td>\n",
       "      <td>0.0</td>\n",
       "      <td>0.0</td>\n",
       "      <td>0.0</td>\n",
       "      <td>0.0</td>\n",
       "      <td>0.0</td>\n",
       "      <td>0.0</td>\n",
       "      <td>0.0</td>\n",
       "      <td>0.0</td>\n",
       "      <td>0.0</td>\n",
       "    </tr>\n",
       "    <tr>\n",
       "      <th>13</th>\n",
       "      <td>BCSWLPD CURNCY_loading</td>\n",
       "      <td>0</td>\n",
       "      <td>0</td>\n",
       "      <td>0</td>\n",
       "      <td>0</td>\n",
       "      <td>0.0</td>\n",
       "      <td>0.0</td>\n",
       "      <td>0.0</td>\n",
       "      <td>0.0</td>\n",
       "      <td>0.0</td>\n",
       "      <td>...</td>\n",
       "      <td>0.0</td>\n",
       "      <td>0.0</td>\n",
       "      <td>0.0</td>\n",
       "      <td>0.0</td>\n",
       "      <td>0.0</td>\n",
       "      <td>0.0</td>\n",
       "      <td>0.0</td>\n",
       "      <td>0.0</td>\n",
       "      <td>0.0</td>\n",
       "      <td>0.0</td>\n",
       "    </tr>\n",
       "    <tr>\n",
       "      <th>14</th>\n",
       "      <td>bcswfpd curncy_loading</td>\n",
       "      <td>0</td>\n",
       "      <td>0</td>\n",
       "      <td>0</td>\n",
       "      <td>0</td>\n",
       "      <td>0.0</td>\n",
       "      <td>0.0</td>\n",
       "      <td>0.0</td>\n",
       "      <td>0.0</td>\n",
       "      <td>0.0</td>\n",
       "      <td>...</td>\n",
       "      <td>0.0</td>\n",
       "      <td>0.0</td>\n",
       "      <td>0.0</td>\n",
       "      <td>0.0</td>\n",
       "      <td>0.0</td>\n",
       "      <td>0.0</td>\n",
       "      <td>0.0</td>\n",
       "      <td>0.0</td>\n",
       "      <td>0.0</td>\n",
       "      <td>0.0</td>\n",
       "    </tr>\n",
       "    <tr>\n",
       "      <th>15</th>\n",
       "      <td>BZMOTRFB INDEX_loading</td>\n",
       "      <td>0</td>\n",
       "      <td>0</td>\n",
       "      <td>0</td>\n",
       "      <td>0</td>\n",
       "      <td>0.0</td>\n",
       "      <td>0.0</td>\n",
       "      <td>0.0</td>\n",
       "      <td>0.0</td>\n",
       "      <td>0.0</td>\n",
       "      <td>...</td>\n",
       "      <td>1.0</td>\n",
       "      <td>0.0</td>\n",
       "      <td>0.0</td>\n",
       "      <td>0.0</td>\n",
       "      <td>0.0</td>\n",
       "      <td>0.0</td>\n",
       "      <td>0.0</td>\n",
       "      <td>0.0</td>\n",
       "      <td>0.0</td>\n",
       "      <td>0.0</td>\n",
       "    </tr>\n",
       "    <tr>\n",
       "      <th>16</th>\n",
       "      <td>BZJCTOTS Index_loading</td>\n",
       "      <td>0</td>\n",
       "      <td>0</td>\n",
       "      <td>0</td>\n",
       "      <td>0</td>\n",
       "      <td>0.0</td>\n",
       "      <td>0.0</td>\n",
       "      <td>0.0</td>\n",
       "      <td>0.0</td>\n",
       "      <td>0.0</td>\n",
       "      <td>...</td>\n",
       "      <td>0.0</td>\n",
       "      <td>1.0</td>\n",
       "      <td>0.0</td>\n",
       "      <td>0.0</td>\n",
       "      <td>0.0</td>\n",
       "      <td>0.0</td>\n",
       "      <td>0.0</td>\n",
       "      <td>0.0</td>\n",
       "      <td>0.0</td>\n",
       "      <td>0.0</td>\n",
       "    </tr>\n",
       "    <tr>\n",
       "      <th>17</th>\n",
       "      <td>BZEASA INDEX_loading</td>\n",
       "      <td>0</td>\n",
       "      <td>0</td>\n",
       "      <td>0</td>\n",
       "      <td>0</td>\n",
       "      <td>0.0</td>\n",
       "      <td>0.0</td>\n",
       "      <td>0.0</td>\n",
       "      <td>0.0</td>\n",
       "      <td>0.0</td>\n",
       "      <td>...</td>\n",
       "      <td>0.0</td>\n",
       "      <td>0.0</td>\n",
       "      <td>1.0</td>\n",
       "      <td>0.0</td>\n",
       "      <td>0.0</td>\n",
       "      <td>0.0</td>\n",
       "      <td>0.0</td>\n",
       "      <td>0.0</td>\n",
       "      <td>0.0</td>\n",
       "      <td>0.0</td>\n",
       "    </tr>\n",
       "    <tr>\n",
       "      <th>18</th>\n",
       "      <td>OEBRD003 INDEX_loading</td>\n",
       "      <td>0</td>\n",
       "      <td>0</td>\n",
       "      <td>0</td>\n",
       "      <td>0</td>\n",
       "      <td>0.0</td>\n",
       "      <td>0.0</td>\n",
       "      <td>0.0</td>\n",
       "      <td>0.0</td>\n",
       "      <td>0.0</td>\n",
       "      <td>...</td>\n",
       "      <td>0.0</td>\n",
       "      <td>0.0</td>\n",
       "      <td>0.0</td>\n",
       "      <td>1.0</td>\n",
       "      <td>0.0</td>\n",
       "      <td>0.0</td>\n",
       "      <td>0.0</td>\n",
       "      <td>0.0</td>\n",
       "      <td>0.0</td>\n",
       "      <td>0.0</td>\n",
       "    </tr>\n",
       "    <tr>\n",
       "      <th>19</th>\n",
       "      <td>BZRTRETM Index_loading</td>\n",
       "      <td>0</td>\n",
       "      <td>0</td>\n",
       "      <td>0</td>\n",
       "      <td>0</td>\n",
       "      <td>0.0</td>\n",
       "      <td>0.0</td>\n",
       "      <td>0.0</td>\n",
       "      <td>0.0</td>\n",
       "      <td>0.0</td>\n",
       "      <td>...</td>\n",
       "      <td>0.0</td>\n",
       "      <td>0.0</td>\n",
       "      <td>0.0</td>\n",
       "      <td>0.0</td>\n",
       "      <td>1.0</td>\n",
       "      <td>0.0</td>\n",
       "      <td>0.0</td>\n",
       "      <td>0.0</td>\n",
       "      <td>0.0</td>\n",
       "      <td>0.0</td>\n",
       "    </tr>\n",
       "    <tr>\n",
       "      <th>20</th>\n",
       "      <td>BZGDYOY% Index_loading</td>\n",
       "      <td>2*BZGDYOY% Index_loading</td>\n",
       "      <td>3*BZGDYOY% Index_loading</td>\n",
       "      <td>2*BZGDYOY% Index_loading</td>\n",
       "      <td>BZGDYOY% Index_loading</td>\n",
       "      <td>0.0</td>\n",
       "      <td>0.0</td>\n",
       "      <td>0.0</td>\n",
       "      <td>0.0</td>\n",
       "      <td>0.0</td>\n",
       "      <td>...</td>\n",
       "      <td>0.0</td>\n",
       "      <td>0.0</td>\n",
       "      <td>0.0</td>\n",
       "      <td>0.0</td>\n",
       "      <td>0.0</td>\n",
       "      <td>1.0</td>\n",
       "      <td>2.0</td>\n",
       "      <td>3.0</td>\n",
       "      <td>2.0</td>\n",
       "      <td>1.0</td>\n",
       "    </tr>\n",
       "  </tbody>\n",
       "</table>\n",
       "<p>21 rows × 30 columns</p>\n",
       "</div>"
      ],
      "text/plain": [
       "                        0                         1   \\\n",
       "0                        1                         0   \n",
       "1   MPMIBRMA Index_loading                         0   \n",
       "2   BFOETTSA Index_loading                         0   \n",
       "3   BZREELHT Index_loading                         0   \n",
       "4   BZPIIPCY Index_loading                         0   \n",
       "5   BZPIIPCM Index_loading                         0   \n",
       "6   BZEXTOT$ Index_loading                         0   \n",
       "7   BZTBBALY INDEX_loading                         0   \n",
       "8   BZBXPBCM INDEX_loading                         0   \n",
       "9   BZRTFBSA INDEX_loading                         0   \n",
       "10  BZFGCCSA INDEX_loading                         0   \n",
       "11      ibov index_loading                         0   \n",
       "12      CL1 Comdty_loading                         0   \n",
       "13  BCSWLPD CURNCY_loading                         0   \n",
       "14  bcswfpd curncy_loading                         0   \n",
       "15  BZMOTRFB INDEX_loading                         0   \n",
       "16  BZJCTOTS Index_loading                         0   \n",
       "17    BZEASA INDEX_loading                         0   \n",
       "18  OEBRD003 INDEX_loading                         0   \n",
       "19  BZRTRETM Index_loading                         0   \n",
       "20  BZGDYOY% Index_loading  2*BZGDYOY% Index_loading   \n",
       "\n",
       "                          2                         3   \\\n",
       "0                          0                         0   \n",
       "1                          0                         0   \n",
       "2                          0                         0   \n",
       "3                          0                         0   \n",
       "4                          0                         0   \n",
       "5                          0                         0   \n",
       "6                          0                         0   \n",
       "7                          0                         0   \n",
       "8                          0                         0   \n",
       "9                          0                         0   \n",
       "10                         0                         0   \n",
       "11                         0                         0   \n",
       "12                         0                         0   \n",
       "13                         0                         0   \n",
       "14                         0                         0   \n",
       "15                         0                         0   \n",
       "16                         0                         0   \n",
       "17                         0                         0   \n",
       "18                         0                         0   \n",
       "19                         0                         0   \n",
       "20  3*BZGDYOY% Index_loading  2*BZGDYOY% Index_loading   \n",
       "\n",
       "                        4    5    6    7    8    9  ...    20   21   22   23  \\\n",
       "0                        0  1.0  0.0  0.0  0.0  0.0 ...   0.0  0.0  0.0  0.0   \n",
       "1                        0  0.0  1.0  0.0  0.0  0.0 ...   0.0  0.0  0.0  0.0   \n",
       "2                        0  0.0  0.0  1.0  0.0  0.0 ...   0.0  0.0  0.0  0.0   \n",
       "3                        0  0.0  0.0  0.0  1.0  0.0 ...   0.0  0.0  0.0  0.0   \n",
       "4                        0  0.0  0.0  0.0  0.0  1.0 ...   0.0  0.0  0.0  0.0   \n",
       "5                        0  0.0  0.0  0.0  0.0  0.0 ...   0.0  0.0  0.0  0.0   \n",
       "6                        0  0.0  0.0  0.0  0.0  0.0 ...   0.0  0.0  0.0  0.0   \n",
       "7                        0  0.0  0.0  0.0  0.0  0.0 ...   0.0  0.0  0.0  0.0   \n",
       "8                        0  0.0  0.0  0.0  0.0  0.0 ...   0.0  0.0  0.0  0.0   \n",
       "9                        0  0.0  0.0  0.0  0.0  0.0 ...   0.0  0.0  0.0  0.0   \n",
       "10                       0  0.0  0.0  0.0  0.0  0.0 ...   0.0  0.0  0.0  0.0   \n",
       "11                       0  0.0  0.0  0.0  0.0  0.0 ...   0.0  0.0  0.0  0.0   \n",
       "12                       0  0.0  0.0  0.0  0.0  0.0 ...   0.0  0.0  0.0  0.0   \n",
       "13                       0  0.0  0.0  0.0  0.0  0.0 ...   0.0  0.0  0.0  0.0   \n",
       "14                       0  0.0  0.0  0.0  0.0  0.0 ...   0.0  0.0  0.0  0.0   \n",
       "15                       0  0.0  0.0  0.0  0.0  0.0 ...   1.0  0.0  0.0  0.0   \n",
       "16                       0  0.0  0.0  0.0  0.0  0.0 ...   0.0  1.0  0.0  0.0   \n",
       "17                       0  0.0  0.0  0.0  0.0  0.0 ...   0.0  0.0  1.0  0.0   \n",
       "18                       0  0.0  0.0  0.0  0.0  0.0 ...   0.0  0.0  0.0  1.0   \n",
       "19                       0  0.0  0.0  0.0  0.0  0.0 ...   0.0  0.0  0.0  0.0   \n",
       "20  BZGDYOY% Index_loading  0.0  0.0  0.0  0.0  0.0 ...   0.0  0.0  0.0  0.0   \n",
       "\n",
       "     24   25   26   27   28   29  \n",
       "0   0.0  0.0  0.0  0.0  0.0  0.0  \n",
       "1   0.0  0.0  0.0  0.0  0.0  0.0  \n",
       "2   0.0  0.0  0.0  0.0  0.0  0.0  \n",
       "3   0.0  0.0  0.0  0.0  0.0  0.0  \n",
       "4   0.0  0.0  0.0  0.0  0.0  0.0  \n",
       "5   0.0  0.0  0.0  0.0  0.0  0.0  \n",
       "6   0.0  0.0  0.0  0.0  0.0  0.0  \n",
       "7   0.0  0.0  0.0  0.0  0.0  0.0  \n",
       "8   0.0  0.0  0.0  0.0  0.0  0.0  \n",
       "9   0.0  0.0  0.0  0.0  0.0  0.0  \n",
       "10  0.0  0.0  0.0  0.0  0.0  0.0  \n",
       "11  0.0  0.0  0.0  0.0  0.0  0.0  \n",
       "12  0.0  0.0  0.0  0.0  0.0  0.0  \n",
       "13  0.0  0.0  0.0  0.0  0.0  0.0  \n",
       "14  0.0  0.0  0.0  0.0  0.0  0.0  \n",
       "15  0.0  0.0  0.0  0.0  0.0  0.0  \n",
       "16  0.0  0.0  0.0  0.0  0.0  0.0  \n",
       "17  0.0  0.0  0.0  0.0  0.0  0.0  \n",
       "18  0.0  0.0  0.0  0.0  0.0  0.0  \n",
       "19  1.0  0.0  0.0  0.0  0.0  0.0  \n",
       "20  0.0  1.0  2.0  3.0  2.0  1.0  \n",
       "\n",
       "[21 rows x 30 columns]"
      ]
     },
     "execution_count": 26,
     "metadata": {},
     "output_type": "execute_result"
    }
   ],
   "source": [
    "# trying to impose restriction described in p 13-14 about identifying the model\n",
    "Z.iloc[0,0] = 1\n",
    "Z"
   ]
  },
  {
   "cell_type": "markdown",
   "metadata": {},
   "source": [
    "## B Matrix\n",
    "\n",
    "$B$ matrix is $m \\times m$"
   ]
  },
  {
   "cell_type": "code",
   "execution_count": 27,
   "metadata": {
    "collapsed": false
   },
   "outputs": [
    {
     "data": {
      "text/plain": [
       "(30, 30)"
      ]
     },
     "execution_count": 27,
     "metadata": {},
     "output_type": "execute_result"
    }
   ],
   "source": [
    "bMat = np.array([\"A1\",0.,0.,0.])\n",
    "bMat = np.vstack((np.array(bMat),np.identity(4)))\n",
    "bMat = linalg.block_diag(bMat,np.array([0]))\n",
    "\n",
    "alphaM = \"alphaM_\" + pd.DataFrame(data.columns.tolist()).astype(str) \n",
    "# alphaM = alphaM.transpose()[0]\n",
    "alphaM = np.diag(alphaM[0])\n",
    "\n",
    "bMat = bMat[:-1]\n",
    "\n",
    "bMat = linalg.block_diag(bMat,alphaM)\n",
    "\n",
    "alphaQ = \"alphaQ_\" + pd.DataFrame(dataQ.columns.tolist()).astype(str) \n",
    "# alphaQ = alphaQ.transpose()[0]\n",
    "alphaQ = np.diag(alphaQ[0])\n",
    "\n",
    "bMat = linalg.block_diag(bMat,alphaQ)\n",
    "\n",
    "newLine = np.hstack((np.zeros((nq,bMat.shape[1]-nq)),np.identity(nq)))\n",
    "bMat = np.vstack((bMat,newLine))\n",
    "\n",
    "bMat = linalg.block_diag(bMat,np.identity(m-bMat.shape[1]-1))\n",
    "bMat = linalg.block_diag(bMat,np.array([0]))\n",
    "bMat = bMat[:-1]\n",
    "B = pd.DataFrame(bMat)\n",
    "B = B.apply(pd.to_numeric,1,errors='ignore')\n",
    "B = B.apply(pd.to_numeric,0,errors='ignore')\n",
    "# alphaM\n",
    "# newLine\n",
    "# pd.to_numeric(pd.DataFrame(bMat)[0].iloc[1])\n",
    "B.shape"
   ]
  },
  {
   "cell_type": "markdown",
   "metadata": {},
   "source": [
    "## Q Matrix\n",
    "\n",
    "$Q_t$ is $m \\times m$\n"
   ]
  },
  {
   "cell_type": "code",
   "execution_count": 28,
   "metadata": {
    "collapsed": true
   },
   "outputs": [],
   "source": [
    "u = np.array(\"u_t\")\n",
    "u = np.vstack((u,np.zeros((4,1))))\n",
    "merrors = \"em_\" + pd.DataFrame(np.array([list(range(0,nm))])).astype(str)\n",
    "u = np.vstack((u,merrors.T))\n",
    "\n",
    "merrors = \"eq_\" + pd.DataFrame(np.array([list(range(0,nq))])).astype(str)\n",
    "u = np.vstack((u,merrors.T))\n",
    "\n",
    "u = np.vstack((u,np.zeros((m-u.shape[0],1))))\n",
    "\n",
    "u = pd.DataFrame(u)\n",
    "\n",
    "u[0] = pd.to_numeric(u[0],errors='ignore')\n",
    "\n",
    "idx = np.unique(np.where(u==\"0.0\" )[0].tolist() + np.where(u==0 )[0].tolist())"
   ]
  },
  {
   "cell_type": "code",
   "execution_count": 29,
   "metadata": {
    "collapsed": false
   },
   "outputs": [
    {
     "data": {
      "text/plain": [
       "(30, 30)"
      ]
     },
     "execution_count": 29,
     "metadata": {},
     "output_type": "execute_result"
    }
   ],
   "source": [
    "Q = \"Q_\" + pd.DataFrame([range(0,m)]).astype(str) \n",
    "Q = Q.transpose()[0]\n",
    "Q = np.diag(Q)\n",
    "Q[idx] = 0\n",
    "Q = pd.DataFrame(Q)\n",
    "Q.shape"
   ]
  },
  {
   "cell_type": "code",
   "execution_count": 30,
   "metadata": {
    "collapsed": false
   },
   "outputs": [
    {
     "data": {
      "text/html": [
       "<div>\n",
       "<table border=\"1\" class=\"dataframe\">\n",
       "  <thead>\n",
       "    <tr style=\"text-align: right;\">\n",
       "      <th></th>\n",
       "      <th>0</th>\n",
       "      <th>1</th>\n",
       "      <th>2</th>\n",
       "      <th>3</th>\n",
       "      <th>4</th>\n",
       "      <th>5</th>\n",
       "      <th>6</th>\n",
       "      <th>7</th>\n",
       "      <th>8</th>\n",
       "      <th>9</th>\n",
       "      <th>...</th>\n",
       "      <th>20</th>\n",
       "      <th>21</th>\n",
       "      <th>22</th>\n",
       "      <th>23</th>\n",
       "      <th>24</th>\n",
       "      <th>25</th>\n",
       "      <th>26</th>\n",
       "      <th>27</th>\n",
       "      <th>28</th>\n",
       "      <th>29</th>\n",
       "    </tr>\n",
       "  </thead>\n",
       "  <tbody>\n",
       "    <tr>\n",
       "      <th>0</th>\n",
       "      <td>Q_0</td>\n",
       "      <td>0</td>\n",
       "      <td>0</td>\n",
       "      <td>0</td>\n",
       "      <td>0</td>\n",
       "      <td>0</td>\n",
       "      <td>0</td>\n",
       "      <td>0</td>\n",
       "      <td>0</td>\n",
       "      <td>0</td>\n",
       "      <td>...</td>\n",
       "      <td>0</td>\n",
       "      <td>0</td>\n",
       "      <td>0</td>\n",
       "      <td>0</td>\n",
       "      <td>0</td>\n",
       "      <td>0</td>\n",
       "      <td>0</td>\n",
       "      <td>0</td>\n",
       "      <td>0</td>\n",
       "      <td>0</td>\n",
       "    </tr>\n",
       "    <tr>\n",
       "      <th>1</th>\n",
       "      <td>0</td>\n",
       "      <td>0</td>\n",
       "      <td>0</td>\n",
       "      <td>0</td>\n",
       "      <td>0</td>\n",
       "      <td>0</td>\n",
       "      <td>0</td>\n",
       "      <td>0</td>\n",
       "      <td>0</td>\n",
       "      <td>0</td>\n",
       "      <td>...</td>\n",
       "      <td>0</td>\n",
       "      <td>0</td>\n",
       "      <td>0</td>\n",
       "      <td>0</td>\n",
       "      <td>0</td>\n",
       "      <td>0</td>\n",
       "      <td>0</td>\n",
       "      <td>0</td>\n",
       "      <td>0</td>\n",
       "      <td>0</td>\n",
       "    </tr>\n",
       "    <tr>\n",
       "      <th>2</th>\n",
       "      <td>0</td>\n",
       "      <td>0</td>\n",
       "      <td>0</td>\n",
       "      <td>0</td>\n",
       "      <td>0</td>\n",
       "      <td>0</td>\n",
       "      <td>0</td>\n",
       "      <td>0</td>\n",
       "      <td>0</td>\n",
       "      <td>0</td>\n",
       "      <td>...</td>\n",
       "      <td>0</td>\n",
       "      <td>0</td>\n",
       "      <td>0</td>\n",
       "      <td>0</td>\n",
       "      <td>0</td>\n",
       "      <td>0</td>\n",
       "      <td>0</td>\n",
       "      <td>0</td>\n",
       "      <td>0</td>\n",
       "      <td>0</td>\n",
       "    </tr>\n",
       "    <tr>\n",
       "      <th>3</th>\n",
       "      <td>0</td>\n",
       "      <td>0</td>\n",
       "      <td>0</td>\n",
       "      <td>0</td>\n",
       "      <td>0</td>\n",
       "      <td>0</td>\n",
       "      <td>0</td>\n",
       "      <td>0</td>\n",
       "      <td>0</td>\n",
       "      <td>0</td>\n",
       "      <td>...</td>\n",
       "      <td>0</td>\n",
       "      <td>0</td>\n",
       "      <td>0</td>\n",
       "      <td>0</td>\n",
       "      <td>0</td>\n",
       "      <td>0</td>\n",
       "      <td>0</td>\n",
       "      <td>0</td>\n",
       "      <td>0</td>\n",
       "      <td>0</td>\n",
       "    </tr>\n",
       "    <tr>\n",
       "      <th>4</th>\n",
       "      <td>0</td>\n",
       "      <td>0</td>\n",
       "      <td>0</td>\n",
       "      <td>0</td>\n",
       "      <td>0</td>\n",
       "      <td>0</td>\n",
       "      <td>0</td>\n",
       "      <td>0</td>\n",
       "      <td>0</td>\n",
       "      <td>0</td>\n",
       "      <td>...</td>\n",
       "      <td>0</td>\n",
       "      <td>0</td>\n",
       "      <td>0</td>\n",
       "      <td>0</td>\n",
       "      <td>0</td>\n",
       "      <td>0</td>\n",
       "      <td>0</td>\n",
       "      <td>0</td>\n",
       "      <td>0</td>\n",
       "      <td>0</td>\n",
       "    </tr>\n",
       "    <tr>\n",
       "      <th>5</th>\n",
       "      <td>0</td>\n",
       "      <td>0</td>\n",
       "      <td>0</td>\n",
       "      <td>0</td>\n",
       "      <td>0</td>\n",
       "      <td>Q_5</td>\n",
       "      <td>0</td>\n",
       "      <td>0</td>\n",
       "      <td>0</td>\n",
       "      <td>0</td>\n",
       "      <td>...</td>\n",
       "      <td>0</td>\n",
       "      <td>0</td>\n",
       "      <td>0</td>\n",
       "      <td>0</td>\n",
       "      <td>0</td>\n",
       "      <td>0</td>\n",
       "      <td>0</td>\n",
       "      <td>0</td>\n",
       "      <td>0</td>\n",
       "      <td>0</td>\n",
       "    </tr>\n",
       "    <tr>\n",
       "      <th>6</th>\n",
       "      <td>0</td>\n",
       "      <td>0</td>\n",
       "      <td>0</td>\n",
       "      <td>0</td>\n",
       "      <td>0</td>\n",
       "      <td>0</td>\n",
       "      <td>Q_6</td>\n",
       "      <td>0</td>\n",
       "      <td>0</td>\n",
       "      <td>0</td>\n",
       "      <td>...</td>\n",
       "      <td>0</td>\n",
       "      <td>0</td>\n",
       "      <td>0</td>\n",
       "      <td>0</td>\n",
       "      <td>0</td>\n",
       "      <td>0</td>\n",
       "      <td>0</td>\n",
       "      <td>0</td>\n",
       "      <td>0</td>\n",
       "      <td>0</td>\n",
       "    </tr>\n",
       "    <tr>\n",
       "      <th>7</th>\n",
       "      <td>0</td>\n",
       "      <td>0</td>\n",
       "      <td>0</td>\n",
       "      <td>0</td>\n",
       "      <td>0</td>\n",
       "      <td>0</td>\n",
       "      <td>0</td>\n",
       "      <td>Q_7</td>\n",
       "      <td>0</td>\n",
       "      <td>0</td>\n",
       "      <td>...</td>\n",
       "      <td>0</td>\n",
       "      <td>0</td>\n",
       "      <td>0</td>\n",
       "      <td>0</td>\n",
       "      <td>0</td>\n",
       "      <td>0</td>\n",
       "      <td>0</td>\n",
       "      <td>0</td>\n",
       "      <td>0</td>\n",
       "      <td>0</td>\n",
       "    </tr>\n",
       "    <tr>\n",
       "      <th>8</th>\n",
       "      <td>0</td>\n",
       "      <td>0</td>\n",
       "      <td>0</td>\n",
       "      <td>0</td>\n",
       "      <td>0</td>\n",
       "      <td>0</td>\n",
       "      <td>0</td>\n",
       "      <td>0</td>\n",
       "      <td>Q_8</td>\n",
       "      <td>0</td>\n",
       "      <td>...</td>\n",
       "      <td>0</td>\n",
       "      <td>0</td>\n",
       "      <td>0</td>\n",
       "      <td>0</td>\n",
       "      <td>0</td>\n",
       "      <td>0</td>\n",
       "      <td>0</td>\n",
       "      <td>0</td>\n",
       "      <td>0</td>\n",
       "      <td>0</td>\n",
       "    </tr>\n",
       "    <tr>\n",
       "      <th>9</th>\n",
       "      <td>0</td>\n",
       "      <td>0</td>\n",
       "      <td>0</td>\n",
       "      <td>0</td>\n",
       "      <td>0</td>\n",
       "      <td>0</td>\n",
       "      <td>0</td>\n",
       "      <td>0</td>\n",
       "      <td>0</td>\n",
       "      <td>Q_9</td>\n",
       "      <td>...</td>\n",
       "      <td>0</td>\n",
       "      <td>0</td>\n",
       "      <td>0</td>\n",
       "      <td>0</td>\n",
       "      <td>0</td>\n",
       "      <td>0</td>\n",
       "      <td>0</td>\n",
       "      <td>0</td>\n",
       "      <td>0</td>\n",
       "      <td>0</td>\n",
       "    </tr>\n",
       "    <tr>\n",
       "      <th>10</th>\n",
       "      <td>0</td>\n",
       "      <td>0</td>\n",
       "      <td>0</td>\n",
       "      <td>0</td>\n",
       "      <td>0</td>\n",
       "      <td>0</td>\n",
       "      <td>0</td>\n",
       "      <td>0</td>\n",
       "      <td>0</td>\n",
       "      <td>0</td>\n",
       "      <td>...</td>\n",
       "      <td>0</td>\n",
       "      <td>0</td>\n",
       "      <td>0</td>\n",
       "      <td>0</td>\n",
       "      <td>0</td>\n",
       "      <td>0</td>\n",
       "      <td>0</td>\n",
       "      <td>0</td>\n",
       "      <td>0</td>\n",
       "      <td>0</td>\n",
       "    </tr>\n",
       "    <tr>\n",
       "      <th>11</th>\n",
       "      <td>0</td>\n",
       "      <td>0</td>\n",
       "      <td>0</td>\n",
       "      <td>0</td>\n",
       "      <td>0</td>\n",
       "      <td>0</td>\n",
       "      <td>0</td>\n",
       "      <td>0</td>\n",
       "      <td>0</td>\n",
       "      <td>0</td>\n",
       "      <td>...</td>\n",
       "      <td>0</td>\n",
       "      <td>0</td>\n",
       "      <td>0</td>\n",
       "      <td>0</td>\n",
       "      <td>0</td>\n",
       "      <td>0</td>\n",
       "      <td>0</td>\n",
       "      <td>0</td>\n",
       "      <td>0</td>\n",
       "      <td>0</td>\n",
       "    </tr>\n",
       "    <tr>\n",
       "      <th>12</th>\n",
       "      <td>0</td>\n",
       "      <td>0</td>\n",
       "      <td>0</td>\n",
       "      <td>0</td>\n",
       "      <td>0</td>\n",
       "      <td>0</td>\n",
       "      <td>0</td>\n",
       "      <td>0</td>\n",
       "      <td>0</td>\n",
       "      <td>0</td>\n",
       "      <td>...</td>\n",
       "      <td>0</td>\n",
       "      <td>0</td>\n",
       "      <td>0</td>\n",
       "      <td>0</td>\n",
       "      <td>0</td>\n",
       "      <td>0</td>\n",
       "      <td>0</td>\n",
       "      <td>0</td>\n",
       "      <td>0</td>\n",
       "      <td>0</td>\n",
       "    </tr>\n",
       "    <tr>\n",
       "      <th>13</th>\n",
       "      <td>0</td>\n",
       "      <td>0</td>\n",
       "      <td>0</td>\n",
       "      <td>0</td>\n",
       "      <td>0</td>\n",
       "      <td>0</td>\n",
       "      <td>0</td>\n",
       "      <td>0</td>\n",
       "      <td>0</td>\n",
       "      <td>0</td>\n",
       "      <td>...</td>\n",
       "      <td>0</td>\n",
       "      <td>0</td>\n",
       "      <td>0</td>\n",
       "      <td>0</td>\n",
       "      <td>0</td>\n",
       "      <td>0</td>\n",
       "      <td>0</td>\n",
       "      <td>0</td>\n",
       "      <td>0</td>\n",
       "      <td>0</td>\n",
       "    </tr>\n",
       "    <tr>\n",
       "      <th>14</th>\n",
       "      <td>0</td>\n",
       "      <td>0</td>\n",
       "      <td>0</td>\n",
       "      <td>0</td>\n",
       "      <td>0</td>\n",
       "      <td>0</td>\n",
       "      <td>0</td>\n",
       "      <td>0</td>\n",
       "      <td>0</td>\n",
       "      <td>0</td>\n",
       "      <td>...</td>\n",
       "      <td>0</td>\n",
       "      <td>0</td>\n",
       "      <td>0</td>\n",
       "      <td>0</td>\n",
       "      <td>0</td>\n",
       "      <td>0</td>\n",
       "      <td>0</td>\n",
       "      <td>0</td>\n",
       "      <td>0</td>\n",
       "      <td>0</td>\n",
       "    </tr>\n",
       "    <tr>\n",
       "      <th>15</th>\n",
       "      <td>0</td>\n",
       "      <td>0</td>\n",
       "      <td>0</td>\n",
       "      <td>0</td>\n",
       "      <td>0</td>\n",
       "      <td>0</td>\n",
       "      <td>0</td>\n",
       "      <td>0</td>\n",
       "      <td>0</td>\n",
       "      <td>0</td>\n",
       "      <td>...</td>\n",
       "      <td>0</td>\n",
       "      <td>0</td>\n",
       "      <td>0</td>\n",
       "      <td>0</td>\n",
       "      <td>0</td>\n",
       "      <td>0</td>\n",
       "      <td>0</td>\n",
       "      <td>0</td>\n",
       "      <td>0</td>\n",
       "      <td>0</td>\n",
       "    </tr>\n",
       "    <tr>\n",
       "      <th>16</th>\n",
       "      <td>0</td>\n",
       "      <td>0</td>\n",
       "      <td>0</td>\n",
       "      <td>0</td>\n",
       "      <td>0</td>\n",
       "      <td>0</td>\n",
       "      <td>0</td>\n",
       "      <td>0</td>\n",
       "      <td>0</td>\n",
       "      <td>0</td>\n",
       "      <td>...</td>\n",
       "      <td>0</td>\n",
       "      <td>0</td>\n",
       "      <td>0</td>\n",
       "      <td>0</td>\n",
       "      <td>0</td>\n",
       "      <td>0</td>\n",
       "      <td>0</td>\n",
       "      <td>0</td>\n",
       "      <td>0</td>\n",
       "      <td>0</td>\n",
       "    </tr>\n",
       "    <tr>\n",
       "      <th>17</th>\n",
       "      <td>0</td>\n",
       "      <td>0</td>\n",
       "      <td>0</td>\n",
       "      <td>0</td>\n",
       "      <td>0</td>\n",
       "      <td>0</td>\n",
       "      <td>0</td>\n",
       "      <td>0</td>\n",
       "      <td>0</td>\n",
       "      <td>0</td>\n",
       "      <td>...</td>\n",
       "      <td>0</td>\n",
       "      <td>0</td>\n",
       "      <td>0</td>\n",
       "      <td>0</td>\n",
       "      <td>0</td>\n",
       "      <td>0</td>\n",
       "      <td>0</td>\n",
       "      <td>0</td>\n",
       "      <td>0</td>\n",
       "      <td>0</td>\n",
       "    </tr>\n",
       "    <tr>\n",
       "      <th>18</th>\n",
       "      <td>0</td>\n",
       "      <td>0</td>\n",
       "      <td>0</td>\n",
       "      <td>0</td>\n",
       "      <td>0</td>\n",
       "      <td>0</td>\n",
       "      <td>0</td>\n",
       "      <td>0</td>\n",
       "      <td>0</td>\n",
       "      <td>0</td>\n",
       "      <td>...</td>\n",
       "      <td>0</td>\n",
       "      <td>0</td>\n",
       "      <td>0</td>\n",
       "      <td>0</td>\n",
       "      <td>0</td>\n",
       "      <td>0</td>\n",
       "      <td>0</td>\n",
       "      <td>0</td>\n",
       "      <td>0</td>\n",
       "      <td>0</td>\n",
       "    </tr>\n",
       "    <tr>\n",
       "      <th>19</th>\n",
       "      <td>0</td>\n",
       "      <td>0</td>\n",
       "      <td>0</td>\n",
       "      <td>0</td>\n",
       "      <td>0</td>\n",
       "      <td>0</td>\n",
       "      <td>0</td>\n",
       "      <td>0</td>\n",
       "      <td>0</td>\n",
       "      <td>0</td>\n",
       "      <td>...</td>\n",
       "      <td>0</td>\n",
       "      <td>0</td>\n",
       "      <td>0</td>\n",
       "      <td>0</td>\n",
       "      <td>0</td>\n",
       "      <td>0</td>\n",
       "      <td>0</td>\n",
       "      <td>0</td>\n",
       "      <td>0</td>\n",
       "      <td>0</td>\n",
       "    </tr>\n",
       "    <tr>\n",
       "      <th>20</th>\n",
       "      <td>0</td>\n",
       "      <td>0</td>\n",
       "      <td>0</td>\n",
       "      <td>0</td>\n",
       "      <td>0</td>\n",
       "      <td>0</td>\n",
       "      <td>0</td>\n",
       "      <td>0</td>\n",
       "      <td>0</td>\n",
       "      <td>0</td>\n",
       "      <td>...</td>\n",
       "      <td>Q_20</td>\n",
       "      <td>0</td>\n",
       "      <td>0</td>\n",
       "      <td>0</td>\n",
       "      <td>0</td>\n",
       "      <td>0</td>\n",
       "      <td>0</td>\n",
       "      <td>0</td>\n",
       "      <td>0</td>\n",
       "      <td>0</td>\n",
       "    </tr>\n",
       "    <tr>\n",
       "      <th>21</th>\n",
       "      <td>0</td>\n",
       "      <td>0</td>\n",
       "      <td>0</td>\n",
       "      <td>0</td>\n",
       "      <td>0</td>\n",
       "      <td>0</td>\n",
       "      <td>0</td>\n",
       "      <td>0</td>\n",
       "      <td>0</td>\n",
       "      <td>0</td>\n",
       "      <td>...</td>\n",
       "      <td>0</td>\n",
       "      <td>Q_21</td>\n",
       "      <td>0</td>\n",
       "      <td>0</td>\n",
       "      <td>0</td>\n",
       "      <td>0</td>\n",
       "      <td>0</td>\n",
       "      <td>0</td>\n",
       "      <td>0</td>\n",
       "      <td>0</td>\n",
       "    </tr>\n",
       "    <tr>\n",
       "      <th>22</th>\n",
       "      <td>0</td>\n",
       "      <td>0</td>\n",
       "      <td>0</td>\n",
       "      <td>0</td>\n",
       "      <td>0</td>\n",
       "      <td>0</td>\n",
       "      <td>0</td>\n",
       "      <td>0</td>\n",
       "      <td>0</td>\n",
       "      <td>0</td>\n",
       "      <td>...</td>\n",
       "      <td>0</td>\n",
       "      <td>0</td>\n",
       "      <td>Q_22</td>\n",
       "      <td>0</td>\n",
       "      <td>0</td>\n",
       "      <td>0</td>\n",
       "      <td>0</td>\n",
       "      <td>0</td>\n",
       "      <td>0</td>\n",
       "      <td>0</td>\n",
       "    </tr>\n",
       "    <tr>\n",
       "      <th>23</th>\n",
       "      <td>0</td>\n",
       "      <td>0</td>\n",
       "      <td>0</td>\n",
       "      <td>0</td>\n",
       "      <td>0</td>\n",
       "      <td>0</td>\n",
       "      <td>0</td>\n",
       "      <td>0</td>\n",
       "      <td>0</td>\n",
       "      <td>0</td>\n",
       "      <td>...</td>\n",
       "      <td>0</td>\n",
       "      <td>0</td>\n",
       "      <td>0</td>\n",
       "      <td>Q_23</td>\n",
       "      <td>0</td>\n",
       "      <td>0</td>\n",
       "      <td>0</td>\n",
       "      <td>0</td>\n",
       "      <td>0</td>\n",
       "      <td>0</td>\n",
       "    </tr>\n",
       "    <tr>\n",
       "      <th>24</th>\n",
       "      <td>0</td>\n",
       "      <td>0</td>\n",
       "      <td>0</td>\n",
       "      <td>0</td>\n",
       "      <td>0</td>\n",
       "      <td>0</td>\n",
       "      <td>0</td>\n",
       "      <td>0</td>\n",
       "      <td>0</td>\n",
       "      <td>0</td>\n",
       "      <td>...</td>\n",
       "      <td>0</td>\n",
       "      <td>0</td>\n",
       "      <td>0</td>\n",
       "      <td>0</td>\n",
       "      <td>Q_24</td>\n",
       "      <td>0</td>\n",
       "      <td>0</td>\n",
       "      <td>0</td>\n",
       "      <td>0</td>\n",
       "      <td>0</td>\n",
       "    </tr>\n",
       "    <tr>\n",
       "      <th>25</th>\n",
       "      <td>0</td>\n",
       "      <td>0</td>\n",
       "      <td>0</td>\n",
       "      <td>0</td>\n",
       "      <td>0</td>\n",
       "      <td>0</td>\n",
       "      <td>0</td>\n",
       "      <td>0</td>\n",
       "      <td>0</td>\n",
       "      <td>0</td>\n",
       "      <td>...</td>\n",
       "      <td>0</td>\n",
       "      <td>0</td>\n",
       "      <td>0</td>\n",
       "      <td>0</td>\n",
       "      <td>0</td>\n",
       "      <td>Q_25</td>\n",
       "      <td>0</td>\n",
       "      <td>0</td>\n",
       "      <td>0</td>\n",
       "      <td>0</td>\n",
       "    </tr>\n",
       "    <tr>\n",
       "      <th>26</th>\n",
       "      <td>0</td>\n",
       "      <td>0</td>\n",
       "      <td>0</td>\n",
       "      <td>0</td>\n",
       "      <td>0</td>\n",
       "      <td>0</td>\n",
       "      <td>0</td>\n",
       "      <td>0</td>\n",
       "      <td>0</td>\n",
       "      <td>0</td>\n",
       "      <td>...</td>\n",
       "      <td>0</td>\n",
       "      <td>0</td>\n",
       "      <td>0</td>\n",
       "      <td>0</td>\n",
       "      <td>0</td>\n",
       "      <td>0</td>\n",
       "      <td>0</td>\n",
       "      <td>0</td>\n",
       "      <td>0</td>\n",
       "      <td>0</td>\n",
       "    </tr>\n",
       "    <tr>\n",
       "      <th>27</th>\n",
       "      <td>0</td>\n",
       "      <td>0</td>\n",
       "      <td>0</td>\n",
       "      <td>0</td>\n",
       "      <td>0</td>\n",
       "      <td>0</td>\n",
       "      <td>0</td>\n",
       "      <td>0</td>\n",
       "      <td>0</td>\n",
       "      <td>0</td>\n",
       "      <td>...</td>\n",
       "      <td>0</td>\n",
       "      <td>0</td>\n",
       "      <td>0</td>\n",
       "      <td>0</td>\n",
       "      <td>0</td>\n",
       "      <td>0</td>\n",
       "      <td>0</td>\n",
       "      <td>0</td>\n",
       "      <td>0</td>\n",
       "      <td>0</td>\n",
       "    </tr>\n",
       "    <tr>\n",
       "      <th>28</th>\n",
       "      <td>0</td>\n",
       "      <td>0</td>\n",
       "      <td>0</td>\n",
       "      <td>0</td>\n",
       "      <td>0</td>\n",
       "      <td>0</td>\n",
       "      <td>0</td>\n",
       "      <td>0</td>\n",
       "      <td>0</td>\n",
       "      <td>0</td>\n",
       "      <td>...</td>\n",
       "      <td>0</td>\n",
       "      <td>0</td>\n",
       "      <td>0</td>\n",
       "      <td>0</td>\n",
       "      <td>0</td>\n",
       "      <td>0</td>\n",
       "      <td>0</td>\n",
       "      <td>0</td>\n",
       "      <td>0</td>\n",
       "      <td>0</td>\n",
       "    </tr>\n",
       "    <tr>\n",
       "      <th>29</th>\n",
       "      <td>0</td>\n",
       "      <td>0</td>\n",
       "      <td>0</td>\n",
       "      <td>0</td>\n",
       "      <td>0</td>\n",
       "      <td>0</td>\n",
       "      <td>0</td>\n",
       "      <td>0</td>\n",
       "      <td>0</td>\n",
       "      <td>0</td>\n",
       "      <td>...</td>\n",
       "      <td>0</td>\n",
       "      <td>0</td>\n",
       "      <td>0</td>\n",
       "      <td>0</td>\n",
       "      <td>0</td>\n",
       "      <td>0</td>\n",
       "      <td>0</td>\n",
       "      <td>0</td>\n",
       "      <td>0</td>\n",
       "      <td>0</td>\n",
       "    </tr>\n",
       "  </tbody>\n",
       "</table>\n",
       "<p>30 rows × 30 columns</p>\n",
       "</div>"
      ],
      "text/plain": [
       "     0  1  2  3  4    5    6    7    8    9  ...    20    21    22    23  \\\n",
       "0   Q_0  0  0  0  0    0    0    0    0    0 ...     0     0     0     0   \n",
       "1     0  0  0  0  0    0    0    0    0    0 ...     0     0     0     0   \n",
       "2     0  0  0  0  0    0    0    0    0    0 ...     0     0     0     0   \n",
       "3     0  0  0  0  0    0    0    0    0    0 ...     0     0     0     0   \n",
       "4     0  0  0  0  0    0    0    0    0    0 ...     0     0     0     0   \n",
       "5     0  0  0  0  0  Q_5    0    0    0    0 ...     0     0     0     0   \n",
       "6     0  0  0  0  0    0  Q_6    0    0    0 ...     0     0     0     0   \n",
       "7     0  0  0  0  0    0    0  Q_7    0    0 ...     0     0     0     0   \n",
       "8     0  0  0  0  0    0    0    0  Q_8    0 ...     0     0     0     0   \n",
       "9     0  0  0  0  0    0    0    0    0  Q_9 ...     0     0     0     0   \n",
       "10    0  0  0  0  0    0    0    0    0    0 ...     0     0     0     0   \n",
       "11    0  0  0  0  0    0    0    0    0    0 ...     0     0     0     0   \n",
       "12    0  0  0  0  0    0    0    0    0    0 ...     0     0     0     0   \n",
       "13    0  0  0  0  0    0    0    0    0    0 ...     0     0     0     0   \n",
       "14    0  0  0  0  0    0    0    0    0    0 ...     0     0     0     0   \n",
       "15    0  0  0  0  0    0    0    0    0    0 ...     0     0     0     0   \n",
       "16    0  0  0  0  0    0    0    0    0    0 ...     0     0     0     0   \n",
       "17    0  0  0  0  0    0    0    0    0    0 ...     0     0     0     0   \n",
       "18    0  0  0  0  0    0    0    0    0    0 ...     0     0     0     0   \n",
       "19    0  0  0  0  0    0    0    0    0    0 ...     0     0     0     0   \n",
       "20    0  0  0  0  0    0    0    0    0    0 ...  Q_20     0     0     0   \n",
       "21    0  0  0  0  0    0    0    0    0    0 ...     0  Q_21     0     0   \n",
       "22    0  0  0  0  0    0    0    0    0    0 ...     0     0  Q_22     0   \n",
       "23    0  0  0  0  0    0    0    0    0    0 ...     0     0     0  Q_23   \n",
       "24    0  0  0  0  0    0    0    0    0    0 ...     0     0     0     0   \n",
       "25    0  0  0  0  0    0    0    0    0    0 ...     0     0     0     0   \n",
       "26    0  0  0  0  0    0    0    0    0    0 ...     0     0     0     0   \n",
       "27    0  0  0  0  0    0    0    0    0    0 ...     0     0     0     0   \n",
       "28    0  0  0  0  0    0    0    0    0    0 ...     0     0     0     0   \n",
       "29    0  0  0  0  0    0    0    0    0    0 ...     0     0     0     0   \n",
       "\n",
       "      24    25 26 27 28 29  \n",
       "0      0     0  0  0  0  0  \n",
       "1      0     0  0  0  0  0  \n",
       "2      0     0  0  0  0  0  \n",
       "3      0     0  0  0  0  0  \n",
       "4      0     0  0  0  0  0  \n",
       "5      0     0  0  0  0  0  \n",
       "6      0     0  0  0  0  0  \n",
       "7      0     0  0  0  0  0  \n",
       "8      0     0  0  0  0  0  \n",
       "9      0     0  0  0  0  0  \n",
       "10     0     0  0  0  0  0  \n",
       "11     0     0  0  0  0  0  \n",
       "12     0     0  0  0  0  0  \n",
       "13     0     0  0  0  0  0  \n",
       "14     0     0  0  0  0  0  \n",
       "15     0     0  0  0  0  0  \n",
       "16     0     0  0  0  0  0  \n",
       "17     0     0  0  0  0  0  \n",
       "18     0     0  0  0  0  0  \n",
       "19     0     0  0  0  0  0  \n",
       "20     0     0  0  0  0  0  \n",
       "21     0     0  0  0  0  0  \n",
       "22     0     0  0  0  0  0  \n",
       "23     0     0  0  0  0  0  \n",
       "24  Q_24     0  0  0  0  0  \n",
       "25     0  Q_25  0  0  0  0  \n",
       "26     0     0  0  0  0  0  \n",
       "27     0     0  0  0  0  0  \n",
       "28     0     0  0  0  0  0  \n",
       "29     0     0  0  0  0  0  \n",
       "\n",
       "[30 rows x 30 columns]"
      ]
     },
     "execution_count": 30,
     "metadata": {},
     "output_type": "execute_result"
    }
   ],
   "source": [
    "Q"
   ]
  },
  {
   "cell_type": "markdown",
   "metadata": {},
   "source": [
    "# Estimation without initial values"
   ]
  },
  {
   "cell_type": "code",
   "execution_count": 31,
   "metadata": {
    "collapsed": true
   },
   "outputs": [],
   "source": [
    "Zi = Z.as_matrix().T.flatten()\n",
    "Bi = B.as_matrix().T.flatten()\n",
    "Qi = Q.as_matrix().T.flatten()\n",
    "yi = y.as_matrix()"
   ]
  },
  {
   "cell_type": "code",
   "execution_count": 32,
   "metadata": {
    "collapsed": false
   },
   "outputs": [
    {
     "data": {
      "text/plain": [
       "(30, 30)"
      ]
     },
     "execution_count": 32,
     "metadata": {},
     "output_type": "execute_result"
    }
   ],
   "source": [
    "B.shape"
   ]
  },
  {
   "cell_type": "code",
   "execution_count": 33,
   "metadata": {
    "collapsed": false
   },
   "outputs": [
    {
     "data": {
      "text/plain": [
       "(21, 30)"
      ]
     },
     "execution_count": 33,
     "metadata": {},
     "output_type": "execute_result"
    }
   ],
   "source": [
    "Z.shape"
   ]
  },
  {
   "cell_type": "code",
   "execution_count": 34,
   "metadata": {
    "collapsed": false
   },
   "outputs": [
    {
     "data": {
      "text/plain": [
       "(21, 207)"
      ]
     },
     "execution_count": 34,
     "metadata": {},
     "output_type": "execute_result"
    }
   ],
   "source": [
    "y.shape"
   ]
  },
  {
   "cell_type": "code",
   "execution_count": 35,
   "metadata": {
    "collapsed": false
   },
   "outputs": [
    {
     "data": {
      "text/plain": [
       "(30, 30)"
      ]
     },
     "execution_count": 35,
     "metadata": {},
     "output_type": "execute_result"
    }
   ],
   "source": [
    "Q.shape"
   ]
  },
  {
   "cell_type": "code",
   "execution_count": 36,
   "metadata": {
    "collapsed": false
   },
   "outputs": [],
   "source": [
    "# %%R -i Zi,Bi,yi,Z,Qi,m,n\n",
    "\n",
    "# print(dim(Zi))\n",
    "# Zi=matrix(Zi,n,m)\n",
    "# Bi=matrix(Bi,m,m)\n",
    "# Qi=matrix(Qi,m,m)\n",
    "\n",
    "# print(dim(Zi))\n",
    "# print(dim(Bi))\n",
    "# print(dim(Qi))\n",
    "\n",
    "\n",
    "# model.gen=list(Z=Zi,B=Bi,Q=Qi,A=\"zero\",x0=\"zero\",U=\"zero\")\n",
    "\n",
    "# kemfit = MARSS(yi, model=model.gen,control=list(minit=1,maxit=2,\n",
    "#                                                 conv.test.slope.tol=0.00001,\n",
    "#                                                 abstol=0.00001))\n",
    "# # kemfit = MARSS(yi, model=model.gen)\n",
    "\n",
    "# # states = kemfit$states\n",
    "# states = print(kemfit, what=\"model\")\n",
    "# # message(kemfit, what=\"model\")\n",
    "# # print(kemfit, what=\"start\")\n",
    "# # print(kemfit, what=\"states\")\n",
    "# # print(kemfit, what=\"ytT\")\n",
    "# # print(kemfit, what=\"states.se\")\n",
    "# # print(kemfit, what=\"kfs\")\n",
    "# # print(kemfit$par$Z)\n",
    "# # message(\"porra\")\n",
    "# # states=\"\"\n",
    "# # cat(\"teste\")"
   ]
  },
  {
   "cell_type": "code",
   "execution_count": 37,
   "metadata": {
    "collapsed": false
   },
   "outputs": [
    {
     "name": "stdout",
     "output_type": "stream",
     "text": [
      "2017-03-24 10:32:54.559489\n"
     ]
    }
   ],
   "source": [
    "print(dt.datetime.now())"
   ]
  },
  {
   "cell_type": "markdown",
   "metadata": {},
   "source": [
    "# Initial Values\n",
    "\n",
    "## PCA"
   ]
  },
  {
   "cell_type": "code",
   "execution_count": 38,
   "metadata": {
    "collapsed": false
   },
   "outputs": [
    {
     "name": "stdout",
     "output_type": "stream",
     "text": [
      "[ 0.23743172]\n"
     ]
    }
   ],
   "source": [
    "n_components=1\n",
    "pca = PCA(n_components=n_components)\n",
    "components = pca.fit_transform(y.transpose().fillna(0))\n",
    "components = pd.DataFrame(components)\n",
    "# components.set_index(data[balancedIndex].index, inplace=True)\n",
    "\n",
    "print(pca.explained_variance_ratio_) "
   ]
  },
  {
   "cell_type": "code",
   "execution_count": 39,
   "metadata": {
    "collapsed": false
   },
   "outputs": [
    {
     "data": {
      "text/plain": [
       "(207, 1)"
      ]
     },
     "execution_count": 39,
     "metadata": {},
     "output_type": "execute_result"
    }
   ],
   "source": [
    "components.set_index(y.transpose().index,inplace=True)\n",
    "components.shape"
   ]
  },
  {
   "cell_type": "code",
   "execution_count": 40,
   "metadata": {
    "collapsed": false,
    "scrolled": true
   },
   "outputs": [
    {
     "data": {
      "text/plain": [
       "<matplotlib.axes._subplots.AxesSubplot at 0x1a41a7806d8>"
      ]
     },
     "execution_count": 40,
     "metadata": {},
     "output_type": "execute_result"
    },
    {
     "data": {
      "image/png": "[encoded data removed]",
      "text/plain": [
       "<matplotlib.figure.Figure at 0x1a41a75dc50>"
      ]
     },
     "metadata": {},
     "output_type": "display_data"
    }
   ],
   "source": [
    "pd.DataFrame(components).plot()"
   ]
  },
  {
   "cell_type": "markdown",
   "metadata": {},
   "source": [
    "## OLS for $\\Lambda$ estimation"
   ]
  },
  {
   "cell_type": "code",
   "execution_count": 41,
   "metadata": {
    "collapsed": false,
    "scrolled": true
   },
   "outputs": [
    {
     "data": {
      "text/html": [
       "<div>\n",
       "<table border=\"1\" class=\"dataframe\">\n",
       "  <thead>\n",
       "    <tr style=\"text-align: right;\">\n",
       "      <th></th>\n",
       "      <th>BZIPTLSA Index</th>\n",
       "      <th>MPMIBRMA Index</th>\n",
       "      <th>BFOETTSA Index</th>\n",
       "      <th>BZREELHT Index</th>\n",
       "      <th>BZPIIPCY Index</th>\n",
       "      <th>BZPIIPCM Index</th>\n",
       "      <th>BZEXTOT$ Index</th>\n",
       "      <th>BZTBBALY INDEX</th>\n",
       "      <th>BZBXPBCM INDEX</th>\n",
       "      <th>BZRTFBSA INDEX</th>\n",
       "      <th>BZFGCCSA INDEX</th>\n",
       "      <th>ibov index</th>\n",
       "      <th>CL1 Comdty</th>\n",
       "      <th>BCSWLPD CURNCY</th>\n",
       "      <th>bcswfpd curncy</th>\n",
       "      <th>BZMOTRFB INDEX</th>\n",
       "      <th>BZJCTOTS Index</th>\n",
       "      <th>BZEASA INDEX</th>\n",
       "      <th>OEBRD003 INDEX</th>\n",
       "      <th>BZRTRETM Index</th>\n",
       "    </tr>\n",
       "  </thead>\n",
       "  <tbody>\n",
       "    <tr>\n",
       "      <th>2000-01-31</th>\n",
       "      <td>NaN</td>\n",
       "      <td>NaN</td>\n",
       "      <td>NaN</td>\n",
       "      <td>NaN</td>\n",
       "      <td>NaN</td>\n",
       "      <td>0.436592</td>\n",
       "      <td>NaN</td>\n",
       "      <td>NaN</td>\n",
       "      <td>NaN</td>\n",
       "      <td>NaN</td>\n",
       "      <td>NaN</td>\n",
       "      <td>NaN</td>\n",
       "      <td>NaN</td>\n",
       "      <td>NaN</td>\n",
       "      <td>NaN</td>\n",
       "      <td>NaN</td>\n",
       "      <td>NaN</td>\n",
       "      <td>NaN</td>\n",
       "      <td>NaN</td>\n",
       "      <td>NaN</td>\n",
       "    </tr>\n",
       "    <tr>\n",
       "      <th>2000-02-29</th>\n",
       "      <td>NaN</td>\n",
       "      <td>NaN</td>\n",
       "      <td>NaN</td>\n",
       "      <td>NaN</td>\n",
       "      <td>-1.722609</td>\n",
       "      <td>-1.510498</td>\n",
       "      <td>1.327472</td>\n",
       "      <td>NaN</td>\n",
       "      <td>NaN</td>\n",
       "      <td>0.390218</td>\n",
       "      <td>NaN</td>\n",
       "      <td>1.411873</td>\n",
       "      <td>0.972554</td>\n",
       "      <td>NaN</td>\n",
       "      <td>0.975459</td>\n",
       "      <td>NaN</td>\n",
       "      <td>NaN</td>\n",
       "      <td>NaN</td>\n",
       "      <td>0.877678</td>\n",
       "      <td>0.758013</td>\n",
       "    </tr>\n",
       "    <tr>\n",
       "      <th>2000-03-31</th>\n",
       "      <td>NaN</td>\n",
       "      <td>NaN</td>\n",
       "      <td>NaN</td>\n",
       "      <td>NaN</td>\n",
       "      <td>-1.852841</td>\n",
       "      <td>-0.854781</td>\n",
       "      <td>0.575209</td>\n",
       "      <td>NaN</td>\n",
       "      <td>NaN</td>\n",
       "      <td>-0.140217</td>\n",
       "      <td>NaN</td>\n",
       "      <td>0.018289</td>\n",
       "      <td>1.251490</td>\n",
       "      <td>NaN</td>\n",
       "      <td>-0.221743</td>\n",
       "      <td>NaN</td>\n",
       "      <td>NaN</td>\n",
       "      <td>NaN</td>\n",
       "      <td>0.864601</td>\n",
       "      <td>0.396529</td>\n",
       "    </tr>\n",
       "    <tr>\n",
       "      <th>2000-04-30</th>\n",
       "      <td>NaN</td>\n",
       "      <td>NaN</td>\n",
       "      <td>NaN</td>\n",
       "      <td>NaN</td>\n",
       "      <td>-0.281467</td>\n",
       "      <td>-0.048833</td>\n",
       "      <td>-0.578823</td>\n",
       "      <td>NaN</td>\n",
       "      <td>NaN</td>\n",
       "      <td>-1.704449</td>\n",
       "      <td>NaN</td>\n",
       "      <td>-1.021657</td>\n",
       "      <td>-1.955820</td>\n",
       "      <td>NaN</td>\n",
       "      <td>-1.030243</td>\n",
       "      <td>NaN</td>\n",
       "      <td>NaN</td>\n",
       "      <td>NaN</td>\n",
       "      <td>-0.607665</td>\n",
       "      <td>NaN</td>\n",
       "    </tr>\n",
       "    <tr>\n",
       "      <th>2000-05-31</th>\n",
       "      <td>NaN</td>\n",
       "      <td>NaN</td>\n",
       "      <td>NaN</td>\n",
       "      <td>NaN</td>\n",
       "      <td>-0.630297</td>\n",
       "      <td>-4.707422</td>\n",
       "      <td>1.434403</td>\n",
       "      <td>1.128881</td>\n",
       "      <td>NaN</td>\n",
       "      <td>1.157650</td>\n",
       "      <td>NaN</td>\n",
       "      <td>1.276000</td>\n",
       "      <td>1.466675</td>\n",
       "      <td>NaN</td>\n",
       "      <td>2.208863</td>\n",
       "      <td>NaN</td>\n",
       "      <td>NaN</td>\n",
       "      <td>NaN</td>\n",
       "      <td>0.531890</td>\n",
       "      <td>0.396529</td>\n",
       "    </tr>\n",
       "  </tbody>\n",
       "</table>\n",
       "</div>"
      ],
      "text/plain": [
       "            BZIPTLSA Index  MPMIBRMA Index  BFOETTSA Index  BZREELHT Index  \\\n",
       "2000-01-31             NaN             NaN             NaN             NaN   \n",
       "2000-02-29             NaN             NaN             NaN             NaN   \n",
       "2000-03-31             NaN             NaN             NaN             NaN   \n",
       "2000-04-30             NaN             NaN             NaN             NaN   \n",
       "2000-05-31             NaN             NaN             NaN             NaN   \n",
       "\n",
       "            BZPIIPCY Index  BZPIIPCM Index  BZEXTOT$ Index  BZTBBALY INDEX  \\\n",
       "2000-01-31             NaN        0.436592             NaN             NaN   \n",
       "2000-02-29       -1.722609       -1.510498        1.327472             NaN   \n",
       "2000-03-31       -1.852841       -0.854781        0.575209             NaN   \n",
       "2000-04-30       -0.281467       -0.048833       -0.578823             NaN   \n",
       "2000-05-31       -0.630297       -4.707422        1.434403        1.128881   \n",
       "\n",
       "            BZBXPBCM INDEX  BZRTFBSA INDEX  BZFGCCSA INDEX  ibov index  \\\n",
       "2000-01-31             NaN             NaN             NaN         NaN   \n",
       "2000-02-29             NaN        0.390218             NaN    1.411873   \n",
       "2000-03-31             NaN       -0.140217             NaN    0.018289   \n",
       "2000-04-30             NaN       -1.704449             NaN   -1.021657   \n",
       "2000-05-31             NaN        1.157650             NaN    1.276000   \n",
       "\n",
       "            CL1 Comdty  BCSWLPD CURNCY  bcswfpd curncy  BZMOTRFB INDEX  \\\n",
       "2000-01-31         NaN             NaN             NaN             NaN   \n",
       "2000-02-29    0.972554             NaN        0.975459             NaN   \n",
       "2000-03-31    1.251490             NaN       -0.221743             NaN   \n",
       "2000-04-30   -1.955820             NaN       -1.030243             NaN   \n",
       "2000-05-31    1.466675             NaN        2.208863             NaN   \n",
       "\n",
       "            BZJCTOTS Index  BZEASA INDEX  OEBRD003 INDEX  BZRTRETM Index  \n",
       "2000-01-31             NaN           NaN             NaN             NaN  \n",
       "2000-02-29             NaN           NaN        0.877678        0.758013  \n",
       "2000-03-31             NaN           NaN        0.864601        0.396529  \n",
       "2000-04-30             NaN           NaN       -0.607665             NaN  \n",
       "2000-05-31             NaN           NaN        0.531890        0.396529  "
      ]
     },
     "execution_count": 41,
     "metadata": {},
     "output_type": "execute_result"
    }
   ],
   "source": [
    "data.head()"
   ]
  },
  {
   "cell_type": "code",
   "execution_count": 42,
   "metadata": {
    "collapsed": true
   },
   "outputs": [],
   "source": [
    "def cleanData(df1,df2):\n",
    "    df = pd.concat([df1, df2],axis=1)\n",
    "    return df.dropna(axis=0)"
   ]
  },
  {
   "cell_type": "code",
   "execution_count": 43,
   "metadata": {
    "collapsed": false
   },
   "outputs": [
    {
     "name": "stdout",
     "output_type": "stream",
     "text": [
      "BZIPTLSA Index\n",
      "MPMIBRMA Index\n",
      "BFOETTSA Index\n",
      "BZREELHT Index\n",
      "BZPIIPCY Index\n",
      "BZPIIPCM Index\n",
      "BZEXTOT$ Index\n",
      "BZTBBALY INDEX\n",
      "BZBXPBCM INDEX\n",
      "BZRTFBSA INDEX\n",
      "BZFGCCSA INDEX\n",
      "ibov index\n",
      "CL1 Comdty\n",
      "BCSWLPD CURNCY\n",
      "bcswfpd curncy\n",
      "BZMOTRFB INDEX\n",
      "BZJCTOTS Index\n",
      "BZEASA INDEX\n",
      "OEBRD003 INDEX\n",
      "BZRTRETM Index\n"
     ]
    }
   ],
   "source": [
    "coefList = []\n",
    "for s in data.columns:\n",
    "    print(s)\n",
    "    clean = cleanData(data[s],components)\n",
    "    coefList.append(sm.OLS(clean[s],clean[0]).fit().params[0])\n",
    "for s in dataQ.columns:\n",
    "    clean = cleanData(dataQ[s],components)\n",
    "    coefList.append(sm.OLS(clean[s],clean[0]).fit().params[0])    "
   ]
  },
  {
   "cell_type": "code",
   "execution_count": 44,
   "metadata": {
    "collapsed": false
   },
   "outputs": [],
   "source": [
    "lambda0 = pd.DataFrame(coefList)"
   ]
  },
  {
   "cell_type": "markdown",
   "metadata": {},
   "source": [
    "## AR for $A$ estimation"
   ]
  },
  {
   "cell_type": "code",
   "execution_count": 45,
   "metadata": {
    "collapsed": true
   },
   "outputs": [],
   "source": [
    "A0 = coefList.append(sm.tsa.ARMA(components.dropna(),(1,0)).fit().params[1])\n"
   ]
  },
  {
   "cell_type": "code",
   "execution_count": 46,
   "metadata": {
    "collapsed": false
   },
   "outputs": [],
   "source": [
    "# Z0 = Z\n",
    "# Z0[0] = lambda0\n",
    "# Z0.iloc[-1,1] = 2 * Z0.iloc[-1,0]\n",
    "# Z0.iloc[-1,2] = 3 * Z0.iloc[-1,0]\n",
    "# Z0.iloc[-1,3] = 2 * Z0.iloc[-1,0]\n",
    "# Z0.iloc[-1,4] = 1 * Z0.iloc[-1,0]\n",
    "\n",
    "# Z0 = Z0.apply(pd.to_numeric,axis=1)\n",
    "# Z0 = Z0.apply(pd.to_numeric,axis=0)"
   ]
  },
  {
   "cell_type": "markdown",
   "metadata": {},
   "source": [
    "# Estimation With Initial Values"
   ]
  },
  {
   "cell_type": "code",
   "execution_count": 47,
   "metadata": {
    "collapsed": false
   },
   "outputs": [
    {
     "data": {
      "text/html": [
       "<div>\n",
       "<table border=\"1\" class=\"dataframe\">\n",
       "  <thead>\n",
       "    <tr style=\"text-align: right;\">\n",
       "      <th></th>\n",
       "      <th>0</th>\n",
       "    </tr>\n",
       "  </thead>\n",
       "  <tbody>\n",
       "    <tr>\n",
       "      <th>1</th>\n",
       "      <td>-54.449907</td>\n",
       "    </tr>\n",
       "    <tr>\n",
       "      <th>2</th>\n",
       "      <td>40.960934</td>\n",
       "    </tr>\n",
       "    <tr>\n",
       "      <th>3</th>\n",
       "      <td>-77.504340</td>\n",
       "    </tr>\n",
       "    <tr>\n",
       "      <th>4</th>\n",
       "      <td>-3.651558</td>\n",
       "    </tr>\n",
       "    <tr>\n",
       "      <th>5</th>\n",
       "      <td>-35.799346</td>\n",
       "    </tr>\n",
       "    <tr>\n",
       "      <th>6</th>\n",
       "      <td>248.534443</td>\n",
       "    </tr>\n",
       "    <tr>\n",
       "      <th>7</th>\n",
       "      <td>58.355698</td>\n",
       "    </tr>\n",
       "    <tr>\n",
       "      <th>8</th>\n",
       "      <td>147.464217</td>\n",
       "    </tr>\n",
       "    <tr>\n",
       "      <th>9</th>\n",
       "      <td>20.777235</td>\n",
       "    </tr>\n",
       "    <tr>\n",
       "      <th>10</th>\n",
       "      <td>-44.870197</td>\n",
       "    </tr>\n",
       "    <tr>\n",
       "      <th>11</th>\n",
       "      <td>307.983668</td>\n",
       "    </tr>\n",
       "    <tr>\n",
       "      <th>12</th>\n",
       "      <td>301.423987</td>\n",
       "    </tr>\n",
       "    <tr>\n",
       "      <th>13</th>\n",
       "      <td>205.166153</td>\n",
       "    </tr>\n",
       "    <tr>\n",
       "      <th>14</th>\n",
       "      <td>308.494587</td>\n",
       "    </tr>\n",
       "    <tr>\n",
       "      <th>15</th>\n",
       "      <td>7.321485</td>\n",
       "    </tr>\n",
       "    <tr>\n",
       "      <th>16</th>\n",
       "      <td>-72.778975</td>\n",
       "    </tr>\n",
       "    <tr>\n",
       "      <th>17</th>\n",
       "      <td>18.397037</td>\n",
       "    </tr>\n",
       "    <tr>\n",
       "      <th>18</th>\n",
       "      <td>12.821565</td>\n",
       "    </tr>\n",
       "    <tr>\n",
       "      <th>19</th>\n",
       "      <td>28.763564</td>\n",
       "    </tr>\n",
       "    <tr>\n",
       "      <th>20</th>\n",
       "      <td>48.274094</td>\n",
       "    </tr>\n",
       "  </tbody>\n",
       "</table>\n",
       "</div>"
      ],
      "text/plain": [
       "             0\n",
       "1   -54.449907\n",
       "2    40.960934\n",
       "3   -77.504340\n",
       "4    -3.651558\n",
       "5   -35.799346\n",
       "6   248.534443\n",
       "7    58.355698\n",
       "8   147.464217\n",
       "9    20.777235\n",
       "10  -44.870197\n",
       "11  307.983668\n",
       "12  301.423987\n",
       "13  205.166153\n",
       "14  308.494587\n",
       "15    7.321485\n",
       "16  -72.778975\n",
       "17   18.397037\n",
       "18   12.821565\n",
       "19   28.763564\n",
       "20   48.274094"
      ]
     },
     "execution_count": 47,
     "metadata": {},
     "output_type": "execute_result"
    }
   ],
   "source": [
    "#  Spent a lot of time struggling here. \n",
    "# the size of the Z0 is actually the size of the non fixed parameters\n",
    "Z0 = lambda0\n",
    "Z0 = Z0.apply(pd.to_numeric,axis=1)\n",
    "Z0 = Z0.apply(pd.to_numeric,axis=0)\n",
    "\n",
    "# Next two lines are only useful when the restriction is effective\n",
    "Z0 = Z0 * (1/Z0.iloc[0,0]) \n",
    "Z0.drop(0,axis=0,inplace=True)\n",
    "\n",
    "Z0"
   ]
  },
  {
   "cell_type": "code",
   "execution_count": 48,
   "metadata": {
    "collapsed": false
   },
   "outputs": [
    {
     "data": {
      "text/html": [
       "<div>\n",
       "<table border=\"1\" class=\"dataframe\">\n",
       "  <thead>\n",
       "    <tr style=\"text-align: right;\">\n",
       "      <th></th>\n",
       "      <th>0</th>\n",
       "    </tr>\n",
       "  </thead>\n",
       "  <tbody>\n",
       "    <tr>\n",
       "      <th>0</th>\n",
       "      <td>0.024735</td>\n",
       "    </tr>\n",
       "    <tr>\n",
       "      <th>1</th>\n",
       "      <td>0.000000</td>\n",
       "    </tr>\n",
       "    <tr>\n",
       "      <th>2</th>\n",
       "      <td>0.000000</td>\n",
       "    </tr>\n",
       "    <tr>\n",
       "      <th>3</th>\n",
       "      <td>0.000000</td>\n",
       "    </tr>\n",
       "    <tr>\n",
       "      <th>4</th>\n",
       "      <td>0.000000</td>\n",
       "    </tr>\n",
       "    <tr>\n",
       "      <th>5</th>\n",
       "      <td>0.000000</td>\n",
       "    </tr>\n",
       "    <tr>\n",
       "      <th>6</th>\n",
       "      <td>0.000000</td>\n",
       "    </tr>\n",
       "    <tr>\n",
       "      <th>7</th>\n",
       "      <td>0.000000</td>\n",
       "    </tr>\n",
       "    <tr>\n",
       "      <th>8</th>\n",
       "      <td>0.000000</td>\n",
       "    </tr>\n",
       "    <tr>\n",
       "      <th>9</th>\n",
       "      <td>0.000000</td>\n",
       "    </tr>\n",
       "    <tr>\n",
       "      <th>10</th>\n",
       "      <td>0.000000</td>\n",
       "    </tr>\n",
       "    <tr>\n",
       "      <th>11</th>\n",
       "      <td>0.000000</td>\n",
       "    </tr>\n",
       "    <tr>\n",
       "      <th>12</th>\n",
       "      <td>0.000000</td>\n",
       "    </tr>\n",
       "    <tr>\n",
       "      <th>13</th>\n",
       "      <td>0.000000</td>\n",
       "    </tr>\n",
       "    <tr>\n",
       "      <th>14</th>\n",
       "      <td>0.000000</td>\n",
       "    </tr>\n",
       "    <tr>\n",
       "      <th>15</th>\n",
       "      <td>0.000000</td>\n",
       "    </tr>\n",
       "    <tr>\n",
       "      <th>16</th>\n",
       "      <td>0.000000</td>\n",
       "    </tr>\n",
       "    <tr>\n",
       "      <th>17</th>\n",
       "      <td>0.000000</td>\n",
       "    </tr>\n",
       "    <tr>\n",
       "      <th>18</th>\n",
       "      <td>0.000000</td>\n",
       "    </tr>\n",
       "    <tr>\n",
       "      <th>19</th>\n",
       "      <td>0.000000</td>\n",
       "    </tr>\n",
       "    <tr>\n",
       "      <th>20</th>\n",
       "      <td>0.000000</td>\n",
       "    </tr>\n",
       "    <tr>\n",
       "      <th>21</th>\n",
       "      <td>0.000000</td>\n",
       "    </tr>\n",
       "    <tr>\n",
       "      <th>22</th>\n",
       "      <td>0.000000</td>\n",
       "    </tr>\n",
       "    <tr>\n",
       "      <th>23</th>\n",
       "      <td>0.000000</td>\n",
       "    </tr>\n",
       "    <tr>\n",
       "      <th>24</th>\n",
       "      <td>0.000000</td>\n",
       "    </tr>\n",
       "    <tr>\n",
       "      <th>25</th>\n",
       "      <td>0.000000</td>\n",
       "    </tr>\n",
       "    <tr>\n",
       "      <th>26</th>\n",
       "      <td>0.000000</td>\n",
       "    </tr>\n",
       "    <tr>\n",
       "      <th>27</th>\n",
       "      <td>0.000000</td>\n",
       "    </tr>\n",
       "    <tr>\n",
       "      <th>28</th>\n",
       "      <td>0.000000</td>\n",
       "    </tr>\n",
       "    <tr>\n",
       "      <th>29</th>\n",
       "      <td>0.000000</td>\n",
       "    </tr>\n",
       "  </tbody>\n",
       "</table>\n",
       "</div>"
      ],
      "text/plain": [
       "           0\n",
       "0   0.024735\n",
       "1   0.000000\n",
       "2   0.000000\n",
       "3   0.000000\n",
       "4   0.000000\n",
       "5   0.000000\n",
       "6   0.000000\n",
       "7   0.000000\n",
       "8   0.000000\n",
       "9   0.000000\n",
       "10  0.000000\n",
       "11  0.000000\n",
       "12  0.000000\n",
       "13  0.000000\n",
       "14  0.000000\n",
       "15  0.000000\n",
       "16  0.000000\n",
       "17  0.000000\n",
       "18  0.000000\n",
       "19  0.000000\n",
       "20  0.000000\n",
       "21  0.000000\n",
       "22  0.000000\n",
       "23  0.000000\n",
       "24  0.000000\n",
       "25  0.000000\n",
       "26  0.000000\n",
       "27  0.000000\n",
       "28  0.000000\n",
       "29  0.000000"
      ]
     },
     "execution_count": 48,
     "metadata": {},
     "output_type": "execute_result"
    }
   ],
   "source": [
    "x0i = np.zeros((m,1))\n",
    "x0i[0,0] = components[0][0]\n",
    "x0i = pd.DataFrame(x0i)\n",
    "x0i"
   ]
  },
  {
   "cell_type": "code",
   "execution_count": 49,
   "metadata": {
    "collapsed": false
   },
   "outputs": [],
   "source": [
    "Z0i = Z0.as_matrix().T.flatten()"
   ]
  },
  {
   "cell_type": "code",
   "execution_count": 50,
   "metadata": {
    "collapsed": false
   },
   "outputs": [],
   "source": [
    "x0i = x0i.as_matrix().flatten()"
   ]
  },
  {
   "cell_type": "code",
   "execution_count": 51,
   "metadata": {
    "collapsed": false
   },
   "outputs": [],
   "source": [
    "def runModel(Zi,Bi,Qi,yi,n,m,Z0i,x0i,maxit):\n",
    "    robjects.globalenv['Zi'] = Zi\n",
    "    robjects.globalenv['Bi'] = Bi\n",
    "    robjects.globalenv['Qi'] = Qi\n",
    "    robjects.globalenv['yi'] = yi\n",
    "    robjects.globalenv['n'] = n\n",
    "    robjects.globalenv['m'] = m\n",
    "    robjects.globalenv['Z0i'] = Z0i\n",
    "    robjects.globalenv['x0i'] = x0i\n",
    "    rcode=(\"\"\"\n",
    "Zi=matrix(Zi,n,m)\n",
    "x0i=matrix(x0i,m,1)\n",
    "Bi=matrix(Bi,m,m)\n",
    "Qi=matrix(Qi,m,m)\n",
    "\n",
    "# Z0i=matrix(Z0i,n,1)\n",
    "Z0i=matrix(Z0i,n-1,1) # Use this when the restriction is effective\n",
    "\n",
    "model.gen=list(Z=Zi,B=Bi,Q=Qi,A=\"zero\"\n",
    "               ,x0=x0i\n",
    "#                ,x0=\"zero\"\n",
    "               ,U=\"zero\"\n",
    "               ,R=\"diagonal and equal\")\n",
    "\n",
    "\n",
    "inits = list(Z=Z0i,x0=0)\n",
    "# print(Z0i)\n",
    "# print(Zi)\n",
    "# kemfit = MARSS(yi, model=model.gen,inits=inits,control=list(maxit=5,\n",
    "#                                                 conv.test.slope.tol=0.00001,\n",
    "#                                                 abstol=0.00001))\n",
    "kemfit = MARSS(yi, model=model.gen,inits=inits,control=list(minit=1,maxit={maxit!s}\n",
    "#                                                 conv.test.slope.tol=0.3\n",
    "#                                                 abstol=0.5, \n",
    "#                                                 allow.degen=TRUE\n",
    "#                                                 MCInit=TRUE,\n",
    "#                                                 numInits=100,\n",
    "#                                                 numInitSteps=20\n",
    "                                                           ))\n",
    "states1 = kemfit$states\n",
    "prediction = predict(kemfit,n.ahead=10,se.fit=FALSE)\n",
    "print(attributes(prediction))\n",
    "\n",
    "\"\"\").format(maxit=maxit)\n",
    "    \n",
    "#     print(rcode)\n",
    "    \n",
    "    robjects.r(rcode)\n",
    "#     dic = {}\n",
    "#     dic[]'vintage'} = yi\n",
    "    return robjects.r.prediction"
   ]
  },
  {
   "cell_type": "code",
   "execution_count": 52,
   "metadata": {
    "collapsed": false
   },
   "outputs": [],
   "source": [
    "# pred = runModel(Zi,Bi,Qi,yi,n,m,Z0i,x0i,5)"
   ]
  },
  {
   "cell_type": "code",
   "execution_count": 53,
   "metadata": {
    "collapsed": false
   },
   "outputs": [],
   "source": [
    "# robjects.r['states1']\n",
    "# robjects.r('attributes(prediction)')"
   ]
  },
  {
   "cell_type": "code",
   "execution_count": 54,
   "metadata": {
    "collapsed": false
   },
   "outputs": [],
   "source": [
    "# robjects.r('print(prediction$method)')"
   ]
  },
  {
   "cell_type": "code",
   "execution_count": 55,
   "metadata": {
    "collapsed": false
   },
   "outputs": [
    {
     "name": "stdout",
     "output_type": "stream",
     "text": [
      "2017-03-24 10:32:55.256867\n"
     ]
    }
   ],
   "source": [
    "print(dt.datetime.now())"
   ]
  },
  {
   "cell_type": "code",
   "execution_count": 56,
   "metadata": {
    "collapsed": false
   },
   "outputs": [],
   "source": [
    "# iters = [20,50,100,150,300,500,1000]\n",
    "# # iters = [20,50,100,150]\n",
    "# # iters = [20,50,100]\n",
    "# stateslist = []\n",
    "# for i in iters:\n",
    "#     stateslist.append(runModel(Zi,Bi,Qi,yi,n,m,Z0i,x0i,i))\n",
    "#     print(\"done {maxiters}\".format(maxiters=i))\n",
    "#     print(dt.datetime.now())"
   ]
  },
  {
   "cell_type": "code",
   "execution_count": 57,
   "metadata": {
    "collapsed": false
   },
   "outputs": [
    {
     "name": "stdout",
     "output_type": "stream",
     "text": [
      "2017-03-24 10:32:55.274915\n"
     ]
    }
   ],
   "source": [
    "print(dt.datetime.now())"
   ]
  },
  {
   "cell_type": "markdown",
   "metadata": {
    "collapsed": true
   },
   "source": [
    "* x0 - Done\n",
    "* normalizar as séries antes - fazer o check. data.mean e etc\n",
    "* Initial MC - Bug"
   ]
  },
  {
   "cell_type": "code",
   "execution_count": 58,
   "metadata": {
    "collapsed": false
   },
   "outputs": [],
   "source": [
    "# finalList = []\n",
    "# for state in stateslist: \n",
    "#     finalList.append(pd.DataFrame(state).T)\n",
    "# # stateslist[0]"
   ]
  },
  {
   "cell_type": "markdown",
   "metadata": {},
   "source": [
    "## Check convergence"
   ]
  },
  {
   "cell_type": "code",
   "execution_count": 59,
   "metadata": {
    "collapsed": false
   },
   "outputs": [],
   "source": [
    "def runModel2(Zi,Bi,Qi,y,n,m,Z0i,x0i,maxit):\n",
    "    yi = y.T.as_matrix()\n",
    "    robjects.globalenv['Zi'] = Zi\n",
    "    robjects.globalenv['Bi'] = Bi\n",
    "    robjects.globalenv['Qi'] = Qi\n",
    "    robjects.globalenv['yi'] = yi\n",
    "    robjects.globalenv['n'] = n\n",
    "    robjects.globalenv['m'] = m\n",
    "    robjects.globalenv['Z0i'] = Z0i\n",
    "    robjects.globalenv['x0i'] = x0i\n",
    "    rcode=(\"\"\"\n",
    "Zi=matrix(Zi,n,m)\n",
    "x0i=matrix(x0i,m,1)\n",
    "Bi=matrix(Bi,m,m)\n",
    "Qi=matrix(Qi,m,m)\n",
    "\n",
    "# Z0i=matrix(Z0i,n,1)\n",
    "Z0i=matrix(Z0i,n-1,1) # Use this when the restriction is effective\n",
    "\n",
    "model.gen=list(Z=Zi,B=Bi,Q=Qi,A=\"zero\"\n",
    "               ,x0=x0i\n",
    "#                ,x0=\"zero\"\n",
    "               ,U=\"zero\"\n",
    "               ,R=\"diagonal and equal\")\n",
    "\n",
    "\n",
    "inits = list(Z=Z0i,x0=0)\n",
    "# print(Z0i)\n",
    "# print(Zi)\n",
    "# kemfit = MARSS(yi, model=model.gen,inits=inits,control=list(maxit=5,\n",
    "#                                                 conv.test.slope.tol=0.00001,\n",
    "#                                                 abstol=0.00001))\n",
    "kemfit = MARSS(yi, model=model.gen,inits=inits,control=list(minit=1,maxit={maxit!s}\n",
    "#                                                 conv.test.slope.tol=0.3\n",
    "#                                                 abstol=0.5, \n",
    "#                                                 allow.degen=TRUE\n",
    "#                                                 MCInit=TRUE,\n",
    "#                                                 numInits=100,\n",
    "#                                                 numInitSteps=20\n",
    "                                                           ))\n",
    "states1 = kemfit$states\n",
    "states2 = kemfit$ytT\n",
    "kfit = print(kemfit)\n",
    "\n",
    "\"\"\").format(maxit=maxit)\n",
    "    \n",
    "#     print(rcode)\n",
    "    \n",
    "    robjects.r(rcode)\n",
    "    dic = {}\n",
    "    dic['vintage' ]= y\n",
    "    dic['states'] = pd.DataFrame(robjects.r.states1).T\n",
    "    dic['prediction'] = pd.DataFrame(robjects.r('print(kemfit,what=\\'ytT\\')')).T\n",
    "    dic['prediction'].index = y.index\n",
    "    dic['prediction'].columns = y.columns\n",
    "    dic['message'] = robjects.r.kfit\n",
    "    return dic"
   ]
  },
  {
   "cell_type": "code",
   "execution_count": 60,
   "metadata": {
    "collapsed": false
   },
   "outputs": [],
   "source": [
    "# listOfIters = [3, 5, 10, 30, 50, 100, 150,500,1000]\n",
    "# # For Each pubdate\n",
    "# listOfResultsConv = {}\n",
    "# for iterN in listOfIters:\n",
    "#     listOfResultsConv[iterN] = runModel2(Zi,Bi,Qi,y.T,n,m,Z0i,x0i,iterN)\n",
    "    \n",
    "# pickle.dump(listOfResultsConv, open(\".\\\\Pickles\\\\Convergence.pickle\", \"wb\"))"
   ]
  },
  {
   "cell_type": "code",
   "execution_count": 61,
   "metadata": {
    "collapsed": false
   },
   "outputs": [],
   "source": [
    "# ((listOfResultsConv[100]['states'].T.loc[0]) - (listOfResultsConv[150]['states'].T.loc[0])).hist()"
   ]
  },
  {
   "cell_type": "code",
   "execution_count": 62,
   "metadata": {
    "collapsed": false
   },
   "outputs": [],
   "source": [
    "# ((listOfResultsConv[100]['states'].T.loc[0]) - (listOfResultsConv[150]['states'].T.loc[0])).describe()"
   ]
  },
  {
   "cell_type": "code",
   "execution_count": 63,
   "metadata": {
    "collapsed": false
   },
   "outputs": [],
   "source": [
    "# (listOfResultsConv[150]['states'].T.loc[0]).describe()"
   ]
  },
  {
   "cell_type": "markdown",
   "metadata": {},
   "source": [
    "## Stylised Calendar"
   ]
  },
  {
   "cell_type": "code",
   "execution_count": 64,
   "metadata": {
    "collapsed": false
   },
   "outputs": [],
   "source": [
    "yn = y.T\n",
    "calendar = pd.read_excel(\"Nowcasting.xlsx\",sheetname=dataDetailsSheet)\n",
    "calendar = calendar[[\"Code\",\"PubLag\"]]\n",
    "calendar.set_index(\"Code\",inplace=True)"
   ]
  },
  {
   "cell_type": "code",
   "execution_count": 65,
   "metadata": {
    "collapsed": false
   },
   "outputs": [],
   "source": [
    "# Goal Create publicationDates as another index on the DF\n",
    "\n",
    "newDfs = []\n",
    "\n",
    "# For each Series\n",
    "for serie in yn.columns:\n",
    "#     Create new df\n",
    "    newDf = pd.DataFrame(yn[serie])\n",
    "    newDf.reset_index(inplace=True)\n",
    "    cols = list(newDf.columns)\n",
    "    cols[0] = \"refDate\"\n",
    "    newDf.columns = cols\n",
    "    newDf[\"pubDate\"] = newDf[\"refDate\"] + dt.timedelta(int(calendar.loc[serie]))\n",
    "    newDf.set_index([\"refDate\",\"pubDate\"],inplace=True)\n",
    "    newDfs.append(newDf)\n",
    "\n",
    "yn = pd.concat(newDfs,axis=1)\n",
    "yn = yn.groupby(level=\"refDate\").fillna(method='ffill')"
   ]
  },
  {
   "cell_type": "code",
   "execution_count": 66,
   "metadata": {
    "collapsed": false
   },
   "outputs": [],
   "source": [
    "# Goal: create stylised calendar for all info\n",
    "pubDates = yn.index.get_level_values(\"pubDate\").unique().sort_values()"
   ]
  },
  {
   "cell_type": "code",
   "execution_count": 67,
   "metadata": {
    "collapsed": false
   },
   "outputs": [
    {
     "data": {
      "text/plain": [
       "(array([1720], dtype=int64),)"
      ]
     },
     "execution_count": 67,
     "metadata": {},
     "output_type": "execute_result"
    }
   ],
   "source": [
    "np.where(pubDates==dt.datetime(2014,5,1))"
   ]
  },
  {
   "cell_type": "markdown",
   "metadata": {},
   "source": [
    "# Loop !"
   ]
  },
  {
   "cell_type": "code",
   "execution_count": 68,
   "metadata": {
    "collapsed": true
   },
   "outputs": [],
   "source": [
    "maxiter = 300"
   ]
  },
  {
   "cell_type": "code",
   "execution_count": 69,
   "metadata": {
    "collapsed": false
   },
   "outputs": [
    {
     "name": "stdout",
     "output_type": "stream",
     "text": [
      "2017-03-24 10:32:57.551707\n"
     ]
    }
   ],
   "source": [
    "print(dt.datetime.now())"
   ]
  },
  {
   "cell_type": "code",
   "execution_count": 70,
   "metadata": {
    "collapsed": true
   },
   "outputs": [],
   "source": [
    "def loadDf(pubDate):\n",
    "    filename = \".\\\\Pickles\\\\\" + pubDate.strftime('%Y-%m-%d') + \".pickle\"\n",
    "    return pickle.load(open(filename, \"rb\"))"
   ]
  },
  {
   "cell_type": "code",
   "execution_count": 142,
   "metadata": {
    "collapsed": false
   },
   "outputs": [],
   "source": [
    "# For Each pubdate\n",
    "listOfResults = {}\n",
    "for pubDate in pubDates[5:]:\n",
    "    print(pubDate)\n",
    "    cutY = yn[yn.index.get_level_values(\"pubDate\")<=pubDate].groupby(level=\"refDate\").last()\n",
    "    cutY = cutY.reindex(y.T.index)\n",
    "    filename = \".\\\\Pickles\\\\\" + pubDate.strftime('%Y-%m-%d') + \".pickle\"\n",
    "    if os.path.exists(filename):\n",
    "#         print(\"Exists\")\n",
    "        listOfResults[pubDate] = pickle.load(open(filename, \"rb\"))\n",
    "#         print(\"Loaded\")\n",
    "    else:\n",
    "        print(pubDate)\n",
    "#         print(\"Does not exist\")\n",
    "        listOfResults[pubDate] = runModel2(Zi,Bi,Qi,cutY,n,m,Z0i,x0i,5)\n",
    "#         listOfResults[pubDate].to_pickle(filename)\n",
    "        pickle.dump(listOfResults[pubDate], open(filename, \"wb\"))\n",
    "#         print(\"Dumped\")\n",
    "#     print(\"Loop Finished\")\n",
    "    \n",
    "# Still have to find a way to locate everytime a given series enters the dataset    "
   ]
  },
  {
   "cell_type": "code",
   "execution_count": 71,
   "metadata": {
    "collapsed": false
   },
   "outputs": [
    {
     "name": "stdout",
     "output_type": "stream",
     "text": [
      "2017-03-24 10:33:20.416626\n"
     ]
    }
   ],
   "source": [
    "print(dt.datetime.now())"
   ]
  },
  {
   "cell_type": "markdown",
   "metadata": {},
   "source": [
    "Notes:\n",
    "   \n",
    "* BCB reports YoY so we have to analise YoY"
   ]
  },
  {
   "cell_type": "markdown",
   "metadata": {},
   "source": [
    "# Charts\n",
    "\n",
    "## RMSFE chart\n",
    "\n",
    "We'll get GDP dates and infer from ``listOfResults``'s keys which vintage corresponds to -X from the GDP pubDate \n",
    "\n",
    "So if I want -9, for each GDP published I'll find the -9 vintage and calculate the prediction error"
   ]
  },
  {
   "cell_type": "code",
   "execution_count": 72,
   "metadata": {
    "collapsed": false
   },
   "outputs": [],
   "source": [
    "#  Find GDP's publication dates\n",
    "gdp = yn[gdpTicker]\n",
    "# .groupby(level=\"refDate\",group_keys=True).last()\n",
    "\n",
    "gdp = gdp[~gdp.isnull()]\n",
    "\n",
    "gdpDates = gdp.index.get_level_values(\"refDate\")\n",
    "# gdpDates"
   ]
  },
  {
   "cell_type": "code",
   "execution_count": 73,
   "metadata": {
    "collapsed": false
   },
   "outputs": [],
   "source": [
    "# vintages = pd.Series(list(listOfResults.keys())).sort_values().reset_index(drop=True)\n",
    "vintages = pubDates[5:]\n",
    "# vintages"
   ]
  },
  {
   "cell_type": "code",
   "execution_count": 74,
   "metadata": {
    "collapsed": false
   },
   "outputs": [],
   "source": [
    "# vintagesOfInterest = {}\n",
    "# vintagesOfInterest[pubDates[8]]= vintages[(vintages - pubDates[8])<= dt.timedelta(-9)].max()\n"
   ]
  },
  {
   "cell_type": "code",
   "execution_count": 94,
   "metadata": {
    "collapsed": false
   },
   "outputs": [],
   "source": [
    "listOfAxis = [-30, -20, -10, 0, 10, 20, 30]\n",
    "listOfAxis = range(-70,70)\n",
    "# listOfAxis = [-30]\n",
    "# listOfAxis = np.arange(-70,70,10).tolist()"
   ]
  },
  {
   "cell_type": "code",
   "execution_count": 95,
   "metadata": {
    "collapsed": false
   },
   "outputs": [],
   "source": [
    "rmsfe = {}\n",
    "\n",
    "for sieve in listOfAxis:\n",
    "    vintagesOfInterest = {}\n",
    "    tempList = []\n",
    "    for gdpDate in gdpDates[5:]:\n",
    "        vintagesOfInterest[gdpDate]= vintages[(vintages - gdpDate)<= dt.timedelta(sieve)].max()\n",
    "        actualGdp = gdp.groupby(level=\"refDate\").last()\n",
    "        actualGdp = actualGdp.loc[gdpDate]\n",
    "        \n",
    "        # Loaded Version\n",
    "#         forecast = listOfResults[vintagesOfInterest[gdpDate]]['prediction'][gdpTicker]\n",
    "        #Load Version\n",
    "        forecast = loadDf(vintagesOfInterest[gdpDate])['prediction'][gdpTicker]\n",
    "        \n",
    "        forecast = forecast.loc[gdpDate]\n",
    "        tempList.append((forecast-actualGdp)**2)\n",
    "    rmsfe[sieve] = tempList\n",
    "\n",
    "#     rmsfe[sieve] = \n",
    "\n",
    "rmsfe = pd.DataFrame(rmsfe).T"
   ]
  },
  {
   "cell_type": "code",
   "execution_count": 96,
   "metadata": {
    "collapsed": false
   },
   "outputs": [
    {
     "data": {
      "text/plain": [
       "<matplotlib.axes._subplots.AxesSubplot at 0x1a422cf1cf8>"
      ]
     },
     "execution_count": 96,
     "metadata": {},
     "output_type": "execute_result"
    },
    {
     "data": {
      "image/png": "[encoded data removed]",
      "text/plain": [
       "<matplotlib.figure.Figure at 0x1a41a362240>"
      ]
     },
     "metadata": {},
     "output_type": "display_data"
    }
   ],
   "source": [
    "rmsfe.mean(axis=1).plot()"
   ]
  },
  {
   "cell_type": "markdown",
   "metadata": {},
   "source": [
    "## Actual vs Prediction chart"
   ]
  },
  {
   "cell_type": "code",
   "execution_count": 97,
   "metadata": {
    "collapsed": false
   },
   "outputs": [],
   "source": [
    "actual = gdp.groupby(level=\"refDate\").last()"
   ]
  },
  {
   "cell_type": "code",
   "execution_count": 98,
   "metadata": {
    "collapsed": false
   },
   "outputs": [],
   "source": [
    "# at 0 date\n",
    "sieve = 59\n",
    "vintagesOfInterest = {}\n",
    "tempDir = {}\n",
    "for gdpDate in gdpDates[5:]:\n",
    "    vintagesOfInterest[gdpDate]= vintages[(vintages - gdpDate)<= dt.timedelta(sieve)].max()\n",
    "    # Loaded Version\n",
    "#     forecast = listOfResults[vintagesOfInterest[gdpDate]]['prediction'][gdpTicker]\n",
    "    # Load version\n",
    "    forecast = loadDf(vintagesOfInterest[gdpDate])['prediction'][gdpTicker]\n",
    "    \n",
    "    forecast = forecast.loc[gdpDate]\n",
    "    \n",
    "    tempDir[gdpDate] = forecast\n",
    "\n",
    "predict = pd.Series(tempDir)\n"
   ]
  },
  {
   "cell_type": "code",
   "execution_count": 99,
   "metadata": {
    "collapsed": false
   },
   "outputs": [
    {
     "data": {
      "text/plain": [
       "<matplotlib.axes._subplots.AxesSubplot at 0x1a41a530978>"
      ]
     },
     "execution_count": 99,
     "metadata": {},
     "output_type": "execute_result"
    },
    {
     "data": {
      "image/png": "[encoded data removed]",
      "text/plain": [
       "<matplotlib.figure.Figure at 0x1a422d3c1d0>"
      ]
     },
     "metadata": {},
     "output_type": "display_data"
    }
   ],
   "source": [
    "(predict-actual).plot()"
   ]
  },
  {
   "cell_type": "code",
   "execution_count": 100,
   "metadata": {
    "collapsed": false
   },
   "outputs": [
    {
     "data": {
      "text/plain": [
       "<matplotlib.axes._subplots.AxesSubplot at 0x1a423563e10>"
      ]
     },
     "execution_count": 100,
     "metadata": {},
     "output_type": "execute_result"
    },
    {
     "data": {
      "image/png": "[encoded data removed]",
      "text/plain": [
       "<matplotlib.figure.Figure at 0x1a42411d828>"
      ]
     },
     "metadata": {},
     "output_type": "display_data"
    }
   ],
   "source": [
    "(pd.concat([actual,predict],axis=1)).plot()"
   ]
  },
  {
   "cell_type": "code",
   "execution_count": null,
   "metadata": {
    "collapsed": true
   },
   "outputs": [],
   "source": []
  },
  {
   "cell_type": "code",
   "execution_count": null,
   "metadata": {
    "collapsed": true
   },
   "outputs": [],
   "source": []
  },
  {
   "cell_type": "code",
   "execution_count": null,
   "metadata": {
    "collapsed": true
   },
   "outputs": [],
   "source": []
  },
  {
   "cell_type": "code",
   "execution_count": null,
   "metadata": {
    "collapsed": true
   },
   "outputs": [],
   "source": []
  },
  {
   "cell_type": "code",
   "execution_count": null,
   "metadata": {
    "collapsed": true
   },
   "outputs": [],
   "source": []
  },
  {
   "cell_type": "code",
   "execution_count": null,
   "metadata": {
    "collapsed": true
   },
   "outputs": [],
   "source": []
  },
  {
   "cell_type": "code",
   "execution_count": null,
   "metadata": {
    "collapsed": true
   },
   "outputs": [],
   "source": []
  },
  {
   "cell_type": "code",
   "execution_count": null,
   "metadata": {
    "collapsed": true
   },
   "outputs": [],
   "source": []
  },
  {
   "cell_type": "code",
   "execution_count": 2,
   "metadata": {
    "collapsed": false
   },
   "outputs": [
    {
     "ename": "NameError",
     "evalue": "name 'vintagesOfInterest' is not defined",
     "output_type": "error",
     "traceback": [
      "\u001b[1;31m---------------------------------------------------------------------------\u001b[0m",
      "\u001b[1;31mNameError\u001b[0m                                 Traceback (most recent call last)",
      "\u001b[1;32m<ipython-input-2-8e04b1383e71>\u001b[0m in \u001b[0;36m<module>\u001b[1;34m()\u001b[0m\n\u001b[1;32m----> 1\u001b[1;33m \u001b[0mvintagesOfInterest\u001b[0m\u001b[1;33m[\u001b[0m\u001b[0mdt\u001b[0m\u001b[1;33m.\u001b[0m\u001b[0mdatetime\u001b[0m\u001b[1;33m(\u001b[0m\u001b[1;36m2016\u001b[0m\u001b[1;33m,\u001b[0m\u001b[1;36m11\u001b[0m\u001b[1;33m,\u001b[0m\u001b[1;36m29\u001b[0m\u001b[1;33m)\u001b[0m\u001b[1;33m]\u001b[0m\u001b[1;33m\u001b[0m\u001b[0m\n\u001b[0m",
      "\u001b[1;31mNameError\u001b[0m: name 'vintagesOfInterest' is not defined"
     ]
    }
   ],
   "source": [
    "vintagesOfInterest[dt.datetime(2016,11,29)]"
   ]
  },
  {
   "cell_type": "code",
   "execution_count": 3,
   "metadata": {
    "collapsed": false
   },
   "outputs": [
    {
     "ename": "NameError",
     "evalue": "name 'listOfResults' is not defined",
     "output_type": "error",
     "traceback": [
      "\u001b[1;31m---------------------------------------------------------------------------\u001b[0m",
      "\u001b[1;31mNameError\u001b[0m                                 Traceback (most recent call last)",
      "\u001b[1;32m<ipython-input-3-c835f51a139d>\u001b[0m in \u001b[0;36m<module>\u001b[1;34m()\u001b[0m\n\u001b[1;32m----> 1\u001b[1;33m \u001b[0mlistOfResults\u001b[0m\u001b[1;33m[\u001b[0m\u001b[0mvintagesOfInterest\u001b[0m\u001b[1;33m[\u001b[0m\u001b[0mdt\u001b[0m\u001b[1;33m.\u001b[0m\u001b[0mdatetime\u001b[0m\u001b[1;33m(\u001b[0m\u001b[1;36m2016\u001b[0m\u001b[1;33m,\u001b[0m\u001b[1;36m11\u001b[0m\u001b[1;33m,\u001b[0m\u001b[1;36m29\u001b[0m\u001b[1;33m)\u001b[0m\u001b[1;33m]\u001b[0m\u001b[1;33m]\u001b[0m\u001b[1;33m[\u001b[0m\u001b[1;34m'prediction'\u001b[0m\u001b[1;33m]\u001b[0m\u001b[1;33m\u001b[0m\u001b[0m\n\u001b[0m",
      "\u001b[1;31mNameError\u001b[0m: name 'listOfResults' is not defined"
     ]
    }
   ],
   "source": [
    "listOfResults[vintagesOfInterest[dt.datetime(2016,11,29)]]['prediction']"
   ]
  },
  {
   "cell_type": "code",
   "execution_count": null,
   "metadata": {
    "collapsed": true
   },
   "outputs": [],
   "source": []
  },
  {
   "cell_type": "code",
   "execution_count": null,
   "metadata": {
    "collapsed": true
   },
   "outputs": [],
   "source": []
  },
  {
   "cell_type": "code",
   "execution_count": null,
   "metadata": {
    "collapsed": true
   },
   "outputs": [],
   "source": []
  },
  {
   "cell_type": "code",
   "execution_count": null,
   "metadata": {
    "collapsed": true
   },
   "outputs": [],
   "source": []
  },
  {
   "cell_type": "code",
   "execution_count": null,
   "metadata": {
    "collapsed": true
   },
   "outputs": [],
   "source": []
  },
  {
   "cell_type": "code",
   "execution_count": null,
   "metadata": {
    "collapsed": false
   },
   "outputs": [],
   "source": [
    "# WHAT WE WILL DO: Always pass a full calendar (even if full of NaNs) \n",
    "# and NaN everything after the cut calendar\n",
    "pubDate = pubDates[1000]\n",
    "cutY = yn[yn.index.get_level_values(\"pubDate\")<=pubDate].groupby(level=\"refDate\").last()\n",
    "cutY = cutY.reindex(y.T.index)\n",
    "tr = runModel2(Zi,Bi,Qi,cutY,n,m,Z0i,x0i,5)\n"
   ]
  },
  {
   "cell_type": "code",
   "execution_count": null,
   "metadata": {
    "collapsed": false
   },
   "outputs": [],
   "source": [
    "tr['prediction'].columns"
   ]
  },
  {
   "cell_type": "code",
   "execution_count": null,
   "metadata": {
    "collapsed": false
   },
   "outputs": [],
   "source": [
    "gdpPred = tr['prediction'][gdpTicker]\n",
    "gdp = yn.groupby(level=\"refDate\").last()[gdpTicker]\n",
    "\n",
    "gdpPred = gdpPred[~gdp.isnull()]\n",
    "gdp = gdp[~gdp.isnull()]"
   ]
  },
  {
   "cell_type": "code",
   "execution_count": null,
   "metadata": {
    "collapsed": false
   },
   "outputs": [],
   "source": [
    "(gdpPred-gdp)"
   ]
  },
  {
   "cell_type": "code",
   "execution_count": null,
   "metadata": {
    "collapsed": false
   },
   "outputs": [],
   "source": [
    "(tr['prediction'][gdpTicker] - yn.groupby(level=\"refDate\").last()[gdpTicker]).plot()"
   ]
  },
  {
   "cell_type": "code",
   "execution_count": null,
   "metadata": {
    "collapsed": false
   },
   "outputs": [],
   "source": [
    "x = robjects.r('print(kemfit,what=\\'ytT\\')')"
   ]
  },
  {
   "cell_type": "code",
   "execution_count": null,
   "metadata": {
    "collapsed": false
   },
   "outputs": [],
   "source": [
    "pd.DataFrame(x).T.plot()"
   ]
  },
  {
   "cell_type": "code",
   "execution_count": null,
   "metadata": {
    "collapsed": false
   },
   "outputs": [],
   "source": [
    "y.T.shape"
   ]
  },
  {
   "cell_type": "code",
   "execution_count": null,
   "metadata": {
    "collapsed": false
   },
   "outputs": [],
   "source": [
    "robjects.r['states2']"
   ]
  },
  {
   "cell_type": "code",
   "execution_count": null,
   "metadata": {
    "collapsed": false
   },
   "outputs": [],
   "source": [
    "ls[0]"
   ]
  },
  {
   "cell_type": "code",
   "execution_count": null,
   "metadata": {
    "collapsed": true
   },
   "outputs": [],
   "source": []
  },
  {
   "cell_type": "code",
   "execution_count": null,
   "metadata": {
    "collapsed": true
   },
   "outputs": [],
   "source": []
  },
  {
   "cell_type": "code",
   "execution_count": null,
   "metadata": {
    "collapsed": true
   },
   "outputs": [],
   "source": []
  },
  {
   "cell_type": "code",
   "execution_count": null,
   "metadata": {
    "collapsed": true
   },
   "outputs": [],
   "source": []
  },
  {
   "cell_type": "code",
   "execution_count": null,
   "metadata": {
    "collapsed": false
   },
   "outputs": [],
   "source": [
    "# %%R -i Zi,Bi,yi,Z,Qi,m,n,Z0i,x0i -o states,states1\n",
    "\n",
    "\n",
    "# Zi=matrix(Zi,n,m)\n",
    "# x0i=matrix(x0i,m,1)\n",
    "# Bi=matrix(Bi,m,m)\n",
    "# Qi=matrix(Qi,m,m)\n",
    "\n",
    "\n",
    "# # Z0i=matrix(Z0i,n,1)\n",
    "# Z0i=matrix(Z0i,n-1,1) # Use this when the restriction is effective\n",
    "\n",
    "# # print(dim(Z0i))\n",
    "# # print(dim(Zi))\n",
    "# # print(dim(Bi))\n",
    "# # print(dim(Qi))\n",
    "# # print(x0i)\n",
    "\n",
    "# print(\"START\")\n",
    "\n",
    "# # model.gen=list(Z=Zi,B=Bi,Q=Qi,A=\"zero\",x0=\"zero\"\n",
    "# #                ,U=\"zero\"\n",
    "# #                ,R=\"diagonal and unequal\")\n",
    "\n",
    "\n",
    "# model.gen=list(Z=Zi,B=Bi,Q=Qi,A=\"zero\"\n",
    "#                ,x0=x0i\n",
    "# #                ,x0=\"zero\"\n",
    "#                ,U=\"zero\"\n",
    "#                ,R=\"diagonal and equal\")\n",
    "\n",
    "\n",
    "# inits = list(Z=Z0i,x0=0)\n",
    "# # print(Z0i)\n",
    "# # print(Zi)\n",
    "# # kemfit = MARSS(yi, model=model.gen,inits=inits,control=list(maxit=5,\n",
    "# #                                                 conv.test.slope.tol=0.00001,\n",
    "# #                                                 abstol=0.00001))\n",
    "# kemfit = MARSS(yi, model=model.gen,inits=inits,control=list(minit=1,maxit=300\n",
    "# #                                                 conv.test.slope.tol=0.3\n",
    "# #                                                 abstol=0.5, \n",
    "# #                                                 allow.degen=TRUE\n",
    "# #                                                 MCInit=TRUE,\n",
    "# #                                                 numInits=100,\n",
    "# #                                                 numInitSteps=20\n",
    "#                                                            ))\n",
    "# # kemfit = MARSS(yi, model=model.gen,inits=inits,control=list(minit=1,maxit=30))\n",
    "# # kemfit = MARSS(yi, model=model.gen,inits=inits,fit=TRUE)\n",
    "# # kemfit = MARSS(yi, model=model.gen,fit=FALSE)\n",
    "\n",
    "# # print(kemfit$par$Z)\n",
    "# states1 = kemfit$states\n",
    "# states = print(kemfit)\n",
    "# states = print(kemfit, what=\"model\")\n",
    "# # message(kemfit, what=\"model\")\n",
    "# # print(kemfit, what=\"start\")\n",
    "# # print(kemfit, what=\"states\")\n",
    "# # print(kemfit, what=\"ytT\")\n",
    "# # print(kemfit, what=\"states.se\")\n",
    "# # print(kemfit, what=\"kfs\")\n",
    "# # print(kemfit$par$Z)\n",
    "# # message(\"porra\")\n",
    "# # states=\"\"\n",
    "# # cat(\"teste\")"
   ]
  }
 ],
 "metadata": {
  "anaconda-cloud": {},
  "kernelspec": {
   "display_name": "Python [Root]",
   "language": "python",
   "name": "Python [Root]"
  },
  "language_info": {
   "codemirror_mode": {
    "name": "ipython",
    "version": 3
   },
   "file_extension": ".py",
   "mimetype": "text/x-python",
   "name": "python",
   "nbconvert_exporter": "python",
   "pygments_lexer": "ipython3",
   "version": "3.5.2"
  }
 },
 "nbformat": 4,
 "nbformat_minor": 0
}
