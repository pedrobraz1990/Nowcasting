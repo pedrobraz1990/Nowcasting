{
 "cells": [
  {
   "cell_type": "code",
   "execution_count": 29,
   "metadata": {
    "collapsed": false
   },
   "outputs": [
    {
     "name": "stdout",
     "output_type": "stream",
     "text": [
      "The rpy2.ipython extension is already loaded. To reload it, use:\n",
      "  %reload_ext rpy2.ipython\n"
     ]
    }
   ],
   "source": [
    "%matplotlib inline\n",
    "%load_ext rpy2.ipython\n",
    "\n",
    "\n",
    "import datetime as dt\n",
    "import numpy as np\n",
    "import pandas as pd\n",
    "from sklearn.decomposition import PCA\n",
    "import statsmodels.api as sm\n",
    "from pykalman import KalmanFilter\n",
    "import numpy.ma as ma\n",
    "\n",
    "pd.set_option('max_rows', 20)\n",
    "# pd.set_option('max_rows', 1000)"
   ]
  },
  {
   "cell_type": "code",
   "execution_count": 30,
   "metadata": {
    "collapsed": true
   },
   "outputs": [],
   "source": [
    "%%R\n",
    "\n",
    "library(MARSS)"
   ]
  },
  {
   "cell_type": "markdown",
   "metadata": {},
   "source": [
    "# Data\n",
    "\n",
    "## Regressors"
   ]
  },
  {
   "cell_type": "code",
   "execution_count": 31,
   "metadata": {
    "collapsed": false
   },
   "outputs": [],
   "source": [
    "data = pd.read_excel(\"Nowcasting.xlsx\",sheetname=\"Valores\")\n",
    "# data.head()\n",
    "series = data.loc[0,:][~data.loc[0,:].isnull()].tolist()\n",
    "data.columns = data.iloc[0]"
   ]
  },
  {
   "cell_type": "code",
   "execution_count": 32,
   "metadata": {
    "collapsed": false
   },
   "outputs": [
    {
     "name": "stderr",
     "output_type": "stream",
     "text": [
      "C:\\Anaconda3\\lib\\site-packages\\pandas\\indexes\\base.py:1746: FutureWarning: In the future, 'NAT < x' and 'x < NAT' will always be False.\n",
      "  self.values[0] < other_diff[0]\n"
     ]
    },
    {
     "data": {
      "text/html": [
       "<div>\n",
       "<table border=\"1\" class=\"dataframe\">\n",
       "  <thead>\n",
       "    <tr style=\"text-align: right;\">\n",
       "      <th></th>\n",
       "      <th>BZGDINDX Index</th>\n",
       "      <th>BZIPTLYo Index</th>\n",
       "      <th>MPMIBRMA Index</th>\n",
       "      <th>BZGDGNDI Index</th>\n",
       "      <th>BZUETOTN Index</th>\n",
       "      <th>BFOETTOD Index</th>\n",
       "      <th>BZGDFNCE Index</th>\n",
       "      <th>BZREELHT Index</th>\n",
       "      <th>BPPICM Index</th>\n",
       "      <th>BZPIIPCM Index</th>\n",
       "      <th>...</th>\n",
       "      <th>BZRTFBSA INDEX</th>\n",
       "      <th>BZFGCCSA INDEX</th>\n",
       "      <th>ibov index</th>\n",
       "      <th>CL1 Comdty</th>\n",
       "      <th>BCSWLPD CURNCY</th>\n",
       "      <th>bcswfpd curncy</th>\n",
       "      <th>BZMOTRFB INDEX</th>\n",
       "      <th>BZJCGTOT INDEX</th>\n",
       "      <th>BZEANSA INDEX</th>\n",
       "      <th>OEBRD002 INDEX</th>\n",
       "    </tr>\n",
       "  </thead>\n",
       "  <tbody>\n",
       "    <tr>\n",
       "      <th>2017-01-26</th>\n",
       "      <td>NaN</td>\n",
       "      <td>NaN</td>\n",
       "      <td>NaN</td>\n",
       "      <td>NaN</td>\n",
       "      <td>NaN</td>\n",
       "      <td>NaN</td>\n",
       "      <td>NaN</td>\n",
       "      <td>NaN</td>\n",
       "      <td>NaN</td>\n",
       "      <td>NaN</td>\n",
       "      <td>...</td>\n",
       "      <td>NaN</td>\n",
       "      <td>NaN</td>\n",
       "      <td>66190.63</td>\n",
       "      <td>53.78</td>\n",
       "      <td>10.6000</td>\n",
       "      <td>10.9178</td>\n",
       "      <td>475.0</td>\n",
       "      <td>NaN</td>\n",
       "      <td>NaN</td>\n",
       "      <td>NaN</td>\n",
       "    </tr>\n",
       "    <tr>\n",
       "      <th>2017-01-27</th>\n",
       "      <td>NaN</td>\n",
       "      <td>NaN</td>\n",
       "      <td>NaN</td>\n",
       "      <td>NaN</td>\n",
       "      <td>NaN</td>\n",
       "      <td>NaN</td>\n",
       "      <td>NaN</td>\n",
       "      <td>NaN</td>\n",
       "      <td>NaN</td>\n",
       "      <td>NaN</td>\n",
       "      <td>...</td>\n",
       "      <td>NaN</td>\n",
       "      <td>NaN</td>\n",
       "      <td>66033.98</td>\n",
       "      <td>53.17</td>\n",
       "      <td>10.5096</td>\n",
       "      <td>10.8762</td>\n",
       "      <td>-474.0</td>\n",
       "      <td>NaN</td>\n",
       "      <td>NaN</td>\n",
       "      <td>NaN</td>\n",
       "    </tr>\n",
       "    <tr>\n",
       "      <th>2017-01-30</th>\n",
       "      <td>NaN</td>\n",
       "      <td>NaN</td>\n",
       "      <td>NaN</td>\n",
       "      <td>NaN</td>\n",
       "      <td>NaN</td>\n",
       "      <td>NaN</td>\n",
       "      <td>NaN</td>\n",
       "      <td>NaN</td>\n",
       "      <td>NaN</td>\n",
       "      <td>NaN</td>\n",
       "      <td>...</td>\n",
       "      <td>NaN</td>\n",
       "      <td>NaN</td>\n",
       "      <td>64301.73</td>\n",
       "      <td>52.63</td>\n",
       "      <td>10.5724</td>\n",
       "      <td>10.8627</td>\n",
       "      <td>NaN</td>\n",
       "      <td>NaN</td>\n",
       "      <td>NaN</td>\n",
       "      <td>NaN</td>\n",
       "    </tr>\n",
       "    <tr>\n",
       "      <th>2017-01-31</th>\n",
       "      <td>NaN</td>\n",
       "      <td>NaN</td>\n",
       "      <td>44.0</td>\n",
       "      <td>NaN</td>\n",
       "      <td>NaN</td>\n",
       "      <td>NaN</td>\n",
       "      <td>NaN</td>\n",
       "      <td>NaN</td>\n",
       "      <td>NaN</td>\n",
       "      <td>NaN</td>\n",
       "      <td>...</td>\n",
       "      <td>NaN</td>\n",
       "      <td>79.3</td>\n",
       "      <td>64670.78</td>\n",
       "      <td>52.81</td>\n",
       "      <td>10.5262</td>\n",
       "      <td>10.8029</td>\n",
       "      <td>NaN</td>\n",
       "      <td>NaN</td>\n",
       "      <td>NaN</td>\n",
       "      <td>NaN</td>\n",
       "    </tr>\n",
       "    <tr>\n",
       "      <th>2017-02-01</th>\n",
       "      <td>NaN</td>\n",
       "      <td>NaN</td>\n",
       "      <td>NaN</td>\n",
       "      <td>NaN</td>\n",
       "      <td>NaN</td>\n",
       "      <td>NaN</td>\n",
       "      <td>NaN</td>\n",
       "      <td>NaN</td>\n",
       "      <td>NaN</td>\n",
       "      <td>NaN</td>\n",
       "      <td>...</td>\n",
       "      <td>NaN</td>\n",
       "      <td>NaN</td>\n",
       "      <td>65084.65</td>\n",
       "      <td>53.74</td>\n",
       "      <td>10.4928</td>\n",
       "      <td>10.8046</td>\n",
       "      <td>NaN</td>\n",
       "      <td>NaN</td>\n",
       "      <td>NaN</td>\n",
       "      <td>NaN</td>\n",
       "    </tr>\n",
       "  </tbody>\n",
       "</table>\n",
       "<p>5 rows × 23 columns</p>\n",
       "</div>"
      ],
      "text/plain": [
       "            BZGDINDX Index  BZIPTLYo Index  MPMIBRMA Index  BZGDGNDI Index  \\\n",
       "2017-01-26             NaN             NaN             NaN             NaN   \n",
       "2017-01-27             NaN             NaN             NaN             NaN   \n",
       "2017-01-30             NaN             NaN             NaN             NaN   \n",
       "2017-01-31             NaN             NaN            44.0             NaN   \n",
       "2017-02-01             NaN             NaN             NaN             NaN   \n",
       "\n",
       "            BZUETOTN Index  BFOETTOD Index  BZGDFNCE Index  BZREELHT Index  \\\n",
       "2017-01-26             NaN             NaN             NaN             NaN   \n",
       "2017-01-27             NaN             NaN             NaN             NaN   \n",
       "2017-01-30             NaN             NaN             NaN             NaN   \n",
       "2017-01-31             NaN             NaN             NaN             NaN   \n",
       "2017-02-01             NaN             NaN             NaN             NaN   \n",
       "\n",
       "            BPPICM Index  BZPIIPCM Index       ...        BZRTFBSA INDEX  \\\n",
       "2017-01-26           NaN             NaN       ...                   NaN   \n",
       "2017-01-27           NaN             NaN       ...                   NaN   \n",
       "2017-01-30           NaN             NaN       ...                   NaN   \n",
       "2017-01-31           NaN             NaN       ...                   NaN   \n",
       "2017-02-01           NaN             NaN       ...                   NaN   \n",
       "\n",
       "            BZFGCCSA INDEX  ibov index  CL1 Comdty  BCSWLPD CURNCY  \\\n",
       "2017-01-26             NaN    66190.63       53.78         10.6000   \n",
       "2017-01-27             NaN    66033.98       53.17         10.5096   \n",
       "2017-01-30             NaN    64301.73       52.63         10.5724   \n",
       "2017-01-31            79.3    64670.78       52.81         10.5262   \n",
       "2017-02-01             NaN    65084.65       53.74         10.4928   \n",
       "\n",
       "            bcswfpd curncy  BZMOTRFB INDEX  BZJCGTOT INDEX  BZEANSA INDEX  \\\n",
       "2017-01-26         10.9178           475.0             NaN            NaN   \n",
       "2017-01-27         10.8762          -474.0             NaN            NaN   \n",
       "2017-01-30         10.8627             NaN             NaN            NaN   \n",
       "2017-01-31         10.8029             NaN             NaN            NaN   \n",
       "2017-02-01         10.8046             NaN             NaN            NaN   \n",
       "\n",
       "            OEBRD002 INDEX  \n",
       "2017-01-26             NaN  \n",
       "2017-01-27             NaN  \n",
       "2017-01-30             NaN  \n",
       "2017-01-31             NaN  \n",
       "2017-02-01             NaN  \n",
       "\n",
       "[5 rows x 23 columns]"
      ]
     },
     "execution_count": 32,
     "metadata": {},
     "output_type": "execute_result"
    }
   ],
   "source": [
    "# i=data.columns.get_loc(\"MXWO Index\")\n",
    "# data.iloc[1:,i:i+2]\n",
    "\n",
    "dfsList = []\n",
    "\n",
    "for serie in series:\n",
    "    i = data.columns.get_loc(serie)\n",
    "    df = data.iloc[1:,i:i+2]\n",
    "    df.set_index(serie,inplace=True)\n",
    "    df.columns = [serie]\n",
    "    df = df.loc[~df.index.duplicated(keep='first')]\n",
    "    if not df[serie].isnull().all():\n",
    "        dfsList.append(df.apply(pd.to_numeric))\n",
    "\n",
    "data = pd.concat(dfsList,axis=1)\n",
    "data.sort_index(inplace=True)\n",
    "if data.loc[data.index[-1]].notnull().any() == False:\n",
    "    data.drop(data.index[-1],inplace=True)\n",
    "data.tail()"
   ]
  },
  {
   "cell_type": "code",
   "execution_count": 33,
   "metadata": {
    "collapsed": false,
    "scrolled": true
   },
   "outputs": [
    {
     "data": {
      "text/plain": [
       "True"
      ]
     },
     "execution_count": 33,
     "metadata": {},
     "output_type": "execute_result"
    }
   ],
   "source": [
    "data.loc[data.index[-1]].notnull().any()"
   ]
  },
  {
   "cell_type": "markdown",
   "metadata": {},
   "source": [
    "### Transformations\n"
   ]
  },
  {
   "cell_type": "code",
   "execution_count": 34,
   "metadata": {
    "collapsed": false
   },
   "outputs": [
    {
     "data": {
      "text/plain": [
       "Index(['BZGDINDX Index', 'BZIPTLYo Index', 'MPMIBRMA Index', 'BZGDGNDI Index',\n",
       "       'BZUETOTN Index', 'BFOETTOD Index', 'BZGDFNCE Index', 'BZREELHT Index',\n",
       "       'BPPICM Index', 'BZPIIPCM Index', 'BZEXTOT$ Index', 'BZTBBALY INDEX',\n",
       "       'BZBXPBCM INDEX', 'BZRTFBSA INDEX', 'BZFGCCSA INDEX', 'ibov index',\n",
       "       'CL1 Comdty', 'BCSWLPD CURNCY', 'bcswfpd curncy', 'BZMOTRFB INDEX',\n",
       "       'BZJCGTOT INDEX', 'BZEANSA INDEX', 'OEBRD002 INDEX'],\n",
       "      dtype='object')"
      ]
     },
     "execution_count": 34,
     "metadata": {},
     "output_type": "execute_result"
    }
   ],
   "source": [
    "data.columns"
   ]
  },
  {
   "cell_type": "code",
   "execution_count": 35,
   "metadata": {
    "collapsed": false
   },
   "outputs": [],
   "source": [
    "transf = pd.read_excel(\"Nowcasting.xlsx\",sheetname=\"Plan2\",)\n",
    "transf.set_index(\"Code\",inplace=True)"
   ]
  },
  {
   "cell_type": "code",
   "execution_count": 27,
   "metadata": {
    "collapsed": false
   },
   "outputs": [],
   "source": [
    "for s in transf.index[transf[\"Log\"]==True]:\n",
    "    data[s] = data[s].apply(np.log)\n",
    "    \n",
    "data = data.resample(\"M\").sum()\n",
    "    \n",
    "for s in transf.index[transf[\"Diff\"]==True]:\n",
    "    data[s] = data[s].diff()"
   ]
  },
  {
   "cell_type": "code",
   "execution_count": 28,
   "metadata": {
    "collapsed": false
   },
   "outputs": [
    {
     "data": {
      "text/plain": [
       "Series([], Freq: M, Name: BZGDINDX Index, dtype: float64)"
      ]
     },
     "execution_count": 28,
     "metadata": {},
     "output_type": "execute_result"
    }
   ],
   "source": [
    "d = data[\"BZGDINDX Index\"].dropna()\n",
    "# d[d.notnull()]\n",
    "# print(d.last_valid_index())\n",
    "d"
   ]
  },
  {
   "cell_type": "markdown",
   "metadata": {},
   "source": [
    "### Stationarity"
   ]
  },
  {
   "cell_type": "code",
   "execution_count": null,
   "metadata": {
    "collapsed": false
   },
   "outputs": [],
   "source": [
    "for series in data.columns:\n",
    "    d = data[series]   \n",
    "    print(series)\n",
    "    pv = sm.tsa.stattools.adfuller(d[d.notnull()])[1]\n",
    "    if pv > 0.05:\n",
    "        print(series + \" 's p-value is: \" + str(pv))"
   ]
  },
  {
   "cell_type": "markdown",
   "metadata": {},
   "source": [
    "## Response Variable"
   ]
  },
  {
   "cell_type": "code",
   "execution_count": null,
   "metadata": {
    "collapsed": false
   },
   "outputs": [],
   "source": [
    "gdp = pd.read_excel('GDP.xlsx',dayFirst=True)\n",
    "gdp.set_index(\"Date\", inplace=True)\n",
    "gdp[\"GDP\"] = np.log(gdp[\"GDP\"]) - np.log(gdp[\"GDP\"].shift(1))"
   ]
  },
  {
   "cell_type": "markdown",
   "metadata": {},
   "source": [
    "# Balanced Panel"
   ]
  },
  {
   "cell_type": "code",
   "execution_count": null,
   "metadata": {
    "collapsed": false,
    "scrolled": true
   },
   "outputs": [],
   "source": [
    "balancedIndex = ~data.isnull().any(axis=1)\n",
    "data[balancedIndex]"
   ]
  },
  {
   "cell_type": "code",
   "execution_count": null,
   "metadata": {
    "collapsed": false
   },
   "outputs": [],
   "source": [
    "n_components=1\n",
    "pca = PCA(n_components=n_components)\n",
    "components = pca.fit_transform(data[balancedIndex])\n",
    "components = pd.DataFrame(components)\n",
    "components.set_index(data[balancedIndex].index, inplace=True)\n",
    "\n",
    "print(pca.explained_variance_ratio_) "
   ]
  },
  {
   "cell_type": "markdown",
   "metadata": {
    "collapsed": true
   },
   "source": [
    "## MARSS R-Package"
   ]
  },
  {
   "cell_type": "code",
   "execution_count": null,
   "metadata": {
    "collapsed": false
   },
   "outputs": [],
   "source": [
    "balancedPanel = data[balancedIndex].transpose().as_matrix()\n",
    "initial = components.transpose().as_matrix()\n",
    "\n",
    "zs = []\n",
    "for i in range(0,26):\n",
    "    zs.append('z'+str(i))"
   ]
  },
  {
   "cell_type": "code",
   "execution_count": null,
   "metadata": {
    "collapsed": false
   },
   "outputs": [],
   "source": [
    "%%R -i balancedPanel,zs,initial -o states\n",
    "\n",
    "# class(meas)\n",
    "\n",
    "Z=\"unconstrained\"\n",
    "# B=\"diagonal and unequal\"\n",
    "# B=\"identity\"\n",
    "B=\"unconstrained\"\n",
    "# x0=matrix(c(\"pi1\"),1,1)\n",
    "# x0=matrix(c(\"pi1\",\"pi2\"),2,1)\n",
    "\n",
    "Z=matrix(list(\"z1\",\"z2\",\"z3\",\"z4\",\"z5\",\"z6\",\"z7\",\"z8\",\"z9\",\"z10\",\"z11\",\"z12\",\"z13\"),13,1)\n",
    "# Z=matrix(zs,13,2)\n",
    "\n",
    "x0=\"zero\"\n",
    "x0=initial\n",
    "\n",
    "model.gen=list(Z=Z,B=B,A=\"zero\",x0=\"zero\",U=\"zero\")\n",
    "# model.gen=list(Z=Z,B=B,x0=x0,A=\"zero\")\n",
    "kemfit = MARSS(balancedPanel, model=model.gen,control=list(conv.test.slope.tol=0.00001,abstol=0.00001))\n",
    "states = kemfit$states\n",
    "# print(kemfit, what=\"model\")\n",
    "# print(kemfit, what=\"start\")\n",
    "# print(kemfit, what=\"states\")\n",
    "# print(kemfit, what=\"ytT\")\n",
    "# print(kemfit, what=\"states.se\")\n",
    "# print(kemfit, what=\"kfs\")\n",
    "# print(kemfit$par$Z)"
   ]
  },
  {
   "cell_type": "code",
   "execution_count": null,
   "metadata": {
    "collapsed": false
   },
   "outputs": [],
   "source": [
    "factor = pd.DataFrame(states).transpose().set_index(data[balancedIndex].index)\n",
    "factor.plot()"
   ]
  },
  {
   "cell_type": "code",
   "execution_count": null,
   "metadata": {
    "collapsed": false
   },
   "outputs": [],
   "source": [
    "gdp[balancedIndex].plot()"
   ]
  },
  {
   "cell_type": "markdown",
   "metadata": {},
   "source": [
    "# OLS - Nowcast"
   ]
  },
  {
   "cell_type": "code",
   "execution_count": null,
   "metadata": {
    "collapsed": true
   },
   "outputs": [],
   "source": [
    "factor = factor.rolling(window=3).sum()\n",
    "olsSample = gdp.join(factor, how=\"inner\")\n",
    "gdpComp = olsSample[0]"
   ]
  },
  {
   "cell_type": "code",
   "execution_count": null,
   "metadata": {
    "collapsed": false
   },
   "outputs": [],
   "source": [
    "# X = sm.add_constant(gdpComp)\n",
    "X = gdpComp\n",
    "model = sm.OLS(olsSample[\"GDP\"],X)\n",
    "results = model.fit()\n",
    "results.params\n",
    "print(results.summary())"
   ]
  },
  {
   "cell_type": "markdown",
   "metadata": {
    "collapsed": true
   },
   "source": [
    "The model is not a good fit. We believe that could be due to the lack of specification of initial value for the parameters. Thus we will try do find initial value for the parameters running a VAR on PCA components, as in Banbura et al. 2013"
   ]
  },
  {
   "cell_type": "markdown",
   "metadata": {},
   "source": [
    "# PCA to retrieve factors from balanced panel"
   ]
  },
  {
   "cell_type": "code",
   "execution_count": null,
   "metadata": {
    "collapsed": false
   },
   "outputs": [],
   "source": [
    "n_components=5\n",
    "pca = PCA(n_components=n_components)\n",
    "components = pca.fit_transform(data[balancedIndex])\n",
    "components = pd.DataFrame(components)\n",
    "components.set_index(data[balancedIndex].index, inplace=True)\n",
    "\n",
    "print(pca.explained_variance_ratio_) "
   ]
  },
  {
   "cell_type": "code",
   "execution_count": null,
   "metadata": {
    "collapsed": false
   },
   "outputs": [],
   "source": [
    "sum(pca.explained_variance_ratio_)"
   ]
  },
  {
   "cell_type": "code",
   "execution_count": null,
   "metadata": {
    "collapsed": false
   },
   "outputs": [],
   "source": [
    "pd.DataFrame(components).plot()"
   ]
  },
  {
   "cell_type": "markdown",
   "metadata": {},
   "source": [
    "# Initial Parameters Estimation \n",
    "## VAR - for B-Matrix Estimation"
   ]
  },
  {
   "cell_type": "code",
   "execution_count": null,
   "metadata": {
    "collapsed": false
   },
   "outputs": [],
   "source": [
    "varModel = sm.tsa.VAR(components)\n",
    "results = varModel.fit(1)\n",
    "results.summary()"
   ]
  },
  {
   "cell_type": "code",
   "execution_count": null,
   "metadata": {
    "collapsed": false
   },
   "outputs": [],
   "source": [
    "initialB = pd.DataFrame(results.coefs[0])"
   ]
  },
  {
   "cell_type": "markdown",
   "metadata": {},
   "source": [
    "## OLS For Z-Matrix estimation"
   ]
  },
  {
   "cell_type": "code",
   "execution_count": null,
   "metadata": {
    "collapsed": false
   },
   "outputs": [],
   "source": [
    "results = sm.OLS(data[balancedIndex]['ConsumerConfidence'], components).fit()\n",
    "results.params"
   ]
  },
  {
   "cell_type": "code",
   "execution_count": null,
   "metadata": {
    "collapsed": false
   },
   "outputs": [],
   "source": [
    "dfList = []\n",
    "for col in data[balancedIndex].columns:\n",
    "    results = sm.OLS(data[balancedIndex][col], components).fit()\n",
    "    dfList.append(results.params)\n",
    "\n",
    "initialZ = pd.concat(dfList,axis=1).transpose()\n",
    "initialZ"
   ]
  },
  {
   "cell_type": "markdown",
   "metadata": {},
   "source": [
    "# Re-Estimation of Factor Model by EM Algo"
   ]
  },
  {
   "cell_type": "code",
   "execution_count": null,
   "metadata": {
    "collapsed": false
   },
   "outputs": [],
   "source": [
    "initialB.shape"
   ]
  },
  {
   "cell_type": "code",
   "execution_count": null,
   "metadata": {
    "collapsed": false
   },
   "outputs": [],
   "source": [
    "initialZ = np.reshape(initialZ.stack().as_matrix(),(65,1))\n",
    "initialB = np.reshape(initialB.stack().as_matrix(),(25,1))\n",
    "print(initialZ.shape)\n",
    "print(initialB.shape)"
   ]
  },
  {
   "cell_type": "code",
   "execution_count": null,
   "metadata": {
    "collapsed": false
   },
   "outputs": [],
   "source": [
    "numberOfFactors = 5\n",
    "zs = []\n",
    "for i in range(0,13*numberOfFactors):\n",
    "    zs.append('z'+str(i))\n",
    "    \n"
   ]
  },
  {
   "cell_type": "code",
   "execution_count": null,
   "metadata": {
    "collapsed": false
   },
   "outputs": [],
   "source": [
    "%%R -i balancedPanel,zs,initialB,initialZ,numberOfFactors -o states\n",
    "\n",
    "# class(meas)\n",
    "print(dim(initialZ))\n",
    "Z=\"unconstrained\"\n",
    "# B=\"diagonal and unequal\"\n",
    "# B=\"identity\"\n",
    "B=\"unconstrained\"\n",
    "# x0=matrix(c(\"pi1\"),1,1)\n",
    "# x0=matrix(c(\"pi1\",\"pi2\"),2,1)\n",
    "\n",
    "# Z=matrix(list(\"z1\",\"z2\",\"z3\",\"z4\",\"z5\",\"z6\",\"z7\",\"z8\",\"z9\",\"z10\",\"z11\",\"z12\",\"z13\"),13,1)\n",
    "Z=matrix(zs,13,numberOfFactors)\n",
    "# print(Z)\n",
    "# print(numberOfFactors)\n",
    "inits = list(Z=initialZ, B=initialB)\n",
    "\n",
    "x0=\"zero\"\n",
    "x0=initial\n",
    "\n",
    "model.gen=list(Z=Z,B=B,A=\"zero\",x0=\"zero\",U=\"zero\")\n",
    "# model.gen=list(Z=Z,B=B,x0=x0,A=\"zero\")\n",
    "# kemfit = MARSS(balancedPanel, model=model.gen)\n",
    "# kemfit = MARSS(balancedPanel, model=model.gen,control=list(conv.test.slope.tol=0.00001,abstol=0.00001))\n",
    "# kemfit = MARSS(balancedPanel, model=model.gen,control=list(conv.test.slope.tol=0.00001,abstol=0.00001),inits=inits)\n",
    "kemfit = MARSS(balancedPanel, model=model.gen,inits=inits)\n",
    "states = kemfit$states\n",
    "# print(kemfit, what=\"model\")\n",
    "# print(kemfit, what=\"start\")\n",
    "# print(kemfit, what=\"states\")\n",
    "# print(kemfit, what=\"ytT\")\n",
    "# print(kemfit, what=\"states.se\")\n",
    "# print(kemfit, what=\"kfs\")\n",
    "print(dim(kemfit$par$Z))"
   ]
  },
  {
   "cell_type": "code",
   "execution_count": null,
   "metadata": {
    "collapsed": false
   },
   "outputs": [],
   "source": [
    "factor = pd.DataFrame(states).transpose().set_index(data[balancedIndex].index)\n",
    "factor.plot()"
   ]
  },
  {
   "cell_type": "code",
   "execution_count": null,
   "metadata": {
    "collapsed": false
   },
   "outputs": [],
   "source": [
    "gdp[balancedIndex].plot()"
   ]
  },
  {
   "cell_type": "markdown",
   "metadata": {},
   "source": [
    "# OLS - Nowcast"
   ]
  },
  {
   "cell_type": "code",
   "execution_count": null,
   "metadata": {
    "collapsed": true
   },
   "outputs": [],
   "source": [
    "# factor = factor.rolling(window=3).sum()\n",
    "olsSample = gdp.join(factor, how=\"inner\")\n",
    "gdpComp = olsSample[[0,1,2,3,4]]"
   ]
  },
  {
   "cell_type": "code",
   "execution_count": null,
   "metadata": {
    "collapsed": false
   },
   "outputs": [],
   "source": [
    "gdpComp.head()"
   ]
  },
  {
   "cell_type": "code",
   "execution_count": null,
   "metadata": {
    "collapsed": false
   },
   "outputs": [],
   "source": [
    "# X = sm.add_constant(gdpComp)\n",
    "X = gdpComp\n",
    "model = sm.OLS(olsSample[\"GDP\"],X)\n",
    "results = model.fit()\n",
    "results.params\n",
    "print(results.summary())"
   ]
  },
  {
   "cell_type": "markdown",
   "metadata": {},
   "source": [
    "Next Steps:\n",
    "\n",
    "* Compare PCA Factors to Smoothed Factors\n",
    "* Compare Predicted GDP to actual"
   ]
  }
 ],
 "metadata": {
  "anaconda-cloud": {},
  "kernelspec": {
   "display_name": "Python [Root]",
   "language": "python",
   "name": "Python [Root]"
  },
  "language_info": {
   "codemirror_mode": {
    "name": "ipython",
    "version": 3
   },
   "file_extension": ".py",
   "mimetype": "text/x-python",
   "name": "python",
   "nbconvert_exporter": "python",
   "pygments_lexer": "ipython3",
   "version": "3.5.2"
  }
 },
 "nbformat": 4,
 "nbformat_minor": 0
}
