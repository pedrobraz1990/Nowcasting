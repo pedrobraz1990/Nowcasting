{
 "cells": [
  {
   "cell_type": "code",
   "execution_count": 1,
   "metadata": {
    "collapsed": false
   },
   "outputs": [],
   "source": [
    "%matplotlib inline\n",
    "\n",
    "import datetime as dt\n",
    "import numpy as np\n",
    "import pandas as pd\n",
    "from sklearn.decomposition import PCA\n",
    "import statsmodels.api as sm\n",
    "from pykalman import KalmanFilter\n",
    "import numpy.ma as ma\n",
    "\n",
    "pd.set_option('max_rows', 20)\n",
    "# pd.set_option('max_rows', 1000)"
   ]
  },
  {
   "cell_type": "markdown",
   "metadata": {},
   "source": [
    "# Data\n",
    "\n",
    "## Regressors"
   ]
  },
  {
   "cell_type": "code",
   "execution_count": 2,
   "metadata": {
    "collapsed": false
   },
   "outputs": [],
   "source": [
    "data = pd.read_excel('Data.xlsx',None,dayFirst=True)\n",
    "\n",
    "data = list(data.values())\n",
    "\n",
    "dat=pd.DataFrame()\n",
    "\n",
    "# del data[6]\n",
    "\n",
    "\n",
    "for df in data:\n",
    "    df.set_index(\"Date\", inplace=True)\n",
    "#     df.drop_duplicates(inplace=True)"
   ]
  },
  {
   "cell_type": "code",
   "execution_count": 3,
   "metadata": {
    "collapsed": false
   },
   "outputs": [],
   "source": [
    "data = pd.concat(data,axis=1)\n",
    "data.sort_index(inplace=True)"
   ]
  },
  {
   "cell_type": "markdown",
   "metadata": {},
   "source": [
    "### Transformations\n"
   ]
  },
  {
   "cell_type": "code",
   "execution_count": 4,
   "metadata": {
    "collapsed": false
   },
   "outputs": [
    {
     "data": {
      "text/plain": [
       "Index(['GeneralBusinessConditions', 'Imports', 'EmploymentRate',\n",
       "       'ConsumerPriceIndex', 'NewResidentialSales', 'Exports',\n",
       "       'UnemploymentRate', 'JoblessClaims', 'IndustrialProductionIndex',\n",
       "       'DisposableIncome', 'ConsumerConfidence', 'RetailFoodSales',\n",
       "       'ProducerPriceIndex'],\n",
       "      dtype='object')"
      ]
     },
     "execution_count": 4,
     "metadata": {},
     "output_type": "execute_result"
    }
   ],
   "source": [
    "data.columns"
   ]
  },
  {
   "cell_type": "code",
   "execution_count": 5,
   "metadata": {
    "collapsed": false
   },
   "outputs": [],
   "source": [
    "data[\"IndustrialProductionIndex\"] = np.log(data[\"IndustrialProductionIndex\"]) - np.log(data[\"IndustrialProductionIndex\"].shift(1))\n",
    "data[\"ConsumerConfidence\"] = np.log(data[\"ConsumerConfidence\"]) - np.log(data[\"ConsumerConfidence\"].shift(1))\n",
    "data[\"Imports\"] = np.log(data[\"Imports\"]) - np.log(data[\"Imports\"].shift(1))\n",
    "data[\"Exports\"] = np.log(data[\"Exports\"]) - np.log(data[\"Exports\"].shift(1))\n",
    "data[\"ProducerPriceIndex\"] = np.log(data[\"ProducerPriceIndex\"]) - np.log(data[\"ProducerPriceIndex\"].shift(1))\n",
    "data[\"JoblessClaims\"] = np.log(data[\"JoblessClaims\"]) - np.log(data[\"JoblessClaims\"].shift(1))\n",
    "data[\"RetailFoodSales\"] = np.log(data[\"RetailFoodSales\"]) - np.log(data[\"RetailFoodSales\"].shift(1))\n",
    "data[\"NewResidentialSales\"] = np.log(data[\"NewResidentialSales\"]) - np.log(data[\"NewResidentialSales\"].shift(1))\n",
    "data[\"UnemploymentRate\"] = data[\"UnemploymentRate\"] - data[\"UnemploymentRate\"].shift(1)\n",
    "data[\"EmploymentRate\"] = data[\"EmploymentRate\"] - data[\"EmploymentRate\"].shift(1)\n",
    "data[\"DisposableIncome\"] = np.log(data[\"DisposableIncome\"]) - np.log(data[\"DisposableIncome\"].shift(1))\n",
    "data[\"GeneralBusinessConditions\"] = np.log(data[\"GeneralBusinessConditions\"]) - np.log(data[\"GeneralBusinessConditions\"].shift(1))\n",
    "data[\"ConsumerPriceIndex\"] = data[\"ConsumerPriceIndex\"]\n",
    "\n",
    "# data[\"ConsumerPriceIndex\"].loc[dt.datetime(2009,1,1):].plot()"
   ]
  },
  {
   "cell_type": "markdown",
   "metadata": {},
   "source": [
    "### Stationarity"
   ]
  },
  {
   "cell_type": "code",
   "execution_count": 6,
   "metadata": {
    "collapsed": false
   },
   "outputs": [
    {
     "name": "stdout",
     "output_type": "stream",
     "text": [
      "EmploymentRate 's p-value is: 0.345649514846\n",
      "NewResidentialSales 's p-value is: 0.988370553646\n",
      "JoblessClaims 's p-value is: 0.24770534847\n",
      "RetailFoodSales 's p-value is: 0.627133470279\n"
     ]
    }
   ],
   "source": [
    "for series in data.columns:\n",
    "    d = data[series]    \n",
    "    pv = sm.tsa.stattools.adfuller(d[d.notnull()])[1]\n",
    "    if pv > 0.05:\n",
    "        print(series + \" 's p-value is: \" + str(pv))"
   ]
  },
  {
   "cell_type": "markdown",
   "metadata": {},
   "source": [
    "## Response Variable"
   ]
  },
  {
   "cell_type": "code",
   "execution_count": 7,
   "metadata": {
    "collapsed": false
   },
   "outputs": [],
   "source": [
    "gdp = pd.read_excel('GDP.xlsx',dayFirst=True)\n",
    "gdp.set_index(\"Date\", inplace=True)\n",
    "gdp[\"GDP\"] = np.log(gdp[\"GDP\"]) - np.log(gdp[\"GDP\"].shift(1))"
   ]
  },
  {
   "cell_type": "markdown",
   "metadata": {},
   "source": [
    "# Balanced Panel"
   ]
  },
  {
   "cell_type": "code",
   "execution_count": 8,
   "metadata": {
    "collapsed": false
   },
   "outputs": [
    {
     "data": {
      "text/html": [
       "<div>\n",
       "<table border=\"1\" class=\"dataframe\">\n",
       "  <thead>\n",
       "    <tr style=\"text-align: right;\">\n",
       "      <th></th>\n",
       "      <th>GeneralBusinessConditions</th>\n",
       "      <th>Imports</th>\n",
       "      <th>EmploymentRate</th>\n",
       "      <th>ConsumerPriceIndex</th>\n",
       "      <th>NewResidentialSales</th>\n",
       "      <th>Exports</th>\n",
       "      <th>UnemploymentRate</th>\n",
       "      <th>JoblessClaims</th>\n",
       "      <th>IndustrialProductionIndex</th>\n",
       "      <th>DisposableIncome</th>\n",
       "      <th>ConsumerConfidence</th>\n",
       "      <th>RetailFoodSales</th>\n",
       "      <th>ProducerPriceIndex</th>\n",
       "    </tr>\n",
       "    <tr>\n",
       "      <th>Date</th>\n",
       "      <th></th>\n",
       "      <th></th>\n",
       "      <th></th>\n",
       "      <th></th>\n",
       "      <th></th>\n",
       "      <th></th>\n",
       "      <th></th>\n",
       "      <th></th>\n",
       "      <th></th>\n",
       "      <th></th>\n",
       "      <th></th>\n",
       "      <th></th>\n",
       "      <th></th>\n",
       "    </tr>\n",
       "  </thead>\n",
       "  <tbody>\n",
       "    <tr>\n",
       "      <th>2010-01-31</th>\n",
       "      <td>0.020834</td>\n",
       "      <td>-0.067987</td>\n",
       "      <td>-0.004</td>\n",
       "      <td>0.75</td>\n",
       "      <td>0.013766</td>\n",
       "      <td>-0.246317</td>\n",
       "      <td>-0.001</td>\n",
       "      <td>-0.188285</td>\n",
       "      <td>-0.069069</td>\n",
       "      <td>0.008873</td>\n",
       "      <td>0.016840</td>\n",
       "      <td>-0.236325</td>\n",
       "      <td>0.014889</td>\n",
       "    </tr>\n",
       "    <tr>\n",
       "      <th>2010-02-28</th>\n",
       "      <td>0.051153</td>\n",
       "      <td>0.027679</td>\n",
       "      <td>-0.002</td>\n",
       "      <td>0.78</td>\n",
       "      <td>0.035409</td>\n",
       "      <td>0.075958</td>\n",
       "      <td>0.004</td>\n",
       "      <td>0.069042</td>\n",
       "      <td>-0.001136</td>\n",
       "      <td>0.004470</td>\n",
       "      <td>-0.067030</td>\n",
       "      <td>-0.048187</td>\n",
       "      <td>0.012143</td>\n",
       "    </tr>\n",
       "    <tr>\n",
       "      <th>2010-03-31</th>\n",
       "      <td>0.029827</td>\n",
       "      <td>0.242947</td>\n",
       "      <td>-0.002</td>\n",
       "      <td>0.52</td>\n",
       "      <td>0.046870</td>\n",
       "      <td>0.254201</td>\n",
       "      <td>0.009</td>\n",
       "      <td>0.165317</td>\n",
       "      <td>0.180426</td>\n",
       "      <td>-0.018580</td>\n",
       "      <td>0.035091</td>\n",
       "      <td>0.231714</td>\n",
       "      <td>-0.001559</td>\n",
       "    </tr>\n",
       "    <tr>\n",
       "      <th>2010-04-30</th>\n",
       "      <td>0.002590</td>\n",
       "      <td>-0.081357</td>\n",
       "      <td>0.003</td>\n",
       "      <td>0.57</td>\n",
       "      <td>0.030556</td>\n",
       "      <td>-0.036670</td>\n",
       "      <td>0.002</td>\n",
       "      <td>-0.136788</td>\n",
       "      <td>-0.083052</td>\n",
       "      <td>0.007699</td>\n",
       "      <td>0.003038</td>\n",
       "      <td>-0.160867</td>\n",
       "      <td>0.003989</td>\n",
       "    </tr>\n",
       "    <tr>\n",
       "      <th>2010-05-31</th>\n",
       "      <td>-0.007789</td>\n",
       "      <td>0.026540</td>\n",
       "      <td>-0.001</td>\n",
       "      <td>0.43</td>\n",
       "      <td>0.036153</td>\n",
       "      <td>0.154966</td>\n",
       "      <td>0.000</td>\n",
       "      <td>0.029296</td>\n",
       "      <td>0.039419</td>\n",
       "      <td>0.004203</td>\n",
       "      <td>0.023977</td>\n",
       "      <td>0.055060</td>\n",
       "      <td>0.004650</td>\n",
       "    </tr>\n",
       "    <tr>\n",
       "      <th>2010-06-30</th>\n",
       "      <td>0.000868</td>\n",
       "      <td>0.039556</td>\n",
       "      <td>0.004</td>\n",
       "      <td>0.00</td>\n",
       "      <td>0.032330</td>\n",
       "      <td>-0.034984</td>\n",
       "      <td>-0.004</td>\n",
       "      <td>0.010577</td>\n",
       "      <td>-0.031205</td>\n",
       "      <td>0.009207</td>\n",
       "      <td>0.015671</td>\n",
       "      <td>-0.011223</td>\n",
       "      <td>0.001063</td>\n",
       "    </tr>\n",
       "    <tr>\n",
       "      <th>2010-07-31</th>\n",
       "      <td>0.001735</td>\n",
       "      <td>0.096491</td>\n",
       "      <td>0.001</td>\n",
       "      <td>0.01</td>\n",
       "      <td>0.040110</td>\n",
       "      <td>0.033311</td>\n",
       "      <td>-0.003</td>\n",
       "      <td>0.015757</td>\n",
       "      <td>0.045962</td>\n",
       "      <td>0.024352</td>\n",
       "      <td>-0.007805</td>\n",
       "      <td>0.043077</td>\n",
       "      <td>0.000869</td>\n",
       "    </tr>\n",
       "    <tr>\n",
       "      <th>2010-08-31</th>\n",
       "      <td>0.002596</td>\n",
       "      <td>0.031145</td>\n",
       "      <td>0.002</td>\n",
       "      <td>0.04</td>\n",
       "      <td>0.038008</td>\n",
       "      <td>0.084763</td>\n",
       "      <td>-0.003</td>\n",
       "      <td>0.006069</td>\n",
       "      <td>0.043942</td>\n",
       "      <td>0.027146</td>\n",
       "      <td>0.034652</td>\n",
       "      <td>0.039221</td>\n",
       "      <td>0.007304</td>\n",
       "    </tr>\n",
       "    <tr>\n",
       "      <th>2010-09-30</th>\n",
       "      <td>0.007749</td>\n",
       "      <td>0.052935</td>\n",
       "      <td>0.005</td>\n",
       "      <td>0.45</td>\n",
       "      <td>0.034327</td>\n",
       "      <td>-0.021197</td>\n",
       "      <td>-0.008</td>\n",
       "      <td>0.000323</td>\n",
       "      <td>0.000000</td>\n",
       "      <td>0.020778</td>\n",
       "      <td>0.013158</td>\n",
       "      <td>-0.019948</td>\n",
       "      <td>0.005824</td>\n",
       "    </tr>\n",
       "    <tr>\n",
       "      <th>2010-10-31</th>\n",
       "      <td>-0.034020</td>\n",
       "      <td>-0.070413</td>\n",
       "      <td>0.002</td>\n",
       "      <td>0.75</td>\n",
       "      <td>0.029265</td>\n",
       "      <td>-0.024314</td>\n",
       "      <td>-0.006</td>\n",
       "      <td>-0.018184</td>\n",
       "      <td>0.033995</td>\n",
       "      <td>0.003990</td>\n",
       "      <td>0.011142</td>\n",
       "      <td>0.034396</td>\n",
       "      <td>0.009758</td>\n",
       "    </tr>\n",
       "    <tr>\n",
       "      <th>...</th>\n",
       "      <td>...</td>\n",
       "      <td>...</td>\n",
       "      <td>...</td>\n",
       "      <td>...</td>\n",
       "      <td>...</td>\n",
       "      <td>...</td>\n",
       "      <td>...</td>\n",
       "      <td>...</td>\n",
       "      <td>...</td>\n",
       "      <td>...</td>\n",
       "      <td>...</td>\n",
       "      <td>...</td>\n",
       "      <td>...</td>\n",
       "    </tr>\n",
       "    <tr>\n",
       "      <th>2015-04-30</th>\n",
       "      <td>-0.004884</td>\n",
       "      <td>-0.119295</td>\n",
       "      <td>-0.003</td>\n",
       "      <td>0.71</td>\n",
       "      <td>0.006490</td>\n",
       "      <td>-0.113561</td>\n",
       "      <td>0.010</td>\n",
       "      <td>-0.044770</td>\n",
       "      <td>-0.086433</td>\n",
       "      <td>0.002180</td>\n",
       "      <td>-0.013316</td>\n",
       "      <td>-0.054713</td>\n",
       "      <td>0.002285</td>\n",
       "    </tr>\n",
       "    <tr>\n",
       "      <th>2015-05-31</th>\n",
       "      <td>-0.039955</td>\n",
       "      <td>-0.045839</td>\n",
       "      <td>-0.003</td>\n",
       "      <td>0.74</td>\n",
       "      <td>0.007660</td>\n",
       "      <td>0.101128</td>\n",
       "      <td>0.005</td>\n",
       "      <td>-0.028242</td>\n",
       "      <td>0.044150</td>\n",
       "      <td>0.010973</td>\n",
       "      <td>-0.006725</td>\n",
       "      <td>0.022246</td>\n",
       "      <td>0.000000</td>\n",
       "    </tr>\n",
       "    <tr>\n",
       "      <th>2015-06-30</th>\n",
       "      <td>-0.033682</td>\n",
       "      <td>0.075101</td>\n",
       "      <td>-0.002</td>\n",
       "      <td>0.79</td>\n",
       "      <td>0.012196</td>\n",
       "      <td>0.157437</td>\n",
       "      <td>0.003</td>\n",
       "      <td>-0.009991</td>\n",
       "      <td>-0.021265</td>\n",
       "      <td>0.006903</td>\n",
       "      <td>-0.014956</td>\n",
       "      <td>-0.032523</td>\n",
       "      <td>0.004650</td>\n",
       "    </tr>\n",
       "    <tr>\n",
       "      <th>2015-07-31</th>\n",
       "      <td>0.063797</td>\n",
       "      <td>0.066989</td>\n",
       "      <td>-0.006</td>\n",
       "      <td>0.62</td>\n",
       "      <td>0.012832</td>\n",
       "      <td>-0.057423</td>\n",
       "      <td>0.005</td>\n",
       "      <td>-0.005921</td>\n",
       "      <td>0.059293</td>\n",
       "      <td>0.010095</td>\n",
       "      <td>-0.041964</td>\n",
       "      <td>0.035519</td>\n",
       "      <td>0.007169</td>\n",
       "    </tr>\n",
       "    <tr>\n",
       "      <th>2015-08-31</th>\n",
       "      <td>0.007389</td>\n",
       "      <td>-0.232594</td>\n",
       "      <td>0.000</td>\n",
       "      <td>0.22</td>\n",
       "      <td>0.007979</td>\n",
       "      <td>-0.179662</td>\n",
       "      <td>0.002</td>\n",
       "      <td>-0.050378</td>\n",
       "      <td>0.028378</td>\n",
       "      <td>0.001788</td>\n",
       "      <td>0.004277</td>\n",
       "      <td>-0.023198</td>\n",
       "      <td>0.009542</td>\n",
       "    </tr>\n",
       "    <tr>\n",
       "      <th>2015-09-30</th>\n",
       "      <td>-0.027365</td>\n",
       "      <td>0.031345</td>\n",
       "      <td>0.000</td>\n",
       "      <td>0.54</td>\n",
       "      <td>0.010601</td>\n",
       "      <td>0.041913</td>\n",
       "      <td>0.003</td>\n",
       "      <td>-0.038988</td>\n",
       "      <td>0.001036</td>\n",
       "      <td>0.004298</td>\n",
       "      <td>-0.064633</td>\n",
       "      <td>-0.032144</td>\n",
       "      <td>0.029448</td>\n",
       "    </tr>\n",
       "    <tr>\n",
       "      <th>2015-10-31</th>\n",
       "      <td>0.032261</td>\n",
       "      <td>0.062352</td>\n",
       "      <td>-0.003</td>\n",
       "      <td>0.82</td>\n",
       "      <td>0.006654</td>\n",
       "      <td>-0.006162</td>\n",
       "      <td>0.001</td>\n",
       "      <td>-0.011137</td>\n",
       "      <td>0.036589</td>\n",
       "      <td>0.022878</td>\n",
       "      <td>0.040154</td>\n",
       "      <td>0.050344</td>\n",
       "      <td>0.017563</td>\n",
       "    </tr>\n",
       "    <tr>\n",
       "      <th>2015-11-30</th>\n",
       "      <td>-0.090681</td>\n",
       "      <td>-0.108404</td>\n",
       "      <td>0.003</td>\n",
       "      <td>1.01</td>\n",
       "      <td>0.004195</td>\n",
       "      <td>-0.150516</td>\n",
       "      <td>-0.002</td>\n",
       "      <td>-0.071361</td>\n",
       "      <td>-0.071348</td>\n",
       "      <td>0.048696</td>\n",
       "      <td>0.000000</td>\n",
       "      <td>-0.008048</td>\n",
       "      <td>-0.004184</td>\n",
       "    </tr>\n",
       "    <tr>\n",
       "      <th>2015-12-31</th>\n",
       "      <td>-0.045120</td>\n",
       "      <td>-0.178960</td>\n",
       "      <td>0.006</td>\n",
       "      <td>0.96</td>\n",
       "      <td>0.004549</td>\n",
       "      <td>0.195251</td>\n",
       "      <td>-0.002</td>\n",
       "      <td>0.144448</td>\n",
       "      <td>-0.147563</td>\n",
       "      <td>0.077145</td>\n",
       "      <td>-0.022108</td>\n",
       "      <td>0.180637</td>\n",
       "      <td>-0.003574</td>\n",
       "    </tr>\n",
       "    <tr>\n",
       "      <th>2016-01-31</th>\n",
       "      <td>0.023498</td>\n",
       "      <td>-0.021115</td>\n",
       "      <td>-0.007</td>\n",
       "      <td>1.27</td>\n",
       "      <td>-0.003513</td>\n",
       "      <td>-0.400408</td>\n",
       "      <td>0.001</td>\n",
       "      <td>-0.148253</td>\n",
       "      <td>-0.052274</td>\n",
       "      <td>-0.013376</td>\n",
       "      <td>0.042311</td>\n",
       "      <td>-0.260511</td>\n",
       "      <td>0.006780</td>\n",
       "    </tr>\n",
       "  </tbody>\n",
       "</table>\n",
       "<p>73 rows × 13 columns</p>\n",
       "</div>"
      ],
      "text/plain": [
       "            GeneralBusinessConditions   Imports  EmploymentRate  \\\n",
       "Date                                                              \n",
       "2010-01-31                   0.020834 -0.067987          -0.004   \n",
       "2010-02-28                   0.051153  0.027679          -0.002   \n",
       "2010-03-31                   0.029827  0.242947          -0.002   \n",
       "2010-04-30                   0.002590 -0.081357           0.003   \n",
       "2010-05-31                  -0.007789  0.026540          -0.001   \n",
       "2010-06-30                   0.000868  0.039556           0.004   \n",
       "2010-07-31                   0.001735  0.096491           0.001   \n",
       "2010-08-31                   0.002596  0.031145           0.002   \n",
       "2010-09-30                   0.007749  0.052935           0.005   \n",
       "2010-10-31                  -0.034020 -0.070413           0.002   \n",
       "...                               ...       ...             ...   \n",
       "2015-04-30                  -0.004884 -0.119295          -0.003   \n",
       "2015-05-31                  -0.039955 -0.045839          -0.003   \n",
       "2015-06-30                  -0.033682  0.075101          -0.002   \n",
       "2015-07-31                   0.063797  0.066989          -0.006   \n",
       "2015-08-31                   0.007389 -0.232594           0.000   \n",
       "2015-09-30                  -0.027365  0.031345           0.000   \n",
       "2015-10-31                   0.032261  0.062352          -0.003   \n",
       "2015-11-30                  -0.090681 -0.108404           0.003   \n",
       "2015-12-31                  -0.045120 -0.178960           0.006   \n",
       "2016-01-31                   0.023498 -0.021115          -0.007   \n",
       "\n",
       "            ConsumerPriceIndex  NewResidentialSales   Exports  \\\n",
       "Date                                                            \n",
       "2010-01-31                0.75             0.013766 -0.246317   \n",
       "2010-02-28                0.78             0.035409  0.075958   \n",
       "2010-03-31                0.52             0.046870  0.254201   \n",
       "2010-04-30                0.57             0.030556 -0.036670   \n",
       "2010-05-31                0.43             0.036153  0.154966   \n",
       "2010-06-30                0.00             0.032330 -0.034984   \n",
       "2010-07-31                0.01             0.040110  0.033311   \n",
       "2010-08-31                0.04             0.038008  0.084763   \n",
       "2010-09-30                0.45             0.034327 -0.021197   \n",
       "2010-10-31                0.75             0.029265 -0.024314   \n",
       "...                        ...                  ...       ...   \n",
       "2015-04-30                0.71             0.006490 -0.113561   \n",
       "2015-05-31                0.74             0.007660  0.101128   \n",
       "2015-06-30                0.79             0.012196  0.157437   \n",
       "2015-07-31                0.62             0.012832 -0.057423   \n",
       "2015-08-31                0.22             0.007979 -0.179662   \n",
       "2015-09-30                0.54             0.010601  0.041913   \n",
       "2015-10-31                0.82             0.006654 -0.006162   \n",
       "2015-11-30                1.01             0.004195 -0.150516   \n",
       "2015-12-31                0.96             0.004549  0.195251   \n",
       "2016-01-31                1.27            -0.003513 -0.400408   \n",
       "\n",
       "            UnemploymentRate  JoblessClaims  IndustrialProductionIndex  \\\n",
       "Date                                                                     \n",
       "2010-01-31            -0.001      -0.188285                  -0.069069   \n",
       "2010-02-28             0.004       0.069042                  -0.001136   \n",
       "2010-03-31             0.009       0.165317                   0.180426   \n",
       "2010-04-30             0.002      -0.136788                  -0.083052   \n",
       "2010-05-31             0.000       0.029296                   0.039419   \n",
       "2010-06-30            -0.004       0.010577                  -0.031205   \n",
       "2010-07-31            -0.003       0.015757                   0.045962   \n",
       "2010-08-31            -0.003       0.006069                   0.043942   \n",
       "2010-09-30            -0.008       0.000323                   0.000000   \n",
       "2010-10-31            -0.006      -0.018184                   0.033995   \n",
       "...                      ...            ...                        ...   \n",
       "2015-04-30             0.010      -0.044770                  -0.086433   \n",
       "2015-05-31             0.005      -0.028242                   0.044150   \n",
       "2015-06-30             0.003      -0.009991                  -0.021265   \n",
       "2015-07-31             0.005      -0.005921                   0.059293   \n",
       "2015-08-31             0.002      -0.050378                   0.028378   \n",
       "2015-09-30             0.003      -0.038988                   0.001036   \n",
       "2015-10-31             0.001      -0.011137                   0.036589   \n",
       "2015-11-30            -0.002      -0.071361                  -0.071348   \n",
       "2015-12-31            -0.002       0.144448                  -0.147563   \n",
       "2016-01-31             0.001      -0.148253                  -0.052274   \n",
       "\n",
       "            DisposableIncome  ConsumerConfidence  RetailFoodSales  \\\n",
       "Date                                                                \n",
       "2010-01-31          0.008873            0.016840        -0.236325   \n",
       "2010-02-28          0.004470           -0.067030        -0.048187   \n",
       "2010-03-31         -0.018580            0.035091         0.231714   \n",
       "2010-04-30          0.007699            0.003038        -0.160867   \n",
       "2010-05-31          0.004203            0.023977         0.055060   \n",
       "2010-06-30          0.009207            0.015671        -0.011223   \n",
       "2010-07-31          0.024352           -0.007805         0.043077   \n",
       "2010-08-31          0.027146            0.034652         0.039221   \n",
       "2010-09-30          0.020778            0.013158        -0.019948   \n",
       "2010-10-31          0.003990            0.011142         0.034396   \n",
       "...                      ...                 ...              ...   \n",
       "2015-04-30          0.002180           -0.013316        -0.054713   \n",
       "2015-05-31          0.010973           -0.006725         0.022246   \n",
       "2015-06-30          0.006903           -0.014956        -0.032523   \n",
       "2015-07-31          0.010095           -0.041964         0.035519   \n",
       "2015-08-31          0.001788            0.004277        -0.023198   \n",
       "2015-09-30          0.004298           -0.064633        -0.032144   \n",
       "2015-10-31          0.022878            0.040154         0.050344   \n",
       "2015-11-30          0.048696            0.000000        -0.008048   \n",
       "2015-12-31          0.077145           -0.022108         0.180637   \n",
       "2016-01-31         -0.013376            0.042311        -0.260511   \n",
       "\n",
       "            ProducerPriceIndex  \n",
       "Date                            \n",
       "2010-01-31            0.014889  \n",
       "2010-02-28            0.012143  \n",
       "2010-03-31           -0.001559  \n",
       "2010-04-30            0.003989  \n",
       "2010-05-31            0.004650  \n",
       "2010-06-30            0.001063  \n",
       "2010-07-31            0.000869  \n",
       "2010-08-31            0.007304  \n",
       "2010-09-30            0.005824  \n",
       "2010-10-31            0.009758  \n",
       "...                        ...  \n",
       "2015-04-30            0.002285  \n",
       "2015-05-31            0.000000  \n",
       "2015-06-30            0.004650  \n",
       "2015-07-31            0.007169  \n",
       "2015-08-31            0.009542  \n",
       "2015-09-30            0.029448  \n",
       "2015-10-31            0.017563  \n",
       "2015-11-30           -0.004184  \n",
       "2015-12-31           -0.003574  \n",
       "2016-01-31            0.006780  \n",
       "\n",
       "[73 rows x 13 columns]"
      ]
     },
     "execution_count": 8,
     "metadata": {},
     "output_type": "execute_result"
    }
   ],
   "source": [
    "balancedIndex = ~data.isnull().any(axis=1)\n",
    "data[balancedIndex]"
   ]
  },
  {
   "cell_type": "markdown",
   "metadata": {},
   "source": [
    "# Step #1: PCA to retrieve factors from balanced panel"
   ]
  },
  {
   "cell_type": "code",
   "execution_count": 9,
   "metadata": {
    "collapsed": false
   },
   "outputs": [
    {
     "name": "stdout",
     "output_type": "stream",
     "text": [
      "[ 0.6241585   0.22421535  0.08139473  0.02986808  0.01642318]\n"
     ]
    }
   ],
   "source": [
    "n_components=5\n",
    "pca = PCA(n_components=n_components)\n",
    "components = pca.fit_transform(data[balancedIndex])\n",
    "components = pd.DataFrame(components)\n",
    "components.set_index(data[balancedIndex].index, inplace=True)\n",
    "\n",
    "print(pca.explained_variance_ratio_) "
   ]
  },
  {
   "cell_type": "code",
   "execution_count": 10,
   "metadata": {
    "collapsed": false
   },
   "outputs": [
    {
     "data": {
      "text/plain": [
       "0.97605984190422546"
      ]
     },
     "execution_count": 10,
     "metadata": {},
     "output_type": "execute_result"
    }
   ],
   "source": [
    "sum(pca.explained_variance_ratio_)"
   ]
  },
  {
   "cell_type": "code",
   "execution_count": 11,
   "metadata": {
    "collapsed": false
   },
   "outputs": [
    {
     "data": {
      "text/plain": [
       "<matplotlib.axes._subplots.AxesSubplot at 0x1043acda0>"
      ]
     },
     "execution_count": 11,
     "metadata": {},
     "output_type": "execute_result"
    },
    {
     "data": {
      "image/png": "[encoded data removed]",
      "text/plain": [
       "<matplotlib.figure.Figure at 0x1163148d0>"
      ]
     },
     "metadata": {},
     "output_type": "display_data"
    }
   ],
   "source": [
    "pd.DataFrame(components).plot()"
   ]
  },
  {
   "cell_type": "markdown",
   "metadata": {},
   "source": [
    "# Step #2: OLS to estimate parameters\n",
    "\n",
    "Since we have $F_t$ we can now estimate $\\Lambda$ from equation\n",
    "\n",
    "$$x_{t|v_{\\nu}} = \\mu + \\Lambda F_t + \\xi_{t|v_{\\nu}}$$\n",
    "\n",
    "OLS Estimator can be obtained by:\n",
    "\n"
   ]
  },
  {
   "cell_type": "code",
   "execution_count": null,
   "metadata": {
    "collapsed": true
   },
   "outputs": [],
   "source": []
  },
  {
   "cell_type": "markdown",
   "metadata": {},
   "source": [
    "## OLS\n",
    "\n",
    "first I need to match the estimated components to the available GDPs\n",
    "\n",
    "We won't use a constant since we expect at least one of the factors to have little variance"
   ]
  },
  {
   "cell_type": "code",
   "execution_count": 12,
   "metadata": {
    "collapsed": false
   },
   "outputs": [],
   "source": [
    "olsSample = gdp.join(components, how=\"inner\")\n",
    "gdpComp = olsSample[list(range(0,n_components))]"
   ]
  },
  {
   "cell_type": "code",
   "execution_count": 13,
   "metadata": {
    "collapsed": false
   },
   "outputs": [
    {
     "name": "stdout",
     "output_type": "stream",
     "text": [
      "                            OLS Regression Results                            \n",
      "==============================================================================\n",
      "Dep. Variable:                    GDP   R-squared:                       0.767\n",
      "Model:                            OLS   Adj. R-squared:                  0.706\n",
      "Method:                 Least Squares   F-statistic:                     12.54\n",
      "Date:                Sat, 03 Dec 2016   Prob (F-statistic):           1.78e-05\n",
      "Time:                        22:25:08   Log-Likelihood:                 60.826\n",
      "No. Observations:                  24   AIC:                            -111.7\n",
      "Df Residuals:                      19   BIC:                            -105.8\n",
      "Df Model:                           5                                         \n",
      "Covariance Type:            nonrobust                                         \n",
      "==============================================================================\n",
      "                 coef    std err          t      P>|t|      [0.025      0.975]\n",
      "------------------------------------------------------------------------------\n",
      "0             -0.0505      0.019     -2.632      0.016      -0.091      -0.010\n",
      "1              0.0222      0.025      0.892      0.383      -0.030       0.074\n",
      "2              0.1771      0.043      4.166      0.001       0.088       0.266\n",
      "3             -0.0699      0.071     -0.988      0.335      -0.218       0.078\n",
      "4              0.2991      0.110      2.712      0.014       0.068       0.530\n",
      "==============================================================================\n",
      "Omnibus:                        1.961   Durbin-Watson:                   2.164\n",
      "Prob(Omnibus):                  0.375   Jarque-Bera (JB):                0.721\n",
      "Skew:                           0.309   Prob(JB):                        0.697\n",
      "Kurtosis:                       3.583   Cond. No.                         8.30\n",
      "==============================================================================\n",
      "\n",
      "Warnings:\n",
      "[1] Standard Errors assume that the covariance matrix of the errors is correctly specified.\n"
     ]
    }
   ],
   "source": [
    "# X = sm.add_constant(gdpComp)\n",
    "X = gdpComp\n",
    "model = sm.OLS(olsSample[\"GDP\"],X)\n",
    "results = model.fit()\n",
    "results.params\n",
    "print(results.summary())"
   ]
  },
  {
   "cell_type": "code",
   "execution_count": 14,
   "metadata": {
    "collapsed": false
   },
   "outputs": [
    {
     "data": {
      "text/plain": [
       "0   -0.050517\n",
       "1    0.022236\n",
       "2    0.177091\n",
       "3   -0.069884\n",
       "4    0.299148\n",
       "dtype: float64"
      ]
     },
     "execution_count": 14,
     "metadata": {},
     "output_type": "execute_result"
    }
   ],
   "source": [
    "results.params"
   ]
  },
  {
   "cell_type": "code",
   "execution_count": 15,
   "metadata": {
    "collapsed": false
   },
   "outputs": [
    {
     "data": {
      "text/plain": [
       "<matplotlib.axes._subplots.AxesSubplot at 0x118dffb70>"
      ]
     },
     "execution_count": 15,
     "metadata": {},
     "output_type": "execute_result"
    },
    {
     "data": {
      "image/png": "[encoded data removed]",
      "text/plain": [
       "<matplotlib.figure.Figure at 0x118be6c18>"
      ]
     },
     "metadata": {},
     "output_type": "display_data"
    }
   ],
   "source": [
    "olsSample.plot()"
   ]
  },
  {
   "cell_type": "code",
   "execution_count": 16,
   "metadata": {
    "collapsed": false
   },
   "outputs": [
    {
     "name": "stdout",
     "output_type": "stream",
     "text": [
      "                              ARMA Model Results                              \n",
      "==============================================================================\n",
      "Dep. Variable:                    GDP   No. Observations:                   24\n",
      "Model:                     ARMA(1, 0)   Log Likelihood                  49.239\n",
      "Method:                       css-mle   S.D. of innovations              0.031\n",
      "Date:                Sat, 03 Dec 2016   AIC                            -92.477\n",
      "Time:                        22:25:09   BIC                            -88.943\n",
      "Sample:                    03-31-2010   HQIC                           -91.540\n",
      "                         - 12-31-2015                                         \n",
      "==============================================================================\n",
      "                 coef    std err          z      P>|z|      [0.025      0.975]\n",
      "------------------------------------------------------------------------------\n",
      "const          0.0218      0.005      4.767      0.000       0.013       0.031\n",
      "ar.L1.GDP     -0.4019      0.196     -2.053      0.052      -0.786      -0.018\n",
      "                                    Roots                                    \n",
      "=============================================================================\n",
      "                 Real           Imaginary           Modulus         Frequency\n",
      "-----------------------------------------------------------------------------\n",
      "AR.1           -2.4880           +0.0000j            2.4880            0.5000\n",
      "-----------------------------------------------------------------------------\n"
     ]
    }
   ],
   "source": [
    "model = sm.tsa.ARMA(olsSample[\"GDP\"],order=(1,0,0))\n",
    "results = model.fit()\n",
    "results.params\n",
    "print(results.summary())"
   ]
  },
  {
   "cell_type": "markdown",
   "metadata": {},
   "source": [
    "# pykalman"
   ]
  },
  {
   "cell_type": "markdown",
   "metadata": {},
   "source": [
    "## Convergence"
   ]
  },
  {
   "cell_type": "code",
   "execution_count": 17,
   "metadata": {
    "collapsed": false
   },
   "outputs": [
    {
     "data": {
      "text/plain": [
       "array([[ 0.85819709],\n",
       "       [ 1.77811829],\n",
       "       [ 2.19537816]])"
      ]
     },
     "execution_count": 17,
     "metadata": {},
     "output_type": "execute_result"
    }
   ],
   "source": [
    "kf = KalmanFilter(initial_state_mean=0, n_dim_obs=2, n_dim_state=1)\n",
    "# measurements = [[1,0], [0,0], [0,1]]\n",
    "measurements = pd.DataFrame([[1,0], [0,0], [0,1]])\n",
    "kf.em(measurements).smooth([[2,0], [2,1], [2,2]])[0]"
   ]
  },
  {
   "cell_type": "code",
   "execution_count": 18,
   "metadata": {
    "collapsed": false
   },
   "outputs": [],
   "source": [
    "n_dim_state = 5\n",
    "obs = data[balancedIndex]\n",
    "initial_means = np.zeros((n_dim_state))\n",
    "n_dim_obs = data.shape[1]"
   ]
  },
  {
   "cell_type": "code",
   "execution_count": 19,
   "metadata": {
    "collapsed": false
   },
   "outputs": [
    {
     "data": {
      "text/plain": [
       "0.0013146534068194016"
      ]
     },
     "execution_count": 19,
     "metadata": {},
     "output_type": "execute_result"
    }
   ],
   "source": [
    "kf = KalmanFilter(initial_state_mean=initial_means, n_dim_obs=n_dim_obs, n_dim_state=n_dim_state, em_vars='all')\n",
    "components = kf.em(obs, n_iter=1).smooth(obs)\n",
    "# pd.DataFrame(components[0], index=obs.index).plot()\n",
    "kf.observation_matrices[0][0]"
   ]
  },
  {
   "cell_type": "code",
   "execution_count": 20,
   "metadata": {
    "collapsed": false
   },
   "outputs": [
    {
     "name": "stdout",
     "output_type": "stream",
     "text": [
      "0\n",
      "1\n",
      "2\n",
      "3\n",
      "4\n"
     ]
    },
    {
     "ename": "KeyboardInterrupt",
     "evalue": "",
     "output_type": "error",
     "traceback": [
      "\u001b[0;31m---------------------------------------------------------------------------\u001b[0m",
      "\u001b[0;31mKeyboardInterrupt\u001b[0m                         Traceback (most recent call last)",
      "\u001b[0;32m<ipython-input-20-7c866c0e7c0b>\u001b[0m in \u001b[0;36m<module>\u001b[0;34m()\u001b[0m\n\u001b[1;32m      3\u001b[0m \u001b[0;32mfor\u001b[0m \u001b[0mi\u001b[0m \u001b[0;32min\u001b[0m \u001b[0mrange\u001b[0m\u001b[0;34m(\u001b[0m\u001b[0;36m0\u001b[0m\u001b[0;34m,\u001b[0m\u001b[0;36m10\u001b[0m\u001b[0;34m)\u001b[0m\u001b[0;34m:\u001b[0m\u001b[0;34m\u001b[0m\u001b[0m\n\u001b[1;32m      4\u001b[0m     \u001b[0mkf\u001b[0m \u001b[0;34m=\u001b[0m \u001b[0mKalmanFilter\u001b[0m\u001b[0;34m(\u001b[0m\u001b[0minitial_state_mean\u001b[0m\u001b[0;34m=\u001b[0m\u001b[0minitial_means\u001b[0m\u001b[0;34m,\u001b[0m \u001b[0mn_dim_obs\u001b[0m\u001b[0;34m=\u001b[0m\u001b[0mn_dim_obs\u001b[0m\u001b[0;34m,\u001b[0m \u001b[0mn_dim_state\u001b[0m\u001b[0;34m=\u001b[0m\u001b[0mn_dim_state\u001b[0m\u001b[0;34m,\u001b[0m \u001b[0mem_vars\u001b[0m\u001b[0;34m=\u001b[0m\u001b[0;34m'all'\u001b[0m\u001b[0;34m)\u001b[0m\u001b[0;34m\u001b[0m\u001b[0m\n\u001b[0;32m----> 5\u001b[0;31m     \u001b[0mcomponents\u001b[0m \u001b[0;34m=\u001b[0m \u001b[0mkf\u001b[0m\u001b[0;34m.\u001b[0m\u001b[0mem\u001b[0m\u001b[0;34m(\u001b[0m\u001b[0mobs\u001b[0m\u001b[0;34m,\u001b[0m \u001b[0mn_iter\u001b[0m\u001b[0;34m=\u001b[0m\u001b[0;36m1\u001b[0m\u001b[0;34m+\u001b[0m\u001b[0mi\u001b[0m\u001b[0;34m*\u001b[0m\u001b[0;36m10\u001b[0m\u001b[0;34m)\u001b[0m\u001b[0;34m.\u001b[0m\u001b[0msmooth\u001b[0m\u001b[0;34m(\u001b[0m\u001b[0mobs\u001b[0m\u001b[0;34m)\u001b[0m\u001b[0;34m\u001b[0m\u001b[0m\n\u001b[0m\u001b[1;32m      6\u001b[0m     \u001b[0mlst\u001b[0m\u001b[0;34m.\u001b[0m\u001b[0mappend\u001b[0m\u001b[0;34m(\u001b[0m\u001b[0mnp\u001b[0m\u001b[0;34m.\u001b[0m\u001b[0mlinalg\u001b[0m\u001b[0;34m.\u001b[0m\u001b[0mnorm\u001b[0m\u001b[0;34m(\u001b[0m\u001b[0mkf\u001b[0m\u001b[0;34m.\u001b[0m\u001b[0mobservation_matrices\u001b[0m\u001b[0;34m-\u001b[0m\u001b[0mlast_matrix\u001b[0m\u001b[0;34m)\u001b[0m\u001b[0;34m)\u001b[0m\u001b[0;34m\u001b[0m\u001b[0m\n\u001b[1;32m      7\u001b[0m     \u001b[0mlast_matrix\u001b[0m \u001b[0;34m=\u001b[0m \u001b[0mkf\u001b[0m\u001b[0;34m.\u001b[0m\u001b[0mobservation_matrices\u001b[0m\u001b[0;34m\u001b[0m\u001b[0m\n",
      "\u001b[0;32m/Users/mac/anaconda/lib/python3.5/site-packages/pykalman/standard.py\u001b[0m in \u001b[0;36mem\u001b[0;34m(self, X, y, n_iter, em_vars)\u001b[0m\n\u001b[1;32m   1428\u001b[0m                 _em(Z, self.transition_offsets, self.observation_offsets,\n\u001b[1;32m   1429\u001b[0m                     \u001b[0msmoothed_state_means\u001b[0m\u001b[0;34m,\u001b[0m \u001b[0msmoothed_state_covariances\u001b[0m\u001b[0;34m,\u001b[0m\u001b[0;34m\u001b[0m\u001b[0m\n\u001b[0;32m-> 1430\u001b[0;31m                     \u001b[0msigma_pair_smooth\u001b[0m\u001b[0;34m,\u001b[0m \u001b[0mgiven\u001b[0m\u001b[0;34m=\u001b[0m\u001b[0mgiven\u001b[0m\u001b[0;34m\u001b[0m\u001b[0m\n\u001b[0m\u001b[1;32m   1431\u001b[0m                 )\n\u001b[1;32m   1432\u001b[0m             )\n",
      "\u001b[0;32m/Users/mac/anaconda/lib/python3.5/site-packages/pykalman/standard.py\u001b[0m in \u001b[0;36m_em\u001b[0;34m(observations, transition_offsets, observation_offsets, smoothed_state_means, smoothed_state_covariances, pairwise_covariances, given)\u001b[0m\n\u001b[1;32m    676\u001b[0m         observation_offset = _em_observation_offset(\n\u001b[1;32m    677\u001b[0m             \u001b[0mobservation_matrix\u001b[0m\u001b[0;34m,\u001b[0m \u001b[0msmoothed_state_means\u001b[0m\u001b[0;34m,\u001b[0m\u001b[0;34m\u001b[0m\u001b[0m\n\u001b[0;32m--> 678\u001b[0;31m             \u001b[0mobservations\u001b[0m\u001b[0;34m\u001b[0m\u001b[0m\n\u001b[0m\u001b[1;32m    679\u001b[0m         )\n\u001b[1;32m    680\u001b[0m \u001b[0;34m\u001b[0m\u001b[0m\n",
      "\u001b[0;32m/Users/mac/anaconda/lib/python3.5/site-packages/pykalman/standard.py\u001b[0m in \u001b[0;36m_em_observation_offset\u001b[0;34m(observation_matrices, smoothed_state_means, observations)\u001b[0m\n\u001b[1;32m    905\u001b[0m     \u001b[0mn_obs\u001b[0m \u001b[0;34m=\u001b[0m \u001b[0;36m0\u001b[0m\u001b[0;34m\u001b[0m\u001b[0m\n\u001b[1;32m    906\u001b[0m     \u001b[0;32mfor\u001b[0m \u001b[0mt\u001b[0m \u001b[0;32min\u001b[0m \u001b[0mrange\u001b[0m\u001b[0;34m(\u001b[0m\u001b[0mn_timesteps\u001b[0m\u001b[0;34m)\u001b[0m\u001b[0;34m:\u001b[0m\u001b[0;34m\u001b[0m\u001b[0m\n\u001b[0;32m--> 907\u001b[0;31m         \u001b[0;32mif\u001b[0m \u001b[0;32mnot\u001b[0m \u001b[0mnp\u001b[0m\u001b[0;34m.\u001b[0m\u001b[0many\u001b[0m\u001b[0;34m(\u001b[0m\u001b[0mnp\u001b[0m\u001b[0;34m.\u001b[0m\u001b[0mma\u001b[0m\u001b[0;34m.\u001b[0m\u001b[0mgetmask\u001b[0m\u001b[0;34m(\u001b[0m\u001b[0mobservations\u001b[0m\u001b[0;34m[\u001b[0m\u001b[0mt\u001b[0m\u001b[0;34m]\u001b[0m\u001b[0;34m)\u001b[0m\u001b[0;34m)\u001b[0m\u001b[0;34m:\u001b[0m\u001b[0;34m\u001b[0m\u001b[0m\n\u001b[0m\u001b[1;32m    908\u001b[0m             \u001b[0mobservation_matrix\u001b[0m \u001b[0;34m=\u001b[0m \u001b[0m_last_dims\u001b[0m\u001b[0;34m(\u001b[0m\u001b[0mobservation_matrices\u001b[0m\u001b[0;34m,\u001b[0m \u001b[0mt\u001b[0m\u001b[0;34m)\u001b[0m\u001b[0;34m\u001b[0m\u001b[0m\n\u001b[1;32m    909\u001b[0m             observation_offset += (\n",
      "\u001b[0;32m/Users/mac/anaconda/lib/python3.5/site-packages/numpy/ma/core.py\u001b[0m in \u001b[0;36m__getitem__\u001b[0;34m(self, indx)\u001b[0m\n\u001b[1;32m   3138\u001b[0m         \u001b[0;32melse\u001b[0m\u001b[0;34m:\u001b[0m\u001b[0;34m\u001b[0m\u001b[0m\n\u001b[1;32m   3139\u001b[0m             \u001b[0;31m# Force dout to MA\u001b[0m\u001b[0;34m\u001b[0m\u001b[0;34m\u001b[0m\u001b[0m\n\u001b[0;32m-> 3140\u001b[0;31m             \u001b[0mdout\u001b[0m \u001b[0;34m=\u001b[0m \u001b[0mdout\u001b[0m\u001b[0;34m.\u001b[0m\u001b[0mview\u001b[0m\u001b[0;34m(\u001b[0m\u001b[0mtype\u001b[0m\u001b[0;34m(\u001b[0m\u001b[0mself\u001b[0m\u001b[0;34m)\u001b[0m\u001b[0;34m)\u001b[0m\u001b[0;34m\u001b[0m\u001b[0m\n\u001b[0m\u001b[1;32m   3141\u001b[0m             \u001b[0;31m# Inherit attributes from self\u001b[0m\u001b[0;34m\u001b[0m\u001b[0;34m\u001b[0m\u001b[0m\n\u001b[1;32m   3142\u001b[0m             \u001b[0mdout\u001b[0m\u001b[0;34m.\u001b[0m\u001b[0m_update_from\u001b[0m\u001b[0;34m(\u001b[0m\u001b[0mself\u001b[0m\u001b[0;34m)\u001b[0m\u001b[0;34m\u001b[0m\u001b[0m\n",
      "\u001b[0;32m/Users/mac/anaconda/lib/python3.5/site-packages/numpy/ma/core.py\u001b[0m in \u001b[0;36m__array_finalize__\u001b[0;34m(self, obj)\u001b[0m\n\u001b[1;32m   2913\u001b[0m             \u001b[0;31m# the mask, so that future modifications to 'self' do not end up\u001b[0m\u001b[0;34m\u001b[0m\u001b[0;34m\u001b[0m\u001b[0m\n\u001b[1;32m   2914\u001b[0m             \u001b[0;31m# side-effecting 'obj' as well.\u001b[0m\u001b[0;34m\u001b[0m\u001b[0;34m\u001b[0m\u001b[0m\n\u001b[0;32m-> 2915\u001b[0;31m             if (obj.__array_interface__[\"data\"][0]\n\u001b[0m\u001b[1;32m   2916\u001b[0m                     != self.__array_interface__[\"data\"][0]):\n\u001b[1;32m   2917\u001b[0m                 \u001b[0m_mask\u001b[0m \u001b[0;34m=\u001b[0m \u001b[0m_mask\u001b[0m\u001b[0;34m.\u001b[0m\u001b[0mcopy\u001b[0m\u001b[0;34m(\u001b[0m\u001b[0;34m)\u001b[0m\u001b[0;34m\u001b[0m\u001b[0m\n",
      "\u001b[0;31mKeyboardInterrupt\u001b[0m: "
     ]
    }
   ],
   "source": [
    "lst = []\n",
    "last_matrix = np.zeros((13,5))\n",
    "for i in range(0,10):\n",
    "    kf = KalmanFilter(initial_state_mean=initial_means, n_dim_obs=n_dim_obs, n_dim_state=n_dim_state, em_vars='all')\n",
    "    components = kf.em(obs, n_iter=1+i*10).smooth(obs)\n",
    "    lst.append(np.linalg.norm(kf.observation_matrices-last_matrix))\n",
    "    last_matrix = kf.observation_matrices\n",
    "    print(i)\n",
    "    "
   ]
  },
  {
   "cell_type": "code",
   "execution_count": null,
   "metadata": {
    "collapsed": false
   },
   "outputs": [],
   "source": [
    "pd.DataFrame(lst).plot()"
   ]
  },
  {
   "cell_type": "markdown",
   "metadata": {},
   "source": [
    "## Missing Data"
   ]
  },
  {
   "cell_type": "code",
   "execution_count": 47,
   "metadata": {
    "collapsed": false
   },
   "outputs": [
    {
     "data": {
      "text/plain": [
       "(array([[  0.88378619],\n",
       "        [  2.44267351],\n",
       "        [ 10.15335524],\n",
       "        [ 48.54044943]]), array([[[ 0.00528544]],\n",
       " \n",
       "        [[ 0.00706399]],\n",
       " \n",
       "        [[ 0.00715135]],\n",
       " \n",
       "        [[ 0.00747876]]]))"
      ]
     },
     "execution_count": 47,
     "metadata": {},
     "output_type": "execute_result"
    }
   ],
   "source": [
    "kf = KalmanFilter(initial_state_mean=0, n_dim_obs=2,n_dim_state=1,em_vars='all')\n",
    "\n",
    "measurements1 = pd.DataFrame([[1,0], [1,0], [0,1]])\n",
    "measurements = pd.DataFrame([[1,0], [1,0], [0,1],[2,0]])\n",
    "measurements = ma.array(measurements)\n",
    "measurements.mask = measurements==7\n",
    "\n",
    "# measurements = measurements.mask(measurements==nA)\n",
    "# measurements = [[1,0], [0,0], [0,1]]\n",
    "kf.em(measurements1).smooth(measurements)"
   ]
  },
  {
   "cell_type": "code",
   "execution_count": 48,
   "metadata": {
    "collapsed": false
   },
   "outputs": [
    {
     "data": {
      "text/plain": [
       "(array([[  1.15540458],\n",
       "        [  4.22343839],\n",
       "        [ 10.51702997],\n",
       "        [ 48.61794124]]), array([[[ 0.00543859]],\n",
       " \n",
       "        [[ 0.01364673]],\n",
       " \n",
       "        [[ 0.0074259 ]],\n",
       " \n",
       "        [[ 0.00749122]]]))"
      ]
     },
     "execution_count": 48,
     "metadata": {},
     "output_type": "execute_result"
    }
   ],
   "source": [
    "kf = KalmanFilter(initial_state_mean=0, n_dim_obs=2,n_dim_state=1,em_vars='all')\n",
    "\n",
    "measurements1 = pd.DataFrame([[1,0], [1,0], [0,1]])\n",
    "measurements = pd.DataFrame([[1,0], [7,0], [0,1],[2,0]])\n",
    "measurements = ma.array(measurements)\n",
    "measurements.mask = measurements==7\n",
    "\n",
    "# measurements = measurements.mask(measurements==nA)\n",
    "# measurements = [[1,0], [0,0], [0,1]]\n",
    "kf.em(measurements1).smooth(measurements)"
   ]
  },
  {
   "cell_type": "code",
   "execution_count": 51,
   "metadata": {
    "collapsed": false
   },
   "outputs": [
    {
     "data": {
      "text/plain": [
       "(array([[  1.15540458],\n",
       "        [  4.22343839],\n",
       "        [ 10.51702997],\n",
       "        [ 48.61794124]]), array([[[ 0.00543859]],\n",
       " \n",
       "        [[ 0.01364673]],\n",
       " \n",
       "        [[ 0.0074259 ]],\n",
       " \n",
       "        [[ 0.00749122]]]))"
      ]
     },
     "execution_count": 51,
     "metadata": {},
     "output_type": "execute_result"
    }
   ],
   "source": [
    "kf = KalmanFilter(initial_state_mean=0, n_dim_obs=2,n_dim_state=1,em_vars='all')\n",
    "\n",
    "measurements1 = pd.DataFrame([[1,0], [1,0], [0,1]])\n",
    "measurements = pd.DataFrame([[1,0], [1,7], [0,1],[2,0]])\n",
    "measurements = ma.array(measurements)\n",
    "measurements.mask = measurements==7\n",
    "\n",
    "# measurements = measurements.mask(measurements==nA)\n",
    "# measurements = [[1,0], [0,0], [0,1]]\n",
    "kf.em(measurements1).smooth(measurements)"
   ]
  },
  {
   "cell_type": "code",
   "execution_count": 73,
   "metadata": {
    "collapsed": false
   },
   "outputs": [
    {
     "data": {
      "text/plain": [
       "(array([[ 0.58132112],\n",
       "        [ 0.45967388],\n",
       "        [ 0.32335319]]), array([[[ 0.00528575]],\n",
       " \n",
       "        [[ 0.00707718]],\n",
       " \n",
       "        [[ 0.00747539]]]))"
      ]
     },
     "execution_count": 73,
     "metadata": {},
     "output_type": "execute_result"
    }
   ],
   "source": [
    "kf = KalmanFilter(initial_state_mean=0, n_dim_obs=2,n_dim_state=1,em_vars='all')\n",
    "\n",
    "measurements = pd.DataFrame([[1,0], [1,0], [0,1]])\n",
    "\n",
    "# measurements = measurements.mask(measurements==nA)\n",
    "# measurements = [[1,0], [0,0], [0,1]]\n",
    "kf.em(measurements).smooth(measurements)\n",
    "# kf.em(measurements,n_iter=1).observation_matrices"
   ]
  },
  {
   "cell_type": "markdown",
   "metadata": {},
   "source": [
    "# Statsmodels trial"
   ]
  },
  {
   "cell_type": "markdown",
   "metadata": {},
   "source": [
    "Main reference [this example](http://www.statsmodels.org/dev/examples/notebooks/generated/statespace_dfm_coincident.html)"
   ]
  },
  {
   "cell_type": "code",
   "execution_count": null,
   "metadata": {
    "collapsed": true
   },
   "outputs": [],
   "source": [
    "#useful\n",
    "\n",
    "# res.summary()\n",
    "# res.summary(separate_params=False)\n",
    "# res.factors\n",
    "# res.plot_coefficients_of_determination(figsize=(8,2));"
   ]
  },
  {
   "cell_type": "code",
   "execution_count": 67,
   "metadata": {
    "collapsed": false
   },
   "outputs": [],
   "source": [
    "factorModel = sm.tsa.DynamicFactor(endog=obs,k_factors=5,factor_order=1,error_cov_type='diagonal')"
   ]
  },
  {
   "cell_type": "code",
   "execution_count": 68,
   "metadata": {
    "collapsed": false
   },
   "outputs": [
    {
     "name": "stderr",
     "output_type": "stream",
     "text": [
      "/Users/mac/anaconda/lib/python3.5/site-packages/statsmodels/base/model.py:496: ConvergenceWarning: Maximum Likelihood optimization failed to converge. Check mle_retvals\n",
      "  \"Check mle_retvals\", ConvergenceWarning)\n"
     ]
    },
    {
     "data": {
      "text/plain": [
       "<statsmodels.tsa.statespace.dynamic_factor.DynamicFactorResultsWrapper at 0x119617ac8>"
      ]
     },
     "execution_count": 68,
     "metadata": {},
     "output_type": "execute_result"
    }
   ],
   "source": [
    "factorModel.fit(maxiter=3000, full_output=True)"
   ]
  },
  {
   "cell_type": "code",
   "execution_count": null,
   "metadata": {
    "collapsed": true
   },
   "outputs": [],
   "source": []
  },
  {
   "cell_type": "code",
   "execution_count": 117,
   "metadata": {
    "collapsed": false
   },
   "outputs": [
    {
     "data": {
      "text/plain": [
       "{'filtered': array([[ 0.07173695,  1.73358334,  1.39180906,  0.25812806]]),\n",
       " 'filtered_cov': array([[[ 0.19304429,  0.18623082,  0.18618044,  0.18618007]]]),\n",
       " 'offset': 0,\n",
       " 'smoothed': array([[ 0.22707218,  1.77837415,  1.35627852,  0.25812806]]),\n",
       " 'smoothed_cov': array([[[ 0.18618007,  0.17983492,  0.17983492,  0.18618007]]])}"
      ]
     },
     "execution_count": 117,
     "metadata": {},
     "output_type": "execute_result"
    }
   ],
   "source": [
    "measurements = pd.DataFrame([[1,0], [7,1], [0,1],[2,0]])\n",
    "measurements = ma.array(measurements)\n",
    "measurements.mask = measurements==7\n",
    "\n",
    "factorModel = sm.tsa.DynamicFactor(endog=measurements,k_factors=1,factor_order=1)\n",
    "res = factorModel.fit(maxiter=500)\n",
    "res.factors"
   ]
  },
  {
   "cell_type": "code",
   "execution_count": 124,
   "metadata": {
    "collapsed": false
   },
   "outputs": [
    {
     "ename": "LinAlgError",
     "evalue": "Array must not contain infs or NaNs",
     "output_type": "error",
     "traceback": [
      "\u001b[0;31m---------------------------------------------------------------------------\u001b[0m",
      "\u001b[0;31mLinAlgError\u001b[0m                               Traceback (most recent call last)",
      "\u001b[0;32m<ipython-input-124-25cae74e53a1>\u001b[0m in \u001b[0;36m<module>\u001b[0;34m()\u001b[0m\n\u001b[1;32m      4\u001b[0m \u001b[0;34m\u001b[0m\u001b[0m\n\u001b[1;32m      5\u001b[0m \u001b[0mfactorModel\u001b[0m \u001b[0;34m=\u001b[0m \u001b[0msm\u001b[0m\u001b[0;34m.\u001b[0m\u001b[0mtsa\u001b[0m\u001b[0;34m.\u001b[0m\u001b[0mDynamicFactor\u001b[0m\u001b[0;34m(\u001b[0m\u001b[0mendog\u001b[0m\u001b[0;34m=\u001b[0m\u001b[0mnp\u001b[0m\u001b[0;34m.\u001b[0m\u001b[0marray\u001b[0m\u001b[0;34m(\u001b[0m\u001b[0mmeasurements\u001b[0m\u001b[0;34m)\u001b[0m\u001b[0;34m,\u001b[0m\u001b[0mk_factors\u001b[0m\u001b[0;34m=\u001b[0m\u001b[0;36m1\u001b[0m\u001b[0;34m,\u001b[0m\u001b[0mfactor_order\u001b[0m\u001b[0;34m=\u001b[0m\u001b[0;36m1\u001b[0m\u001b[0;34m)\u001b[0m\u001b[0;34m\u001b[0m\u001b[0m\n\u001b[0;32m----> 6\u001b[0;31m \u001b[0mres\u001b[0m \u001b[0;34m=\u001b[0m \u001b[0mfactorModel\u001b[0m\u001b[0;34m.\u001b[0m\u001b[0mfit\u001b[0m\u001b[0;34m(\u001b[0m\u001b[0mmaxiter\u001b[0m\u001b[0;34m=\u001b[0m\u001b[0;36m500\u001b[0m\u001b[0;34m)\u001b[0m\u001b[0;34m\u001b[0m\u001b[0m\n\u001b[0m\u001b[1;32m      7\u001b[0m \u001b[0mres\u001b[0m\u001b[0;34m.\u001b[0m\u001b[0mfactors\u001b[0m\u001b[0;34m\u001b[0m\u001b[0m\n",
      "\u001b[0;32m/Users/mac/anaconda/lib/python3.5/site-packages/statsmodels/tsa/statespace/mlemodel.py\u001b[0m in \u001b[0;36mfit\u001b[0;34m(self, start_params, transformed, cov_type, cov_kwds, method, maxiter, full_output, disp, callback, return_params, optim_score, optim_complex_step, optim_hessian, flags, **kwargs)\u001b[0m\n\u001b[1;32m    402\u001b[0m         \"\"\"\n\u001b[1;32m    403\u001b[0m         \u001b[0;32mif\u001b[0m \u001b[0mstart_params\u001b[0m \u001b[0;32mis\u001b[0m \u001b[0;32mNone\u001b[0m\u001b[0;34m:\u001b[0m\u001b[0;34m\u001b[0m\u001b[0m\n\u001b[0;32m--> 404\u001b[0;31m             \u001b[0mstart_params\u001b[0m \u001b[0;34m=\u001b[0m \u001b[0mself\u001b[0m\u001b[0;34m.\u001b[0m\u001b[0mstart_params\u001b[0m\u001b[0;34m\u001b[0m\u001b[0m\n\u001b[0m\u001b[1;32m    405\u001b[0m             \u001b[0mtransformed\u001b[0m \u001b[0;34m=\u001b[0m \u001b[0;32mTrue\u001b[0m\u001b[0;34m\u001b[0m\u001b[0m\n\u001b[1;32m    406\u001b[0m \u001b[0;34m\u001b[0m\u001b[0m\n",
      "\u001b[0;32m/Users/mac/anaconda/lib/python3.5/site-packages/statsmodels/tsa/statespace/dynamic_factor.py\u001b[0m in \u001b[0;36mstart_params\u001b[0;34m(self)\u001b[0m\n\u001b[1;32m    506\u001b[0m             \u001b[0mX\u001b[0m \u001b[0;34m=\u001b[0m \u001b[0mlagmat\u001b[0m\u001b[0;34m(\u001b[0m\u001b[0mres_pca\u001b[0m\u001b[0;34m.\u001b[0m\u001b[0mfactors\u001b[0m\u001b[0;34m,\u001b[0m \u001b[0mself\u001b[0m\u001b[0;34m.\u001b[0m\u001b[0mfactor_order\u001b[0m\u001b[0;34m,\u001b[0m \u001b[0mtrim\u001b[0m\u001b[0;34m=\u001b[0m\u001b[0;34m'both'\u001b[0m\u001b[0;34m)\u001b[0m\u001b[0;34m\u001b[0m\u001b[0m\n\u001b[1;32m    507\u001b[0m             \u001b[0mparams_ar\u001b[0m \u001b[0;34m=\u001b[0m \u001b[0mnp\u001b[0m\u001b[0;34m.\u001b[0m\u001b[0mlinalg\u001b[0m\u001b[0;34m.\u001b[0m\u001b[0mpinv\u001b[0m\u001b[0;34m(\u001b[0m\u001b[0mX\u001b[0m\u001b[0;34m)\u001b[0m\u001b[0;34m.\u001b[0m\u001b[0mdot\u001b[0m\u001b[0;34m(\u001b[0m\u001b[0mY\u001b[0m\u001b[0;34m)\u001b[0m\u001b[0;34m\u001b[0m\u001b[0m\n\u001b[0;32m--> 508\u001b[0;31m             \u001b[0mstationary\u001b[0m \u001b[0;34m=\u001b[0m \u001b[0mis_invertible\u001b[0m\u001b[0;34m(\u001b[0m\u001b[0mnp\u001b[0m\u001b[0;34m.\u001b[0m\u001b[0mr_\u001b[0m\u001b[0;34m[\u001b[0m\u001b[0;36m1\u001b[0m\u001b[0;34m,\u001b[0m \u001b[0;34m-\u001b[0m\u001b[0mparams_ar\u001b[0m\u001b[0;34m.\u001b[0m\u001b[0msqueeze\u001b[0m\u001b[0;34m(\u001b[0m\u001b[0;34m)\u001b[0m\u001b[0;34m]\u001b[0m\u001b[0;34m)\u001b[0m\u001b[0;34m\u001b[0m\u001b[0m\n\u001b[0m\u001b[1;32m    509\u001b[0m             \u001b[0mparams\u001b[0m\u001b[0;34m[\u001b[0m\u001b[0mself\u001b[0m\u001b[0;34m.\u001b[0m\u001b[0m_params_factor_transition\u001b[0m\u001b[0;34m]\u001b[0m \u001b[0;34m=\u001b[0m \u001b[0mparams_ar\u001b[0m\u001b[0;34m[\u001b[0m\u001b[0;34m:\u001b[0m\u001b[0;34m,\u001b[0m \u001b[0;36m0\u001b[0m\u001b[0;34m]\u001b[0m\u001b[0;34m\u001b[0m\u001b[0m\n\u001b[1;32m    510\u001b[0m \u001b[0;34m\u001b[0m\u001b[0m\n",
      "\u001b[0;32m/Users/mac/anaconda/lib/python3.5/site-packages/statsmodels/tsa/statespace/tools.py\u001b[0m in \u001b[0;36mis_invertible\u001b[0;34m(polynomial, threshold)\u001b[0m\n\u001b[1;32m    498\u001b[0m     \u001b[0;31m# np.all(np.abs(np.roots(np.r_[1, params][::-1])) > 1)\u001b[0m\u001b[0;34m\u001b[0m\u001b[0;34m\u001b[0m\u001b[0m\n\u001b[1;32m    499\u001b[0m     \u001b[0;31m# Final method:\u001b[0m\u001b[0;34m\u001b[0m\u001b[0;34m\u001b[0m\u001b[0m\n\u001b[0;32m--> 500\u001b[0;31m     \u001b[0meigvals\u001b[0m \u001b[0;34m=\u001b[0m \u001b[0mnp\u001b[0m\u001b[0;34m.\u001b[0m\u001b[0mlinalg\u001b[0m\u001b[0;34m.\u001b[0m\u001b[0meigvals\u001b[0m\u001b[0;34m(\u001b[0m\u001b[0mcompanion_matrix\u001b[0m\u001b[0;34m(\u001b[0m\u001b[0mpolynomial\u001b[0m\u001b[0;34m)\u001b[0m\u001b[0;34m)\u001b[0m\u001b[0;34m\u001b[0m\u001b[0m\n\u001b[0m\u001b[1;32m    501\u001b[0m     \u001b[0;32mreturn\u001b[0m \u001b[0mnp\u001b[0m\u001b[0;34m.\u001b[0m\u001b[0mall\u001b[0m\u001b[0;34m(\u001b[0m\u001b[0mnp\u001b[0m\u001b[0;34m.\u001b[0m\u001b[0mabs\u001b[0m\u001b[0;34m(\u001b[0m\u001b[0meigvals\u001b[0m\u001b[0;34m)\u001b[0m \u001b[0;34m<\u001b[0m \u001b[0mthreshold\u001b[0m\u001b[0;34m)\u001b[0m\u001b[0;34m\u001b[0m\u001b[0m\n\u001b[1;32m    502\u001b[0m \u001b[0;34m\u001b[0m\u001b[0m\n",
      "\u001b[0;32m/Users/mac/anaconda/lib/python3.5/site-packages/numpy/linalg/linalg.py\u001b[0m in \u001b[0;36meigvals\u001b[0;34m(a)\u001b[0m\n\u001b[1;32m    901\u001b[0m     \u001b[0m_assertRankAtLeast2\u001b[0m\u001b[0;34m(\u001b[0m\u001b[0ma\u001b[0m\u001b[0;34m)\u001b[0m\u001b[0;34m\u001b[0m\u001b[0m\n\u001b[1;32m    902\u001b[0m     \u001b[0m_assertNdSquareness\u001b[0m\u001b[0;34m(\u001b[0m\u001b[0ma\u001b[0m\u001b[0;34m)\u001b[0m\u001b[0;34m\u001b[0m\u001b[0m\n\u001b[0;32m--> 903\u001b[0;31m     \u001b[0m_assertFinite\u001b[0m\u001b[0;34m(\u001b[0m\u001b[0ma\u001b[0m\u001b[0;34m)\u001b[0m\u001b[0;34m\u001b[0m\u001b[0m\n\u001b[0m\u001b[1;32m    904\u001b[0m     \u001b[0mt\u001b[0m\u001b[0;34m,\u001b[0m \u001b[0mresult_t\u001b[0m \u001b[0;34m=\u001b[0m \u001b[0m_commonType\u001b[0m\u001b[0;34m(\u001b[0m\u001b[0ma\u001b[0m\u001b[0;34m)\u001b[0m\u001b[0;34m\u001b[0m\u001b[0m\n\u001b[1;32m    905\u001b[0m \u001b[0;34m\u001b[0m\u001b[0m\n",
      "\u001b[0;32m/Users/mac/anaconda/lib/python3.5/site-packages/numpy/linalg/linalg.py\u001b[0m in \u001b[0;36m_assertFinite\u001b[0;34m(*arrays)\u001b[0m\n\u001b[1;32m    215\u001b[0m     \u001b[0;32mfor\u001b[0m \u001b[0ma\u001b[0m \u001b[0;32min\u001b[0m \u001b[0marrays\u001b[0m\u001b[0;34m:\u001b[0m\u001b[0;34m\u001b[0m\u001b[0m\n\u001b[1;32m    216\u001b[0m         \u001b[0;32mif\u001b[0m \u001b[0;32mnot\u001b[0m \u001b[0;34m(\u001b[0m\u001b[0misfinite\u001b[0m\u001b[0;34m(\u001b[0m\u001b[0ma\u001b[0m\u001b[0;34m)\u001b[0m\u001b[0;34m.\u001b[0m\u001b[0mall\u001b[0m\u001b[0;34m(\u001b[0m\u001b[0;34m)\u001b[0m\u001b[0;34m)\u001b[0m\u001b[0;34m:\u001b[0m\u001b[0;34m\u001b[0m\u001b[0m\n\u001b[0;32m--> 217\u001b[0;31m             \u001b[0;32mraise\u001b[0m \u001b[0mLinAlgError\u001b[0m\u001b[0;34m(\u001b[0m\u001b[0;34m\"Array must not contain infs or NaNs\"\u001b[0m\u001b[0;34m)\u001b[0m\u001b[0;34m\u001b[0m\u001b[0m\n\u001b[0m\u001b[1;32m    218\u001b[0m \u001b[0;34m\u001b[0m\u001b[0m\n\u001b[1;32m    219\u001b[0m \u001b[0;32mdef\u001b[0m \u001b[0m_assertNoEmpty2d\u001b[0m\u001b[0;34m(\u001b[0m\u001b[0;34m*\u001b[0m\u001b[0marrays\u001b[0m\u001b[0;34m)\u001b[0m\u001b[0;34m:\u001b[0m\u001b[0;34m\u001b[0m\u001b[0m\n",
      "\u001b[0;31mLinAlgError\u001b[0m: Array must not contain infs or NaNs"
     ]
    }
   ],
   "source": [
    "\n",
    "measurements = pd.DataFrame([[1,0], [np.nan,1], [0,1],[2,0]])\n",
    "\n",
    "\n",
    "factorModel = sm.tsa.DynamicFactor(endog=np.array(measurements),k_factors=1,factor_order=1)\n",
    "res = factorModel.fit(maxiter=500)\n",
    "res.factors"
   ]
  },
  {
   "cell_type": "code",
   "execution_count": 121,
   "metadata": {
    "collapsed": true
   },
   "outputs": [],
   "source": [
    "measurements = pd.DataFrame([[1,0], [np.nan,1], [0,1],[2,0]])"
   ]
  },
  {
   "cell_type": "code",
   "execution_count": 123,
   "metadata": {
    "collapsed": false
   },
   "outputs": [
    {
     "data": {
      "text/plain": [
       "array([[  1.,   0.],\n",
       "       [ nan,   1.],\n",
       "       [  0.,   1.],\n",
       "       [  2.,   0.]])"
      ]
     },
     "execution_count": 123,
     "metadata": {},
     "output_type": "execute_result"
    }
   ],
   "source": [
    "np.array(measurements)"
   ]
  },
  {
   "cell_type": "code",
   "execution_count": null,
   "metadata": {
    "collapsed": true
   },
   "outputs": [],
   "source": []
  }
 ],
 "metadata": {
  "kernelspec": {
   "display_name": "Python 3",
   "language": "python",
   "name": "python3"
  },
  "language_info": {
   "codemirror_mode": {
    "name": "ipython",
    "version": 3
   },
   "file_extension": ".py",
   "mimetype": "text/x-python",
   "name": "python",
   "nbconvert_exporter": "python",
   "pygments_lexer": "ipython3",
   "version": "3.5.1"
  }
 },
 "nbformat": 4,
 "nbformat_minor": 0
}
