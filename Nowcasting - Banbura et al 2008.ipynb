{
 "cells": [
  {
   "cell_type": "code",
   "execution_count": 1,
   "metadata": {
    "collapsed": true
   },
   "outputs": [],
   "source": [
    "%matplotlib inline\n",
    "\n",
    "import datetime as dt\n",
    "import numpy as np\n",
    "import pandas as pd\n",
    "from sklearn.decomposition import PCA\n",
    "import statsmodels.api as sm\n",
    "\n",
    "pd.set_option('max_rows', 20)\n",
    "# pd.set_option('max_rows', 1000)"
   ]
  },
  {
   "cell_type": "markdown",
   "metadata": {},
   "source": [
    "# Data\n",
    "\n",
    "## Regressors"
   ]
  },
  {
   "cell_type": "code",
   "execution_count": 2,
   "metadata": {
    "collapsed": false
   },
   "outputs": [],
   "source": [
    "data = pd.read_excel('Data.xlsx',None,dayFirst=True)\n",
    "\n",
    "data = list(data.values())\n",
    "\n",
    "dat=pd.DataFrame()\n",
    "\n",
    "# del data[6]\n",
    "\n",
    "\n",
    "for df in data:\n",
    "    df.set_index(\"Date\", inplace=True)\n",
    "#     df.drop_duplicates(inplace=True)"
   ]
  },
  {
   "cell_type": "code",
   "execution_count": 3,
   "metadata": {
    "collapsed": false
   },
   "outputs": [],
   "source": [
    "data = pd.concat(data,axis=1)\n",
    "data.sort_index(inplace=True)"
   ]
  },
  {
   "cell_type": "markdown",
   "metadata": {},
   "source": [
    "### Transformations\n"
   ]
  },
  {
   "cell_type": "code",
   "execution_count": 4,
   "metadata": {
    "collapsed": false
   },
   "outputs": [
    {
     "data": {
      "text/plain": [
       "Index(['NewResidentialSales', 'Exports', 'DisposableIncome', 'Imports',\n",
       "       'JoblessClaims', 'ProducerPriceIndex', 'UnemploymentRate',\n",
       "       'GeneralBusinessConditions', 'ConsumerPriceIndex', 'EmploymentRate',\n",
       "       'ConsumerConfidence', 'IndustrialProductionIndex', 'RetailFoodSales'],\n",
       "      dtype='object')"
      ]
     },
     "execution_count": 4,
     "metadata": {},
     "output_type": "execute_result"
    }
   ],
   "source": [
    "data.columns"
   ]
  },
  {
   "cell_type": "code",
   "execution_count": 5,
   "metadata": {
    "collapsed": false
   },
   "outputs": [],
   "source": [
    "data[\"IndustrialProductionIndex\"] = np.log(data[\"IndustrialProductionIndex\"]) - np.log(data[\"IndustrialProductionIndex\"].shift(1))\n",
    "data[\"ConsumerConfidence\"] = np.log(data[\"ConsumerConfidence\"]) - np.log(data[\"ConsumerConfidence\"].shift(1))\n",
    "data[\"Imports\"] = np.log(data[\"Imports\"]) - np.log(data[\"Imports\"].shift(1))\n",
    "data[\"Exports\"] = np.log(data[\"Exports\"]) - np.log(data[\"Exports\"].shift(1))\n",
    "data[\"ProducerPriceIndex\"] = np.log(data[\"ProducerPriceIndex\"]) - np.log(data[\"ProducerPriceIndex\"].shift(1))\n",
    "data[\"JoblessClaims\"] = np.log(data[\"JoblessClaims\"]) - np.log(data[\"JoblessClaims\"].shift(1))\n",
    "data[\"RetailFoodSales\"] = np.log(data[\"RetailFoodSales\"]) - np.log(data[\"RetailFoodSales\"].shift(1))\n",
    "data[\"NewResidentialSales\"] = np.log(data[\"NewResidentialSales\"]) - np.log(data[\"NewResidentialSales\"].shift(1))\n",
    "data[\"UnemploymentRate\"] = data[\"UnemploymentRate\"] - data[\"UnemploymentRate\"].shift(1)\n",
    "data[\"EmploymentRate\"] = data[\"EmploymentRate\"] - data[\"EmploymentRate\"].shift(1)\n",
    "data[\"DisposableIncome\"] = np.log(data[\"DisposableIncome\"]) - np.log(data[\"DisposableIncome\"].shift(1))\n",
    "data[\"GeneralBusinessConditions\"] = np.log(data[\"GeneralBusinessConditions\"]) - np.log(data[\"GeneralBusinessConditions\"].shift(1))\n",
    "data[\"ConsumerPriceIndex\"] = data[\"ConsumerPriceIndex\"]\n",
    "\n",
    "# data[\"ConsumerPriceIndex\"].loc[dt.datetime(2009,1,1):].plot()"
   ]
  },
  {
   "cell_type": "markdown",
   "metadata": {},
   "source": [
    "### Stationarity"
   ]
  },
  {
   "cell_type": "code",
   "execution_count": 6,
   "metadata": {
    "collapsed": false
   },
   "outputs": [
    {
     "name": "stdout",
     "output_type": "stream",
     "text": [
      "NewResidentialSales 's p-value is: 0.988370553646\n",
      "JoblessClaims 's p-value is: 0.24770534847\n",
      "EmploymentRate 's p-value is: 0.345649514846\n",
      "RetailFoodSales 's p-value is: 0.627133470279\n"
     ]
    }
   ],
   "source": [
    "for series in data.columns:\n",
    "    d = data[series]    \n",
    "    pv = sm.tsa.stattools.adfuller(d[d.notnull()])[1]\n",
    "    if pv > 0.05:\n",
    "        print(series + \" 's p-value is: \" + str(pv))"
   ]
  },
  {
   "cell_type": "markdown",
   "metadata": {},
   "source": [
    "## Response Variable"
   ]
  },
  {
   "cell_type": "code",
   "execution_count": 7,
   "metadata": {
    "collapsed": false
   },
   "outputs": [],
   "source": [
    "gdp = pd.read_excel('GDP.xlsx',dayFirst=True)\n",
    "gdp.set_index(\"Date\", inplace=True)\n",
    "gdp[\"GDP\"] = np.log(gdp[\"GDP\"]) - np.log(gdp[\"GDP\"].shift(1))"
   ]
  },
  {
   "cell_type": "markdown",
   "metadata": {},
   "source": [
    "# Balanced Panel"
   ]
  },
  {
   "cell_type": "code",
   "execution_count": 8,
   "metadata": {
    "collapsed": false
   },
   "outputs": [
    {
     "data": {
      "text/html": [
       "<div>\n",
       "<table border=\"1\" class=\"dataframe\">\n",
       "  <thead>\n",
       "    <tr style=\"text-align: right;\">\n",
       "      <th></th>\n",
       "      <th>NewResidentialSales</th>\n",
       "      <th>Exports</th>\n",
       "      <th>DisposableIncome</th>\n",
       "      <th>Imports</th>\n",
       "      <th>JoblessClaims</th>\n",
       "      <th>ProducerPriceIndex</th>\n",
       "      <th>UnemploymentRate</th>\n",
       "      <th>GeneralBusinessConditions</th>\n",
       "      <th>ConsumerPriceIndex</th>\n",
       "      <th>EmploymentRate</th>\n",
       "      <th>ConsumerConfidence</th>\n",
       "      <th>IndustrialProductionIndex</th>\n",
       "      <th>RetailFoodSales</th>\n",
       "    </tr>\n",
       "    <tr>\n",
       "      <th>Date</th>\n",
       "      <th></th>\n",
       "      <th></th>\n",
       "      <th></th>\n",
       "      <th></th>\n",
       "      <th></th>\n",
       "      <th></th>\n",
       "      <th></th>\n",
       "      <th></th>\n",
       "      <th></th>\n",
       "      <th></th>\n",
       "      <th></th>\n",
       "      <th></th>\n",
       "      <th></th>\n",
       "    </tr>\n",
       "  </thead>\n",
       "  <tbody>\n",
       "    <tr>\n",
       "      <th>2010-01-31</th>\n",
       "      <td>0.013766</td>\n",
       "      <td>-0.246317</td>\n",
       "      <td>0.008873</td>\n",
       "      <td>-0.067987</td>\n",
       "      <td>-0.188285</td>\n",
       "      <td>0.014889</td>\n",
       "      <td>-0.001</td>\n",
       "      <td>0.020834</td>\n",
       "      <td>0.75</td>\n",
       "      <td>-0.004</td>\n",
       "      <td>0.016840</td>\n",
       "      <td>-0.069069</td>\n",
       "      <td>-0.236325</td>\n",
       "    </tr>\n",
       "    <tr>\n",
       "      <th>2010-02-28</th>\n",
       "      <td>0.035409</td>\n",
       "      <td>0.075958</td>\n",
       "      <td>0.004470</td>\n",
       "      <td>0.027679</td>\n",
       "      <td>0.069042</td>\n",
       "      <td>0.012143</td>\n",
       "      <td>0.004</td>\n",
       "      <td>0.051153</td>\n",
       "      <td>0.78</td>\n",
       "      <td>-0.002</td>\n",
       "      <td>-0.067030</td>\n",
       "      <td>-0.001136</td>\n",
       "      <td>-0.048187</td>\n",
       "    </tr>\n",
       "    <tr>\n",
       "      <th>2010-03-31</th>\n",
       "      <td>0.046870</td>\n",
       "      <td>0.254201</td>\n",
       "      <td>-0.018580</td>\n",
       "      <td>0.242947</td>\n",
       "      <td>0.165317</td>\n",
       "      <td>-0.001559</td>\n",
       "      <td>0.009</td>\n",
       "      <td>0.029827</td>\n",
       "      <td>0.52</td>\n",
       "      <td>-0.002</td>\n",
       "      <td>0.035091</td>\n",
       "      <td>0.180426</td>\n",
       "      <td>0.231714</td>\n",
       "    </tr>\n",
       "    <tr>\n",
       "      <th>2010-04-30</th>\n",
       "      <td>0.030556</td>\n",
       "      <td>-0.036670</td>\n",
       "      <td>0.007699</td>\n",
       "      <td>-0.081357</td>\n",
       "      <td>-0.136788</td>\n",
       "      <td>0.003989</td>\n",
       "      <td>0.002</td>\n",
       "      <td>0.002590</td>\n",
       "      <td>0.57</td>\n",
       "      <td>0.003</td>\n",
       "      <td>0.003038</td>\n",
       "      <td>-0.083052</td>\n",
       "      <td>-0.160867</td>\n",
       "    </tr>\n",
       "    <tr>\n",
       "      <th>2010-05-31</th>\n",
       "      <td>0.036153</td>\n",
       "      <td>0.154966</td>\n",
       "      <td>0.004203</td>\n",
       "      <td>0.026540</td>\n",
       "      <td>0.029296</td>\n",
       "      <td>0.004650</td>\n",
       "      <td>0.000</td>\n",
       "      <td>-0.007789</td>\n",
       "      <td>0.43</td>\n",
       "      <td>-0.001</td>\n",
       "      <td>0.023977</td>\n",
       "      <td>0.039419</td>\n",
       "      <td>0.055060</td>\n",
       "    </tr>\n",
       "    <tr>\n",
       "      <th>2010-06-30</th>\n",
       "      <td>0.032330</td>\n",
       "      <td>-0.034984</td>\n",
       "      <td>0.009207</td>\n",
       "      <td>0.039556</td>\n",
       "      <td>0.010577</td>\n",
       "      <td>0.001063</td>\n",
       "      <td>-0.004</td>\n",
       "      <td>0.000868</td>\n",
       "      <td>0.00</td>\n",
       "      <td>0.004</td>\n",
       "      <td>0.015671</td>\n",
       "      <td>-0.031205</td>\n",
       "      <td>-0.011223</td>\n",
       "    </tr>\n",
       "    <tr>\n",
       "      <th>2010-07-31</th>\n",
       "      <td>0.040110</td>\n",
       "      <td>0.033311</td>\n",
       "      <td>0.024352</td>\n",
       "      <td>0.096491</td>\n",
       "      <td>0.015757</td>\n",
       "      <td>0.000869</td>\n",
       "      <td>-0.003</td>\n",
       "      <td>0.001735</td>\n",
       "      <td>0.01</td>\n",
       "      <td>0.001</td>\n",
       "      <td>-0.007805</td>\n",
       "      <td>0.045962</td>\n",
       "      <td>0.043077</td>\n",
       "    </tr>\n",
       "    <tr>\n",
       "      <th>2010-08-31</th>\n",
       "      <td>0.038008</td>\n",
       "      <td>0.084763</td>\n",
       "      <td>0.027146</td>\n",
       "      <td>0.031145</td>\n",
       "      <td>0.006069</td>\n",
       "      <td>0.007304</td>\n",
       "      <td>-0.003</td>\n",
       "      <td>0.002596</td>\n",
       "      <td>0.04</td>\n",
       "      <td>0.002</td>\n",
       "      <td>0.034652</td>\n",
       "      <td>0.043942</td>\n",
       "      <td>0.039221</td>\n",
       "    </tr>\n",
       "    <tr>\n",
       "      <th>2010-09-30</th>\n",
       "      <td>0.034327</td>\n",
       "      <td>-0.021197</td>\n",
       "      <td>0.020778</td>\n",
       "      <td>0.052935</td>\n",
       "      <td>0.000323</td>\n",
       "      <td>0.005824</td>\n",
       "      <td>-0.008</td>\n",
       "      <td>0.007749</td>\n",
       "      <td>0.45</td>\n",
       "      <td>0.005</td>\n",
       "      <td>0.013158</td>\n",
       "      <td>0.000000</td>\n",
       "      <td>-0.019948</td>\n",
       "    </tr>\n",
       "    <tr>\n",
       "      <th>2010-10-31</th>\n",
       "      <td>0.029265</td>\n",
       "      <td>-0.024314</td>\n",
       "      <td>0.003990</td>\n",
       "      <td>-0.070413</td>\n",
       "      <td>-0.018184</td>\n",
       "      <td>0.009758</td>\n",
       "      <td>-0.006</td>\n",
       "      <td>-0.034020</td>\n",
       "      <td>0.75</td>\n",
       "      <td>0.002</td>\n",
       "      <td>0.011142</td>\n",
       "      <td>0.033995</td>\n",
       "      <td>0.034396</td>\n",
       "    </tr>\n",
       "    <tr>\n",
       "      <th>...</th>\n",
       "      <td>...</td>\n",
       "      <td>...</td>\n",
       "      <td>...</td>\n",
       "      <td>...</td>\n",
       "      <td>...</td>\n",
       "      <td>...</td>\n",
       "      <td>...</td>\n",
       "      <td>...</td>\n",
       "      <td>...</td>\n",
       "      <td>...</td>\n",
       "      <td>...</td>\n",
       "      <td>...</td>\n",
       "      <td>...</td>\n",
       "    </tr>\n",
       "    <tr>\n",
       "      <th>2015-04-30</th>\n",
       "      <td>0.006490</td>\n",
       "      <td>-0.113561</td>\n",
       "      <td>0.002180</td>\n",
       "      <td>-0.119295</td>\n",
       "      <td>-0.044770</td>\n",
       "      <td>0.002285</td>\n",
       "      <td>0.010</td>\n",
       "      <td>-0.004884</td>\n",
       "      <td>0.71</td>\n",
       "      <td>-0.003</td>\n",
       "      <td>-0.013316</td>\n",
       "      <td>-0.086433</td>\n",
       "      <td>-0.054713</td>\n",
       "    </tr>\n",
       "    <tr>\n",
       "      <th>2015-05-31</th>\n",
       "      <td>0.007660</td>\n",
       "      <td>0.101128</td>\n",
       "      <td>0.010973</td>\n",
       "      <td>-0.045839</td>\n",
       "      <td>-0.028242</td>\n",
       "      <td>0.000000</td>\n",
       "      <td>0.005</td>\n",
       "      <td>-0.039955</td>\n",
       "      <td>0.74</td>\n",
       "      <td>-0.003</td>\n",
       "      <td>-0.006725</td>\n",
       "      <td>0.044150</td>\n",
       "      <td>0.022246</td>\n",
       "    </tr>\n",
       "    <tr>\n",
       "      <th>2015-06-30</th>\n",
       "      <td>0.012196</td>\n",
       "      <td>0.157437</td>\n",
       "      <td>0.006903</td>\n",
       "      <td>0.075101</td>\n",
       "      <td>-0.009991</td>\n",
       "      <td>0.004650</td>\n",
       "      <td>0.003</td>\n",
       "      <td>-0.033682</td>\n",
       "      <td>0.79</td>\n",
       "      <td>-0.002</td>\n",
       "      <td>-0.014956</td>\n",
       "      <td>-0.021265</td>\n",
       "      <td>-0.032523</td>\n",
       "    </tr>\n",
       "    <tr>\n",
       "      <th>2015-07-31</th>\n",
       "      <td>0.012832</td>\n",
       "      <td>-0.057423</td>\n",
       "      <td>0.010095</td>\n",
       "      <td>0.066989</td>\n",
       "      <td>-0.005921</td>\n",
       "      <td>0.007169</td>\n",
       "      <td>0.005</td>\n",
       "      <td>0.063797</td>\n",
       "      <td>0.62</td>\n",
       "      <td>-0.006</td>\n",
       "      <td>-0.041964</td>\n",
       "      <td>0.059293</td>\n",
       "      <td>0.035519</td>\n",
       "    </tr>\n",
       "    <tr>\n",
       "      <th>2015-08-31</th>\n",
       "      <td>0.007979</td>\n",
       "      <td>-0.179662</td>\n",
       "      <td>0.001788</td>\n",
       "      <td>-0.232594</td>\n",
       "      <td>-0.050378</td>\n",
       "      <td>0.009542</td>\n",
       "      <td>0.002</td>\n",
       "      <td>0.007389</td>\n",
       "      <td>0.22</td>\n",
       "      <td>0.000</td>\n",
       "      <td>0.004277</td>\n",
       "      <td>0.028378</td>\n",
       "      <td>-0.023198</td>\n",
       "    </tr>\n",
       "    <tr>\n",
       "      <th>2015-09-30</th>\n",
       "      <td>0.010601</td>\n",
       "      <td>0.041913</td>\n",
       "      <td>0.004298</td>\n",
       "      <td>0.031345</td>\n",
       "      <td>-0.038988</td>\n",
       "      <td>0.029448</td>\n",
       "      <td>0.003</td>\n",
       "      <td>-0.027365</td>\n",
       "      <td>0.54</td>\n",
       "      <td>0.000</td>\n",
       "      <td>-0.064633</td>\n",
       "      <td>0.001036</td>\n",
       "      <td>-0.032144</td>\n",
       "    </tr>\n",
       "    <tr>\n",
       "      <th>2015-10-31</th>\n",
       "      <td>0.006654</td>\n",
       "      <td>-0.006162</td>\n",
       "      <td>0.022878</td>\n",
       "      <td>0.062352</td>\n",
       "      <td>-0.011137</td>\n",
       "      <td>0.017563</td>\n",
       "      <td>0.001</td>\n",
       "      <td>0.032261</td>\n",
       "      <td>0.82</td>\n",
       "      <td>-0.003</td>\n",
       "      <td>0.040154</td>\n",
       "      <td>0.036589</td>\n",
       "      <td>0.050344</td>\n",
       "    </tr>\n",
       "    <tr>\n",
       "      <th>2015-11-30</th>\n",
       "      <td>0.004195</td>\n",
       "      <td>-0.150516</td>\n",
       "      <td>0.048696</td>\n",
       "      <td>-0.108404</td>\n",
       "      <td>-0.071361</td>\n",
       "      <td>-0.004184</td>\n",
       "      <td>-0.002</td>\n",
       "      <td>-0.090681</td>\n",
       "      <td>1.01</td>\n",
       "      <td>0.003</td>\n",
       "      <td>0.000000</td>\n",
       "      <td>-0.071348</td>\n",
       "      <td>-0.008048</td>\n",
       "    </tr>\n",
       "    <tr>\n",
       "      <th>2015-12-31</th>\n",
       "      <td>0.004549</td>\n",
       "      <td>0.195251</td>\n",
       "      <td>0.077145</td>\n",
       "      <td>-0.178960</td>\n",
       "      <td>0.144448</td>\n",
       "      <td>-0.003574</td>\n",
       "      <td>-0.002</td>\n",
       "      <td>-0.045120</td>\n",
       "      <td>0.96</td>\n",
       "      <td>0.006</td>\n",
       "      <td>-0.022108</td>\n",
       "      <td>-0.147563</td>\n",
       "      <td>0.180637</td>\n",
       "    </tr>\n",
       "    <tr>\n",
       "      <th>2016-01-31</th>\n",
       "      <td>-0.003513</td>\n",
       "      <td>-0.400408</td>\n",
       "      <td>-0.013376</td>\n",
       "      <td>-0.021115</td>\n",
       "      <td>-0.148253</td>\n",
       "      <td>0.006780</td>\n",
       "      <td>0.001</td>\n",
       "      <td>0.023498</td>\n",
       "      <td>1.27</td>\n",
       "      <td>-0.007</td>\n",
       "      <td>0.042311</td>\n",
       "      <td>-0.052274</td>\n",
       "      <td>-0.260511</td>\n",
       "    </tr>\n",
       "  </tbody>\n",
       "</table>\n",
       "<p>73 rows × 13 columns</p>\n",
       "</div>"
      ],
      "text/plain": [
       "            NewResidentialSales   Exports  DisposableIncome   Imports  \\\n",
       "Date                                                                    \n",
       "2010-01-31             0.013766 -0.246317          0.008873 -0.067987   \n",
       "2010-02-28             0.035409  0.075958          0.004470  0.027679   \n",
       "2010-03-31             0.046870  0.254201         -0.018580  0.242947   \n",
       "2010-04-30             0.030556 -0.036670          0.007699 -0.081357   \n",
       "2010-05-31             0.036153  0.154966          0.004203  0.026540   \n",
       "2010-06-30             0.032330 -0.034984          0.009207  0.039556   \n",
       "2010-07-31             0.040110  0.033311          0.024352  0.096491   \n",
       "2010-08-31             0.038008  0.084763          0.027146  0.031145   \n",
       "2010-09-30             0.034327 -0.021197          0.020778  0.052935   \n",
       "2010-10-31             0.029265 -0.024314          0.003990 -0.070413   \n",
       "...                         ...       ...               ...       ...   \n",
       "2015-04-30             0.006490 -0.113561          0.002180 -0.119295   \n",
       "2015-05-31             0.007660  0.101128          0.010973 -0.045839   \n",
       "2015-06-30             0.012196  0.157437          0.006903  0.075101   \n",
       "2015-07-31             0.012832 -0.057423          0.010095  0.066989   \n",
       "2015-08-31             0.007979 -0.179662          0.001788 -0.232594   \n",
       "2015-09-30             0.010601  0.041913          0.004298  0.031345   \n",
       "2015-10-31             0.006654 -0.006162          0.022878  0.062352   \n",
       "2015-11-30             0.004195 -0.150516          0.048696 -0.108404   \n",
       "2015-12-31             0.004549  0.195251          0.077145 -0.178960   \n",
       "2016-01-31            -0.003513 -0.400408         -0.013376 -0.021115   \n",
       "\n",
       "            JoblessClaims  ProducerPriceIndex  UnemploymentRate  \\\n",
       "Date                                                              \n",
       "2010-01-31      -0.188285            0.014889            -0.001   \n",
       "2010-02-28       0.069042            0.012143             0.004   \n",
       "2010-03-31       0.165317           -0.001559             0.009   \n",
       "2010-04-30      -0.136788            0.003989             0.002   \n",
       "2010-05-31       0.029296            0.004650             0.000   \n",
       "2010-06-30       0.010577            0.001063            -0.004   \n",
       "2010-07-31       0.015757            0.000869            -0.003   \n",
       "2010-08-31       0.006069            0.007304            -0.003   \n",
       "2010-09-30       0.000323            0.005824            -0.008   \n",
       "2010-10-31      -0.018184            0.009758            -0.006   \n",
       "...                   ...                 ...               ...   \n",
       "2015-04-30      -0.044770            0.002285             0.010   \n",
       "2015-05-31      -0.028242            0.000000             0.005   \n",
       "2015-06-30      -0.009991            0.004650             0.003   \n",
       "2015-07-31      -0.005921            0.007169             0.005   \n",
       "2015-08-31      -0.050378            0.009542             0.002   \n",
       "2015-09-30      -0.038988            0.029448             0.003   \n",
       "2015-10-31      -0.011137            0.017563             0.001   \n",
       "2015-11-30      -0.071361           -0.004184            -0.002   \n",
       "2015-12-31       0.144448           -0.003574            -0.002   \n",
       "2016-01-31      -0.148253            0.006780             0.001   \n",
       "\n",
       "            GeneralBusinessConditions  ConsumerPriceIndex  EmploymentRate  \\\n",
       "Date                                                                        \n",
       "2010-01-31                   0.020834                0.75          -0.004   \n",
       "2010-02-28                   0.051153                0.78          -0.002   \n",
       "2010-03-31                   0.029827                0.52          -0.002   \n",
       "2010-04-30                   0.002590                0.57           0.003   \n",
       "2010-05-31                  -0.007789                0.43          -0.001   \n",
       "2010-06-30                   0.000868                0.00           0.004   \n",
       "2010-07-31                   0.001735                0.01           0.001   \n",
       "2010-08-31                   0.002596                0.04           0.002   \n",
       "2010-09-30                   0.007749                0.45           0.005   \n",
       "2010-10-31                  -0.034020                0.75           0.002   \n",
       "...                               ...                 ...             ...   \n",
       "2015-04-30                  -0.004884                0.71          -0.003   \n",
       "2015-05-31                  -0.039955                0.74          -0.003   \n",
       "2015-06-30                  -0.033682                0.79          -0.002   \n",
       "2015-07-31                   0.063797                0.62          -0.006   \n",
       "2015-08-31                   0.007389                0.22           0.000   \n",
       "2015-09-30                  -0.027365                0.54           0.000   \n",
       "2015-10-31                   0.032261                0.82          -0.003   \n",
       "2015-11-30                  -0.090681                1.01           0.003   \n",
       "2015-12-31                  -0.045120                0.96           0.006   \n",
       "2016-01-31                   0.023498                1.27          -0.007   \n",
       "\n",
       "            ConsumerConfidence  IndustrialProductionIndex  RetailFoodSales  \n",
       "Date                                                                        \n",
       "2010-01-31            0.016840                  -0.069069        -0.236325  \n",
       "2010-02-28           -0.067030                  -0.001136        -0.048187  \n",
       "2010-03-31            0.035091                   0.180426         0.231714  \n",
       "2010-04-30            0.003038                  -0.083052        -0.160867  \n",
       "2010-05-31            0.023977                   0.039419         0.055060  \n",
       "2010-06-30            0.015671                  -0.031205        -0.011223  \n",
       "2010-07-31           -0.007805                   0.045962         0.043077  \n",
       "2010-08-31            0.034652                   0.043942         0.039221  \n",
       "2010-09-30            0.013158                   0.000000        -0.019948  \n",
       "2010-10-31            0.011142                   0.033995         0.034396  \n",
       "...                        ...                        ...              ...  \n",
       "2015-04-30           -0.013316                  -0.086433        -0.054713  \n",
       "2015-05-31           -0.006725                   0.044150         0.022246  \n",
       "2015-06-30           -0.014956                  -0.021265        -0.032523  \n",
       "2015-07-31           -0.041964                   0.059293         0.035519  \n",
       "2015-08-31            0.004277                   0.028378        -0.023198  \n",
       "2015-09-30           -0.064633                   0.001036        -0.032144  \n",
       "2015-10-31            0.040154                   0.036589         0.050344  \n",
       "2015-11-30            0.000000                  -0.071348        -0.008048  \n",
       "2015-12-31           -0.022108                  -0.147563         0.180637  \n",
       "2016-01-31            0.042311                  -0.052274        -0.260511  \n",
       "\n",
       "[73 rows x 13 columns]"
      ]
     },
     "execution_count": 8,
     "metadata": {},
     "output_type": "execute_result"
    }
   ],
   "source": [
    "balancedIndex = ~data.isnull().any(axis=1)\n",
    "data[balancedIndex]"
   ]
  },
  {
   "cell_type": "code",
   "execution_count": 9,
   "metadata": {
    "collapsed": false
   },
   "outputs": [
    {
     "name": "stdout",
     "output_type": "stream",
     "text": [
      "[ 0.6241585   0.22421535  0.08139473  0.02986808  0.01642318]\n"
     ]
    }
   ],
   "source": [
    "n_components=5\n",
    "pca = PCA(n_components=n_components)\n",
    "components = pca.fit_transform(data[balancedIndex])\n",
    "components = pd.DataFrame(components)\n",
    "components.set_index(data[balancedIndex].index, inplace=True)\n",
    "\n",
    "print(pca.explained_variance_ratio_) "
   ]
  },
  {
   "cell_type": "code",
   "execution_count": 10,
   "metadata": {
    "collapsed": false
   },
   "outputs": [
    {
     "data": {
      "text/plain": [
       "0.97605984190422523"
      ]
     },
     "execution_count": 10,
     "metadata": {},
     "output_type": "execute_result"
    }
   ],
   "source": [
    "sum(pca.explained_variance_ratio_)"
   ]
  },
  {
   "cell_type": "markdown",
   "metadata": {},
   "source": [
    "## OLS\n",
    "\n",
    "first I need to match the estimated components to the available GDPs\n",
    "\n",
    "We won't use a constant since we expect at least one of the factors to have little variance"
   ]
  },
  {
   "cell_type": "code",
   "execution_count": 11,
   "metadata": {
    "collapsed": false
   },
   "outputs": [],
   "source": [
    "olsSample = gdp.join(components, how=\"inner\")\n",
    "gdpComp = olsSample[list(range(0,n_components))]"
   ]
  },
  {
   "cell_type": "code",
   "execution_count": 12,
   "metadata": {
    "collapsed": false
   },
   "outputs": [
    {
     "name": "stdout",
     "output_type": "stream",
     "text": [
      "                            OLS Regression Results                            \n",
      "==============================================================================\n",
      "Dep. Variable:                    GDP   R-squared:                       0.767\n",
      "Model:                            OLS   Adj. R-squared:                  0.706\n",
      "Method:                 Least Squares   F-statistic:                     12.54\n",
      "Date:                Tue, 29 Nov 2016   Prob (F-statistic):           1.78e-05\n",
      "Time:                        16:08:42   Log-Likelihood:                 60.826\n",
      "No. Observations:                  24   AIC:                            -111.7\n",
      "Df Residuals:                      19   BIC:                            -105.8\n",
      "Df Model:                           5                                         \n",
      "Covariance Type:            nonrobust                                         \n",
      "==============================================================================\n",
      "                 coef    std err          t      P>|t|      [95.0% Conf. Int.]\n",
      "------------------------------------------------------------------------------\n",
      "0              0.0505      0.019      2.632      0.016         0.010     0.091\n",
      "1              0.0222      0.025      0.892      0.383        -0.030     0.074\n",
      "2              0.1771      0.043      4.166      0.001         0.088     0.266\n",
      "3             -0.0699      0.071     -0.988      0.335        -0.218     0.078\n",
      "4              0.2991      0.110      2.712      0.014         0.068     0.530\n",
      "==============================================================================\n",
      "Omnibus:                        1.961   Durbin-Watson:                   2.164\n",
      "Prob(Omnibus):                  0.375   Jarque-Bera (JB):                0.721\n",
      "Skew:                           0.309   Prob(JB):                        0.697\n",
      "Kurtosis:                       3.583   Cond. No.                         8.30\n",
      "==============================================================================\n",
      "\n",
      "Warnings:\n",
      "[1] Standard Errors assume that the covariance matrix of the errors is correctly specified.\n"
     ]
    }
   ],
   "source": [
    "# X = sm.add_constant(gdpComp)\n",
    "X = gdpComp\n",
    "model = sm.OLS(olsSample[\"GDP\"],X)\n",
    "results = model.fit()\n",
    "results.params\n",
    "print(results.summary())"
   ]
  },
  {
   "cell_type": "code",
   "execution_count": 13,
   "metadata": {
    "collapsed": false
   },
   "outputs": [
    {
     "data": {
      "text/plain": [
       "0    0.050517\n",
       "1    0.022236\n",
       "2    0.177091\n",
       "3   -0.069884\n",
       "4    0.299148\n",
       "dtype: float64"
      ]
     },
     "execution_count": 13,
     "metadata": {},
     "output_type": "execute_result"
    }
   ],
   "source": [
    "results.params"
   ]
  },
  {
   "cell_type": "code",
   "execution_count": 14,
   "metadata": {
    "collapsed": false
   },
   "outputs": [
    {
     "data": {
      "text/plain": [
       "<matplotlib.axes._subplots.AxesSubplot at 0x2343958ac88>"
      ]
     },
     "execution_count": 14,
     "metadata": {},
     "output_type": "execute_result"
    },
    {
     "data": {
      "image/png": "[encoded data removed]",
      "text/plain": [
       "<matplotlib.figure.Figure at 0x23439318780>"
      ]
     },
     "metadata": {},
     "output_type": "display_data"
    }
   ],
   "source": [
    "olsSample.plot()"
   ]
  },
  {
   "cell_type": "code",
   "execution_count": 15,
   "metadata": {
    "collapsed": false
   },
   "outputs": [
    {
     "name": "stdout",
     "output_type": "stream",
     "text": [
      "                              ARMA Model Results                              \n",
      "==============================================================================\n",
      "Dep. Variable:                    GDP   No. Observations:                   24\n",
      "Model:                     ARMA(1, 0)   Log Likelihood                  49.239\n",
      "Method:                       css-mle   S.D. of innovations              0.031\n",
      "Date:                Tue, 29 Nov 2016   AIC                            -92.477\n",
      "Time:                        16:08:43   BIC                            -88.943\n",
      "Sample:                    03-31-2010   HQIC                           -91.540\n",
      "                         - 12-31-2015                                         \n",
      "==============================================================================\n",
      "                 coef    std err          z      P>|z|      [95.0% Conf. Int.]\n",
      "------------------------------------------------------------------------------\n",
      "const          0.0218      0.005      4.767      0.000         0.013     0.031\n",
      "ar.L1.GDP     -0.4019      0.196     -2.053      0.052        -0.786    -0.018\n",
      "                                    Roots                                    \n",
      "=============================================================================\n",
      "                 Real           Imaginary           Modulus         Frequency\n",
      "-----------------------------------------------------------------------------\n",
      "AR.1           -2.4880           +0.0000j            2.4880            0.5000\n",
      "-----------------------------------------------------------------------------\n"
     ]
    }
   ],
   "source": [
    "model = sm.tsa.ARMA(olsSample[\"GDP\"],order=(1,0,0))\n",
    "results = model.fit()\n",
    "results.params\n",
    "print(results.summary())"
   ]
  },
  {
   "cell_type": "code",
   "execution_count": null,
   "metadata": {
    "collapsed": true
   },
   "outputs": [],
   "source": []
  }
 ],
 "metadata": {
  "kernelspec": {
   "display_name": "Python [Root]",
   "language": "python",
   "name": "Python [Root]"
  },
  "language_info": {
   "codemirror_mode": {
    "name": "ipython",
    "version": 3
   },
   "file_extension": ".py",
   "mimetype": "text/x-python",
   "name": "python",
   "nbconvert_exporter": "python",
   "pygments_lexer": "ipython3",
   "version": "3.5.2"
  }
 },
 "nbformat": 4,
 "nbformat_minor": 0
}
