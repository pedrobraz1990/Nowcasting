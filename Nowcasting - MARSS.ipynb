{
 "cells": [
  {
   "cell_type": "code",
   "execution_count": 1,
   "metadata": {
    "collapsed": false
   },
   "outputs": [],
   "source": [
    "%matplotlib inline\n",
    "%load_ext rpy2.ipython\n",
    "\n",
    "\n",
    "import datetime as dt\n",
    "import numpy as np\n",
    "import pandas as pd\n",
    "from sklearn.decomposition import PCA\n",
    "import statsmodels.api as sm\n",
    "from pykalman import KalmanFilter\n",
    "import numpy.ma as ma\n",
    "\n",
    "pd.set_option('max_rows', 10)\n",
    "# pd.set_option('max_rows', 1000)"
   ]
  },
  {
   "cell_type": "code",
   "execution_count": 2,
   "metadata": {
    "collapsed": true
   },
   "outputs": [],
   "source": [
    "%%R\n",
    "\n",
    "library(MARSS)"
   ]
  },
  {
   "cell_type": "markdown",
   "metadata": {},
   "source": [
    "# Data\n",
    "\n",
    "## Regressors"
   ]
  },
  {
   "cell_type": "code",
   "execution_count": 3,
   "metadata": {
    "collapsed": false
   },
   "outputs": [],
   "source": [
    "data = pd.read_excel('Data.xlsx',None,dayFirst=True)\n",
    "\n",
    "data = list(data.values())\n",
    "\n",
    "dat=pd.DataFrame()\n",
    "\n",
    "# del data[6]\n",
    "\n",
    "\n",
    "for df in data:\n",
    "    df.set_index(\"Date\", inplace=True)\n",
    "#     df.drop_duplicates(inplace=True)"
   ]
  },
  {
   "cell_type": "code",
   "execution_count": 4,
   "metadata": {
    "collapsed": false
   },
   "outputs": [],
   "source": [
    "data = pd.concat(data,axis=1)\n",
    "data.sort_index(inplace=True)"
   ]
  },
  {
   "cell_type": "markdown",
   "metadata": {},
   "source": [
    "### Transformations\n"
   ]
  },
  {
   "cell_type": "code",
   "execution_count": 5,
   "metadata": {
    "collapsed": false
   },
   "outputs": [
    {
     "data": {
      "text/plain": [
       "Index(['UnemploymentRate', 'Imports', 'EmploymentRate', 'RetailFoodSales',\n",
       "       'GeneralBusinessConditions', 'Exports', 'DisposableIncome',\n",
       "       'NewResidentialSales', 'ProducerPriceIndex', 'JoblessClaims',\n",
       "       'ConsumerConfidence', 'ConsumerPriceIndex',\n",
       "       'IndustrialProductionIndex'],\n",
       "      dtype='object')"
      ]
     },
     "execution_count": 5,
     "metadata": {},
     "output_type": "execute_result"
    }
   ],
   "source": [
    "data.columns"
   ]
  },
  {
   "cell_type": "code",
   "execution_count": 6,
   "metadata": {
    "collapsed": false
   },
   "outputs": [],
   "source": [
    "data[\"IndustrialProductionIndex\"] = np.log(data[\"IndustrialProductionIndex\"]) - np.log(data[\"IndustrialProductionIndex\"].shift(1))\n",
    "data[\"ConsumerConfidence\"] = np.log(data[\"ConsumerConfidence\"]) - np.log(data[\"ConsumerConfidence\"].shift(1))\n",
    "data[\"Imports\"] = np.log(data[\"Imports\"]) - np.log(data[\"Imports\"].shift(1))\n",
    "data[\"Exports\"] = np.log(data[\"Exports\"]) - np.log(data[\"Exports\"].shift(1))\n",
    "data[\"ProducerPriceIndex\"] = np.log(data[\"ProducerPriceIndex\"]) - np.log(data[\"ProducerPriceIndex\"].shift(1))\n",
    "data[\"JoblessClaims\"] = np.log(data[\"JoblessClaims\"]) - np.log(data[\"JoblessClaims\"].shift(1))\n",
    "data[\"RetailFoodSales\"] = np.log(data[\"RetailFoodSales\"]) - np.log(data[\"RetailFoodSales\"].shift(1))\n",
    "data[\"NewResidentialSales\"] = np.log(data[\"NewResidentialSales\"]) - np.log(data[\"NewResidentialSales\"].shift(1))\n",
    "data[\"UnemploymentRate\"] = data[\"UnemploymentRate\"] - data[\"UnemploymentRate\"].shift(1)\n",
    "data[\"EmploymentRate\"] = data[\"EmploymentRate\"] - data[\"EmploymentRate\"].shift(1)\n",
    "data[\"DisposableIncome\"] = np.log(data[\"DisposableIncome\"]) - np.log(data[\"DisposableIncome\"].shift(1))\n",
    "data[\"GeneralBusinessConditions\"] = np.log(data[\"GeneralBusinessConditions\"]) - np.log(data[\"GeneralBusinessConditions\"].shift(1))\n",
    "data[\"ConsumerPriceIndex\"] = data[\"ConsumerPriceIndex\"]\n",
    "\n",
    "# data[\"ConsumerPriceIndex\"].loc[dt.datetime(2009,1,1):].plot()"
   ]
  },
  {
   "cell_type": "markdown",
   "metadata": {},
   "source": [
    "### Stationarity"
   ]
  },
  {
   "cell_type": "code",
   "execution_count": 7,
   "metadata": {
    "collapsed": false
   },
   "outputs": [
    {
     "name": "stdout",
     "output_type": "stream",
     "text": [
      "EmploymentRate 's p-value is: 0.345649514846\n",
      "RetailFoodSales 's p-value is: 0.627133470279\n",
      "NewResidentialSales 's p-value is: 0.988370553646\n",
      "JoblessClaims 's p-value is: 0.24770534847\n"
     ]
    }
   ],
   "source": [
    "for series in data.columns:\n",
    "    d = data[series]    \n",
    "    pv = sm.tsa.stattools.adfuller(d[d.notnull()])[1]\n",
    "    if pv > 0.05:\n",
    "        print(series + \" 's p-value is: \" + str(pv))"
   ]
  },
  {
   "cell_type": "markdown",
   "metadata": {},
   "source": [
    "## Response Variable"
   ]
  },
  {
   "cell_type": "code",
   "execution_count": 8,
   "metadata": {
    "collapsed": false
   },
   "outputs": [],
   "source": [
    "gdp = pd.read_excel('GDP.xlsx',dayFirst=True)\n",
    "gdp.set_index(\"Date\", inplace=True)\n",
    "gdp[\"GDP\"] = np.log(gdp[\"GDP\"]) - np.log(gdp[\"GDP\"].shift(1))"
   ]
  },
  {
   "cell_type": "markdown",
   "metadata": {},
   "source": [
    "# Balanced Panel"
   ]
  },
  {
   "cell_type": "code",
   "execution_count": 9,
   "metadata": {
    "collapsed": false,
    "scrolled": true
   },
   "outputs": [
    {
     "data": {
      "text/html": [
       "<div>\n",
       "<table border=\"1\" class=\"dataframe\">\n",
       "  <thead>\n",
       "    <tr style=\"text-align: right;\">\n",
       "      <th></th>\n",
       "      <th>UnemploymentRate</th>\n",
       "      <th>Imports</th>\n",
       "      <th>EmploymentRate</th>\n",
       "      <th>RetailFoodSales</th>\n",
       "      <th>GeneralBusinessConditions</th>\n",
       "      <th>Exports</th>\n",
       "      <th>DisposableIncome</th>\n",
       "      <th>NewResidentialSales</th>\n",
       "      <th>ProducerPriceIndex</th>\n",
       "      <th>JoblessClaims</th>\n",
       "      <th>ConsumerConfidence</th>\n",
       "      <th>ConsumerPriceIndex</th>\n",
       "      <th>IndustrialProductionIndex</th>\n",
       "    </tr>\n",
       "    <tr>\n",
       "      <th>Date</th>\n",
       "      <th></th>\n",
       "      <th></th>\n",
       "      <th></th>\n",
       "      <th></th>\n",
       "      <th></th>\n",
       "      <th></th>\n",
       "      <th></th>\n",
       "      <th></th>\n",
       "      <th></th>\n",
       "      <th></th>\n",
       "      <th></th>\n",
       "      <th></th>\n",
       "      <th></th>\n",
       "    </tr>\n",
       "  </thead>\n",
       "  <tbody>\n",
       "    <tr>\n",
       "      <th>2010-01-31</th>\n",
       "      <td>-0.001</td>\n",
       "      <td>-0.067987</td>\n",
       "      <td>-0.004</td>\n",
       "      <td>-0.236325</td>\n",
       "      <td>0.020834</td>\n",
       "      <td>-0.246317</td>\n",
       "      <td>0.008873</td>\n",
       "      <td>0.013766</td>\n",
       "      <td>0.014889</td>\n",
       "      <td>-0.188285</td>\n",
       "      <td>0.016840</td>\n",
       "      <td>0.75</td>\n",
       "      <td>-0.069069</td>\n",
       "    </tr>\n",
       "    <tr>\n",
       "      <th>2010-02-28</th>\n",
       "      <td>0.004</td>\n",
       "      <td>0.027679</td>\n",
       "      <td>-0.002</td>\n",
       "      <td>-0.048187</td>\n",
       "      <td>0.051153</td>\n",
       "      <td>0.075958</td>\n",
       "      <td>0.004470</td>\n",
       "      <td>0.035409</td>\n",
       "      <td>0.012143</td>\n",
       "      <td>0.069042</td>\n",
       "      <td>-0.067030</td>\n",
       "      <td>0.78</td>\n",
       "      <td>-0.001136</td>\n",
       "    </tr>\n",
       "    <tr>\n",
       "      <th>2010-03-31</th>\n",
       "      <td>0.009</td>\n",
       "      <td>0.242947</td>\n",
       "      <td>-0.002</td>\n",
       "      <td>0.231714</td>\n",
       "      <td>0.029827</td>\n",
       "      <td>0.254201</td>\n",
       "      <td>-0.018580</td>\n",
       "      <td>0.046870</td>\n",
       "      <td>-0.001559</td>\n",
       "      <td>0.165317</td>\n",
       "      <td>0.035091</td>\n",
       "      <td>0.52</td>\n",
       "      <td>0.180426</td>\n",
       "    </tr>\n",
       "    <tr>\n",
       "      <th>2010-04-30</th>\n",
       "      <td>0.002</td>\n",
       "      <td>-0.081357</td>\n",
       "      <td>0.003</td>\n",
       "      <td>-0.160867</td>\n",
       "      <td>0.002590</td>\n",
       "      <td>-0.036670</td>\n",
       "      <td>0.007699</td>\n",
       "      <td>0.030556</td>\n",
       "      <td>0.003989</td>\n",
       "      <td>-0.136788</td>\n",
       "      <td>0.003038</td>\n",
       "      <td>0.57</td>\n",
       "      <td>-0.083052</td>\n",
       "    </tr>\n",
       "    <tr>\n",
       "      <th>2010-05-31</th>\n",
       "      <td>0.000</td>\n",
       "      <td>0.026540</td>\n",
       "      <td>-0.001</td>\n",
       "      <td>0.055060</td>\n",
       "      <td>-0.007789</td>\n",
       "      <td>0.154966</td>\n",
       "      <td>0.004203</td>\n",
       "      <td>0.036153</td>\n",
       "      <td>0.004650</td>\n",
       "      <td>0.029296</td>\n",
       "      <td>0.023977</td>\n",
       "      <td>0.43</td>\n",
       "      <td>0.039419</td>\n",
       "    </tr>\n",
       "    <tr>\n",
       "      <th>...</th>\n",
       "      <td>...</td>\n",
       "      <td>...</td>\n",
       "      <td>...</td>\n",
       "      <td>...</td>\n",
       "      <td>...</td>\n",
       "      <td>...</td>\n",
       "      <td>...</td>\n",
       "      <td>...</td>\n",
       "      <td>...</td>\n",
       "      <td>...</td>\n",
       "      <td>...</td>\n",
       "      <td>...</td>\n",
       "      <td>...</td>\n",
       "    </tr>\n",
       "    <tr>\n",
       "      <th>2015-09-30</th>\n",
       "      <td>0.003</td>\n",
       "      <td>0.031345</td>\n",
       "      <td>0.000</td>\n",
       "      <td>-0.032144</td>\n",
       "      <td>-0.027365</td>\n",
       "      <td>0.041913</td>\n",
       "      <td>0.004298</td>\n",
       "      <td>0.010601</td>\n",
       "      <td>0.029448</td>\n",
       "      <td>-0.038988</td>\n",
       "      <td>-0.064633</td>\n",
       "      <td>0.54</td>\n",
       "      <td>0.001036</td>\n",
       "    </tr>\n",
       "    <tr>\n",
       "      <th>2015-10-31</th>\n",
       "      <td>0.001</td>\n",
       "      <td>0.062352</td>\n",
       "      <td>-0.003</td>\n",
       "      <td>0.050344</td>\n",
       "      <td>0.032261</td>\n",
       "      <td>-0.006162</td>\n",
       "      <td>0.022878</td>\n",
       "      <td>0.006654</td>\n",
       "      <td>0.017563</td>\n",
       "      <td>-0.011137</td>\n",
       "      <td>0.040154</td>\n",
       "      <td>0.82</td>\n",
       "      <td>0.036589</td>\n",
       "    </tr>\n",
       "    <tr>\n",
       "      <th>2015-11-30</th>\n",
       "      <td>-0.002</td>\n",
       "      <td>-0.108404</td>\n",
       "      <td>0.003</td>\n",
       "      <td>-0.008048</td>\n",
       "      <td>-0.090681</td>\n",
       "      <td>-0.150516</td>\n",
       "      <td>0.048696</td>\n",
       "      <td>0.004195</td>\n",
       "      <td>-0.004184</td>\n",
       "      <td>-0.071361</td>\n",
       "      <td>0.000000</td>\n",
       "      <td>1.01</td>\n",
       "      <td>-0.071348</td>\n",
       "    </tr>\n",
       "    <tr>\n",
       "      <th>2015-12-31</th>\n",
       "      <td>-0.002</td>\n",
       "      <td>-0.178960</td>\n",
       "      <td>0.006</td>\n",
       "      <td>0.180637</td>\n",
       "      <td>-0.045120</td>\n",
       "      <td>0.195251</td>\n",
       "      <td>0.077145</td>\n",
       "      <td>0.004549</td>\n",
       "      <td>-0.003574</td>\n",
       "      <td>0.144448</td>\n",
       "      <td>-0.022108</td>\n",
       "      <td>0.96</td>\n",
       "      <td>-0.147563</td>\n",
       "    </tr>\n",
       "    <tr>\n",
       "      <th>2016-01-31</th>\n",
       "      <td>0.001</td>\n",
       "      <td>-0.021115</td>\n",
       "      <td>-0.007</td>\n",
       "      <td>-0.260511</td>\n",
       "      <td>0.023498</td>\n",
       "      <td>-0.400408</td>\n",
       "      <td>-0.013376</td>\n",
       "      <td>-0.003513</td>\n",
       "      <td>0.006780</td>\n",
       "      <td>-0.148253</td>\n",
       "      <td>0.042311</td>\n",
       "      <td>1.27</td>\n",
       "      <td>-0.052274</td>\n",
       "    </tr>\n",
       "  </tbody>\n",
       "</table>\n",
       "<p>73 rows × 13 columns</p>\n",
       "</div>"
      ],
      "text/plain": [
       "            UnemploymentRate   Imports  EmploymentRate  RetailFoodSales  \\\n",
       "Date                                                                      \n",
       "2010-01-31            -0.001 -0.067987          -0.004        -0.236325   \n",
       "2010-02-28             0.004  0.027679          -0.002        -0.048187   \n",
       "2010-03-31             0.009  0.242947          -0.002         0.231714   \n",
       "2010-04-30             0.002 -0.081357           0.003        -0.160867   \n",
       "2010-05-31             0.000  0.026540          -0.001         0.055060   \n",
       "...                      ...       ...             ...              ...   \n",
       "2015-09-30             0.003  0.031345           0.000        -0.032144   \n",
       "2015-10-31             0.001  0.062352          -0.003         0.050344   \n",
       "2015-11-30            -0.002 -0.108404           0.003        -0.008048   \n",
       "2015-12-31            -0.002 -0.178960           0.006         0.180637   \n",
       "2016-01-31             0.001 -0.021115          -0.007        -0.260511   \n",
       "\n",
       "            GeneralBusinessConditions   Exports  DisposableIncome  \\\n",
       "Date                                                                \n",
       "2010-01-31                   0.020834 -0.246317          0.008873   \n",
       "2010-02-28                   0.051153  0.075958          0.004470   \n",
       "2010-03-31                   0.029827  0.254201         -0.018580   \n",
       "2010-04-30                   0.002590 -0.036670          0.007699   \n",
       "2010-05-31                  -0.007789  0.154966          0.004203   \n",
       "...                               ...       ...               ...   \n",
       "2015-09-30                  -0.027365  0.041913          0.004298   \n",
       "2015-10-31                   0.032261 -0.006162          0.022878   \n",
       "2015-11-30                  -0.090681 -0.150516          0.048696   \n",
       "2015-12-31                  -0.045120  0.195251          0.077145   \n",
       "2016-01-31                   0.023498 -0.400408         -0.013376   \n",
       "\n",
       "            NewResidentialSales  ProducerPriceIndex  JoblessClaims  \\\n",
       "Date                                                                 \n",
       "2010-01-31             0.013766            0.014889      -0.188285   \n",
       "2010-02-28             0.035409            0.012143       0.069042   \n",
       "2010-03-31             0.046870           -0.001559       0.165317   \n",
       "2010-04-30             0.030556            0.003989      -0.136788   \n",
       "2010-05-31             0.036153            0.004650       0.029296   \n",
       "...                         ...                 ...            ...   \n",
       "2015-09-30             0.010601            0.029448      -0.038988   \n",
       "2015-10-31             0.006654            0.017563      -0.011137   \n",
       "2015-11-30             0.004195           -0.004184      -0.071361   \n",
       "2015-12-31             0.004549           -0.003574       0.144448   \n",
       "2016-01-31            -0.003513            0.006780      -0.148253   \n",
       "\n",
       "            ConsumerConfidence  ConsumerPriceIndex  IndustrialProductionIndex  \n",
       "Date                                                                           \n",
       "2010-01-31            0.016840                0.75                  -0.069069  \n",
       "2010-02-28           -0.067030                0.78                  -0.001136  \n",
       "2010-03-31            0.035091                0.52                   0.180426  \n",
       "2010-04-30            0.003038                0.57                  -0.083052  \n",
       "2010-05-31            0.023977                0.43                   0.039419  \n",
       "...                        ...                 ...                        ...  \n",
       "2015-09-30           -0.064633                0.54                   0.001036  \n",
       "2015-10-31            0.040154                0.82                   0.036589  \n",
       "2015-11-30            0.000000                1.01                  -0.071348  \n",
       "2015-12-31           -0.022108                0.96                  -0.147563  \n",
       "2016-01-31            0.042311                1.27                  -0.052274  \n",
       "\n",
       "[73 rows x 13 columns]"
      ]
     },
     "execution_count": 9,
     "metadata": {},
     "output_type": "execute_result"
    }
   ],
   "source": [
    "balancedIndex = ~data.isnull().any(axis=1)\n",
    "data[balancedIndex]"
   ]
  },
  {
   "cell_type": "code",
   "execution_count": 10,
   "metadata": {
    "collapsed": false
   },
   "outputs": [
    {
     "name": "stdout",
     "output_type": "stream",
     "text": [
      "[ 0.6241585]\n"
     ]
    }
   ],
   "source": [
    "n_components=1\n",
    "pca = PCA(n_components=n_components)\n",
    "components = pca.fit_transform(data[balancedIndex])\n",
    "components = pd.DataFrame(components)\n",
    "components.set_index(data[balancedIndex].index, inplace=True)\n",
    "\n",
    "print(pca.explained_variance_ratio_) "
   ]
  },
  {
   "cell_type": "markdown",
   "metadata": {
    "collapsed": true
   },
   "source": [
    "## MARSS R-Package"
   ]
  },
  {
   "cell_type": "code",
   "execution_count": 11,
   "metadata": {
    "collapsed": false
   },
   "outputs": [],
   "source": [
    "balancedPanel = data[balancedIndex].transpose().as_matrix()\n",
    "initial = components.transpose().as_matrix()\n",
    "\n",
    "zs = []\n",
    "for i in range(0,26):\n",
    "    zs.append('z'+str(i))"
   ]
  },
  {
   "cell_type": "code",
   "execution_count": 12,
   "metadata": {
    "collapsed": false
   },
   "outputs": [
    {
     "data": {
      "text/plain": [
       "Success! abstol and log-log tests passed at 20 iterations.\n",
       "\n",
       "MARSS fit is\n",
       "Estimation method: kem \n",
       "Convergence test: conv.test.slope.tol = 1e-05, abstol = 1e-05\n",
       "Estimation converged in 20 iterations. \n",
       "Log-likelihood: 1108.346 \n",
       "AIC: -2184.692   AICc: -2184.108   \n",
       " \n",
       "       Estimate\n",
       "Z.z1    0.00587\n",
       "Z.z2   -0.06828\n",
       "Z.z3   -0.00468\n",
       "Z.z4   -0.09483\n",
       "Z.z5   -0.03495\n",
       "Z.z6   -0.08973\n",
       "Z.z7    0.05846\n",
       "Z.z8    0.12630\n",
       "Z.z9    0.03235\n",
       "Z.z10  -0.03575\n",
       "Z.z11  -0.06008\n",
       "Z.z12   4.79193\n",
       "Z.z13  -0.09699\n",
       "R.diag  0.00464\n",
       "B.B     0.95831\n",
       "Q.Q     0.00229\n",
       "\n",
       "Standard errors have not been calculated. \n",
       "Use MARSSparamCIs to compute CIs and bias estimates.\n",
       "\n"
      ]
     },
     "metadata": {},
     "output_type": "display_data"
    }
   ],
   "source": [
    "%%R -i balancedPanel,zs,initial -o states\n",
    "\n",
    "# class(meas)\n",
    "\n",
    "Z=\"unconstrained\"\n",
    "# B=\"diagonal and unequal\"\n",
    "# B=\"identity\"\n",
    "B=\"unconstrained\"\n",
    "# x0=matrix(c(\"pi1\"),1,1)\n",
    "# x0=matrix(c(\"pi1\",\"pi2\"),2,1)\n",
    "\n",
    "Z=matrix(list(\"z1\",\"z2\",\"z3\",\"z4\",\"z5\",\"z6\",\"z7\",\"z8\",\"z9\",\"z10\",\"z11\",\"z12\",\"z13\"),13,1)\n",
    "# Z=matrix(zs,13,2)\n",
    "\n",
    "x0=\"zero\"\n",
    "x0=initial\n",
    "\n",
    "model.gen=list(Z=Z,B=B,A=\"zero\",x0=\"zero\",U=\"zero\")\n",
    "# model.gen=list(Z=Z,B=B,x0=x0,A=\"zero\")\n",
    "kemfit = MARSS(balancedPanel, model=model.gen,control=list(conv.test.slope.tol=0.00001,abstol=0.00001))\n",
    "states = kemfit$states\n",
    "# print(kemfit, what=\"model\")\n",
    "# print(kemfit, what=\"start\")\n",
    "# print(kemfit, what=\"states\")\n",
    "# print(kemfit, what=\"ytT\")\n",
    "# print(kemfit, what=\"states.se\")\n",
    "# print(kemfit, what=\"kfs\")\n",
    "# print(kemfit$par$Z)"
   ]
  },
  {
   "cell_type": "code",
   "execution_count": 13,
   "metadata": {
    "collapsed": false
   },
   "outputs": [
    {
     "data": {
      "text/plain": [
       "<matplotlib.axes._subplots.AxesSubplot at 0x11acc9518>"
      ]
     },
     "execution_count": 13,
     "metadata": {},
     "output_type": "execute_result"
    },
    {
     "data": {
      "image/png": "[encoded data removed]",
      "text/plain": [
       "<matplotlib.figure.Figure at 0x11acb2c18>"
      ]
     },
     "metadata": {},
     "output_type": "display_data"
    }
   ],
   "source": [
    "factor = pd.DataFrame(states).transpose().set_index(data[balancedIndex].index)\n",
    "factor.plot()"
   ]
  },
  {
   "cell_type": "code",
   "execution_count": 14,
   "metadata": {
    "collapsed": false
   },
   "outputs": [
    {
     "name": "stderr",
     "output_type": "stream",
     "text": [
      "/Users/mac/anaconda/lib/python3.5/site-packages/ipykernel/__main__.py:1: UserWarning: Boolean Series key will be reindexed to match DataFrame index.\n",
      "  if __name__ == '__main__':\n"
     ]
    },
    {
     "data": {
      "text/plain": [
       "<matplotlib.axes._subplots.AxesSubplot at 0x11ddb0208>"
      ]
     },
     "execution_count": 14,
     "metadata": {},
     "output_type": "execute_result"
    },
    {
     "data": {
      "image/png": "[encoded data removed]",
      "text/plain": [
       "<matplotlib.figure.Figure at 0x11dc50908>"
      ]
     },
     "metadata": {},
     "output_type": "display_data"
    }
   ],
   "source": [
    "gdp[balancedIndex].plot()"
   ]
  },
  {
   "cell_type": "markdown",
   "metadata": {},
   "source": [
    "# OLS - Nowcast"
   ]
  },
  {
   "cell_type": "code",
   "execution_count": 15,
   "metadata": {
    "collapsed": true
   },
   "outputs": [],
   "source": [
    "factor = factor.rolling(window=3).sum()\n",
    "olsSample = gdp.join(factor, how=\"inner\")\n",
    "gdpComp = olsSample[0]"
   ]
  },
  {
   "cell_type": "code",
   "execution_count": 16,
   "metadata": {
    "collapsed": false
   },
   "outputs": [
    {
     "name": "stdout",
     "output_type": "stream",
     "text": [
      "                            OLS Regression Results                            \n",
      "==============================================================================\n",
      "Dep. Variable:                    GDP   R-squared:                       0.108\n",
      "Model:                            OLS   Adj. R-squared:                  0.070\n",
      "Method:                 Least Squares   F-statistic:                     2.799\n",
      "Date:                Sun, 04 Dec 2016   Prob (F-statistic):              0.108\n",
      "Time:                        23:42:24   Log-Likelihood:                 44.699\n",
      "No. Observations:                  24   AIC:                            -87.40\n",
      "Df Residuals:                      23   BIC:                            -86.22\n",
      "Df Model:                           1                                         \n",
      "Covariance Type:            nonrobust                                         \n",
      "==============================================================================\n",
      "                 coef    std err          t      P>|t|      [0.025      0.975]\n",
      "------------------------------------------------------------------------------\n",
      "x1             0.0348      0.021      1.673      0.108      -0.008       0.078\n",
      "==============================================================================\n",
      "Omnibus:                        2.762   Durbin-Watson:                   2.297\n",
      "Prob(Omnibus):                  0.251   Jarque-Bera (JB):                2.215\n",
      "Skew:                          -0.622   Prob(JB):                        0.330\n",
      "Kurtosis:                       2.182   Cond. No.                         1.00\n",
      "==============================================================================\n",
      "\n",
      "Warnings:\n",
      "[1] Standard Errors assume that the covariance matrix of the errors is correctly specified.\n"
     ]
    }
   ],
   "source": [
    "# X = sm.add_constant(gdpComp)\n",
    "X = gdpComp\n",
    "model = sm.OLS(olsSample[\"GDP\"],X)\n",
    "results = model.fit()\n",
    "results.params\n",
    "print(results.summary())"
   ]
  },
  {
   "cell_type": "markdown",
   "metadata": {
    "collapsed": true
   },
   "source": [
    "The model is not a good fit. We believe that could be due to the lack of specification of initial value for the parameters. Thus we will try do find initial value for the parameters running a VAR on PCA components, as in Banbura et al. 2013"
   ]
  },
  {
   "cell_type": "markdown",
   "metadata": {},
   "source": [
    "# PCA to retrieve factors from balanced panel"
   ]
  },
  {
   "cell_type": "code",
   "execution_count": 17,
   "metadata": {
    "collapsed": false
   },
   "outputs": [
    {
     "name": "stdout",
     "output_type": "stream",
     "text": [
      "[ 0.6241585   0.22421535  0.08139473  0.02986808  0.01642318]\n"
     ]
    }
   ],
   "source": [
    "n_components=5\n",
    "pca = PCA(n_components=n_components)\n",
    "components = pca.fit_transform(data[balancedIndex])\n",
    "components = pd.DataFrame(components)\n",
    "components.set_index(data[balancedIndex].index, inplace=True)\n",
    "\n",
    "print(pca.explained_variance_ratio_) "
   ]
  },
  {
   "cell_type": "code",
   "execution_count": 18,
   "metadata": {
    "collapsed": false
   },
   "outputs": [
    {
     "data": {
      "text/plain": [
       "0.97605984190422534"
      ]
     },
     "execution_count": 18,
     "metadata": {},
     "output_type": "execute_result"
    }
   ],
   "source": [
    "sum(pca.explained_variance_ratio_)"
   ]
  },
  {
   "cell_type": "code",
   "execution_count": 19,
   "metadata": {
    "collapsed": false
   },
   "outputs": [
    {
     "data": {
      "text/plain": [
       "<matplotlib.axes._subplots.AxesSubplot at 0x11de9db70>"
      ]
     },
     "execution_count": 19,
     "metadata": {},
     "output_type": "execute_result"
    },
    {
     "data": {
      "image/png": "[encoded data removed]",
      "text/plain": [
       "<matplotlib.figure.Figure at 0x11dde4390>"
      ]
     },
     "metadata": {},
     "output_type": "display_data"
    }
   ],
   "source": [
    "pd.DataFrame(components).plot()"
   ]
  },
  {
   "cell_type": "markdown",
   "metadata": {},
   "source": [
    "# Initial Parameters Estimation \n",
    "## VAR - for B-Matrix Estimation"
   ]
  },
  {
   "cell_type": "code",
   "execution_count": 20,
   "metadata": {
    "collapsed": false
   },
   "outputs": [
    {
     "data": {
      "text/plain": [
       "  Summary of Regression Results   \n",
       "==================================\n",
       "Model:                         VAR\n",
       "Method:                        OLS\n",
       "Date:           Sun, 04, Dec, 2016\n",
       "Time:                     23:42:25\n",
       "--------------------------------------------------------------------\n",
       "No. of Equations:         5.00000    BIC:                   -22.1591\n",
       "Nobs:                     72.0000    HQIC:                  -22.7301\n",
       "Log likelihood:           351.061    FPE:                9.23150e-11\n",
       "AIC:                     -23.1078    Det(Omega_mle):     6.18674e-11\n",
       "--------------------------------------------------------------------\n",
       "Results for equation 0\n",
       "========================================================================\n",
       "           coefficient       std. error           t-stat            prob\n",
       "------------------------------------------------------------------------\n",
       "const         0.003938         0.023643            0.167           0.868\n",
       "L1.0          0.700590         0.082908            8.450           0.000\n",
       "L1.1         -0.088209         0.134782           -0.654           0.515\n",
       "L1.2         -0.423460         0.221906           -1.908           0.061\n",
       "L1.3         -1.373183         0.361422           -3.799           0.000\n",
       "L1.4          0.890532         0.484371            1.839           0.070\n",
       "========================================================================\n",
       "\n",
       "Results for equation 1\n",
       "========================================================================\n",
       "           coefficient       std. error           t-stat            prob\n",
       "------------------------------------------------------------------------\n",
       "const        -0.007815         0.016596           -0.471           0.639\n",
       "L1.0         -0.160370         0.058195           -2.756           0.008\n",
       "L1.1         -0.386994         0.094607           -4.091           0.000\n",
       "L1.2         -0.217835         0.155761           -1.399           0.167\n",
       "L1.3         -1.143421         0.253691           -4.507           0.000\n",
       "L1.4         -0.108468         0.339991           -0.319           0.751\n",
       "========================================================================\n",
       "\n",
       "Results for equation 2\n",
       "========================================================================\n",
       "           coefficient       std. error           t-stat            prob\n",
       "------------------------------------------------------------------------\n",
       "const        -0.002504         0.012029           -0.208           0.836\n",
       "L1.0         -0.014476         0.042182           -0.343           0.733\n",
       "L1.1         -0.031639         0.068574           -0.461           0.646\n",
       "L1.2         -0.390065         0.112901           -3.455           0.001\n",
       "L1.3          0.338885         0.183884            1.843           0.070\n",
       "L1.4         -0.100399         0.246437           -0.407           0.685\n",
       "========================================================================\n",
       "\n",
       "Results for equation 3\n",
       "========================================================================\n",
       "           coefficient       std. error           t-stat            prob\n",
       "------------------------------------------------------------------------\n",
       "const        -0.000224         0.007144           -0.031           0.975\n",
       "L1.0         -0.000196         0.025051           -0.008           0.994\n",
       "L1.1          0.025736         0.040726            0.632           0.530\n",
       "L1.2          0.226421         0.067050            3.377           0.001\n",
       "L1.3          0.006783         0.109206            0.062           0.951\n",
       "L1.4          0.364106         0.146356            2.488           0.015\n",
       "========================================================================\n",
       "\n",
       "Results for equation 4\n",
       "========================================================================\n",
       "           coefficient       std. error           t-stat            prob\n",
       "------------------------------------------------------------------------\n",
       "const         0.000980         0.005581            0.176           0.861\n",
       "L1.0          0.024177         0.019572            1.235           0.221\n",
       "L1.1          0.049459         0.031818            1.554           0.125\n",
       "L1.2          0.101671         0.052386            1.941           0.057\n",
       "L1.3         -0.025067         0.085322           -0.294           0.770\n",
       "L1.4         -0.208126         0.114346           -1.820           0.073\n",
       "========================================================================\n",
       "\n",
       "Correlation matrix of residuals\n",
       "            0         1         2         3         4\n",
       "0    1.000000 -0.058104  0.001386  0.057029 -0.015639\n",
       "1   -0.058104  1.000000  0.003325  0.069786  0.162623\n",
       "2    0.001386  0.003325  1.000000  0.176438  0.108434\n",
       "3    0.057029  0.069786  0.176438  1.000000 -0.028830\n",
       "4   -0.015639  0.162623  0.108434 -0.028830  1.000000\n",
       "\n"
      ]
     },
     "execution_count": 20,
     "metadata": {},
     "output_type": "execute_result"
    }
   ],
   "source": [
    "varModel = sm.tsa.VAR(components)\n",
    "results = varModel.fit(1)\n",
    "results.summary()"
   ]
  },
  {
   "cell_type": "code",
   "execution_count": 21,
   "metadata": {
    "collapsed": false
   },
   "outputs": [],
   "source": [
    "initialB = pd.DataFrame(results.coefs[0])"
   ]
  },
  {
   "cell_type": "markdown",
   "metadata": {},
   "source": [
    "## OLS For Z-Matrix estimation"
   ]
  },
  {
   "cell_type": "code",
   "execution_count": 22,
   "metadata": {
    "collapsed": false
   },
   "outputs": [
    {
     "data": {
      "text/plain": [
       "0   -0.026572\n",
       "1    0.000310\n",
       "2    0.005678\n",
       "3   -0.045861\n",
       "4    0.077941\n",
       "dtype: float64"
      ]
     },
     "execution_count": 22,
     "metadata": {},
     "output_type": "execute_result"
    }
   ],
   "source": [
    "results = sm.OLS(data[balancedIndex]['ConsumerConfidence'], components).fit()\n",
    "results.params"
   ]
  },
  {
   "cell_type": "code",
   "execution_count": 23,
   "metadata": {
    "collapsed": false
   },
   "outputs": [
    {
     "data": {
      "text/html": [
       "<div>\n",
       "<table border=\"1\" class=\"dataframe\">\n",
       "  <thead>\n",
       "    <tr style=\"text-align: right;\">\n",
       "      <th></th>\n",
       "      <th>0</th>\n",
       "      <th>1</th>\n",
       "      <th>2</th>\n",
       "      <th>3</th>\n",
       "      <th>4</th>\n",
       "    </tr>\n",
       "  </thead>\n",
       "  <tbody>\n",
       "    <tr>\n",
       "      <th>0</th>\n",
       "      <td>0.003501</td>\n",
       "      <td>-0.003605</td>\n",
       "      <td>0.009224</td>\n",
       "      <td>0.019934</td>\n",
       "      <td>0.017436</td>\n",
       "    </tr>\n",
       "    <tr>\n",
       "      <th>1</th>\n",
       "      <td>-0.068671</td>\n",
       "      <td>-0.311816</td>\n",
       "      <td>0.726352</td>\n",
       "      <td>-0.202369</td>\n",
       "      <td>-0.549040</td>\n",
       "    </tr>\n",
       "    <tr>\n",
       "      <th>2</th>\n",
       "      <td>-0.004183</td>\n",
       "      <td>-0.005169</td>\n",
       "      <td>-0.018087</td>\n",
       "      <td>-0.003965</td>\n",
       "      <td>-0.014770</td>\n",
       "    </tr>\n",
       "    <tr>\n",
       "      <th>3</th>\n",
       "      <td>-0.115118</td>\n",
       "      <td>-0.479418</td>\n",
       "      <td>-0.431064</td>\n",
       "      <td>-0.521580</td>\n",
       "      <td>0.068239</td>\n",
       "    </tr>\n",
       "    <tr>\n",
       "      <th>4</th>\n",
       "      <td>-0.001035</td>\n",
       "      <td>0.006633</td>\n",
       "      <td>0.139386</td>\n",
       "      <td>0.143790</td>\n",
       "      <td>0.191768</td>\n",
       "    </tr>\n",
       "    <tr>\n",
       "      <th>...</th>\n",
       "      <td>...</td>\n",
       "      <td>...</td>\n",
       "      <td>...</td>\n",
       "      <td>...</td>\n",
       "      <td>...</td>\n",
       "    </tr>\n",
       "    <tr>\n",
       "      <th>8</th>\n",
       "      <td>0.000789</td>\n",
       "      <td>0.003003</td>\n",
       "      <td>0.004543</td>\n",
       "      <td>0.001386</td>\n",
       "      <td>0.018411</td>\n",
       "    </tr>\n",
       "    <tr>\n",
       "      <th>9</th>\n",
       "      <td>-0.047185</td>\n",
       "      <td>-0.296605</td>\n",
       "      <td>0.024675</td>\n",
       "      <td>-0.499237</td>\n",
       "      <td>0.160976</td>\n",
       "    </tr>\n",
       "    <tr>\n",
       "      <th>10</th>\n",
       "      <td>-0.026572</td>\n",
       "      <td>0.000310</td>\n",
       "      <td>0.005678</td>\n",
       "      <td>-0.045861</td>\n",
       "      <td>0.077941</td>\n",
       "    </tr>\n",
       "    <tr>\n",
       "      <th>11</th>\n",
       "      <td>0.979236</td>\n",
       "      <td>-0.189912</td>\n",
       "      <td>0.025137</td>\n",
       "      <td>-0.025244</td>\n",
       "      <td>0.038386</td>\n",
       "    </tr>\n",
       "    <tr>\n",
       "      <th>12</th>\n",
       "      <td>-0.091358</td>\n",
       "      <td>-0.210319</td>\n",
       "      <td>0.473270</td>\n",
       "      <td>0.061192</td>\n",
       "      <td>0.773552</td>\n",
       "    </tr>\n",
       "  </tbody>\n",
       "</table>\n",
       "<p>13 rows × 5 columns</p>\n",
       "</div>"
      ],
      "text/plain": [
       "           0         1         2         3         4\n",
       "0   0.003501 -0.003605  0.009224  0.019934  0.017436\n",
       "1  -0.068671 -0.311816  0.726352 -0.202369 -0.549040\n",
       "2  -0.004183 -0.005169 -0.018087 -0.003965 -0.014770\n",
       "3  -0.115118 -0.479418 -0.431064 -0.521580  0.068239\n",
       "4  -0.001035  0.006633  0.139386  0.143790  0.191768\n",
       "..       ...       ...       ...       ...       ...\n",
       "8   0.000789  0.003003  0.004543  0.001386  0.018411\n",
       "9  -0.047185 -0.296605  0.024675 -0.499237  0.160976\n",
       "10 -0.026572  0.000310  0.005678 -0.045861  0.077941\n",
       "11  0.979236 -0.189912  0.025137 -0.025244  0.038386\n",
       "12 -0.091358 -0.210319  0.473270  0.061192  0.773552\n",
       "\n",
       "[13 rows x 5 columns]"
      ]
     },
     "execution_count": 23,
     "metadata": {},
     "output_type": "execute_result"
    }
   ],
   "source": [
    "dfList = []\n",
    "for col in data[balancedIndex].columns:\n",
    "    results = sm.OLS(data[balancedIndex][col], components).fit()\n",
    "    dfList.append(results.params)\n",
    "\n",
    "initialZ = pd.concat(dfList,axis=1).transpose()\n",
    "initialZ"
   ]
  },
  {
   "cell_type": "markdown",
   "metadata": {},
   "source": [
    "# Re-Estimation of Factor Model by EM Algo"
   ]
  },
  {
   "cell_type": "code",
   "execution_count": 24,
   "metadata": {
    "collapsed": false
   },
   "outputs": [
    {
     "data": {
      "text/plain": [
       "(5, 5)"
      ]
     },
     "execution_count": 24,
     "metadata": {},
     "output_type": "execute_result"
    }
   ],
   "source": [
    "initialB.shape"
   ]
  },
  {
   "cell_type": "code",
   "execution_count": 25,
   "metadata": {
    "collapsed": false
   },
   "outputs": [
    {
     "name": "stdout",
     "output_type": "stream",
     "text": [
      "(65, 1)\n",
      "(25, 1)\n"
     ]
    }
   ],
   "source": [
    "initialZ = np.reshape(initialZ.stack().as_matrix(),(65,1))\n",
    "initialB = np.reshape(initialB.stack().as_matrix(),(25,1))\n",
    "print(initialZ.shape)\n",
    "print(initialB.shape)"
   ]
  },
  {
   "cell_type": "code",
   "execution_count": 26,
   "metadata": {
    "collapsed": false
   },
   "outputs": [],
   "source": [
    "numberOfFactors = 5\n",
    "zs = []\n",
    "for i in range(0,13*numberOfFactors):\n",
    "    zs.append('z'+str(i))\n",
    "    \n"
   ]
  },
  {
   "cell_type": "code",
   "execution_count": 51,
   "metadata": {
    "collapsed": false
   },
   "outputs": [
    {
     "data": {
      "text/plain": [
       "[1] 65  1\n",
       "Success! abstol and log-log tests passed at 203 iterations.\n",
       "Alert: conv.test.slope.tol is 0.5.\n",
       "Test with smaller values (<0.1) to ensure convergence.\n",
       "\n",
       "MARSS fit is\n",
       "Estimation method: kem \n",
       "Convergence test: conv.test.slope.tol = 0.5, abstol = 0.001\n",
       "Estimation converged in 203 iterations. \n",
       "Log-likelihood: 1748.79 \n",
       "AIC: -3305.58   AICc: -3283.721   \n",
       " \n",
       "           Estimate\n",
       "Z.z0       9.15e-03\n",
       "Z.z1      -5.23e-02\n",
       "Z.z2      -7.59e-03\n",
       "Z.z3      -3.87e-01\n",
       "Z.z4       7.85e-02\n",
       "Z.z5      -6.90e-02\n",
       "Z.z6      -3.03e-02\n",
       "Z.z7       6.79e-03\n",
       "Z.z8       5.55e-03\n",
       "Z.z9      -2.27e-01\n",
       "Z.z10     -2.32e-02\n",
       "Z.z11      5.01e-01\n",
       "Z.z12      5.65e-02\n",
       "Z.z13     -5.95e-03\n",
       "Z.z14     -2.29e-01\n",
       "Z.z15      2.50e-03\n",
       "Z.z16     -1.84e-01\n",
       "Z.z17     -8.10e-02\n",
       "Z.z18     -3.17e-01\n",
       "Z.z19      6.01e-02\n",
       "Z.z20      4.81e-03\n",
       "Z.z21      1.40e-03\n",
       "Z.z22     -1.88e-01\n",
       "Z.z23     -3.77e-02\n",
       "Z.z24      1.14e+00\n",
       "Z.z25     -4.51e-01\n",
       "Z.z26     -2.95e-03\n",
       "Z.z27     -3.34e-01\n",
       "Z.z28      5.23e-03\n",
       "Z.z29      7.93e-02\n",
       "Z.z30     -3.68e-02\n",
       "Z.z31     -2.75e-02\n",
       "Z.z32      2.28e-02\n",
       "Z.z33     -1.24e-02\n",
       "Z.z34     -2.54e-03\n",
       "Z.z35     -5.50e-02\n",
       "Z.z36      1.93e-03\n",
       "Z.z37     -3.02e-01\n",
       "Z.z38     -1.68e-01\n",
       "Z.z39      2.90e-04\n",
       "Z.z40      2.87e-02\n",
       "Z.z41     -2.70e-03\n",
       "Z.z42     -2.10e-01\n",
       "Z.z43      2.28e-02\n",
       "Z.z44     -1.41e-01\n",
       "Z.z45     -1.44e-02\n",
       "Z.z46     -2.83e-02\n",
       "Z.z47     -5.60e-03\n",
       "Z.z48     -1.15e-01\n",
       "Z.z49     -2.79e-03\n",
       "Z.z50     -7.02e-01\n",
       "Z.z51     -4.54e-02\n",
       "Z.z52     -4.29e-05\n",
       "Z.z53      8.85e-02\n",
       "Z.z54      4.56e-03\n",
       "Z.z55      1.71e-01\n",
       "Z.z56     -1.92e-02\n",
       "Z.z57      3.25e-01\n",
       "Z.z58      5.19e-03\n",
       "Z.z59      5.50e-03\n",
       "Z.z60     -3.56e-03\n",
       "Z.z61      5.85e-02\n",
       "Z.z62     -8.16e-03\n",
       "Z.z63     -6.83e-02\n",
       "Z.z64     -2.88e-02\n",
       "R.diag     4.72e-04\n",
       "B.(1,1)    1.74e-01\n",
       "B.(2,1)   -3.26e-01\n",
       "B.(3,1)   -1.51e-01\n",
       "B.(4,1)   -5.96e-01\n",
       "B.(5,1)    9.95e-01\n",
       "B.(1,2)   -7.90e-02\n",
       "B.(2,2)    1.47e-01\n",
       "B.(3,2)   -5.75e-01\n",
       "B.(4,2)   -8.52e-01\n",
       "B.(5,2)   -5.15e-01\n",
       "B.(1,3)   -2.17e-01\n",
       "B.(2,3)    6.14e-02\n",
       "B.(3,3)   -3.99e-01\n",
       "B.(4,3)    2.88e-01\n",
       "B.(5,3)   -9.73e-02\n",
       "B.(1,4)   -1.69e-01\n",
       "B.(2,4)   -3.66e-01\n",
       "B.(3,4)    2.45e-01\n",
       "B.(4,4)    3.94e-01\n",
       "B.(5,4)    3.11e-01\n",
       "B.(1,5)   -2.36e-01\n",
       "B.(2,5)   -1.59e-02\n",
       "B.(3,5)   -1.91e-01\n",
       "B.(4,5)    3.03e-01\n",
       "B.(5,5)   -3.09e-01\n",
       "Q.(X1,X1)  2.65e-02\n",
       "Q.(X2,X2)  1.25e-02\n",
       "Q.(X3,X3)  4.86e-02\n",
       "Q.(X4,X4)  3.97e-02\n",
       "Q.(X5,X5)  6.87e-02\n",
       "\n",
       "Standard errors have not been calculated. \n",
       "Use MARSSparamCIs to compute CIs and bias estimates.\n",
       "\n",
       "[1] 65  1\n"
      ]
     },
     "metadata": {},
     "output_type": "display_data"
    }
   ],
   "source": [
    "%%R -i balancedPanel,zs,initialB,initialZ,numberOfFactors -o states\n",
    "\n",
    "# class(meas)\n",
    "print(dim(initialZ))\n",
    "Z=\"unconstrained\"\n",
    "# B=\"diagonal and unequal\"\n",
    "# B=\"identity\"\n",
    "B=\"unconstrained\"\n",
    "# x0=matrix(c(\"pi1\"),1,1)\n",
    "# x0=matrix(c(\"pi1\",\"pi2\"),2,1)\n",
    "\n",
    "# Z=matrix(list(\"z1\",\"z2\",\"z3\",\"z4\",\"z5\",\"z6\",\"z7\",\"z8\",\"z9\",\"z10\",\"z11\",\"z12\",\"z13\"),13,1)\n",
    "Z=matrix(zs,13,numberOfFactors)\n",
    "# print(Z)\n",
    "# print(numberOfFactors)\n",
    "inits = list(Z=initialZ, B=initialB)\n",
    "\n",
    "x0=\"zero\"\n",
    "x0=initial\n",
    "\n",
    "model.gen=list(Z=Z,B=B,A=\"zero\",x0=\"zero\",U=\"zero\")\n",
    "# model.gen=list(Z=Z,B=B,x0=x0,A=\"zero\")\n",
    "# kemfit = MARSS(balancedPanel, model=model.gen)\n",
    "# kemfit = MARSS(balancedPanel, model=model.gen,control=list(conv.test.slope.tol=0.00001,abstol=0.00001))\n",
    "# kemfit = MARSS(balancedPanel, model=model.gen,control=list(conv.test.slope.tol=0.00001,abstol=0.00001),inits=inits)\n",
    "kemfit = MARSS(balancedPanel, model=model.gen,inits=inits)\n",
    "states = kemfit$states\n",
    "# print(kemfit, what=\"model\")\n",
    "# print(kemfit, what=\"start\")\n",
    "# print(kemfit, what=\"states\")\n",
    "# print(kemfit, what=\"ytT\")\n",
    "# print(kemfit, what=\"states.se\")\n",
    "# print(kemfit, what=\"kfs\")\n",
    "print(dim(kemfit$par$Z))"
   ]
  },
  {
   "cell_type": "code",
   "execution_count": 52,
   "metadata": {
    "collapsed": false
   },
   "outputs": [
    {
     "data": {
      "text/plain": [
       "<matplotlib.axes._subplots.AxesSubplot at 0x121478668>"
      ]
     },
     "execution_count": 52,
     "metadata": {},
     "output_type": "execute_result"
    },
    {
     "data": {
      "image/png": "[encoded data removed]",
      "text/plain": [
       "<matplotlib.figure.Figure at 0x121480d30>"
      ]
     },
     "metadata": {},
     "output_type": "display_data"
    }
   ],
   "source": [
    "factor = pd.DataFrame(states).transpose().set_index(data[balancedIndex].index)\n",
    "factor.plot()"
   ]
  },
  {
   "cell_type": "code",
   "execution_count": 53,
   "metadata": {
    "collapsed": false
   },
   "outputs": [
    {
     "name": "stderr",
     "output_type": "stream",
     "text": [
      "/Users/mac/anaconda/lib/python3.5/site-packages/ipykernel/__main__.py:1: UserWarning: Boolean Series key will be reindexed to match DataFrame index.\n",
      "  if __name__ == '__main__':\n"
     ]
    },
    {
     "data": {
      "text/plain": [
       "<matplotlib.axes._subplots.AxesSubplot at 0x12153edd8>"
      ]
     },
     "execution_count": 53,
     "metadata": {},
     "output_type": "execute_result"
    },
    {
     "data": {
      "image/png": "[encoded data removed]",
      "text/plain": [
       "<matplotlib.figure.Figure at 0x12152b0f0>"
      ]
     },
     "metadata": {},
     "output_type": "display_data"
    }
   ],
   "source": [
    "gdp[balancedIndex].plot()"
   ]
  },
  {
   "cell_type": "markdown",
   "metadata": {},
   "source": [
    "# OLS - Nowcast"
   ]
  },
  {
   "cell_type": "code",
   "execution_count": 54,
   "metadata": {
    "collapsed": true
   },
   "outputs": [],
   "source": [
    "# factor = factor.rolling(window=3).sum()\n",
    "olsSample = gdp.join(factor, how=\"inner\")\n",
    "gdpComp = olsSample[[0,1,2,3,4]]"
   ]
  },
  {
   "cell_type": "code",
   "execution_count": 55,
   "metadata": {
    "collapsed": false
   },
   "outputs": [
    {
     "data": {
      "text/html": [
       "<div>\n",
       "<table border=\"1\" class=\"dataframe\">\n",
       "  <thead>\n",
       "    <tr style=\"text-align: right;\">\n",
       "      <th></th>\n",
       "      <th>0</th>\n",
       "      <th>1</th>\n",
       "      <th>2</th>\n",
       "      <th>3</th>\n",
       "      <th>4</th>\n",
       "    </tr>\n",
       "    <tr>\n",
       "      <th>Date</th>\n",
       "      <th></th>\n",
       "      <th></th>\n",
       "      <th></th>\n",
       "      <th></th>\n",
       "      <th></th>\n",
       "    </tr>\n",
       "  </thead>\n",
       "  <tbody>\n",
       "    <tr>\n",
       "      <th>2010-03-31</th>\n",
       "      <td>-0.050830</td>\n",
       "      <td>-0.134583</td>\n",
       "      <td>-0.580993</td>\n",
       "      <td>-0.772219</td>\n",
       "      <td>0.270543</td>\n",
       "    </tr>\n",
       "    <tr>\n",
       "      <th>2010-06-30</th>\n",
       "      <td>-0.087623</td>\n",
       "      <td>0.066038</td>\n",
       "      <td>-0.117453</td>\n",
       "      <td>0.089949</td>\n",
       "      <td>-0.015276</td>\n",
       "    </tr>\n",
       "    <tr>\n",
       "      <th>2010-09-30</th>\n",
       "      <td>0.050760</td>\n",
       "      <td>0.134164</td>\n",
       "      <td>-0.280186</td>\n",
       "      <td>-0.259827</td>\n",
       "      <td>-0.061916</td>\n",
       "    </tr>\n",
       "    <tr>\n",
       "      <th>2010-12-31</th>\n",
       "      <td>-0.080340</td>\n",
       "      <td>0.205858</td>\n",
       "      <td>0.184207</td>\n",
       "      <td>-0.735241</td>\n",
       "      <td>0.338286</td>\n",
       "    </tr>\n",
       "    <tr>\n",
       "      <th>2011-03-31</th>\n",
       "      <td>0.176064</td>\n",
       "      <td>0.048689</td>\n",
       "      <td>-0.460524</td>\n",
       "      <td>-0.736754</td>\n",
       "      <td>0.168040</td>\n",
       "    </tr>\n",
       "  </tbody>\n",
       "</table>\n",
       "</div>"
      ],
      "text/plain": [
       "                   0         1         2         3         4\n",
       "Date                                                        \n",
       "2010-03-31 -0.050830 -0.134583 -0.580993 -0.772219  0.270543\n",
       "2010-06-30 -0.087623  0.066038 -0.117453  0.089949 -0.015276\n",
       "2010-09-30  0.050760  0.134164 -0.280186 -0.259827 -0.061916\n",
       "2010-12-31 -0.080340  0.205858  0.184207 -0.735241  0.338286\n",
       "2011-03-31  0.176064  0.048689 -0.460524 -0.736754  0.168040"
      ]
     },
     "execution_count": 55,
     "metadata": {},
     "output_type": "execute_result"
    }
   ],
   "source": [
    "gdpComp.head()"
   ]
  },
  {
   "cell_type": "code",
   "execution_count": 56,
   "metadata": {
    "collapsed": false
   },
   "outputs": [
    {
     "name": "stdout",
     "output_type": "stream",
     "text": [
      "                            OLS Regression Results                            \n",
      "==============================================================================\n",
      "Dep. Variable:                    GDP   R-squared:                       0.627\n",
      "Model:                            OLS   Adj. R-squared:                  0.529\n",
      "Method:                 Least Squares   F-statistic:                     6.400\n",
      "Date:                Sun, 04 Dec 2016   Prob (F-statistic):            0.00121\n",
      "Time:                        23:47:46   Log-Likelihood:                 55.170\n",
      "No. Observations:                  24   AIC:                            -100.3\n",
      "Df Residuals:                      19   BIC:                            -94.45\n",
      "Df Model:                           5                                         \n",
      "Covariance Type:            nonrobust                                         \n",
      "==============================================================================\n",
      "                 coef    std err          t      P>|t|      [0.025      0.975]\n",
      "------------------------------------------------------------------------------\n",
      "0             -0.0140      0.031     -0.452      0.656      -0.079       0.051\n",
      "1              0.1723      0.040      4.281      0.000       0.088       0.257\n",
      "2              0.0160      0.029      0.557      0.584      -0.044       0.076\n",
      "3              0.0159      0.017      0.946      0.356      -0.019       0.051\n",
      "4             -0.0160      0.029     -0.549      0.590      -0.077       0.045\n",
      "==============================================================================\n",
      "Omnibus:                        1.223   Durbin-Watson:                   1.562\n",
      "Prob(Omnibus):                  0.542   Jarque-Bera (JB):                1.142\n",
      "Skew:                           0.423   Prob(JB):                        0.565\n",
      "Kurtosis:                       2.348   Cond. No.                         5.24\n",
      "==============================================================================\n",
      "\n",
      "Warnings:\n",
      "[1] Standard Errors assume that the covariance matrix of the errors is correctly specified.\n"
     ]
    }
   ],
   "source": [
    "# X = sm.add_constant(gdpComp)\n",
    "X = gdpComp\n",
    "model = sm.OLS(olsSample[\"GDP\"],X)\n",
    "results = model.fit()\n",
    "results.params\n",
    "print(results.summary())"
   ]
  },
  {
   "cell_type": "markdown",
   "metadata": {},
   "source": [
    "Next Steps:\n",
    "\n",
    "* Compare PCA Factors to Smoothed Factors\n",
    "* Compare Predicted GDP to actual"
   ]
  }
 ],
 "metadata": {
  "kernelspec": {
   "display_name": "Python 3",
   "language": "python",
   "name": "python3"
  },
  "language_info": {
   "codemirror_mode": {
    "name": "ipython",
    "version": 3
   },
   "file_extension": ".py",
   "mimetype": "text/x-python",
   "name": "python",
   "nbconvert_exporter": "python",
   "pygments_lexer": "ipython3",
   "version": "3.5.1"
  }
 },
 "nbformat": 4,
 "nbformat_minor": 0
}
